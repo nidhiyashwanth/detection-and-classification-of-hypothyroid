{
 "cells": [
  {
   "cell_type": "markdown",
   "metadata": {
    "id": "tx-3VRu2p6NJ"
   },
   "source": [
    "Problem Statement :  To build a classification methodology to predict the type of Thyroid a person has ,based on the below features.\n",
    "\n",
    "age - Age of the person\n",
    "\n",
    "sex - Male or Female\n",
    "\n",
    "on_thyroxine - true or false\n",
    "\n",
    "on_antithyroid_medication - true or false\n",
    "\n",
    "sick - true or false\n",
    "\n",
    "pregnant - true or false\n",
    "\n",
    "thyroid_surgery - true or false\n",
    "\n",
    "I131_treatment - true or false\n",
    "\n",
    "query_hypothyroid - true or false\n",
    "\n",
    "query_hyperthyroid -true or false\n",
    "\n",
    "lithium - true or false\n",
    "\n",
    "goitre - true or false\n",
    "\n",
    "tumor - true or false\n",
    "\n",
    "hypopituitary- true or false\n",
    "\n",
    "psych - true or false\n",
    "\n",
    "TSH_measured - true or false\n",
    "\n",
    "TSH - thyroid stimulating hormone floating value\n",
    "\n",
    "T3_measured - true or false\n",
    "\n",
    "T3 - triiodothyronine value\n",
    "\n",
    "TT4_measured- true or false\n",
    "\n",
    "TT4 - Thyroxine value\n",
    "\n",
    "T4U_measured- true or false\n",
    "\n",
    "T4U - numerical value\n",
    "\n",
    "FTI_measured- true or false\n",
    "\n",
    "FTI -Free Thyroxine Index\n",
    "\n",
    "TBG_measured- true or false\n",
    "\n",
    "TBG -Thyroid-Binding Globulin  value\n",
    "\n",
    "referral_source - different sources of referals\n",
    "\n",
    "Class - different types of thyroid"
   ]
  },
  {
   "cell_type": "code",
   "execution_count": 3,
   "metadata": {
    "colab": {
     "base_uri": "https://localhost:8080/"
    },
    "id": "5Sl93Cq0fcDM",
    "outputId": "475bb4ce-fc97-4ce0-902d-8f1e53fe4585"
   },
   "outputs": [
    {
     "name": "stdout",
     "output_type": "stream",
     "text": [
      "Defaulting to user installation because normal site-packages is not writeable\n",
      "Requirement already satisfied: kneed in /home/nidhiyashwanth/.local/lib/python3.10/site-packages (0.8.1)\n",
      "Requirement already satisfied: scipy>=1.0.0 in /home/nidhiyashwanth/.local/lib/python3.10/site-packages (from kneed) (1.10.1)\n",
      "Requirement already satisfied: numpy>=1.14.2 in /home/nidhiyashwanth/.local/lib/python3.10/site-packages (from kneed) (1.23.4)\n",
      "Defaulting to user installation because normal site-packages is not writeable\n",
      "Requirement already satisfied: scikit-learn in /home/nidhiyashwanth/.local/lib/python3.10/site-packages (1.2.2)\n",
      "Requirement already satisfied: scipy in /home/nidhiyashwanth/.local/lib/python3.10/site-packages (1.10.1)\n",
      "Requirement already satisfied: matplotlib in /home/nidhiyashwanth/.local/lib/python3.10/site-packages (3.7.1)\n",
      "Requirement already satisfied: numpy>=1.17.3 in /home/nidhiyashwanth/.local/lib/python3.10/site-packages (from scikit-learn) (1.23.4)\n",
      "Requirement already satisfied: joblib>=1.1.1 in /home/nidhiyashwanth/.local/lib/python3.10/site-packages (from scikit-learn) (1.2.0)\n",
      "Requirement already satisfied: threadpoolctl>=2.0.0 in /home/nidhiyashwanth/.local/lib/python3.10/site-packages (from scikit-learn) (3.1.0)\n",
      "Requirement already satisfied: fonttools>=4.22.0 in /home/nidhiyashwanth/.local/lib/python3.10/site-packages (from matplotlib) (4.38.0)\n",
      "Requirement already satisfied: pillow>=6.2.0 in /home/nidhiyashwanth/.local/lib/python3.10/site-packages (from matplotlib) (9.2.0)\n",
      "Requirement already satisfied: cycler>=0.10 in /home/nidhiyashwanth/.local/lib/python3.10/site-packages (from matplotlib) (0.11.0)\n",
      "Requirement already satisfied: python-dateutil>=2.7 in /home/nidhiyashwanth/.local/lib/python3.10/site-packages (from matplotlib) (2.8.2)\n",
      "Requirement already satisfied: contourpy>=1.0.1 in /home/nidhiyashwanth/.local/lib/python3.10/site-packages (from matplotlib) (1.0.5)\n",
      "Requirement already satisfied: kiwisolver>=1.0.1 in /home/nidhiyashwanth/.local/lib/python3.10/site-packages (from matplotlib) (1.4.4)\n",
      "Requirement already satisfied: pyparsing>=2.3.1 in /usr/lib/python3/dist-packages (from matplotlib) (2.4.7)\n",
      "Requirement already satisfied: packaging>=20.0 in /home/nidhiyashwanth/.local/lib/python3.10/site-packages (from matplotlib) (21.3)\n",
      "Requirement already satisfied: six>=1.5 in /usr/lib/python3/dist-packages (from python-dateutil>=2.7->matplotlib) (1.16.0)\n",
      "Defaulting to user installation because normal site-packages is not writeable\n",
      "Requirement already satisfied: imblearn in /home/nidhiyashwanth/.local/lib/python3.10/site-packages (0.0)\n",
      "Requirement already satisfied: imbalanced-learn in /home/nidhiyashwanth/.local/lib/python3.10/site-packages (from imblearn) (0.10.1)\n",
      "Requirement already satisfied: scikit-learn>=1.0.2 in /home/nidhiyashwanth/.local/lib/python3.10/site-packages (from imbalanced-learn->imblearn) (1.2.2)\n",
      "Requirement already satisfied: threadpoolctl>=2.0.0 in /home/nidhiyashwanth/.local/lib/python3.10/site-packages (from imbalanced-learn->imblearn) (3.1.0)\n",
      "Requirement already satisfied: joblib>=1.1.1 in /home/nidhiyashwanth/.local/lib/python3.10/site-packages (from imbalanced-learn->imblearn) (1.2.0)\n",
      "Requirement already satisfied: numpy>=1.17.3 in /home/nidhiyashwanth/.local/lib/python3.10/site-packages (from imbalanced-learn->imblearn) (1.23.4)\n",
      "Requirement already satisfied: scipy>=1.3.2 in /home/nidhiyashwanth/.local/lib/python3.10/site-packages (from imbalanced-learn->imblearn) (1.10.1)\n"
     ]
    }
   ],
   "source": [
    "!pip install kneed\n",
    "!pip install -U scikit-learn scipy matplotlib\n",
    "!pip install imblearn"
   ]
  },
  {
   "cell_type": "code",
   "execution_count": 1,
   "metadata": {
    "id": "KRmpjkUVbRNl"
   },
   "outputs": [],
   "source": [
    "import pandas as pd\n",
    "import numpy as np\n",
    "import matplotlib.pyplot as plt\n",
    "import seaborn as sns\n",
    "import os\n",
    "import datetime\n",
    "import pickle\n",
    "import six\n",
    "import sys\n",
    "sys.modules['sklearn.externals.six'] = six\n",
    "\n",
    "import sklearn.neighbors._base\n",
    "sys.modules['sklearn.neighbors.base'] = sklearn.neighbors._base\n",
    "\n",
    "from sklearn.utils import resample\n",
    "from imblearn.over_sampling import SMOTENC,RandomOverSampler\n",
    "from sklearn.preprocessing import LabelEncoder\n",
    "\n",
    "import imblearn.over_sampling\n",
    "#from imblearn.over_sampling import KMeansSMOTE\n",
    "import sklearn.impute\n",
    "#from sklearn.impute import KNNImputer\n",
    "\n",
    "import matplotlib.pyplot as plt\n",
    "from sklearn.cluster import KMeans\n",
    "from kneed import KneeLocator\n",
    "\n",
    "from sklearn.model_selection import train_test_split\n",
    "\n",
    "sns.set()"
   ]
  },
  {
   "cell_type": "code",
   "execution_count": 2,
   "metadata": {
    "colab": {
     "base_uri": "https://localhost:8080/",
     "height": 224
    },
    "id": "V15LfsCicbFN",
    "outputId": "e1fab5aa-8533-4fdd-850d-23a7eba6d8f4"
   },
   "outputs": [
    {
     "data": {
      "text/html": [
       "<div>\n",
       "<style scoped>\n",
       "    .dataframe tbody tr th:only-of-type {\n",
       "        vertical-align: middle;\n",
       "    }\n",
       "\n",
       "    .dataframe tbody tr th {\n",
       "        vertical-align: top;\n",
       "    }\n",
       "\n",
       "    .dataframe thead th {\n",
       "        text-align: right;\n",
       "    }\n",
       "</style>\n",
       "<table border=\"1\" class=\"dataframe\">\n",
       "  <thead>\n",
       "    <tr style=\"text-align: right;\">\n",
       "      <th></th>\n",
       "      <th>age</th>\n",
       "      <th>sex</th>\n",
       "      <th>on_thyroxine</th>\n",
       "      <th>query_on_thyroxine</th>\n",
       "      <th>on_antithyroid_medication</th>\n",
       "      <th>sick</th>\n",
       "      <th>pregnant</th>\n",
       "      <th>thyroid_surgery</th>\n",
       "      <th>I131_treatment</th>\n",
       "      <th>query_hypothyroid</th>\n",
       "      <th>...</th>\n",
       "      <th>TT4_measured</th>\n",
       "      <th>TT4</th>\n",
       "      <th>T4U_measured</th>\n",
       "      <th>T4U</th>\n",
       "      <th>FTI_measured</th>\n",
       "      <th>FTI</th>\n",
       "      <th>TBG_measured</th>\n",
       "      <th>TBG</th>\n",
       "      <th>referral_source</th>\n",
       "      <th>Class</th>\n",
       "    </tr>\n",
       "  </thead>\n",
       "  <tbody>\n",
       "    <tr>\n",
       "      <th>0</th>\n",
       "      <td>41</td>\n",
       "      <td>F</td>\n",
       "      <td>f</td>\n",
       "      <td>f</td>\n",
       "      <td>f</td>\n",
       "      <td>f</td>\n",
       "      <td>f</td>\n",
       "      <td>f</td>\n",
       "      <td>f</td>\n",
       "      <td>f</td>\n",
       "      <td>...</td>\n",
       "      <td>t</td>\n",
       "      <td>125</td>\n",
       "      <td>t</td>\n",
       "      <td>1.14</td>\n",
       "      <td>t</td>\n",
       "      <td>109</td>\n",
       "      <td>f</td>\n",
       "      <td>?</td>\n",
       "      <td>SVHC</td>\n",
       "      <td>negative</td>\n",
       "    </tr>\n",
       "    <tr>\n",
       "      <th>1</th>\n",
       "      <td>23</td>\n",
       "      <td>F</td>\n",
       "      <td>f</td>\n",
       "      <td>f</td>\n",
       "      <td>f</td>\n",
       "      <td>f</td>\n",
       "      <td>f</td>\n",
       "      <td>f</td>\n",
       "      <td>f</td>\n",
       "      <td>f</td>\n",
       "      <td>...</td>\n",
       "      <td>t</td>\n",
       "      <td>102</td>\n",
       "      <td>f</td>\n",
       "      <td>?</td>\n",
       "      <td>f</td>\n",
       "      <td>?</td>\n",
       "      <td>f</td>\n",
       "      <td>?</td>\n",
       "      <td>other</td>\n",
       "      <td>negative</td>\n",
       "    </tr>\n",
       "    <tr>\n",
       "      <th>2</th>\n",
       "      <td>46</td>\n",
       "      <td>M</td>\n",
       "      <td>f</td>\n",
       "      <td>f</td>\n",
       "      <td>f</td>\n",
       "      <td>f</td>\n",
       "      <td>f</td>\n",
       "      <td>f</td>\n",
       "      <td>f</td>\n",
       "      <td>f</td>\n",
       "      <td>...</td>\n",
       "      <td>t</td>\n",
       "      <td>109</td>\n",
       "      <td>t</td>\n",
       "      <td>0.91</td>\n",
       "      <td>t</td>\n",
       "      <td>120</td>\n",
       "      <td>f</td>\n",
       "      <td>?</td>\n",
       "      <td>other</td>\n",
       "      <td>negative</td>\n",
       "    </tr>\n",
       "    <tr>\n",
       "      <th>3</th>\n",
       "      <td>70</td>\n",
       "      <td>F</td>\n",
       "      <td>t</td>\n",
       "      <td>f</td>\n",
       "      <td>f</td>\n",
       "      <td>f</td>\n",
       "      <td>f</td>\n",
       "      <td>f</td>\n",
       "      <td>f</td>\n",
       "      <td>f</td>\n",
       "      <td>...</td>\n",
       "      <td>t</td>\n",
       "      <td>175</td>\n",
       "      <td>f</td>\n",
       "      <td>?</td>\n",
       "      <td>f</td>\n",
       "      <td>?</td>\n",
       "      <td>f</td>\n",
       "      <td>?</td>\n",
       "      <td>other</td>\n",
       "      <td>negative</td>\n",
       "    </tr>\n",
       "    <tr>\n",
       "      <th>4</th>\n",
       "      <td>70</td>\n",
       "      <td>F</td>\n",
       "      <td>f</td>\n",
       "      <td>f</td>\n",
       "      <td>f</td>\n",
       "      <td>f</td>\n",
       "      <td>f</td>\n",
       "      <td>f</td>\n",
       "      <td>f</td>\n",
       "      <td>f</td>\n",
       "      <td>...</td>\n",
       "      <td>t</td>\n",
       "      <td>61</td>\n",
       "      <td>t</td>\n",
       "      <td>0.87</td>\n",
       "      <td>t</td>\n",
       "      <td>70</td>\n",
       "      <td>f</td>\n",
       "      <td>?</td>\n",
       "      <td>SVI</td>\n",
       "      <td>negative</td>\n",
       "    </tr>\n",
       "  </tbody>\n",
       "</table>\n",
       "<p>5 rows × 30 columns</p>\n",
       "</div>"
      ],
      "text/plain": [
       "  age sex on_thyroxine query_on_thyroxine on_antithyroid_medication sick  \\\n",
       "0  41   F            f                  f                         f    f   \n",
       "1  23   F            f                  f                         f    f   \n",
       "2  46   M            f                  f                         f    f   \n",
       "3  70   F            t                  f                         f    f   \n",
       "4  70   F            f                  f                         f    f   \n",
       "\n",
       "  pregnant thyroid_surgery I131_treatment query_hypothyroid  ... TT4_measured  \\\n",
       "0        f               f              f                 f  ...            t   \n",
       "1        f               f              f                 f  ...            t   \n",
       "2        f               f              f                 f  ...            t   \n",
       "3        f               f              f                 f  ...            t   \n",
       "4        f               f              f                 f  ...            t   \n",
       "\n",
       "   TT4 T4U_measured   T4U FTI_measured  FTI TBG_measured TBG referral_source  \\\n",
       "0  125            t  1.14            t  109            f   ?            SVHC   \n",
       "1  102            f     ?            f    ?            f   ?           other   \n",
       "2  109            t  0.91            t  120            f   ?           other   \n",
       "3  175            f     ?            f    ?            f   ?           other   \n",
       "4   61            t  0.87            t   70            f   ?             SVI   \n",
       "\n",
       "      Class  \n",
       "0  negative  \n",
       "1  negative  \n",
       "2  negative  \n",
       "3  negative  \n",
       "4  negative  \n",
       "\n",
       "[5 rows x 30 columns]"
      ]
     },
     "execution_count": 2,
     "metadata": {},
     "output_type": "execute_result"
    }
   ],
   "source": [
    "#loading data set\n",
    "\n",
    "df = pd.read_csv(\"/home/nidhiyashwanth/Downloads/temp heroku/testing out for phase 2/Thyroid-Disease-Detection-main sana khan/Thyroid-Disease-Detection-main/detection-and-classification-of-hypothyroid/Complete Notebooks/hypothyroid.csv\")\n",
    "df.head(5)"
   ]
  },
  {
   "cell_type": "code",
   "execution_count": 3,
   "metadata": {
    "colab": {
     "base_uri": "https://localhost:8080/"
    },
    "id": "uqS8P4gVoHbr",
    "outputId": "4608107d-e34e-45de-e0d3-58a634947f87"
   },
   "outputs": [
    {
     "data": {
      "text/plain": [
       "Index(['age', 'sex', 'on_thyroxine', 'query_on_thyroxine',\n",
       "       'on_antithyroid_medication', 'sick', 'pregnant', 'thyroid_surgery',\n",
       "       'I131_treatment', 'query_hypothyroid', 'query_hyperthyroid', 'lithium',\n",
       "       'goitre', 'tumor', 'hypopituitary', 'psych', 'TSH_measured', 'TSH',\n",
       "       'T3_measured', 'T3', 'TT4_measured', 'TT4', 'T4U_measured', 'T4U',\n",
       "       'FTI_measured', 'FTI', 'TBG_measured', 'TBG', 'referral_source',\n",
       "       'Class'],\n",
       "      dtype='object')"
      ]
     },
     "execution_count": 3,
     "metadata": {},
     "output_type": "execute_result"
    }
   ],
   "source": [
    "df.columns"
   ]
  },
  {
   "cell_type": "code",
   "execution_count": 4,
   "metadata": {
    "colab": {
     "base_uri": "https://localhost:8080/"
    },
    "id": "15nlRkCsoeNN",
    "outputId": "e8e9b885-0d38-4e68-a71a-193ec6e2800e"
   },
   "outputs": [
    {
     "name": "stdout",
     "output_type": "stream",
     "text": [
      "<class 'pandas.core.frame.DataFrame'>\n",
      "RangeIndex: 3772 entries, 0 to 3771\n",
      "Data columns (total 30 columns):\n",
      " #   Column                     Non-Null Count  Dtype \n",
      "---  ------                     --------------  ----- \n",
      " 0   age                        3772 non-null   object\n",
      " 1   sex                        3772 non-null   object\n",
      " 2   on_thyroxine               3772 non-null   object\n",
      " 3   query_on_thyroxine         3772 non-null   object\n",
      " 4   on_antithyroid_medication  3772 non-null   object\n",
      " 5   sick                       3772 non-null   object\n",
      " 6   pregnant                   3772 non-null   object\n",
      " 7   thyroid_surgery            3772 non-null   object\n",
      " 8   I131_treatment             3772 non-null   object\n",
      " 9   query_hypothyroid          3772 non-null   object\n",
      " 10  query_hyperthyroid         3772 non-null   object\n",
      " 11  lithium                    3772 non-null   object\n",
      " 12  goitre                     3772 non-null   object\n",
      " 13  tumor                      3772 non-null   object\n",
      " 14  hypopituitary              3772 non-null   object\n",
      " 15  psych                      3772 non-null   object\n",
      " 16  TSH_measured               3772 non-null   object\n",
      " 17  TSH                        3772 non-null   object\n",
      " 18  T3_measured                3772 non-null   object\n",
      " 19  T3                         3772 non-null   object\n",
      " 20  TT4_measured               3772 non-null   object\n",
      " 21  TT4                        3772 non-null   object\n",
      " 22  T4U_measured               3772 non-null   object\n",
      " 23  T4U                        3772 non-null   object\n",
      " 24  FTI_measured               3772 non-null   object\n",
      " 25  FTI                        3772 non-null   object\n",
      " 26  TBG_measured               3772 non-null   object\n",
      " 27  TBG                        3772 non-null   object\n",
      " 28  referral_source            3772 non-null   object\n",
      " 29  Class                      3772 non-null   object\n",
      "dtypes: object(30)\n",
      "memory usage: 884.2+ KB\n"
     ]
    }
   ],
   "source": [
    "df.info()"
   ]
  },
  {
   "cell_type": "code",
   "execution_count": 5,
   "metadata": {
    "colab": {
     "base_uri": "https://localhost:8080/"
    },
    "id": "imPraca6oiIm",
    "outputId": "d737e3d9-2003-40f7-d328-fee4df3442ac"
   },
   "outputs": [
    {
     "data": {
      "text/plain": [
       "(3772, 30)"
      ]
     },
     "execution_count": 5,
     "metadata": {},
     "output_type": "execute_result"
    }
   ],
   "source": [
    "df.shape"
   ]
  },
  {
   "cell_type": "code",
   "execution_count": 6,
   "metadata": {
    "colab": {
     "base_uri": "https://localhost:8080/"
    },
    "id": "Gv80bBu3oxL1",
    "outputId": "60cf495e-b3e6-4031-a995-1c81f563256d"
   },
   "outputs": [
    {
     "data": {
      "text/plain": [
       "array(['negative', 'compensated_hypothyroid', 'primary_hypothyroid',\n",
       "       'secondary_hypothyroid'], dtype=object)"
      ]
     },
     "execution_count": 6,
     "metadata": {},
     "output_type": "execute_result"
    }
   ],
   "source": [
    "df[\"Class\"].unique()"
   ]
  },
  {
   "cell_type": "markdown",
   "metadata": {
    "id": "qMY8dwkRx-UG"
   },
   "source": [
    "Ouptut class also has 4 distinct categories."
   ]
  },
  {
   "cell_type": "code",
   "execution_count": 7,
   "metadata": {
    "colab": {
     "base_uri": "https://localhost:8080/",
     "height": 193
    },
    "id": "QGzs8c9xo-_w",
    "outputId": "a3f24eb9-972a-4174-9bf3-fc6714ed60e0"
   },
   "outputs": [
    {
     "data": {
      "text/html": [
       "<div>\n",
       "<style scoped>\n",
       "    .dataframe tbody tr th:only-of-type {\n",
       "        vertical-align: middle;\n",
       "    }\n",
       "\n",
       "    .dataframe tbody tr th {\n",
       "        vertical-align: top;\n",
       "    }\n",
       "\n",
       "    .dataframe thead th {\n",
       "        text-align: right;\n",
       "    }\n",
       "</style>\n",
       "<table border=\"1\" class=\"dataframe\">\n",
       "  <thead>\n",
       "    <tr style=\"text-align: right;\">\n",
       "      <th></th>\n",
       "      <th>age</th>\n",
       "      <th>sex</th>\n",
       "      <th>on_thyroxine</th>\n",
       "      <th>query_on_thyroxine</th>\n",
       "      <th>on_antithyroid_medication</th>\n",
       "      <th>sick</th>\n",
       "      <th>pregnant</th>\n",
       "      <th>thyroid_surgery</th>\n",
       "      <th>I131_treatment</th>\n",
       "      <th>query_hypothyroid</th>\n",
       "      <th>...</th>\n",
       "      <th>TT4_measured</th>\n",
       "      <th>TT4</th>\n",
       "      <th>T4U_measured</th>\n",
       "      <th>T4U</th>\n",
       "      <th>FTI_measured</th>\n",
       "      <th>FTI</th>\n",
       "      <th>TBG_measured</th>\n",
       "      <th>TBG</th>\n",
       "      <th>referral_source</th>\n",
       "      <th>Class</th>\n",
       "    </tr>\n",
       "  </thead>\n",
       "  <tbody>\n",
       "    <tr>\n",
       "      <th>count</th>\n",
       "      <td>3772</td>\n",
       "      <td>3772</td>\n",
       "      <td>3772</td>\n",
       "      <td>3772</td>\n",
       "      <td>3772</td>\n",
       "      <td>3772</td>\n",
       "      <td>3772</td>\n",
       "      <td>3772</td>\n",
       "      <td>3772</td>\n",
       "      <td>3772</td>\n",
       "      <td>...</td>\n",
       "      <td>3772</td>\n",
       "      <td>3772</td>\n",
       "      <td>3772</td>\n",
       "      <td>3772</td>\n",
       "      <td>3772</td>\n",
       "      <td>3772</td>\n",
       "      <td>3772</td>\n",
       "      <td>3772</td>\n",
       "      <td>3772</td>\n",
       "      <td>3772</td>\n",
       "    </tr>\n",
       "    <tr>\n",
       "      <th>unique</th>\n",
       "      <td>94</td>\n",
       "      <td>3</td>\n",
       "      <td>2</td>\n",
       "      <td>2</td>\n",
       "      <td>2</td>\n",
       "      <td>2</td>\n",
       "      <td>2</td>\n",
       "      <td>2</td>\n",
       "      <td>2</td>\n",
       "      <td>2</td>\n",
       "      <td>...</td>\n",
       "      <td>2</td>\n",
       "      <td>242</td>\n",
       "      <td>2</td>\n",
       "      <td>147</td>\n",
       "      <td>2</td>\n",
       "      <td>235</td>\n",
       "      <td>1</td>\n",
       "      <td>1</td>\n",
       "      <td>5</td>\n",
       "      <td>4</td>\n",
       "    </tr>\n",
       "    <tr>\n",
       "      <th>top</th>\n",
       "      <td>59</td>\n",
       "      <td>F</td>\n",
       "      <td>f</td>\n",
       "      <td>f</td>\n",
       "      <td>f</td>\n",
       "      <td>f</td>\n",
       "      <td>f</td>\n",
       "      <td>f</td>\n",
       "      <td>f</td>\n",
       "      <td>f</td>\n",
       "      <td>...</td>\n",
       "      <td>t</td>\n",
       "      <td>?</td>\n",
       "      <td>t</td>\n",
       "      <td>?</td>\n",
       "      <td>t</td>\n",
       "      <td>?</td>\n",
       "      <td>f</td>\n",
       "      <td>?</td>\n",
       "      <td>other</td>\n",
       "      <td>negative</td>\n",
       "    </tr>\n",
       "    <tr>\n",
       "      <th>freq</th>\n",
       "      <td>95</td>\n",
       "      <td>2480</td>\n",
       "      <td>3308</td>\n",
       "      <td>3722</td>\n",
       "      <td>3729</td>\n",
       "      <td>3625</td>\n",
       "      <td>3719</td>\n",
       "      <td>3719</td>\n",
       "      <td>3713</td>\n",
       "      <td>3538</td>\n",
       "      <td>...</td>\n",
       "      <td>3541</td>\n",
       "      <td>231</td>\n",
       "      <td>3385</td>\n",
       "      <td>387</td>\n",
       "      <td>3387</td>\n",
       "      <td>385</td>\n",
       "      <td>3772</td>\n",
       "      <td>3772</td>\n",
       "      <td>2201</td>\n",
       "      <td>3481</td>\n",
       "    </tr>\n",
       "  </tbody>\n",
       "</table>\n",
       "<p>4 rows × 30 columns</p>\n",
       "</div>"
      ],
      "text/plain": [
       "         age   sex on_thyroxine query_on_thyroxine on_antithyroid_medication  \\\n",
       "count   3772  3772         3772               3772                      3772   \n",
       "unique    94     3            2                  2                         2   \n",
       "top       59     F            f                  f                         f   \n",
       "freq      95  2480         3308               3722                      3729   \n",
       "\n",
       "        sick pregnant thyroid_surgery I131_treatment query_hypothyroid  ...  \\\n",
       "count   3772     3772            3772           3772              3772  ...   \n",
       "unique     2        2               2              2                 2  ...   \n",
       "top        f        f               f              f                 f  ...   \n",
       "freq    3625     3719            3719           3713              3538  ...   \n",
       "\n",
       "       TT4_measured   TT4 T4U_measured   T4U FTI_measured   FTI TBG_measured  \\\n",
       "count          3772  3772         3772  3772         3772  3772         3772   \n",
       "unique            2   242            2   147            2   235            1   \n",
       "top               t     ?            t     ?            t     ?            f   \n",
       "freq           3541   231         3385   387         3387   385         3772   \n",
       "\n",
       "         TBG referral_source     Class  \n",
       "count   3772            3772      3772  \n",
       "unique     1               5         4  \n",
       "top        ?           other  negative  \n",
       "freq    3772            2201      3481  \n",
       "\n",
       "[4 rows x 30 columns]"
      ]
     },
     "execution_count": 7,
     "metadata": {},
     "output_type": "execute_result"
    }
   ],
   "source": [
    "df.describe()"
   ]
  },
  {
   "cell_type": "markdown",
   "metadata": {
    "id": "O_DGOInjqcpb"
   },
   "source": [
    "We can see from the data description that there are no missing values. But if we check the dataset the missing values are replaced with invalid values like '?'. Let's replace such values with 'nan' and check for missing values again."
   ]
  },
  {
   "cell_type": "code",
   "execution_count": 8,
   "metadata": {
    "colab": {
     "base_uri": "https://localhost:8080/"
    },
    "id": "b8REczunqLy4",
    "outputId": "30aadcac-a246-4664-c86e-77d7bc9a2f56"
   },
   "outputs": [
    {
     "name": "stdout",
     "output_type": "stream",
     "text": [
      "age 1\n",
      "sex 150\n",
      "TSH 369\n",
      "T3 769\n",
      "TT4 231\n",
      "T4U 387\n",
      "FTI 385\n",
      "TBG 3772\n"
     ]
    }
   ],
   "source": [
    "#checking number of invalid value like '?' present in each column\n",
    "\n",
    "for column in df.columns:\n",
    "    count = df[column][df[column]=='?'].count()\n",
    "    if count!=0:\n",
    "        print(column, count)"
   ]
  },
  {
   "cell_type": "markdown",
   "metadata": {
    "id": "dgBg5x-Brhbt"
   },
   "source": [
    "So these are the columns which have missing values but missing values are replaced with '?'. We will replace these values with 'nan' and then do imputation of these missing values.\n",
    "\n",
    "Also, we can see that for column 'TBG' all the values are missing. So we will drop this column as it is of no use to us."
   ]
  },
  {
   "cell_type": "code",
   "execution_count": 9,
   "metadata": {
    "id": "YR7laLUDrDX6"
   },
   "outputs": [],
   "source": [
    "df = df.drop(['TBG'],axis =1)"
   ]
  },
  {
   "cell_type": "markdown",
   "metadata": {
    "id": "pxWnp9hGsFLt"
   },
   "source": [
    "Also, looking to the dataset, we can see that some columns are with true and false value are just the indication that whether the next column has values or not. Let's see an example:"
   ]
  },
  {
   "cell_type": "code",
   "execution_count": 10,
   "metadata": {
    "colab": {
     "base_uri": "https://localhost:8080/",
     "height": 204
    },
    "id": "AzNFyyvYsGY1",
    "outputId": "08fc5262-f903-47dd-f792-8800cdb6137d"
   },
   "outputs": [
    {
     "data": {
      "text/html": [
       "<div>\n",
       "<style scoped>\n",
       "    .dataframe tbody tr th:only-of-type {\n",
       "        vertical-align: middle;\n",
       "    }\n",
       "\n",
       "    .dataframe tbody tr th {\n",
       "        vertical-align: top;\n",
       "    }\n",
       "\n",
       "    .dataframe thead th {\n",
       "        text-align: right;\n",
       "    }\n",
       "</style>\n",
       "<table border=\"1\" class=\"dataframe\">\n",
       "  <thead>\n",
       "    <tr style=\"text-align: right;\">\n",
       "      <th></th>\n",
       "      <th>T4U_measured</th>\n",
       "      <th>T4U</th>\n",
       "    </tr>\n",
       "  </thead>\n",
       "  <tbody>\n",
       "    <tr>\n",
       "      <th>0</th>\n",
       "      <td>t</td>\n",
       "      <td>1.14</td>\n",
       "    </tr>\n",
       "    <tr>\n",
       "      <th>1</th>\n",
       "      <td>f</td>\n",
       "      <td>?</td>\n",
       "    </tr>\n",
       "    <tr>\n",
       "      <th>2</th>\n",
       "      <td>t</td>\n",
       "      <td>0.91</td>\n",
       "    </tr>\n",
       "    <tr>\n",
       "      <th>3</th>\n",
       "      <td>f</td>\n",
       "      <td>?</td>\n",
       "    </tr>\n",
       "    <tr>\n",
       "      <th>4</th>\n",
       "      <td>t</td>\n",
       "      <td>0.87</td>\n",
       "    </tr>\n",
       "  </tbody>\n",
       "</table>\n",
       "</div>"
      ],
      "text/plain": [
       "  T4U_measured   T4U\n",
       "0            t  1.14\n",
       "1            f     ?\n",
       "2            t  0.91\n",
       "3            f     ?\n",
       "4            t  0.87"
      ]
     },
     "execution_count": 10,
     "metadata": {},
     "output_type": "execute_result"
    }
   ],
   "source": [
    "df[['T4U_measured','T4U']].head()"
   ]
  },
  {
   "cell_type": "markdown",
   "metadata": {
    "id": "ykYb8xjusjL3"
   },
   "source": [
    "Since, we are any ways going to handle the missing values, there is no point of having such columns in our dataset.\n",
    "\n",
    "Let's drop such columns as well."
   ]
  },
  {
   "cell_type": "code",
   "execution_count": 11,
   "metadata": {
    "id": "CBsRU4sisMzs"
   },
   "outputs": [],
   "source": [
    "df = df.drop(['TSH_measured','T3_measured','TT4_measured','T4U_measured','FTI_measured','TBG_measured'],axis =1)"
   ]
  },
  {
   "cell_type": "code",
   "execution_count": 12,
   "metadata": {
    "id": "Jr4lsXEVsr16"
   },
   "outputs": [],
   "source": [
    "# Now let's replace the '?' values with numpy nan\n",
    "\n",
    "for column in df.columns:\n",
    "    count = df[column][df[column]=='?'].count()\n",
    "    if count!=0:\n",
    "        df[column] = df[column].replace('?',np.nan)"
   ]
  },
  {
   "cell_type": "code",
   "execution_count": 13,
   "metadata": {
    "colab": {
     "base_uri": "https://localhost:8080/"
    },
    "id": "kiOO_OVEtm9y",
    "outputId": "a2850bf8-59ea-4604-bce0-596ea41708d4"
   },
   "outputs": [
    {
     "name": "stdout",
     "output_type": "stream",
     "text": [
      "age 0\n",
      "sex 0\n",
      "on_thyroxine 0\n",
      "query_on_thyroxine 0\n",
      "on_antithyroid_medication 0\n",
      "sick 0\n",
      "pregnant 0\n",
      "thyroid_surgery 0\n",
      "I131_treatment 0\n",
      "query_hypothyroid 0\n",
      "query_hyperthyroid 0\n",
      "lithium 0\n",
      "goitre 0\n",
      "tumor 0\n",
      "hypopituitary 0\n",
      "psych 0\n",
      "TSH 0\n",
      "T3 0\n",
      "TT4 0\n",
      "T4U 0\n",
      "FTI 0\n",
      "referral_source 0\n",
      "Class 0\n"
     ]
    }
   ],
   "source": [
    "for column in df.columns:\n",
    "    count = df[column][df[column]=='?'].count()\n",
    "    if count==0:\n",
    "        print(column, count)"
   ]
  },
  {
   "cell_type": "markdown",
   "metadata": {
    "id": "B-89AD5ot2bc"
   },
   "source": [
    "All '?' values replaced with nan. Now let's deal with missing values."
   ]
  },
  {
   "cell_type": "code",
   "execution_count": 14,
   "metadata": {
    "colab": {
     "base_uri": "https://localhost:8080/"
    },
    "id": "Asl8as4ktyQd",
    "outputId": "31ae2a89-c73f-4712-ad6b-8a164122b2f4"
   },
   "outputs": [
    {
     "data": {
      "text/plain": [
       "age                            1\n",
       "sex                          150\n",
       "on_thyroxine                   0\n",
       "query_on_thyroxine             0\n",
       "on_antithyroid_medication      0\n",
       "sick                           0\n",
       "pregnant                       0\n",
       "thyroid_surgery                0\n",
       "I131_treatment                 0\n",
       "query_hypothyroid              0\n",
       "query_hyperthyroid             0\n",
       "lithium                        0\n",
       "goitre                         0\n",
       "tumor                          0\n",
       "hypopituitary                  0\n",
       "psych                          0\n",
       "TSH                          369\n",
       "T3                           769\n",
       "TT4                          231\n",
       "T4U                          387\n",
       "FTI                          385\n",
       "referral_source                0\n",
       "Class                          0\n",
       "dtype: int64"
      ]
     },
     "execution_count": 14,
     "metadata": {},
     "output_type": "execute_result"
    }
   ],
   "source": [
    "df.isnull().sum()"
   ]
  },
  {
   "cell_type": "code",
   "execution_count": 15,
   "metadata": {
    "colab": {
     "base_uri": "https://localhost:8080/",
     "height": 224
    },
    "id": "PxMqHh0fuUh0",
    "outputId": "52c3749f-d644-468f-ce97-3b594f2e7e39"
   },
   "outputs": [
    {
     "data": {
      "text/html": [
       "<div>\n",
       "<style scoped>\n",
       "    .dataframe tbody tr th:only-of-type {\n",
       "        vertical-align: middle;\n",
       "    }\n",
       "\n",
       "    .dataframe tbody tr th {\n",
       "        vertical-align: top;\n",
       "    }\n",
       "\n",
       "    .dataframe thead th {\n",
       "        text-align: right;\n",
       "    }\n",
       "</style>\n",
       "<table border=\"1\" class=\"dataframe\">\n",
       "  <thead>\n",
       "    <tr style=\"text-align: right;\">\n",
       "      <th></th>\n",
       "      <th>age</th>\n",
       "      <th>sex</th>\n",
       "      <th>on_thyroxine</th>\n",
       "      <th>query_on_thyroxine</th>\n",
       "      <th>on_antithyroid_medication</th>\n",
       "      <th>sick</th>\n",
       "      <th>pregnant</th>\n",
       "      <th>thyroid_surgery</th>\n",
       "      <th>I131_treatment</th>\n",
       "      <th>query_hypothyroid</th>\n",
       "      <th>...</th>\n",
       "      <th>tumor</th>\n",
       "      <th>hypopituitary</th>\n",
       "      <th>psych</th>\n",
       "      <th>TSH</th>\n",
       "      <th>T3</th>\n",
       "      <th>TT4</th>\n",
       "      <th>T4U</th>\n",
       "      <th>FTI</th>\n",
       "      <th>referral_source</th>\n",
       "      <th>Class</th>\n",
       "    </tr>\n",
       "  </thead>\n",
       "  <tbody>\n",
       "    <tr>\n",
       "      <th>0</th>\n",
       "      <td>41</td>\n",
       "      <td>F</td>\n",
       "      <td>f</td>\n",
       "      <td>f</td>\n",
       "      <td>f</td>\n",
       "      <td>f</td>\n",
       "      <td>f</td>\n",
       "      <td>f</td>\n",
       "      <td>f</td>\n",
       "      <td>f</td>\n",
       "      <td>...</td>\n",
       "      <td>f</td>\n",
       "      <td>f</td>\n",
       "      <td>f</td>\n",
       "      <td>1.3</td>\n",
       "      <td>2.5</td>\n",
       "      <td>125</td>\n",
       "      <td>1.14</td>\n",
       "      <td>109</td>\n",
       "      <td>SVHC</td>\n",
       "      <td>negative</td>\n",
       "    </tr>\n",
       "    <tr>\n",
       "      <th>1</th>\n",
       "      <td>23</td>\n",
       "      <td>F</td>\n",
       "      <td>f</td>\n",
       "      <td>f</td>\n",
       "      <td>f</td>\n",
       "      <td>f</td>\n",
       "      <td>f</td>\n",
       "      <td>f</td>\n",
       "      <td>f</td>\n",
       "      <td>f</td>\n",
       "      <td>...</td>\n",
       "      <td>f</td>\n",
       "      <td>f</td>\n",
       "      <td>f</td>\n",
       "      <td>4.1</td>\n",
       "      <td>2</td>\n",
       "      <td>102</td>\n",
       "      <td>NaN</td>\n",
       "      <td>NaN</td>\n",
       "      <td>other</td>\n",
       "      <td>negative</td>\n",
       "    </tr>\n",
       "    <tr>\n",
       "      <th>2</th>\n",
       "      <td>46</td>\n",
       "      <td>M</td>\n",
       "      <td>f</td>\n",
       "      <td>f</td>\n",
       "      <td>f</td>\n",
       "      <td>f</td>\n",
       "      <td>f</td>\n",
       "      <td>f</td>\n",
       "      <td>f</td>\n",
       "      <td>f</td>\n",
       "      <td>...</td>\n",
       "      <td>f</td>\n",
       "      <td>f</td>\n",
       "      <td>f</td>\n",
       "      <td>0.98</td>\n",
       "      <td>NaN</td>\n",
       "      <td>109</td>\n",
       "      <td>0.91</td>\n",
       "      <td>120</td>\n",
       "      <td>other</td>\n",
       "      <td>negative</td>\n",
       "    </tr>\n",
       "    <tr>\n",
       "      <th>3</th>\n",
       "      <td>70</td>\n",
       "      <td>F</td>\n",
       "      <td>t</td>\n",
       "      <td>f</td>\n",
       "      <td>f</td>\n",
       "      <td>f</td>\n",
       "      <td>f</td>\n",
       "      <td>f</td>\n",
       "      <td>f</td>\n",
       "      <td>f</td>\n",
       "      <td>...</td>\n",
       "      <td>f</td>\n",
       "      <td>f</td>\n",
       "      <td>f</td>\n",
       "      <td>0.16</td>\n",
       "      <td>1.9</td>\n",
       "      <td>175</td>\n",
       "      <td>NaN</td>\n",
       "      <td>NaN</td>\n",
       "      <td>other</td>\n",
       "      <td>negative</td>\n",
       "    </tr>\n",
       "    <tr>\n",
       "      <th>4</th>\n",
       "      <td>70</td>\n",
       "      <td>F</td>\n",
       "      <td>f</td>\n",
       "      <td>f</td>\n",
       "      <td>f</td>\n",
       "      <td>f</td>\n",
       "      <td>f</td>\n",
       "      <td>f</td>\n",
       "      <td>f</td>\n",
       "      <td>f</td>\n",
       "      <td>...</td>\n",
       "      <td>f</td>\n",
       "      <td>f</td>\n",
       "      <td>f</td>\n",
       "      <td>0.72</td>\n",
       "      <td>1.2</td>\n",
       "      <td>61</td>\n",
       "      <td>0.87</td>\n",
       "      <td>70</td>\n",
       "      <td>SVI</td>\n",
       "      <td>negative</td>\n",
       "    </tr>\n",
       "  </tbody>\n",
       "</table>\n",
       "<p>5 rows × 23 columns</p>\n",
       "</div>"
      ],
      "text/plain": [
       "  age sex on_thyroxine query_on_thyroxine on_antithyroid_medication sick  \\\n",
       "0  41   F            f                  f                         f    f   \n",
       "1  23   F            f                  f                         f    f   \n",
       "2  46   M            f                  f                         f    f   \n",
       "3  70   F            t                  f                         f    f   \n",
       "4  70   F            f                  f                         f    f   \n",
       "\n",
       "  pregnant thyroid_surgery I131_treatment query_hypothyroid  ... tumor  \\\n",
       "0        f               f              f                 f  ...     f   \n",
       "1        f               f              f                 f  ...     f   \n",
       "2        f               f              f                 f  ...     f   \n",
       "3        f               f              f                 f  ...     f   \n",
       "4        f               f              f                 f  ...     f   \n",
       "\n",
       "  hypopituitary psych   TSH   T3  TT4   T4U  FTI referral_source     Class  \n",
       "0             f     f   1.3  2.5  125  1.14  109            SVHC  negative  \n",
       "1             f     f   4.1    2  102   NaN  NaN           other  negative  \n",
       "2             f     f  0.98  NaN  109  0.91  120           other  negative  \n",
       "3             f     f  0.16  1.9  175   NaN  NaN           other  negative  \n",
       "4             f     f  0.72  1.2   61  0.87   70             SVI  negative  \n",
       "\n",
       "[5 rows x 23 columns]"
      ]
     },
     "execution_count": 15,
     "metadata": {},
     "output_type": "execute_result"
    }
   ],
   "source": [
    "df.head()"
   ]
  },
  {
   "cell_type": "markdown",
   "metadata": {
    "id": "NFGiG7B1v0cp"
   },
   "source": [
    "Since the values are categorical, we have to change them to numerical before we use any imputation techniques.\n",
    "\n",
    "We can use get dummies but since most of the columns have only two distinct categories we will use mapping for them. Why? Because since there are only two categories then the two columns formed after get dummies will both have very high correaltion since they both explain the same thing. So in anyway we will have to drop one of the columns. That's why let's use mapping for such columns. For columns with more than two categories we will use get dummies."
   ]
  },
  {
   "cell_type": "code",
   "execution_count": 16,
   "metadata": {
    "id": "BwmkmQ_zv1HE"
   },
   "outputs": [],
   "source": [
    "# In sex column we have to map 0 for F and 1 for M\n",
    "\n",
    "df['sex'] = df['sex'].map({'F' : 0, 'M' : 1})\n",
    "\n",
    "# except for 'Sex' column all the other columns with two categorical data have same value 'f' and 't'.\n",
    "# let's write map them all in one go\n",
    "for column in df.columns:\n",
    "    if  len(df[column].unique())==2:\n",
    "        df[column] = df[column].map({'f' : 0, 't' : 1})\n",
    "        \n",
    "# this will map all the rest of the columns as we require."
   ]
  },
  {
   "cell_type": "code",
   "execution_count": 17,
   "metadata": {
    "colab": {
     "base_uri": "https://localhost:8080/",
     "height": 224
    },
    "id": "z61zHIqbwwzl",
    "outputId": "34a4ae04-c0b0-45e4-9b65-e014f67daa63"
   },
   "outputs": [
    {
     "data": {
      "text/html": [
       "<div>\n",
       "<style scoped>\n",
       "    .dataframe tbody tr th:only-of-type {\n",
       "        vertical-align: middle;\n",
       "    }\n",
       "\n",
       "    .dataframe tbody tr th {\n",
       "        vertical-align: top;\n",
       "    }\n",
       "\n",
       "    .dataframe thead th {\n",
       "        text-align: right;\n",
       "    }\n",
       "</style>\n",
       "<table border=\"1\" class=\"dataframe\">\n",
       "  <thead>\n",
       "    <tr style=\"text-align: right;\">\n",
       "      <th></th>\n",
       "      <th>age</th>\n",
       "      <th>sex</th>\n",
       "      <th>on_thyroxine</th>\n",
       "      <th>query_on_thyroxine</th>\n",
       "      <th>on_antithyroid_medication</th>\n",
       "      <th>sick</th>\n",
       "      <th>pregnant</th>\n",
       "      <th>thyroid_surgery</th>\n",
       "      <th>I131_treatment</th>\n",
       "      <th>query_hypothyroid</th>\n",
       "      <th>...</th>\n",
       "      <th>tumor</th>\n",
       "      <th>hypopituitary</th>\n",
       "      <th>psych</th>\n",
       "      <th>TSH</th>\n",
       "      <th>T3</th>\n",
       "      <th>TT4</th>\n",
       "      <th>T4U</th>\n",
       "      <th>FTI</th>\n",
       "      <th>referral_source</th>\n",
       "      <th>Class</th>\n",
       "    </tr>\n",
       "  </thead>\n",
       "  <tbody>\n",
       "    <tr>\n",
       "      <th>0</th>\n",
       "      <td>41</td>\n",
       "      <td>0.0</td>\n",
       "      <td>0</td>\n",
       "      <td>0</td>\n",
       "      <td>0</td>\n",
       "      <td>0</td>\n",
       "      <td>0</td>\n",
       "      <td>0</td>\n",
       "      <td>0</td>\n",
       "      <td>0</td>\n",
       "      <td>...</td>\n",
       "      <td>0</td>\n",
       "      <td>0</td>\n",
       "      <td>0</td>\n",
       "      <td>1.3</td>\n",
       "      <td>2.5</td>\n",
       "      <td>125</td>\n",
       "      <td>1.14</td>\n",
       "      <td>109</td>\n",
       "      <td>SVHC</td>\n",
       "      <td>negative</td>\n",
       "    </tr>\n",
       "    <tr>\n",
       "      <th>1</th>\n",
       "      <td>23</td>\n",
       "      <td>0.0</td>\n",
       "      <td>0</td>\n",
       "      <td>0</td>\n",
       "      <td>0</td>\n",
       "      <td>0</td>\n",
       "      <td>0</td>\n",
       "      <td>0</td>\n",
       "      <td>0</td>\n",
       "      <td>0</td>\n",
       "      <td>...</td>\n",
       "      <td>0</td>\n",
       "      <td>0</td>\n",
       "      <td>0</td>\n",
       "      <td>4.1</td>\n",
       "      <td>2</td>\n",
       "      <td>102</td>\n",
       "      <td>NaN</td>\n",
       "      <td>NaN</td>\n",
       "      <td>other</td>\n",
       "      <td>negative</td>\n",
       "    </tr>\n",
       "    <tr>\n",
       "      <th>2</th>\n",
       "      <td>46</td>\n",
       "      <td>1.0</td>\n",
       "      <td>0</td>\n",
       "      <td>0</td>\n",
       "      <td>0</td>\n",
       "      <td>0</td>\n",
       "      <td>0</td>\n",
       "      <td>0</td>\n",
       "      <td>0</td>\n",
       "      <td>0</td>\n",
       "      <td>...</td>\n",
       "      <td>0</td>\n",
       "      <td>0</td>\n",
       "      <td>0</td>\n",
       "      <td>0.98</td>\n",
       "      <td>NaN</td>\n",
       "      <td>109</td>\n",
       "      <td>0.91</td>\n",
       "      <td>120</td>\n",
       "      <td>other</td>\n",
       "      <td>negative</td>\n",
       "    </tr>\n",
       "    <tr>\n",
       "      <th>3</th>\n",
       "      <td>70</td>\n",
       "      <td>0.0</td>\n",
       "      <td>1</td>\n",
       "      <td>0</td>\n",
       "      <td>0</td>\n",
       "      <td>0</td>\n",
       "      <td>0</td>\n",
       "      <td>0</td>\n",
       "      <td>0</td>\n",
       "      <td>0</td>\n",
       "      <td>...</td>\n",
       "      <td>0</td>\n",
       "      <td>0</td>\n",
       "      <td>0</td>\n",
       "      <td>0.16</td>\n",
       "      <td>1.9</td>\n",
       "      <td>175</td>\n",
       "      <td>NaN</td>\n",
       "      <td>NaN</td>\n",
       "      <td>other</td>\n",
       "      <td>negative</td>\n",
       "    </tr>\n",
       "    <tr>\n",
       "      <th>4</th>\n",
       "      <td>70</td>\n",
       "      <td>0.0</td>\n",
       "      <td>0</td>\n",
       "      <td>0</td>\n",
       "      <td>0</td>\n",
       "      <td>0</td>\n",
       "      <td>0</td>\n",
       "      <td>0</td>\n",
       "      <td>0</td>\n",
       "      <td>0</td>\n",
       "      <td>...</td>\n",
       "      <td>0</td>\n",
       "      <td>0</td>\n",
       "      <td>0</td>\n",
       "      <td>0.72</td>\n",
       "      <td>1.2</td>\n",
       "      <td>61</td>\n",
       "      <td>0.87</td>\n",
       "      <td>70</td>\n",
       "      <td>SVI</td>\n",
       "      <td>negative</td>\n",
       "    </tr>\n",
       "  </tbody>\n",
       "</table>\n",
       "<p>5 rows × 23 columns</p>\n",
       "</div>"
      ],
      "text/plain": [
       "  age  sex  on_thyroxine  query_on_thyroxine  on_antithyroid_medication  sick  \\\n",
       "0  41  0.0             0                   0                          0     0   \n",
       "1  23  0.0             0                   0                          0     0   \n",
       "2  46  1.0             0                   0                          0     0   \n",
       "3  70  0.0             1                   0                          0     0   \n",
       "4  70  0.0             0                   0                          0     0   \n",
       "\n",
       "   pregnant  thyroid_surgery  I131_treatment  query_hypothyroid  ...  tumor  \\\n",
       "0         0                0               0                  0  ...      0   \n",
       "1         0                0               0                  0  ...      0   \n",
       "2         0                0               0                  0  ...      0   \n",
       "3         0                0               0                  0  ...      0   \n",
       "4         0                0               0                  0  ...      0   \n",
       "\n",
       "   hypopituitary  psych   TSH   T3  TT4   T4U  FTI referral_source     Class  \n",
       "0              0      0   1.3  2.5  125  1.14  109            SVHC  negative  \n",
       "1              0      0   4.1    2  102   NaN  NaN           other  negative  \n",
       "2              0      0  0.98  NaN  109  0.91  120           other  negative  \n",
       "3              0      0  0.16  1.9  175   NaN  NaN           other  negative  \n",
       "4              0      0  0.72  1.2   61  0.87   70             SVI  negative  \n",
       "\n",
       "[5 rows x 23 columns]"
      ]
     },
     "execution_count": 17,
     "metadata": {},
     "output_type": "execute_result"
    }
   ],
   "source": [
    "df.head()"
   ]
  },
  {
   "cell_type": "markdown",
   "metadata": {
    "id": "kRaDQVxYxVhH"
   },
   "source": [
    "Now there are only one column left with more than 2 categories that is referral_source"
   ]
  },
  {
   "cell_type": "code",
   "execution_count": 18,
   "metadata": {
    "colab": {
     "base_uri": "https://localhost:8080/"
    },
    "id": "SOBRmILFw788",
    "outputId": "4f8f12b8-3543-4a02-e01a-19d3fdd62763"
   },
   "outputs": [
    {
     "data": {
      "text/plain": [
       "array(['SVHC', 'other', 'SVI', 'STMW', 'SVHD'], dtype=object)"
      ]
     },
     "execution_count": 18,
     "metadata": {},
     "output_type": "execute_result"
    }
   ],
   "source": [
    "df['referral_source'].unique()"
   ]
  },
  {
   "cell_type": "code",
   "execution_count": 19,
   "metadata": {
    "id": "AZ7zOpQuxggw"
   },
   "outputs": [],
   "source": [
    "# we will use get_dummies for refrerral_source\n",
    "df = pd.get_dummies(df, columns=['referral_source'])"
   ]
  },
  {
   "cell_type": "code",
   "execution_count": 20,
   "metadata": {
    "colab": {
     "base_uri": "https://localhost:8080/",
     "height": 224
    },
    "id": "-xgoURCBxnIa",
    "outputId": "9a6870d5-c809-41de-ac35-44cd1d2737a8"
   },
   "outputs": [
    {
     "data": {
      "text/html": [
       "<div>\n",
       "<style scoped>\n",
       "    .dataframe tbody tr th:only-of-type {\n",
       "        vertical-align: middle;\n",
       "    }\n",
       "\n",
       "    .dataframe tbody tr th {\n",
       "        vertical-align: top;\n",
       "    }\n",
       "\n",
       "    .dataframe thead th {\n",
       "        text-align: right;\n",
       "    }\n",
       "</style>\n",
       "<table border=\"1\" class=\"dataframe\">\n",
       "  <thead>\n",
       "    <tr style=\"text-align: right;\">\n",
       "      <th></th>\n",
       "      <th>age</th>\n",
       "      <th>sex</th>\n",
       "      <th>on_thyroxine</th>\n",
       "      <th>query_on_thyroxine</th>\n",
       "      <th>on_antithyroid_medication</th>\n",
       "      <th>sick</th>\n",
       "      <th>pregnant</th>\n",
       "      <th>thyroid_surgery</th>\n",
       "      <th>I131_treatment</th>\n",
       "      <th>query_hypothyroid</th>\n",
       "      <th>...</th>\n",
       "      <th>T3</th>\n",
       "      <th>TT4</th>\n",
       "      <th>T4U</th>\n",
       "      <th>FTI</th>\n",
       "      <th>Class</th>\n",
       "      <th>referral_source_STMW</th>\n",
       "      <th>referral_source_SVHC</th>\n",
       "      <th>referral_source_SVHD</th>\n",
       "      <th>referral_source_SVI</th>\n",
       "      <th>referral_source_other</th>\n",
       "    </tr>\n",
       "  </thead>\n",
       "  <tbody>\n",
       "    <tr>\n",
       "      <th>0</th>\n",
       "      <td>41</td>\n",
       "      <td>0.0</td>\n",
       "      <td>0</td>\n",
       "      <td>0</td>\n",
       "      <td>0</td>\n",
       "      <td>0</td>\n",
       "      <td>0</td>\n",
       "      <td>0</td>\n",
       "      <td>0</td>\n",
       "      <td>0</td>\n",
       "      <td>...</td>\n",
       "      <td>2.5</td>\n",
       "      <td>125</td>\n",
       "      <td>1.14</td>\n",
       "      <td>109</td>\n",
       "      <td>negative</td>\n",
       "      <td>0</td>\n",
       "      <td>1</td>\n",
       "      <td>0</td>\n",
       "      <td>0</td>\n",
       "      <td>0</td>\n",
       "    </tr>\n",
       "    <tr>\n",
       "      <th>1</th>\n",
       "      <td>23</td>\n",
       "      <td>0.0</td>\n",
       "      <td>0</td>\n",
       "      <td>0</td>\n",
       "      <td>0</td>\n",
       "      <td>0</td>\n",
       "      <td>0</td>\n",
       "      <td>0</td>\n",
       "      <td>0</td>\n",
       "      <td>0</td>\n",
       "      <td>...</td>\n",
       "      <td>2</td>\n",
       "      <td>102</td>\n",
       "      <td>NaN</td>\n",
       "      <td>NaN</td>\n",
       "      <td>negative</td>\n",
       "      <td>0</td>\n",
       "      <td>0</td>\n",
       "      <td>0</td>\n",
       "      <td>0</td>\n",
       "      <td>1</td>\n",
       "    </tr>\n",
       "    <tr>\n",
       "      <th>2</th>\n",
       "      <td>46</td>\n",
       "      <td>1.0</td>\n",
       "      <td>0</td>\n",
       "      <td>0</td>\n",
       "      <td>0</td>\n",
       "      <td>0</td>\n",
       "      <td>0</td>\n",
       "      <td>0</td>\n",
       "      <td>0</td>\n",
       "      <td>0</td>\n",
       "      <td>...</td>\n",
       "      <td>NaN</td>\n",
       "      <td>109</td>\n",
       "      <td>0.91</td>\n",
       "      <td>120</td>\n",
       "      <td>negative</td>\n",
       "      <td>0</td>\n",
       "      <td>0</td>\n",
       "      <td>0</td>\n",
       "      <td>0</td>\n",
       "      <td>1</td>\n",
       "    </tr>\n",
       "    <tr>\n",
       "      <th>3</th>\n",
       "      <td>70</td>\n",
       "      <td>0.0</td>\n",
       "      <td>1</td>\n",
       "      <td>0</td>\n",
       "      <td>0</td>\n",
       "      <td>0</td>\n",
       "      <td>0</td>\n",
       "      <td>0</td>\n",
       "      <td>0</td>\n",
       "      <td>0</td>\n",
       "      <td>...</td>\n",
       "      <td>1.9</td>\n",
       "      <td>175</td>\n",
       "      <td>NaN</td>\n",
       "      <td>NaN</td>\n",
       "      <td>negative</td>\n",
       "      <td>0</td>\n",
       "      <td>0</td>\n",
       "      <td>0</td>\n",
       "      <td>0</td>\n",
       "      <td>1</td>\n",
       "    </tr>\n",
       "    <tr>\n",
       "      <th>4</th>\n",
       "      <td>70</td>\n",
       "      <td>0.0</td>\n",
       "      <td>0</td>\n",
       "      <td>0</td>\n",
       "      <td>0</td>\n",
       "      <td>0</td>\n",
       "      <td>0</td>\n",
       "      <td>0</td>\n",
       "      <td>0</td>\n",
       "      <td>0</td>\n",
       "      <td>...</td>\n",
       "      <td>1.2</td>\n",
       "      <td>61</td>\n",
       "      <td>0.87</td>\n",
       "      <td>70</td>\n",
       "      <td>negative</td>\n",
       "      <td>0</td>\n",
       "      <td>0</td>\n",
       "      <td>0</td>\n",
       "      <td>1</td>\n",
       "      <td>0</td>\n",
       "    </tr>\n",
       "  </tbody>\n",
       "</table>\n",
       "<p>5 rows × 27 columns</p>\n",
       "</div>"
      ],
      "text/plain": [
       "  age  sex  on_thyroxine  query_on_thyroxine  on_antithyroid_medication  sick  \\\n",
       "0  41  0.0             0                   0                          0     0   \n",
       "1  23  0.0             0                   0                          0     0   \n",
       "2  46  1.0             0                   0                          0     0   \n",
       "3  70  0.0             1                   0                          0     0   \n",
       "4  70  0.0             0                   0                          0     0   \n",
       "\n",
       "   pregnant  thyroid_surgery  I131_treatment  query_hypothyroid  ...   T3  \\\n",
       "0         0                0               0                  0  ...  2.5   \n",
       "1         0                0               0                  0  ...    2   \n",
       "2         0                0               0                  0  ...  NaN   \n",
       "3         0                0               0                  0  ...  1.9   \n",
       "4         0                0               0                  0  ...  1.2   \n",
       "\n",
       "   TT4   T4U  FTI     Class  referral_source_STMW referral_source_SVHC  \\\n",
       "0  125  1.14  109  negative                     0                    1   \n",
       "1  102   NaN  NaN  negative                     0                    0   \n",
       "2  109  0.91  120  negative                     0                    0   \n",
       "3  175   NaN  NaN  negative                     0                    0   \n",
       "4   61  0.87   70  negative                     0                    0   \n",
       "\n",
       "  referral_source_SVHD referral_source_SVI referral_source_other  \n",
       "0                    0                   0                     0  \n",
       "1                    0                   0                     1  \n",
       "2                    0                   0                     1  \n",
       "3                    0                   0                     1  \n",
       "4                    0                   1                     0  \n",
       "\n",
       "[5 rows x 27 columns]"
      ]
     },
     "execution_count": 20,
     "metadata": {},
     "output_type": "execute_result"
    }
   ],
   "source": [
    "df.head()"
   ]
  },
  {
   "cell_type": "markdown",
   "metadata": {
    "id": "SanSUdSOx5RX"
   },
   "source": [
    "Now our ouptut class also has 4 distinct categories. There is no sense of using get dummies with our Output class, so we will just map them. Let's use LabelEncoder function for this."
   ]
  },
  {
   "cell_type": "code",
   "execution_count": 21,
   "metadata": {
    "colab": {
     "base_uri": "https://localhost:8080/"
    },
    "id": "7-pnuHJ3xxry",
    "outputId": "c51dd686-2662-4b8a-ace8-2c107f800ad1"
   },
   "outputs": [
    {
     "data": {
      "text/plain": [
       "array(['negative', 'compensated_hypothyroid', 'primary_hypothyroid',\n",
       "       'secondary_hypothyroid'], dtype=object)"
      ]
     },
     "execution_count": 21,
     "metadata": {},
     "output_type": "execute_result"
    }
   ],
   "source": [
    "df['Class'].unique()"
   ]
  },
  {
   "cell_type": "code",
   "execution_count": 22,
   "metadata": {
    "id": "VGAen62TyQhW"
   },
   "outputs": [],
   "source": [
    "#lblEn = LabelEncoder()\n",
    "#df['Class'] =lblEn.fit_transform(df['Class'])\n",
    "\n",
    "encode = LabelEncoder().fit(df['Class'])\n",
    "\n",
    "df['Class'] = encode.transform(df['Class'])\n",
    "\n",
    "# we will save the encoder as pickle to use when we do the prediction. We will need to decode the predcited values\n",
    "# back to original\n",
    "\n",
    "file = \"enc.pickle\"\n",
    "pickle.dump(encode, open(file, \"wb\"))"
   ]
  },
  {
   "cell_type": "code",
   "execution_count": 23,
   "metadata": {
    "colab": {
     "base_uri": "https://localhost:8080/",
     "height": 224
    },
    "id": "0BaSHISYyaFl",
    "outputId": "eaa86276-45af-4e13-ca3a-b0a65ed880db"
   },
   "outputs": [
    {
     "data": {
      "text/html": [
       "<div>\n",
       "<style scoped>\n",
       "    .dataframe tbody tr th:only-of-type {\n",
       "        vertical-align: middle;\n",
       "    }\n",
       "\n",
       "    .dataframe tbody tr th {\n",
       "        vertical-align: top;\n",
       "    }\n",
       "\n",
       "    .dataframe thead th {\n",
       "        text-align: right;\n",
       "    }\n",
       "</style>\n",
       "<table border=\"1\" class=\"dataframe\">\n",
       "  <thead>\n",
       "    <tr style=\"text-align: right;\">\n",
       "      <th></th>\n",
       "      <th>age</th>\n",
       "      <th>sex</th>\n",
       "      <th>on_thyroxine</th>\n",
       "      <th>query_on_thyroxine</th>\n",
       "      <th>on_antithyroid_medication</th>\n",
       "      <th>sick</th>\n",
       "      <th>pregnant</th>\n",
       "      <th>thyroid_surgery</th>\n",
       "      <th>I131_treatment</th>\n",
       "      <th>query_hypothyroid</th>\n",
       "      <th>...</th>\n",
       "      <th>T3</th>\n",
       "      <th>TT4</th>\n",
       "      <th>T4U</th>\n",
       "      <th>FTI</th>\n",
       "      <th>Class</th>\n",
       "      <th>referral_source_STMW</th>\n",
       "      <th>referral_source_SVHC</th>\n",
       "      <th>referral_source_SVHD</th>\n",
       "      <th>referral_source_SVI</th>\n",
       "      <th>referral_source_other</th>\n",
       "    </tr>\n",
       "  </thead>\n",
       "  <tbody>\n",
       "    <tr>\n",
       "      <th>0</th>\n",
       "      <td>41</td>\n",
       "      <td>0.0</td>\n",
       "      <td>0</td>\n",
       "      <td>0</td>\n",
       "      <td>0</td>\n",
       "      <td>0</td>\n",
       "      <td>0</td>\n",
       "      <td>0</td>\n",
       "      <td>0</td>\n",
       "      <td>0</td>\n",
       "      <td>...</td>\n",
       "      <td>2.5</td>\n",
       "      <td>125</td>\n",
       "      <td>1.14</td>\n",
       "      <td>109</td>\n",
       "      <td>1</td>\n",
       "      <td>0</td>\n",
       "      <td>1</td>\n",
       "      <td>0</td>\n",
       "      <td>0</td>\n",
       "      <td>0</td>\n",
       "    </tr>\n",
       "    <tr>\n",
       "      <th>1</th>\n",
       "      <td>23</td>\n",
       "      <td>0.0</td>\n",
       "      <td>0</td>\n",
       "      <td>0</td>\n",
       "      <td>0</td>\n",
       "      <td>0</td>\n",
       "      <td>0</td>\n",
       "      <td>0</td>\n",
       "      <td>0</td>\n",
       "      <td>0</td>\n",
       "      <td>...</td>\n",
       "      <td>2</td>\n",
       "      <td>102</td>\n",
       "      <td>NaN</td>\n",
       "      <td>NaN</td>\n",
       "      <td>1</td>\n",
       "      <td>0</td>\n",
       "      <td>0</td>\n",
       "      <td>0</td>\n",
       "      <td>0</td>\n",
       "      <td>1</td>\n",
       "    </tr>\n",
       "    <tr>\n",
       "      <th>2</th>\n",
       "      <td>46</td>\n",
       "      <td>1.0</td>\n",
       "      <td>0</td>\n",
       "      <td>0</td>\n",
       "      <td>0</td>\n",
       "      <td>0</td>\n",
       "      <td>0</td>\n",
       "      <td>0</td>\n",
       "      <td>0</td>\n",
       "      <td>0</td>\n",
       "      <td>...</td>\n",
       "      <td>NaN</td>\n",
       "      <td>109</td>\n",
       "      <td>0.91</td>\n",
       "      <td>120</td>\n",
       "      <td>1</td>\n",
       "      <td>0</td>\n",
       "      <td>0</td>\n",
       "      <td>0</td>\n",
       "      <td>0</td>\n",
       "      <td>1</td>\n",
       "    </tr>\n",
       "    <tr>\n",
       "      <th>3</th>\n",
       "      <td>70</td>\n",
       "      <td>0.0</td>\n",
       "      <td>1</td>\n",
       "      <td>0</td>\n",
       "      <td>0</td>\n",
       "      <td>0</td>\n",
       "      <td>0</td>\n",
       "      <td>0</td>\n",
       "      <td>0</td>\n",
       "      <td>0</td>\n",
       "      <td>...</td>\n",
       "      <td>1.9</td>\n",
       "      <td>175</td>\n",
       "      <td>NaN</td>\n",
       "      <td>NaN</td>\n",
       "      <td>1</td>\n",
       "      <td>0</td>\n",
       "      <td>0</td>\n",
       "      <td>0</td>\n",
       "      <td>0</td>\n",
       "      <td>1</td>\n",
       "    </tr>\n",
       "    <tr>\n",
       "      <th>4</th>\n",
       "      <td>70</td>\n",
       "      <td>0.0</td>\n",
       "      <td>0</td>\n",
       "      <td>0</td>\n",
       "      <td>0</td>\n",
       "      <td>0</td>\n",
       "      <td>0</td>\n",
       "      <td>0</td>\n",
       "      <td>0</td>\n",
       "      <td>0</td>\n",
       "      <td>...</td>\n",
       "      <td>1.2</td>\n",
       "      <td>61</td>\n",
       "      <td>0.87</td>\n",
       "      <td>70</td>\n",
       "      <td>1</td>\n",
       "      <td>0</td>\n",
       "      <td>0</td>\n",
       "      <td>0</td>\n",
       "      <td>1</td>\n",
       "      <td>0</td>\n",
       "    </tr>\n",
       "  </tbody>\n",
       "</table>\n",
       "<p>5 rows × 27 columns</p>\n",
       "</div>"
      ],
      "text/plain": [
       "  age  sex  on_thyroxine  query_on_thyroxine  on_antithyroid_medication  sick  \\\n",
       "0  41  0.0             0                   0                          0     0   \n",
       "1  23  0.0             0                   0                          0     0   \n",
       "2  46  1.0             0                   0                          0     0   \n",
       "3  70  0.0             1                   0                          0     0   \n",
       "4  70  0.0             0                   0                          0     0   \n",
       "\n",
       "   pregnant  thyroid_surgery  I131_treatment  query_hypothyroid  ...   T3  \\\n",
       "0         0                0               0                  0  ...  2.5   \n",
       "1         0                0               0                  0  ...    2   \n",
       "2         0                0               0                  0  ...  NaN   \n",
       "3         0                0               0                  0  ...  1.9   \n",
       "4         0                0               0                  0  ...  1.2   \n",
       "\n",
       "   TT4   T4U  FTI  Class  referral_source_STMW referral_source_SVHC  \\\n",
       "0  125  1.14  109      1                     0                    1   \n",
       "1  102   NaN  NaN      1                     0                    0   \n",
       "2  109  0.91  120      1                     0                    0   \n",
       "3  175   NaN  NaN      1                     0                    0   \n",
       "4   61  0.87   70      1                     0                    0   \n",
       "\n",
       "  referral_source_SVHD referral_source_SVI referral_source_other  \n",
       "0                    0                   0                     0  \n",
       "1                    0                   0                     1  \n",
       "2                    0                   0                     1  \n",
       "3                    0                   0                     1  \n",
       "4                    0                   1                     0  \n",
       "\n",
       "[5 rows x 27 columns]"
      ]
     },
     "execution_count": 23,
     "metadata": {},
     "output_type": "execute_result"
    }
   ],
   "source": [
    "df.head()"
   ]
  },
  {
   "cell_type": "code",
   "execution_count": 24,
   "metadata": {
    "colab": {
     "base_uri": "https://localhost:8080/"
    },
    "id": "20Yd9I-z2Bfi",
    "outputId": "8616a083-bcf2-4a37-e11d-53508aa0e00a"
   },
   "outputs": [
    {
     "data": {
      "text/plain": [
       "1    3481\n",
       "0     194\n",
       "2      95\n",
       "3       2\n",
       "Name: Class, dtype: int64"
      ]
     },
     "execution_count": 24,
     "metadata": {},
     "output_type": "execute_result"
    }
   ],
   "source": [
    "df[\"Class\"].value_counts()"
   ]
  },
  {
   "cell_type": "code",
   "execution_count": 25,
   "metadata": {
    "colab": {
     "base_uri": "https://localhost:8080/",
     "height": 410
    },
    "id": "JRKSRA3U2JXp",
    "outputId": "534a4873-f9c2-4bbf-bdd8-3970acec4f2e"
   },
   "outputs": [
    {
     "data": {
      "text/html": [
       "<div>\n",
       "<style scoped>\n",
       "    .dataframe tbody tr th:only-of-type {\n",
       "        vertical-align: middle;\n",
       "    }\n",
       "\n",
       "    .dataframe tbody tr th {\n",
       "        vertical-align: top;\n",
       "    }\n",
       "\n",
       "    .dataframe thead th {\n",
       "        text-align: right;\n",
       "    }\n",
       "</style>\n",
       "<table border=\"1\" class=\"dataframe\">\n",
       "  <thead>\n",
       "    <tr style=\"text-align: right;\">\n",
       "      <th></th>\n",
       "      <th>age</th>\n",
       "      <th>sex</th>\n",
       "      <th>on_thyroxine</th>\n",
       "      <th>query_on_thyroxine</th>\n",
       "      <th>on_antithyroid_medication</th>\n",
       "      <th>sick</th>\n",
       "      <th>pregnant</th>\n",
       "      <th>thyroid_surgery</th>\n",
       "      <th>I131_treatment</th>\n",
       "      <th>query_hypothyroid</th>\n",
       "      <th>...</th>\n",
       "      <th>T3</th>\n",
       "      <th>TT4</th>\n",
       "      <th>T4U</th>\n",
       "      <th>FTI</th>\n",
       "      <th>Class</th>\n",
       "      <th>referral_source_STMW</th>\n",
       "      <th>referral_source_SVHC</th>\n",
       "      <th>referral_source_SVHD</th>\n",
       "      <th>referral_source_SVI</th>\n",
       "      <th>referral_source_other</th>\n",
       "    </tr>\n",
       "  </thead>\n",
       "  <tbody>\n",
       "    <tr>\n",
       "      <th>count</th>\n",
       "      <td>3771</td>\n",
       "      <td>3622.000000</td>\n",
       "      <td>3772.000000</td>\n",
       "      <td>3772.000000</td>\n",
       "      <td>3772.000000</td>\n",
       "      <td>3772.000000</td>\n",
       "      <td>3772.000000</td>\n",
       "      <td>3772.000000</td>\n",
       "      <td>3772.000000</td>\n",
       "      <td>3772.000000</td>\n",
       "      <td>...</td>\n",
       "      <td>3003</td>\n",
       "      <td>3541</td>\n",
       "      <td>3385</td>\n",
       "      <td>3387</td>\n",
       "      <td>3772.000000</td>\n",
       "      <td>3772.000000</td>\n",
       "      <td>3772.000000</td>\n",
       "      <td>3772.000000</td>\n",
       "      <td>3772.000000</td>\n",
       "      <td>3772.000000</td>\n",
       "    </tr>\n",
       "    <tr>\n",
       "      <th>unique</th>\n",
       "      <td>93</td>\n",
       "      <td>NaN</td>\n",
       "      <td>NaN</td>\n",
       "      <td>NaN</td>\n",
       "      <td>NaN</td>\n",
       "      <td>NaN</td>\n",
       "      <td>NaN</td>\n",
       "      <td>NaN</td>\n",
       "      <td>NaN</td>\n",
       "      <td>NaN</td>\n",
       "      <td>...</td>\n",
       "      <td>69</td>\n",
       "      <td>241</td>\n",
       "      <td>146</td>\n",
       "      <td>234</td>\n",
       "      <td>NaN</td>\n",
       "      <td>NaN</td>\n",
       "      <td>NaN</td>\n",
       "      <td>NaN</td>\n",
       "      <td>NaN</td>\n",
       "      <td>NaN</td>\n",
       "    </tr>\n",
       "    <tr>\n",
       "      <th>top</th>\n",
       "      <td>59</td>\n",
       "      <td>NaN</td>\n",
       "      <td>NaN</td>\n",
       "      <td>NaN</td>\n",
       "      <td>NaN</td>\n",
       "      <td>NaN</td>\n",
       "      <td>NaN</td>\n",
       "      <td>NaN</td>\n",
       "      <td>NaN</td>\n",
       "      <td>NaN</td>\n",
       "      <td>...</td>\n",
       "      <td>2</td>\n",
       "      <td>101</td>\n",
       "      <td>0.99</td>\n",
       "      <td>100</td>\n",
       "      <td>NaN</td>\n",
       "      <td>NaN</td>\n",
       "      <td>NaN</td>\n",
       "      <td>NaN</td>\n",
       "      <td>NaN</td>\n",
       "      <td>NaN</td>\n",
       "    </tr>\n",
       "    <tr>\n",
       "      <th>freq</th>\n",
       "      <td>95</td>\n",
       "      <td>NaN</td>\n",
       "      <td>NaN</td>\n",
       "      <td>NaN</td>\n",
       "      <td>NaN</td>\n",
       "      <td>NaN</td>\n",
       "      <td>NaN</td>\n",
       "      <td>NaN</td>\n",
       "      <td>NaN</td>\n",
       "      <td>NaN</td>\n",
       "      <td>...</td>\n",
       "      <td>238</td>\n",
       "      <td>71</td>\n",
       "      <td>95</td>\n",
       "      <td>73</td>\n",
       "      <td>NaN</td>\n",
       "      <td>NaN</td>\n",
       "      <td>NaN</td>\n",
       "      <td>NaN</td>\n",
       "      <td>NaN</td>\n",
       "      <td>NaN</td>\n",
       "    </tr>\n",
       "    <tr>\n",
       "      <th>mean</th>\n",
       "      <td>NaN</td>\n",
       "      <td>0.315295</td>\n",
       "      <td>0.123012</td>\n",
       "      <td>0.013256</td>\n",
       "      <td>0.011400</td>\n",
       "      <td>0.038971</td>\n",
       "      <td>0.014051</td>\n",
       "      <td>0.014051</td>\n",
       "      <td>0.015642</td>\n",
       "      <td>0.062036</td>\n",
       "      <td>...</td>\n",
       "      <td>NaN</td>\n",
       "      <td>NaN</td>\n",
       "      <td>NaN</td>\n",
       "      <td>NaN</td>\n",
       "      <td>0.974814</td>\n",
       "      <td>0.029692</td>\n",
       "      <td>0.102333</td>\n",
       "      <td>0.010339</td>\n",
       "      <td>0.274125</td>\n",
       "      <td>0.583510</td>\n",
       "    </tr>\n",
       "    <tr>\n",
       "      <th>std</th>\n",
       "      <td>NaN</td>\n",
       "      <td>0.464698</td>\n",
       "      <td>0.328494</td>\n",
       "      <td>0.114382</td>\n",
       "      <td>0.106174</td>\n",
       "      <td>0.193552</td>\n",
       "      <td>0.117716</td>\n",
       "      <td>0.117716</td>\n",
       "      <td>0.124101</td>\n",
       "      <td>0.241253</td>\n",
       "      <td>...</td>\n",
       "      <td>NaN</td>\n",
       "      <td>NaN</td>\n",
       "      <td>NaN</td>\n",
       "      <td>NaN</td>\n",
       "      <td>0.279508</td>\n",
       "      <td>0.169760</td>\n",
       "      <td>0.303126</td>\n",
       "      <td>0.101169</td>\n",
       "      <td>0.446131</td>\n",
       "      <td>0.493042</td>\n",
       "    </tr>\n",
       "    <tr>\n",
       "      <th>min</th>\n",
       "      <td>NaN</td>\n",
       "      <td>0.000000</td>\n",
       "      <td>0.000000</td>\n",
       "      <td>0.000000</td>\n",
       "      <td>0.000000</td>\n",
       "      <td>0.000000</td>\n",
       "      <td>0.000000</td>\n",
       "      <td>0.000000</td>\n",
       "      <td>0.000000</td>\n",
       "      <td>0.000000</td>\n",
       "      <td>...</td>\n",
       "      <td>NaN</td>\n",
       "      <td>NaN</td>\n",
       "      <td>NaN</td>\n",
       "      <td>NaN</td>\n",
       "      <td>0.000000</td>\n",
       "      <td>0.000000</td>\n",
       "      <td>0.000000</td>\n",
       "      <td>0.000000</td>\n",
       "      <td>0.000000</td>\n",
       "      <td>0.000000</td>\n",
       "    </tr>\n",
       "    <tr>\n",
       "      <th>25%</th>\n",
       "      <td>NaN</td>\n",
       "      <td>0.000000</td>\n",
       "      <td>0.000000</td>\n",
       "      <td>0.000000</td>\n",
       "      <td>0.000000</td>\n",
       "      <td>0.000000</td>\n",
       "      <td>0.000000</td>\n",
       "      <td>0.000000</td>\n",
       "      <td>0.000000</td>\n",
       "      <td>0.000000</td>\n",
       "      <td>...</td>\n",
       "      <td>NaN</td>\n",
       "      <td>NaN</td>\n",
       "      <td>NaN</td>\n",
       "      <td>NaN</td>\n",
       "      <td>1.000000</td>\n",
       "      <td>0.000000</td>\n",
       "      <td>0.000000</td>\n",
       "      <td>0.000000</td>\n",
       "      <td>0.000000</td>\n",
       "      <td>0.000000</td>\n",
       "    </tr>\n",
       "    <tr>\n",
       "      <th>50%</th>\n",
       "      <td>NaN</td>\n",
       "      <td>0.000000</td>\n",
       "      <td>0.000000</td>\n",
       "      <td>0.000000</td>\n",
       "      <td>0.000000</td>\n",
       "      <td>0.000000</td>\n",
       "      <td>0.000000</td>\n",
       "      <td>0.000000</td>\n",
       "      <td>0.000000</td>\n",
       "      <td>0.000000</td>\n",
       "      <td>...</td>\n",
       "      <td>NaN</td>\n",
       "      <td>NaN</td>\n",
       "      <td>NaN</td>\n",
       "      <td>NaN</td>\n",
       "      <td>1.000000</td>\n",
       "      <td>0.000000</td>\n",
       "      <td>0.000000</td>\n",
       "      <td>0.000000</td>\n",
       "      <td>0.000000</td>\n",
       "      <td>1.000000</td>\n",
       "    </tr>\n",
       "    <tr>\n",
       "      <th>75%</th>\n",
       "      <td>NaN</td>\n",
       "      <td>1.000000</td>\n",
       "      <td>0.000000</td>\n",
       "      <td>0.000000</td>\n",
       "      <td>0.000000</td>\n",
       "      <td>0.000000</td>\n",
       "      <td>0.000000</td>\n",
       "      <td>0.000000</td>\n",
       "      <td>0.000000</td>\n",
       "      <td>0.000000</td>\n",
       "      <td>...</td>\n",
       "      <td>NaN</td>\n",
       "      <td>NaN</td>\n",
       "      <td>NaN</td>\n",
       "      <td>NaN</td>\n",
       "      <td>1.000000</td>\n",
       "      <td>0.000000</td>\n",
       "      <td>0.000000</td>\n",
       "      <td>0.000000</td>\n",
       "      <td>1.000000</td>\n",
       "      <td>1.000000</td>\n",
       "    </tr>\n",
       "    <tr>\n",
       "      <th>max</th>\n",
       "      <td>NaN</td>\n",
       "      <td>1.000000</td>\n",
       "      <td>1.000000</td>\n",
       "      <td>1.000000</td>\n",
       "      <td>1.000000</td>\n",
       "      <td>1.000000</td>\n",
       "      <td>1.000000</td>\n",
       "      <td>1.000000</td>\n",
       "      <td>1.000000</td>\n",
       "      <td>1.000000</td>\n",
       "      <td>...</td>\n",
       "      <td>NaN</td>\n",
       "      <td>NaN</td>\n",
       "      <td>NaN</td>\n",
       "      <td>NaN</td>\n",
       "      <td>3.000000</td>\n",
       "      <td>1.000000</td>\n",
       "      <td>1.000000</td>\n",
       "      <td>1.000000</td>\n",
       "      <td>1.000000</td>\n",
       "      <td>1.000000</td>\n",
       "    </tr>\n",
       "  </tbody>\n",
       "</table>\n",
       "<p>11 rows × 27 columns</p>\n",
       "</div>"
      ],
      "text/plain": [
       "         age          sex  on_thyroxine  query_on_thyroxine  \\\n",
       "count   3771  3622.000000   3772.000000         3772.000000   \n",
       "unique    93          NaN           NaN                 NaN   \n",
       "top       59          NaN           NaN                 NaN   \n",
       "freq      95          NaN           NaN                 NaN   \n",
       "mean     NaN     0.315295      0.123012            0.013256   \n",
       "std      NaN     0.464698      0.328494            0.114382   \n",
       "min      NaN     0.000000      0.000000            0.000000   \n",
       "25%      NaN     0.000000      0.000000            0.000000   \n",
       "50%      NaN     0.000000      0.000000            0.000000   \n",
       "75%      NaN     1.000000      0.000000            0.000000   \n",
       "max      NaN     1.000000      1.000000            1.000000   \n",
       "\n",
       "        on_antithyroid_medication         sick     pregnant  thyroid_surgery  \\\n",
       "count                 3772.000000  3772.000000  3772.000000      3772.000000   \n",
       "unique                        NaN          NaN          NaN              NaN   \n",
       "top                           NaN          NaN          NaN              NaN   \n",
       "freq                          NaN          NaN          NaN              NaN   \n",
       "mean                     0.011400     0.038971     0.014051         0.014051   \n",
       "std                      0.106174     0.193552     0.117716         0.117716   \n",
       "min                      0.000000     0.000000     0.000000         0.000000   \n",
       "25%                      0.000000     0.000000     0.000000         0.000000   \n",
       "50%                      0.000000     0.000000     0.000000         0.000000   \n",
       "75%                      0.000000     0.000000     0.000000         0.000000   \n",
       "max                      1.000000     1.000000     1.000000         1.000000   \n",
       "\n",
       "        I131_treatment  query_hypothyroid  ...    T3   TT4   T4U   FTI  \\\n",
       "count      3772.000000        3772.000000  ...  3003  3541  3385  3387   \n",
       "unique             NaN                NaN  ...    69   241   146   234   \n",
       "top                NaN                NaN  ...     2   101  0.99   100   \n",
       "freq               NaN                NaN  ...   238    71    95    73   \n",
       "mean          0.015642           0.062036  ...   NaN   NaN   NaN   NaN   \n",
       "std           0.124101           0.241253  ...   NaN   NaN   NaN   NaN   \n",
       "min           0.000000           0.000000  ...   NaN   NaN   NaN   NaN   \n",
       "25%           0.000000           0.000000  ...   NaN   NaN   NaN   NaN   \n",
       "50%           0.000000           0.000000  ...   NaN   NaN   NaN   NaN   \n",
       "75%           0.000000           0.000000  ...   NaN   NaN   NaN   NaN   \n",
       "max           1.000000           1.000000  ...   NaN   NaN   NaN   NaN   \n",
       "\n",
       "              Class  referral_source_STMW referral_source_SVHC  \\\n",
       "count   3772.000000           3772.000000          3772.000000   \n",
       "unique          NaN                   NaN                  NaN   \n",
       "top             NaN                   NaN                  NaN   \n",
       "freq            NaN                   NaN                  NaN   \n",
       "mean       0.974814              0.029692             0.102333   \n",
       "std        0.279508              0.169760             0.303126   \n",
       "min        0.000000              0.000000             0.000000   \n",
       "25%        1.000000              0.000000             0.000000   \n",
       "50%        1.000000              0.000000             0.000000   \n",
       "75%        1.000000              0.000000             0.000000   \n",
       "max        3.000000              1.000000             1.000000   \n",
       "\n",
       "       referral_source_SVHD referral_source_SVI referral_source_other  \n",
       "count           3772.000000         3772.000000           3772.000000  \n",
       "unique                  NaN                 NaN                   NaN  \n",
       "top                     NaN                 NaN                   NaN  \n",
       "freq                    NaN                 NaN                   NaN  \n",
       "mean               0.010339            0.274125              0.583510  \n",
       "std                0.101169            0.446131              0.493042  \n",
       "min                0.000000            0.000000              0.000000  \n",
       "25%                0.000000            0.000000              0.000000  \n",
       "50%                0.000000            0.000000              1.000000  \n",
       "75%                0.000000            1.000000              1.000000  \n",
       "max                1.000000            1.000000              1.000000  \n",
       "\n",
       "[11 rows x 27 columns]"
      ]
     },
     "execution_count": 25,
     "metadata": {},
     "output_type": "execute_result"
    }
   ],
   "source": [
    "df.describe(include = \"all\")"
   ]
  },
  {
   "cell_type": "markdown",
   "metadata": {
    "id": "cbAL5Jf4Q4Xs"
   },
   "source": [
    "Now that we have encoded all our Categorical values. Let's start with imputing the missing values."
   ]
  },
  {
   "cell_type": "code",
   "execution_count": 26,
   "metadata": {
    "id": "zxFLAN44-oTJ"
   },
   "outputs": [],
   "source": [
    "imputer=sklearn.impute.KNNImputer(n_neighbors=3, weights='uniform',missing_values=np.nan)\n",
    "new_array=imputer.fit_transform(df) # impute the missing values\n",
    "# convert the nd-array returned in the step above to a Dataframe\n",
    "new_df=pd.DataFrame(data=np.round(new_array), columns=df.columns)"
   ]
  },
  {
   "cell_type": "code",
   "execution_count": 27,
   "metadata": {
    "colab": {
     "base_uri": "https://localhost:8080/",
     "height": 224
    },
    "id": "CQzvD5vLSnVZ",
    "outputId": "b9948cb7-b459-47c5-a3bc-fdcfa2f0acf4"
   },
   "outputs": [
    {
     "data": {
      "text/html": [
       "<div>\n",
       "<style scoped>\n",
       "    .dataframe tbody tr th:only-of-type {\n",
       "        vertical-align: middle;\n",
       "    }\n",
       "\n",
       "    .dataframe tbody tr th {\n",
       "        vertical-align: top;\n",
       "    }\n",
       "\n",
       "    .dataframe thead th {\n",
       "        text-align: right;\n",
       "    }\n",
       "</style>\n",
       "<table border=\"1\" class=\"dataframe\">\n",
       "  <thead>\n",
       "    <tr style=\"text-align: right;\">\n",
       "      <th></th>\n",
       "      <th>age</th>\n",
       "      <th>sex</th>\n",
       "      <th>on_thyroxine</th>\n",
       "      <th>query_on_thyroxine</th>\n",
       "      <th>on_antithyroid_medication</th>\n",
       "      <th>sick</th>\n",
       "      <th>pregnant</th>\n",
       "      <th>thyroid_surgery</th>\n",
       "      <th>I131_treatment</th>\n",
       "      <th>query_hypothyroid</th>\n",
       "      <th>...</th>\n",
       "      <th>T3</th>\n",
       "      <th>TT4</th>\n",
       "      <th>T4U</th>\n",
       "      <th>FTI</th>\n",
       "      <th>Class</th>\n",
       "      <th>referral_source_STMW</th>\n",
       "      <th>referral_source_SVHC</th>\n",
       "      <th>referral_source_SVHD</th>\n",
       "      <th>referral_source_SVI</th>\n",
       "      <th>referral_source_other</th>\n",
       "    </tr>\n",
       "  </thead>\n",
       "  <tbody>\n",
       "    <tr>\n",
       "      <th>0</th>\n",
       "      <td>41.0</td>\n",
       "      <td>0.0</td>\n",
       "      <td>0.0</td>\n",
       "      <td>0.0</td>\n",
       "      <td>0.0</td>\n",
       "      <td>0.0</td>\n",
       "      <td>0.0</td>\n",
       "      <td>0.0</td>\n",
       "      <td>0.0</td>\n",
       "      <td>0.0</td>\n",
       "      <td>...</td>\n",
       "      <td>2.0</td>\n",
       "      <td>125.0</td>\n",
       "      <td>1.0</td>\n",
       "      <td>109.0</td>\n",
       "      <td>1.0</td>\n",
       "      <td>0.0</td>\n",
       "      <td>1.0</td>\n",
       "      <td>0.0</td>\n",
       "      <td>0.0</td>\n",
       "      <td>0.0</td>\n",
       "    </tr>\n",
       "    <tr>\n",
       "      <th>1</th>\n",
       "      <td>23.0</td>\n",
       "      <td>0.0</td>\n",
       "      <td>0.0</td>\n",
       "      <td>0.0</td>\n",
       "      <td>0.0</td>\n",
       "      <td>0.0</td>\n",
       "      <td>0.0</td>\n",
       "      <td>0.0</td>\n",
       "      <td>0.0</td>\n",
       "      <td>0.0</td>\n",
       "      <td>...</td>\n",
       "      <td>2.0</td>\n",
       "      <td>102.0</td>\n",
       "      <td>1.0</td>\n",
       "      <td>108.0</td>\n",
       "      <td>1.0</td>\n",
       "      <td>0.0</td>\n",
       "      <td>0.0</td>\n",
       "      <td>0.0</td>\n",
       "      <td>0.0</td>\n",
       "      <td>1.0</td>\n",
       "    </tr>\n",
       "    <tr>\n",
       "      <th>2</th>\n",
       "      <td>46.0</td>\n",
       "      <td>1.0</td>\n",
       "      <td>0.0</td>\n",
       "      <td>0.0</td>\n",
       "      <td>0.0</td>\n",
       "      <td>0.0</td>\n",
       "      <td>0.0</td>\n",
       "      <td>0.0</td>\n",
       "      <td>0.0</td>\n",
       "      <td>0.0</td>\n",
       "      <td>...</td>\n",
       "      <td>2.0</td>\n",
       "      <td>109.0</td>\n",
       "      <td>1.0</td>\n",
       "      <td>120.0</td>\n",
       "      <td>1.0</td>\n",
       "      <td>0.0</td>\n",
       "      <td>0.0</td>\n",
       "      <td>0.0</td>\n",
       "      <td>0.0</td>\n",
       "      <td>1.0</td>\n",
       "    </tr>\n",
       "    <tr>\n",
       "      <th>3</th>\n",
       "      <td>70.0</td>\n",
       "      <td>0.0</td>\n",
       "      <td>1.0</td>\n",
       "      <td>0.0</td>\n",
       "      <td>0.0</td>\n",
       "      <td>0.0</td>\n",
       "      <td>0.0</td>\n",
       "      <td>0.0</td>\n",
       "      <td>0.0</td>\n",
       "      <td>0.0</td>\n",
       "      <td>...</td>\n",
       "      <td>2.0</td>\n",
       "      <td>175.0</td>\n",
       "      <td>1.0</td>\n",
       "      <td>177.0</td>\n",
       "      <td>1.0</td>\n",
       "      <td>0.0</td>\n",
       "      <td>0.0</td>\n",
       "      <td>0.0</td>\n",
       "      <td>0.0</td>\n",
       "      <td>1.0</td>\n",
       "    </tr>\n",
       "    <tr>\n",
       "      <th>4</th>\n",
       "      <td>70.0</td>\n",
       "      <td>0.0</td>\n",
       "      <td>0.0</td>\n",
       "      <td>0.0</td>\n",
       "      <td>0.0</td>\n",
       "      <td>0.0</td>\n",
       "      <td>0.0</td>\n",
       "      <td>0.0</td>\n",
       "      <td>0.0</td>\n",
       "      <td>0.0</td>\n",
       "      <td>...</td>\n",
       "      <td>1.0</td>\n",
       "      <td>61.0</td>\n",
       "      <td>1.0</td>\n",
       "      <td>70.0</td>\n",
       "      <td>1.0</td>\n",
       "      <td>0.0</td>\n",
       "      <td>0.0</td>\n",
       "      <td>0.0</td>\n",
       "      <td>1.0</td>\n",
       "      <td>0.0</td>\n",
       "    </tr>\n",
       "  </tbody>\n",
       "</table>\n",
       "<p>5 rows × 27 columns</p>\n",
       "</div>"
      ],
      "text/plain": [
       "    age  sex  on_thyroxine  query_on_thyroxine  on_antithyroid_medication  \\\n",
       "0  41.0  0.0           0.0                 0.0                        0.0   \n",
       "1  23.0  0.0           0.0                 0.0                        0.0   \n",
       "2  46.0  1.0           0.0                 0.0                        0.0   \n",
       "3  70.0  0.0           1.0                 0.0                        0.0   \n",
       "4  70.0  0.0           0.0                 0.0                        0.0   \n",
       "\n",
       "   sick  pregnant  thyroid_surgery  I131_treatment  query_hypothyroid  ...  \\\n",
       "0   0.0       0.0              0.0             0.0                0.0  ...   \n",
       "1   0.0       0.0              0.0             0.0                0.0  ...   \n",
       "2   0.0       0.0              0.0             0.0                0.0  ...   \n",
       "3   0.0       0.0              0.0             0.0                0.0  ...   \n",
       "4   0.0       0.0              0.0             0.0                0.0  ...   \n",
       "\n",
       "    T3    TT4  T4U    FTI  Class  referral_source_STMW  referral_source_SVHC  \\\n",
       "0  2.0  125.0  1.0  109.0    1.0                   0.0                   1.0   \n",
       "1  2.0  102.0  1.0  108.0    1.0                   0.0                   0.0   \n",
       "2  2.0  109.0  1.0  120.0    1.0                   0.0                   0.0   \n",
       "3  2.0  175.0  1.0  177.0    1.0                   0.0                   0.0   \n",
       "4  1.0   61.0  1.0   70.0    1.0                   0.0                   0.0   \n",
       "\n",
       "   referral_source_SVHD  referral_source_SVI  referral_source_other  \n",
       "0                   0.0                  0.0                    0.0  \n",
       "1                   0.0                  0.0                    1.0  \n",
       "2                   0.0                  0.0                    1.0  \n",
       "3                   0.0                  0.0                    1.0  \n",
       "4                   0.0                  1.0                    0.0  \n",
       "\n",
       "[5 rows x 27 columns]"
      ]
     },
     "execution_count": 27,
     "metadata": {},
     "output_type": "execute_result"
    }
   ],
   "source": [
    "new_df.head()"
   ]
  },
  {
   "cell_type": "code",
   "execution_count": 28,
   "metadata": {
    "colab": {
     "base_uri": "https://localhost:8080/"
    },
    "id": "hQZ3B99kzXit",
    "outputId": "f9e89bc4-da0d-4498-ee05-fe1bb33634fe",
    "scrolled": true
   },
   "outputs": [
    {
     "data": {
      "text/plain": [
       "age                          0\n",
       "sex                          0\n",
       "on_thyroxine                 0\n",
       "query_on_thyroxine           0\n",
       "on_antithyroid_medication    0\n",
       "sick                         0\n",
       "pregnant                     0\n",
       "thyroid_surgery              0\n",
       "I131_treatment               0\n",
       "query_hypothyroid            0\n",
       "query_hyperthyroid           0\n",
       "lithium                      0\n",
       "goitre                       0\n",
       "tumor                        0\n",
       "hypopituitary                0\n",
       "psych                        0\n",
       "TSH                          0\n",
       "T3                           0\n",
       "TT4                          0\n",
       "T4U                          0\n",
       "FTI                          0\n",
       "Class                        0\n",
       "referral_source_STMW         0\n",
       "referral_source_SVHC         0\n",
       "referral_source_SVHD         0\n",
       "referral_source_SVI          0\n",
       "referral_source_other        0\n",
       "dtype: int64"
      ]
     },
     "execution_count": 28,
     "metadata": {},
     "output_type": "execute_result"
    }
   ],
   "source": [
    "new_df.isnull().sum()"
   ]
  },
  {
   "cell_type": "markdown",
   "metadata": {
    "id": "AmDc23GL6Ml8"
   },
   "source": [
    "Now there are no missing values in our new dataset."
   ]
  },
  {
   "cell_type": "markdown",
   "metadata": {
    "id": "xdM8Z2PQ6UJq"
   },
   "source": [
    "Let's check the distribution for our continous data in the dataset:"
   ]
  },
  {
   "cell_type": "code",
   "execution_count": 31,
   "metadata": {
    "colab": {
     "base_uri": "https://localhost:8080/",
     "height": 1000
    },
    "id": "nKtwkbq7zaqk",
    "outputId": "dbe11e67-fbfb-4dc7-f68d-372f4f1a8d32"
   },
   "outputs": [
    {
     "data": {
      "image/png": "[encoded data removed]",
      "text/plain": [
       "<Figure size 1000x1500 with 6 Axes>"
      ]
     },
     "metadata": {},
     "output_type": "display_data"
    }
   ],
   "source": [
    "columns = ['age', 'TSH', 'T3', 'TT4', 'T4U', 'FTI']\n",
    "\n",
    "plt.figure(figsize=(10,15), facecolor='white')\n",
    "plotnumber = 1\n",
    "\n",
    "for column in columns:\n",
    "    ax = plt.subplot(3,2,plotnumber)\n",
    "    sns.histplot(new_df[column])\n",
    "    plt.xlabel(column,fontsize=10)\n",
    "    plotnumber += 1\n",
    "plt.show()"
   ]
  },
  {
   "cell_type": "markdown",
   "metadata": {
    "id": "BevQrfoh7pMh"
   },
   "source": [
    "Let's do some transformations to the data and see if it improves the plot.\n",
    "\n",
    "Before doing log transformation , let's add 1 to each valuue in the column to handle exception when we try to find log of '0'."
   ]
  },
  {
   "cell_type": "code",
   "execution_count": 34,
   "metadata": {
    "colab": {
     "base_uri": "https://localhost:8080/",
     "height": 1000
    },
    "id": "wuRLpFpa6e2s",
    "outputId": "c306614a-c24c-4213-f27a-ae0ffaf54a2f"
   },
   "outputs": [
    {
     "data": {
      "image/png": "[encoded data removed]",
      "text/plain": [
       "<Figure size 1000x1500 with 6 Axes>"
      ]
     },
     "metadata": {},
     "output_type": "display_data"
    }
   ],
   "source": [
    "columns = ['age','TSH','T3','TT4','T4U','FTI']\n",
    "\n",
    "plt.figure(figsize=(10,15),facecolor='white')\n",
    "plotnumber = 1\n",
    "\n",
    "for column in columns:\n",
    "    new_df[column]+=1\n",
    "    ax = plt.subplot(3,2,plotnumber)\n",
    "    sns.histplot(np.log(new_df[column]))\n",
    "    plt.xlabel(column,fontsize=10)\n",
    "    plotnumber+=1\n",
    "plt.show()"
   ]
  },
  {
   "cell_type": "markdown",
   "metadata": {
    "id": "WKurjeh29uIk"
   },
   "source": [
    "After log transformation, rest of the columns look fine but 'TSH' has a weird trend.\n",
    "\n",
    "It won't give much of information so let's drop this column."
   ]
  },
  {
   "cell_type": "code",
   "execution_count": 35,
   "metadata": {
    "id": "vs9Ct6qx8ubj"
   },
   "outputs": [],
   "source": [
    "new_df = new_df.drop(['TSH'],axis=1)"
   ]
  },
  {
   "cell_type": "markdown",
   "metadata": {
    "id": "3y8bthOZ-8r6"
   },
   "source": [
    "let's see how balanced our dataset in terms of given target classes:"
   ]
  },
  {
   "cell_type": "code",
   "execution_count": 36,
   "metadata": {
    "colab": {
     "base_uri": "https://localhost:8080/",
     "height": 339
    },
    "id": "BRvh-faV-_aH",
    "outputId": "fa75b273-bd20-4fef-a420-74443f519230"
   },
   "outputs": [
    {
     "data": {
      "image/png": "[encoded data removed]",
      "text/plain": [
       "<Figure size 640x480 with 1 Axes>"
      ]
     },
     "metadata": {},
     "output_type": "display_data"
    }
   ],
   "source": [
    "# let's see how data is distributed for every column for every individual id\n",
    "# the graph plot below is for individual ids. Press 1 in the  input box below the graph to continue viewing graph for each id!!\n",
    "\n",
    "# plt.figure(figsize=(20,25), facecolor='white')\n",
    "# plotnumber = 1\n",
    "# plt_data = df.drop(['age'], axis =1)\n",
    "\n",
    "# for column in plt_data:\n",
    "#     ax = plt.subplot(6,5,plotnumber)\n",
    "#     sns.countplot(plt_data[column])\n",
    "#     plt.xlabel(column,fontsize=10)\n",
    "#     plotnumber+=1\n",
    "# plt.show()\n",
    "\n",
    "\n",
    "sns.countplot(new_df['Class'])\n",
    "plt.show()"
   ]
  },
  {
   "cell_type": "markdown",
   "metadata": {
    "id": "vvxH7hOHAMmv"
   },
   "source": [
    "We can clerly see that the dataset is highly imbalanced.\n",
    "\n",
    "We will use a python library known as imbalanced-learn to deal with imbalanced data. Imbalanced learn has an algorithm called RandomOverSampler."
   ]
  },
  {
   "cell_type": "code",
   "execution_count": 39,
   "metadata": {
    "colab": {
     "base_uri": "https://localhost:8080/"
    },
    "id": "dtaTqKTc_rMv",
    "outputId": "6a6a6019-a3e7-4af7-b221-1c6c71de136f"
   },
   "outputs": [],
   "source": [
    "x = new_df.drop(['Class'],axis=1)\n",
    "y = new_df['Class']\n",
    "rdsmple = RandomOverSampler()\n",
    "x_sampled,y_sampled  = rdsmple.fit_resample(x,y)"
   ]
  },
  {
   "cell_type": "code",
   "execution_count": 40,
   "metadata": {
    "colab": {
     "base_uri": "https://localhost:8080/"
    },
    "id": "zJL6qtIwC_Sq",
    "outputId": "818a90af-4d67-47da-9010-36203ac8a1d1"
   },
   "outputs": [
    {
     "data": {
      "text/plain": [
       "(13924, 25)"
      ]
     },
     "execution_count": 40,
     "metadata": {},
     "output_type": "execute_result"
    }
   ],
   "source": [
    "x_sampled.shape"
   ]
  },
  {
   "cell_type": "code",
   "execution_count": 41,
   "metadata": {
    "colab": {
     "base_uri": "https://localhost:8080/",
     "height": 224
    },
    "id": "FhxtwbWGDHPv",
    "outputId": "66b5cba6-b596-4fc5-825f-3ff5158e96af"
   },
   "outputs": [
    {
     "data": {
      "text/html": [
       "<div>\n",
       "<style scoped>\n",
       "    .dataframe tbody tr th:only-of-type {\n",
       "        vertical-align: middle;\n",
       "    }\n",
       "\n",
       "    .dataframe tbody tr th {\n",
       "        vertical-align: top;\n",
       "    }\n",
       "\n",
       "    .dataframe thead th {\n",
       "        text-align: right;\n",
       "    }\n",
       "</style>\n",
       "<table border=\"1\" class=\"dataframe\">\n",
       "  <thead>\n",
       "    <tr style=\"text-align: right;\">\n",
       "      <th></th>\n",
       "      <th>age</th>\n",
       "      <th>sex</th>\n",
       "      <th>on_thyroxine</th>\n",
       "      <th>query_on_thyroxine</th>\n",
       "      <th>on_antithyroid_medication</th>\n",
       "      <th>sick</th>\n",
       "      <th>pregnant</th>\n",
       "      <th>thyroid_surgery</th>\n",
       "      <th>I131_treatment</th>\n",
       "      <th>query_hypothyroid</th>\n",
       "      <th>...</th>\n",
       "      <th>psych</th>\n",
       "      <th>T3</th>\n",
       "      <th>TT4</th>\n",
       "      <th>T4U</th>\n",
       "      <th>FTI</th>\n",
       "      <th>referral_source_STMW</th>\n",
       "      <th>referral_source_SVHC</th>\n",
       "      <th>referral_source_SVHD</th>\n",
       "      <th>referral_source_SVI</th>\n",
       "      <th>referral_source_other</th>\n",
       "    </tr>\n",
       "  </thead>\n",
       "  <tbody>\n",
       "    <tr>\n",
       "      <th>0</th>\n",
       "      <td>44.0</td>\n",
       "      <td>0.0</td>\n",
       "      <td>0.0</td>\n",
       "      <td>0.0</td>\n",
       "      <td>0.0</td>\n",
       "      <td>0.0</td>\n",
       "      <td>0.0</td>\n",
       "      <td>0.0</td>\n",
       "      <td>0.0</td>\n",
       "      <td>0.0</td>\n",
       "      <td>...</td>\n",
       "      <td>0.0</td>\n",
       "      <td>5.0</td>\n",
       "      <td>128.0</td>\n",
       "      <td>4.0</td>\n",
       "      <td>112.0</td>\n",
       "      <td>0.0</td>\n",
       "      <td>1.0</td>\n",
       "      <td>0.0</td>\n",
       "      <td>0.0</td>\n",
       "      <td>0.0</td>\n",
       "    </tr>\n",
       "    <tr>\n",
       "      <th>1</th>\n",
       "      <td>26.0</td>\n",
       "      <td>0.0</td>\n",
       "      <td>0.0</td>\n",
       "      <td>0.0</td>\n",
       "      <td>0.0</td>\n",
       "      <td>0.0</td>\n",
       "      <td>0.0</td>\n",
       "      <td>0.0</td>\n",
       "      <td>0.0</td>\n",
       "      <td>0.0</td>\n",
       "      <td>...</td>\n",
       "      <td>0.0</td>\n",
       "      <td>5.0</td>\n",
       "      <td>105.0</td>\n",
       "      <td>4.0</td>\n",
       "      <td>111.0</td>\n",
       "      <td>0.0</td>\n",
       "      <td>0.0</td>\n",
       "      <td>0.0</td>\n",
       "      <td>0.0</td>\n",
       "      <td>1.0</td>\n",
       "    </tr>\n",
       "    <tr>\n",
       "      <th>2</th>\n",
       "      <td>49.0</td>\n",
       "      <td>1.0</td>\n",
       "      <td>0.0</td>\n",
       "      <td>0.0</td>\n",
       "      <td>0.0</td>\n",
       "      <td>0.0</td>\n",
       "      <td>0.0</td>\n",
       "      <td>0.0</td>\n",
       "      <td>0.0</td>\n",
       "      <td>0.0</td>\n",
       "      <td>...</td>\n",
       "      <td>0.0</td>\n",
       "      <td>5.0</td>\n",
       "      <td>112.0</td>\n",
       "      <td>4.0</td>\n",
       "      <td>123.0</td>\n",
       "      <td>0.0</td>\n",
       "      <td>0.0</td>\n",
       "      <td>0.0</td>\n",
       "      <td>0.0</td>\n",
       "      <td>1.0</td>\n",
       "    </tr>\n",
       "    <tr>\n",
       "      <th>3</th>\n",
       "      <td>73.0</td>\n",
       "      <td>0.0</td>\n",
       "      <td>1.0</td>\n",
       "      <td>0.0</td>\n",
       "      <td>0.0</td>\n",
       "      <td>0.0</td>\n",
       "      <td>0.0</td>\n",
       "      <td>0.0</td>\n",
       "      <td>0.0</td>\n",
       "      <td>0.0</td>\n",
       "      <td>...</td>\n",
       "      <td>0.0</td>\n",
       "      <td>5.0</td>\n",
       "      <td>178.0</td>\n",
       "      <td>4.0</td>\n",
       "      <td>180.0</td>\n",
       "      <td>0.0</td>\n",
       "      <td>0.0</td>\n",
       "      <td>0.0</td>\n",
       "      <td>0.0</td>\n",
       "      <td>1.0</td>\n",
       "    </tr>\n",
       "    <tr>\n",
       "      <th>4</th>\n",
       "      <td>73.0</td>\n",
       "      <td>0.0</td>\n",
       "      <td>0.0</td>\n",
       "      <td>0.0</td>\n",
       "      <td>0.0</td>\n",
       "      <td>0.0</td>\n",
       "      <td>0.0</td>\n",
       "      <td>0.0</td>\n",
       "      <td>0.0</td>\n",
       "      <td>0.0</td>\n",
       "      <td>...</td>\n",
       "      <td>0.0</td>\n",
       "      <td>4.0</td>\n",
       "      <td>64.0</td>\n",
       "      <td>4.0</td>\n",
       "      <td>73.0</td>\n",
       "      <td>0.0</td>\n",
       "      <td>0.0</td>\n",
       "      <td>0.0</td>\n",
       "      <td>1.0</td>\n",
       "      <td>0.0</td>\n",
       "    </tr>\n",
       "  </tbody>\n",
       "</table>\n",
       "<p>5 rows × 25 columns</p>\n",
       "</div>"
      ],
      "text/plain": [
       "    age  sex  on_thyroxine  query_on_thyroxine  on_antithyroid_medication  \\\n",
       "0  44.0  0.0           0.0                 0.0                        0.0   \n",
       "1  26.0  0.0           0.0                 0.0                        0.0   \n",
       "2  49.0  1.0           0.0                 0.0                        0.0   \n",
       "3  73.0  0.0           1.0                 0.0                        0.0   \n",
       "4  73.0  0.0           0.0                 0.0                        0.0   \n",
       "\n",
       "   sick  pregnant  thyroid_surgery  I131_treatment  query_hypothyroid  ...  \\\n",
       "0   0.0       0.0              0.0             0.0                0.0  ...   \n",
       "1   0.0       0.0              0.0             0.0                0.0  ...   \n",
       "2   0.0       0.0              0.0             0.0                0.0  ...   \n",
       "3   0.0       0.0              0.0             0.0                0.0  ...   \n",
       "4   0.0       0.0              0.0             0.0                0.0  ...   \n",
       "\n",
       "   psych   T3    TT4  T4U    FTI  referral_source_STMW  referral_source_SVHC  \\\n",
       "0    0.0  5.0  128.0  4.0  112.0                   0.0                   1.0   \n",
       "1    0.0  5.0  105.0  4.0  111.0                   0.0                   0.0   \n",
       "2    0.0  5.0  112.0  4.0  123.0                   0.0                   0.0   \n",
       "3    0.0  5.0  178.0  4.0  180.0                   0.0                   0.0   \n",
       "4    0.0  4.0   64.0  4.0   73.0                   0.0                   0.0   \n",
       "\n",
       "   referral_source_SVHD  referral_source_SVI  referral_source_other  \n",
       "0                   0.0                  0.0                    0.0  \n",
       "1                   0.0                  0.0                    1.0  \n",
       "2                   0.0                  0.0                    1.0  \n",
       "3                   0.0                  0.0                    1.0  \n",
       "4                   0.0                  1.0                    0.0  \n",
       "\n",
       "[5 rows x 25 columns]"
      ]
     },
     "execution_count": 41,
     "metadata": {},
     "output_type": "execute_result"
    }
   ],
   "source": [
    "x_sampled = pd.DataFrame(data = x_sampled, columns = x.columns)\n",
    "x_sampled.head()"
   ]
  },
  {
   "cell_type": "code",
   "execution_count": 42,
   "metadata": {
    "colab": {
     "base_uri": "https://localhost:8080/",
     "height": 339
    },
    "id": "aZgfoTwBDL-R",
    "outputId": "556a278e-c50f-4780-d773-bfb3b12cc96b"
   },
   "outputs": [
    {
     "data": {
      "text/plain": [
       "<Axes: ylabel='count'>"
      ]
     },
     "execution_count": 42,
     "metadata": {},
     "output_type": "execute_result"
    },
    {
     "data": {
      "image/png": "[encoded data removed]",
      "text/plain": [
       "<Figure size 640x480 with 1 Axes>"
      ]
     },
     "metadata": {},
     "output_type": "display_data"
    }
   ],
   "source": [
    "sns.countplot(y_sampled)"
   ]
  },
  {
   "cell_type": "markdown",
   "metadata": {
    "id": "Orh93e2aVOkf"
   },
   "source": [
    "# Model *Building*"
   ]
  },
  {
   "cell_type": "code",
   "execution_count": 40,
   "metadata": {},
   "outputs": [
    {
     "name": "stdout",
     "output_type": "stream",
     "text": [
      "Defaulting to user installation because normal site-packages is not writeable\n",
      "Requirement already satisfied: xgboost in /home/nidhiyashwanth/.local/lib/python3.10/site-packages (1.7.5)\n",
      "Requirement already satisfied: numpy in /home/nidhiyashwanth/.local/lib/python3.10/site-packages (from xgboost) (1.23.4)\n",
      "Requirement already satisfied: scipy in /home/nidhiyashwanth/.local/lib/python3.10/site-packages (from xgboost) (1.10.1)\n"
     ]
    }
   ],
   "source": [
    "!pip install xgboost"
   ]
  },
  {
   "cell_type": "code",
   "execution_count": 43,
   "metadata": {
    "id": "hSe5RU5L9t7c"
   },
   "outputs": [],
   "source": [
    "from sklearn.ensemble import RandomForestClassifier\n",
    "from sklearn.model_selection import GridSearchCV\n",
    "from sklearn.metrics  import roc_auc_score,accuracy_score\n",
    "from sklearn.neighbors import KNeighborsClassifier\n",
    "from xgboost import XGBClassifier"
   ]
  },
  {
   "cell_type": "code",
   "execution_count": 44,
   "metadata": {
    "colab": {
     "base_uri": "https://localhost:8080/",
     "height": 224
    },
    "id": "re72TbaNEI8u",
    "outputId": "6f2b6325-bbe6-4312-d1aa-c53227676ec7"
   },
   "outputs": [
    {
     "data": {
      "text/html": [
       "<div>\n",
       "<style scoped>\n",
       "    .dataframe tbody tr th:only-of-type {\n",
       "        vertical-align: middle;\n",
       "    }\n",
       "\n",
       "    .dataframe tbody tr th {\n",
       "        vertical-align: top;\n",
       "    }\n",
       "\n",
       "    .dataframe thead th {\n",
       "        text-align: right;\n",
       "    }\n",
       "</style>\n",
       "<table border=\"1\" class=\"dataframe\">\n",
       "  <thead>\n",
       "    <tr style=\"text-align: right;\">\n",
       "      <th></th>\n",
       "      <th>age</th>\n",
       "      <th>sex</th>\n",
       "      <th>on_thyroxine</th>\n",
       "      <th>query_on_thyroxine</th>\n",
       "      <th>on_antithyroid_medication</th>\n",
       "      <th>sick</th>\n",
       "      <th>pregnant</th>\n",
       "      <th>thyroid_surgery</th>\n",
       "      <th>I131_treatment</th>\n",
       "      <th>query_hypothyroid</th>\n",
       "      <th>...</th>\n",
       "      <th>psych</th>\n",
       "      <th>T3</th>\n",
       "      <th>TT4</th>\n",
       "      <th>T4U</th>\n",
       "      <th>FTI</th>\n",
       "      <th>referral_source_STMW</th>\n",
       "      <th>referral_source_SVHC</th>\n",
       "      <th>referral_source_SVHD</th>\n",
       "      <th>referral_source_SVI</th>\n",
       "      <th>referral_source_other</th>\n",
       "    </tr>\n",
       "  </thead>\n",
       "  <tbody>\n",
       "    <tr>\n",
       "      <th>0</th>\n",
       "      <td>44.0</td>\n",
       "      <td>0.0</td>\n",
       "      <td>0.0</td>\n",
       "      <td>0.0</td>\n",
       "      <td>0.0</td>\n",
       "      <td>0.0</td>\n",
       "      <td>0.0</td>\n",
       "      <td>0.0</td>\n",
       "      <td>0.0</td>\n",
       "      <td>0.0</td>\n",
       "      <td>...</td>\n",
       "      <td>0.0</td>\n",
       "      <td>5.0</td>\n",
       "      <td>128.0</td>\n",
       "      <td>4.0</td>\n",
       "      <td>112.0</td>\n",
       "      <td>0.0</td>\n",
       "      <td>1.0</td>\n",
       "      <td>0.0</td>\n",
       "      <td>0.0</td>\n",
       "      <td>0.0</td>\n",
       "    </tr>\n",
       "    <tr>\n",
       "      <th>1</th>\n",
       "      <td>26.0</td>\n",
       "      <td>0.0</td>\n",
       "      <td>0.0</td>\n",
       "      <td>0.0</td>\n",
       "      <td>0.0</td>\n",
       "      <td>0.0</td>\n",
       "      <td>0.0</td>\n",
       "      <td>0.0</td>\n",
       "      <td>0.0</td>\n",
       "      <td>0.0</td>\n",
       "      <td>...</td>\n",
       "      <td>0.0</td>\n",
       "      <td>5.0</td>\n",
       "      <td>105.0</td>\n",
       "      <td>4.0</td>\n",
       "      <td>111.0</td>\n",
       "      <td>0.0</td>\n",
       "      <td>0.0</td>\n",
       "      <td>0.0</td>\n",
       "      <td>0.0</td>\n",
       "      <td>1.0</td>\n",
       "    </tr>\n",
       "    <tr>\n",
       "      <th>2</th>\n",
       "      <td>49.0</td>\n",
       "      <td>1.0</td>\n",
       "      <td>0.0</td>\n",
       "      <td>0.0</td>\n",
       "      <td>0.0</td>\n",
       "      <td>0.0</td>\n",
       "      <td>0.0</td>\n",
       "      <td>0.0</td>\n",
       "      <td>0.0</td>\n",
       "      <td>0.0</td>\n",
       "      <td>...</td>\n",
       "      <td>0.0</td>\n",
       "      <td>5.0</td>\n",
       "      <td>112.0</td>\n",
       "      <td>4.0</td>\n",
       "      <td>123.0</td>\n",
       "      <td>0.0</td>\n",
       "      <td>0.0</td>\n",
       "      <td>0.0</td>\n",
       "      <td>0.0</td>\n",
       "      <td>1.0</td>\n",
       "    </tr>\n",
       "    <tr>\n",
       "      <th>3</th>\n",
       "      <td>73.0</td>\n",
       "      <td>0.0</td>\n",
       "      <td>1.0</td>\n",
       "      <td>0.0</td>\n",
       "      <td>0.0</td>\n",
       "      <td>0.0</td>\n",
       "      <td>0.0</td>\n",
       "      <td>0.0</td>\n",
       "      <td>0.0</td>\n",
       "      <td>0.0</td>\n",
       "      <td>...</td>\n",
       "      <td>0.0</td>\n",
       "      <td>5.0</td>\n",
       "      <td>178.0</td>\n",
       "      <td>4.0</td>\n",
       "      <td>180.0</td>\n",
       "      <td>0.0</td>\n",
       "      <td>0.0</td>\n",
       "      <td>0.0</td>\n",
       "      <td>0.0</td>\n",
       "      <td>1.0</td>\n",
       "    </tr>\n",
       "    <tr>\n",
       "      <th>4</th>\n",
       "      <td>73.0</td>\n",
       "      <td>0.0</td>\n",
       "      <td>0.0</td>\n",
       "      <td>0.0</td>\n",
       "      <td>0.0</td>\n",
       "      <td>0.0</td>\n",
       "      <td>0.0</td>\n",
       "      <td>0.0</td>\n",
       "      <td>0.0</td>\n",
       "      <td>0.0</td>\n",
       "      <td>...</td>\n",
       "      <td>0.0</td>\n",
       "      <td>4.0</td>\n",
       "      <td>64.0</td>\n",
       "      <td>4.0</td>\n",
       "      <td>73.0</td>\n",
       "      <td>0.0</td>\n",
       "      <td>0.0</td>\n",
       "      <td>0.0</td>\n",
       "      <td>1.0</td>\n",
       "      <td>0.0</td>\n",
       "    </tr>\n",
       "  </tbody>\n",
       "</table>\n",
       "<p>5 rows × 25 columns</p>\n",
       "</div>"
      ],
      "text/plain": [
       "    age  sex  on_thyroxine  query_on_thyroxine  on_antithyroid_medication  \\\n",
       "0  44.0  0.0           0.0                 0.0                        0.0   \n",
       "1  26.0  0.0           0.0                 0.0                        0.0   \n",
       "2  49.0  1.0           0.0                 0.0                        0.0   \n",
       "3  73.0  0.0           1.0                 0.0                        0.0   \n",
       "4  73.0  0.0           0.0                 0.0                        0.0   \n",
       "\n",
       "   sick  pregnant  thyroid_surgery  I131_treatment  query_hypothyroid  ...  \\\n",
       "0   0.0       0.0              0.0             0.0                0.0  ...   \n",
       "1   0.0       0.0              0.0             0.0                0.0  ...   \n",
       "2   0.0       0.0              0.0             0.0                0.0  ...   \n",
       "3   0.0       0.0              0.0             0.0                0.0  ...   \n",
       "4   0.0       0.0              0.0             0.0                0.0  ...   \n",
       "\n",
       "   psych   T3    TT4  T4U    FTI  referral_source_STMW  referral_source_SVHC  \\\n",
       "0    0.0  5.0  128.0  4.0  112.0                   0.0                   1.0   \n",
       "1    0.0  5.0  105.0  4.0  111.0                   0.0                   0.0   \n",
       "2    0.0  5.0  112.0  4.0  123.0                   0.0                   0.0   \n",
       "3    0.0  5.0  178.0  4.0  180.0                   0.0                   0.0   \n",
       "4    0.0  4.0   64.0  4.0   73.0                   0.0                   0.0   \n",
       "\n",
       "   referral_source_SVHD  referral_source_SVI  referral_source_other  \n",
       "0                   0.0                  0.0                    0.0  \n",
       "1                   0.0                  0.0                    1.0  \n",
       "2                   0.0                  0.0                    1.0  \n",
       "3                   0.0                  0.0                    1.0  \n",
       "4                   0.0                  1.0                    0.0  \n",
       "\n",
       "[5 rows x 25 columns]"
      ]
     },
     "execution_count": 44,
     "metadata": {},
     "output_type": "execute_result"
    }
   ],
   "source": [
    "x_sampled.head()"
   ]
  },
  {
   "cell_type": "code",
   "execution_count": 45,
   "metadata": {
    "colab": {
     "base_uri": "https://localhost:8080/"
    },
    "id": "2Q2VD6WBeiRP",
    "outputId": "c08a434a-7dd9-4ba9-e017-ba6e21b33493"
   },
   "outputs": [
    {
     "data": {
      "text/plain": [
       "age                          0\n",
       "sex                          0\n",
       "on_thyroxine                 0\n",
       "query_on_thyroxine           0\n",
       "on_antithyroid_medication    0\n",
       "sick                         0\n",
       "pregnant                     0\n",
       "thyroid_surgery              0\n",
       "I131_treatment               0\n",
       "query_hypothyroid            0\n",
       "query_hyperthyroid           0\n",
       "lithium                      0\n",
       "goitre                       0\n",
       "tumor                        0\n",
       "hypopituitary                0\n",
       "psych                        0\n",
       "T3                           0\n",
       "TT4                          0\n",
       "T4U                          0\n",
       "FTI                          0\n",
       "referral_source_STMW         0\n",
       "referral_source_SVHC         0\n",
       "referral_source_SVHD         0\n",
       "referral_source_SVI          0\n",
       "referral_source_other        0\n",
       "dtype: int64"
      ]
     },
     "execution_count": 45,
     "metadata": {},
     "output_type": "execute_result"
    }
   ],
   "source": [
    "x_sampled.isnull().sum()"
   ]
  },
  {
   "cell_type": "code",
   "execution_count": 46,
   "metadata": {
    "colab": {
     "base_uri": "https://localhost:8080/"
    },
    "id": "hYjD4gsSFsIq",
    "outputId": "7dba10c7-3376-43f4-bd7c-196595efe86c"
   },
   "outputs": [
    {
     "data": {
      "text/plain": [
       "0        1.0\n",
       "1        1.0\n",
       "2        1.0\n",
       "3        1.0\n",
       "4        1.0\n",
       "        ... \n",
       "13919    3.0\n",
       "13920    3.0\n",
       "13921    3.0\n",
       "13922    3.0\n",
       "13923    3.0\n",
       "Name: Class, Length: 13924, dtype: float64"
      ]
     },
     "execution_count": 46,
     "metadata": {},
     "output_type": "execute_result"
    }
   ],
   "source": [
    "y_sampled"
   ]
  },
  {
   "cell_type": "markdown",
   "metadata": {
    "id": "UVPqeB1jYXdJ"
   },
   "source": [
    "### Clustering of the data"
   ]
  },
  {
   "cell_type": "code",
   "execution_count": 47,
   "metadata": {
    "id": "qld4X9j2VbxO"
   },
   "outputs": [],
   "source": [
    "def elbow_plot(data):\n",
    "        \"\"\"\n",
    "                        Method Name: elbow_plot\n",
    "                        Description: This method saves the plot to decide the optimum number of clusters to the file.\n",
    "                        Output: A picture saved to the directory\n",
    "                        On Failure: Raise Exception\n",
    "\n",
    "        \"\"\"\n",
    "        \n",
    "        wcss=[] # initializing an empty list\n",
    "        try:\n",
    "            for i in range (1,11):\n",
    "                kmeans=KMeans(n_clusters=i,init='k-means++',random_state=42) # initializing the KMeans object\n",
    "                kmeans.fit(data) # fitting the data to the KMeans Algorithm\n",
    "                wcss.append(kmeans.inertia_)\n",
    "            plt.plot(range(1,11),wcss) # creating the graph between WCSS and the number of clusters\n",
    "            plt.title('The Elbow Method')\n",
    "            plt.xlabel('Number of clusters')\n",
    "            plt.ylabel('WCSS')\n",
    "\n",
    "            plt.savefig('K-Means_Elbow.PNG') # saving the elbow plot locally\n",
    "            # finding the value of the optimum cluster programmatically\n",
    "            kn = KneeLocator(range(1, 11), wcss, curve='convex', direction='decreasing')\n",
    "            print('The optimum number of clusters is: '+str(kn.knee)+' . Exited the elbow_plot method of the KMeansClustering class')\n",
    "            return kn.knee\n",
    "\n",
    "        except Exception as e:\n",
    "          print(e)"
   ]
  },
  {
   "cell_type": "code",
   "execution_count": 48,
   "metadata": {
    "colab": {
     "base_uri": "https://localhost:8080/",
     "height": 335
    },
    "id": "4V_PviqrZ4tQ",
    "outputId": "457ef3af-2539-4db7-9151-9c69174de99d"
   },
   "outputs": [
    {
     "name": "stderr",
     "output_type": "stream",
     "text": [
      "/home/nidhiyashwanth/.local/lib/python3.10/site-packages/sklearn/cluster/_kmeans.py:870: FutureWarning: The default value of `n_init` will change from 10 to 'auto' in 1.4. Set the value of `n_init` explicitly to suppress the warning\n",
      "  warnings.warn(\n",
      "/home/nidhiyashwanth/.local/lib/python3.10/site-packages/sklearn/cluster/_kmeans.py:870: FutureWarning: The default value of `n_init` will change from 10 to 'auto' in 1.4. Set the value of `n_init` explicitly to suppress the warning\n",
      "  warnings.warn(\n",
      "/home/nidhiyashwanth/.local/lib/python3.10/site-packages/sklearn/cluster/_kmeans.py:870: FutureWarning: The default value of `n_init` will change from 10 to 'auto' in 1.4. Set the value of `n_init` explicitly to suppress the warning\n",
      "  warnings.warn(\n",
      "/home/nidhiyashwanth/.local/lib/python3.10/site-packages/sklearn/cluster/_kmeans.py:870: FutureWarning: The default value of `n_init` will change from 10 to 'auto' in 1.4. Set the value of `n_init` explicitly to suppress the warning\n",
      "  warnings.warn(\n",
      "/home/nidhiyashwanth/.local/lib/python3.10/site-packages/sklearn/cluster/_kmeans.py:870: FutureWarning: The default value of `n_init` will change from 10 to 'auto' in 1.4. Set the value of `n_init` explicitly to suppress the warning\n",
      "  warnings.warn(\n",
      "/home/nidhiyashwanth/.local/lib/python3.10/site-packages/sklearn/cluster/_kmeans.py:870: FutureWarning: The default value of `n_init` will change from 10 to 'auto' in 1.4. Set the value of `n_init` explicitly to suppress the warning\n",
      "  warnings.warn(\n",
      "/home/nidhiyashwanth/.local/lib/python3.10/site-packages/sklearn/cluster/_kmeans.py:870: FutureWarning: The default value of `n_init` will change from 10 to 'auto' in 1.4. Set the value of `n_init` explicitly to suppress the warning\n",
      "  warnings.warn(\n",
      "/home/nidhiyashwanth/.local/lib/python3.10/site-packages/sklearn/cluster/_kmeans.py:870: FutureWarning: The default value of `n_init` will change from 10 to 'auto' in 1.4. Set the value of `n_init` explicitly to suppress the warning\n",
      "  warnings.warn(\n",
      "/home/nidhiyashwanth/.local/lib/python3.10/site-packages/sklearn/cluster/_kmeans.py:870: FutureWarning: The default value of `n_init` will change from 10 to 'auto' in 1.4. Set the value of `n_init` explicitly to suppress the warning\n",
      "  warnings.warn(\n",
      "/home/nidhiyashwanth/.local/lib/python3.10/site-packages/sklearn/cluster/_kmeans.py:870: FutureWarning: The default value of `n_init` will change from 10 to 'auto' in 1.4. Set the value of `n_init` explicitly to suppress the warning\n",
      "  warnings.warn(\n"
     ]
    },
    {
     "name": "stdout",
     "output_type": "stream",
     "text": [
      "The optimum number of clusters is: 3 . Exited the elbow_plot method of the KMeansClustering class\n"
     ]
    },
    {
     "data": {
      "text/plain": [
       "3"
      ]
     },
     "execution_count": 48,
     "metadata": {},
     "output_type": "execute_result"
    },
    {
     "data": {
      "image/png": "[encoded data removed]",
      "text/plain": [
       "<Figure size 640x480 with 1 Axes>"
      ]
     },
     "metadata": {},
     "output_type": "display_data"
    }
   ],
   "source": [
    "elbow_plot(x_sampled)"
   ]
  },
  {
   "cell_type": "code",
   "execution_count": 49,
   "metadata": {
    "id": "N_ikANVlaDf7"
   },
   "outputs": [],
   "source": [
    "def create_clusters(data,number_of_clusters):\n",
    "        \"\"\"\n",
    "                                Method Name: create_clusters\n",
    "                                Description: Create a new dataframe consisting of the cluster information.\n",
    "                                Output: A datframe with cluster column\n",
    "                                On Failure: Raise Exception\n",
    "\n",
    "      \"\"\"\n",
    "        \n",
    "        try:\n",
    "            kmeans = KMeans(n_clusters=number_of_clusters, init='k-means++', random_state=42)\n",
    "            \n",
    "            y_kmeans=kmeans.fit_predict(data) #  divide data into clusters\n",
    "\n",
    "\n",
    "            data['Cluster']=y_kmeans  # create a new column in dataset for storing the cluster information\n",
    "            print('succesfully created '+str(f\"{number_of_clusters}\")+ ' clusters. Exited the create_clusters method of the KMeansClustering class')\n",
    "            return data\n",
    "\n",
    "        except Exception as e:\n",
    "          print(e)\n",
    "        "
   ]
  },
  {
   "cell_type": "code",
   "execution_count": 50,
   "metadata": {
    "colab": {
     "base_uri": "https://localhost:8080/"
    },
    "id": "CpTeZHc6cd1W",
    "outputId": "0698c603-df52-48a7-bfae-e86792b66695"
   },
   "outputs": [
    {
     "name": "stderr",
     "output_type": "stream",
     "text": [
      "/home/nidhiyashwanth/.local/lib/python3.10/site-packages/sklearn/cluster/_kmeans.py:870: FutureWarning: The default value of `n_init` will change from 10 to 'auto' in 1.4. Set the value of `n_init` explicitly to suppress the warning\n",
      "  warnings.warn(\n"
     ]
    },
    {
     "name": "stdout",
     "output_type": "stream",
     "text": [
      "succesfully created 3 clusters. Exited the create_clusters method of the KMeansClustering class\n"
     ]
    }
   ],
   "source": [
    "#Creating clusters\n",
    "x_sampled = create_clusters(x_sampled,3)"
   ]
  },
  {
   "cell_type": "code",
   "execution_count": 51,
   "metadata": {
    "colab": {
     "base_uri": "https://localhost:8080/",
     "height": 439
    },
    "id": "dFq0a4DDoIWW",
    "outputId": "f1a910df-e4b2-4a0b-bb31-ddeec5e10ff1"
   },
   "outputs": [
    {
     "data": {
      "text/html": [
       "<div>\n",
       "<style scoped>\n",
       "    .dataframe tbody tr th:only-of-type {\n",
       "        vertical-align: middle;\n",
       "    }\n",
       "\n",
       "    .dataframe tbody tr th {\n",
       "        vertical-align: top;\n",
       "    }\n",
       "\n",
       "    .dataframe thead th {\n",
       "        text-align: right;\n",
       "    }\n",
       "</style>\n",
       "<table border=\"1\" class=\"dataframe\">\n",
       "  <thead>\n",
       "    <tr style=\"text-align: right;\">\n",
       "      <th></th>\n",
       "      <th>age</th>\n",
       "      <th>sex</th>\n",
       "      <th>on_thyroxine</th>\n",
       "      <th>query_on_thyroxine</th>\n",
       "      <th>on_antithyroid_medication</th>\n",
       "      <th>sick</th>\n",
       "      <th>pregnant</th>\n",
       "      <th>thyroid_surgery</th>\n",
       "      <th>I131_treatment</th>\n",
       "      <th>query_hypothyroid</th>\n",
       "      <th>...</th>\n",
       "      <th>T3</th>\n",
       "      <th>TT4</th>\n",
       "      <th>T4U</th>\n",
       "      <th>FTI</th>\n",
       "      <th>referral_source_STMW</th>\n",
       "      <th>referral_source_SVHC</th>\n",
       "      <th>referral_source_SVHD</th>\n",
       "      <th>referral_source_SVI</th>\n",
       "      <th>referral_source_other</th>\n",
       "      <th>Cluster</th>\n",
       "    </tr>\n",
       "  </thead>\n",
       "  <tbody>\n",
       "    <tr>\n",
       "      <th>0</th>\n",
       "      <td>44.0</td>\n",
       "      <td>0.0</td>\n",
       "      <td>0.0</td>\n",
       "      <td>0.0</td>\n",
       "      <td>0.0</td>\n",
       "      <td>0.0</td>\n",
       "      <td>0.0</td>\n",
       "      <td>0.0</td>\n",
       "      <td>0.0</td>\n",
       "      <td>0.0</td>\n",
       "      <td>...</td>\n",
       "      <td>5.0</td>\n",
       "      <td>128.0</td>\n",
       "      <td>4.0</td>\n",
       "      <td>112.0</td>\n",
       "      <td>0.0</td>\n",
       "      <td>1.0</td>\n",
       "      <td>0.0</td>\n",
       "      <td>0.0</td>\n",
       "      <td>0.0</td>\n",
       "      <td>1</td>\n",
       "    </tr>\n",
       "    <tr>\n",
       "      <th>1</th>\n",
       "      <td>26.0</td>\n",
       "      <td>0.0</td>\n",
       "      <td>0.0</td>\n",
       "      <td>0.0</td>\n",
       "      <td>0.0</td>\n",
       "      <td>0.0</td>\n",
       "      <td>0.0</td>\n",
       "      <td>0.0</td>\n",
       "      <td>0.0</td>\n",
       "      <td>0.0</td>\n",
       "      <td>...</td>\n",
       "      <td>5.0</td>\n",
       "      <td>105.0</td>\n",
       "      <td>4.0</td>\n",
       "      <td>111.0</td>\n",
       "      <td>0.0</td>\n",
       "      <td>0.0</td>\n",
       "      <td>0.0</td>\n",
       "      <td>0.0</td>\n",
       "      <td>1.0</td>\n",
       "      <td>2</td>\n",
       "    </tr>\n",
       "    <tr>\n",
       "      <th>2</th>\n",
       "      <td>49.0</td>\n",
       "      <td>1.0</td>\n",
       "      <td>0.0</td>\n",
       "      <td>0.0</td>\n",
       "      <td>0.0</td>\n",
       "      <td>0.0</td>\n",
       "      <td>0.0</td>\n",
       "      <td>0.0</td>\n",
       "      <td>0.0</td>\n",
       "      <td>0.0</td>\n",
       "      <td>...</td>\n",
       "      <td>5.0</td>\n",
       "      <td>112.0</td>\n",
       "      <td>4.0</td>\n",
       "      <td>123.0</td>\n",
       "      <td>0.0</td>\n",
       "      <td>0.0</td>\n",
       "      <td>0.0</td>\n",
       "      <td>0.0</td>\n",
       "      <td>1.0</td>\n",
       "      <td>1</td>\n",
       "    </tr>\n",
       "    <tr>\n",
       "      <th>3</th>\n",
       "      <td>73.0</td>\n",
       "      <td>0.0</td>\n",
       "      <td>1.0</td>\n",
       "      <td>0.0</td>\n",
       "      <td>0.0</td>\n",
       "      <td>0.0</td>\n",
       "      <td>0.0</td>\n",
       "      <td>0.0</td>\n",
       "      <td>0.0</td>\n",
       "      <td>0.0</td>\n",
       "      <td>...</td>\n",
       "      <td>5.0</td>\n",
       "      <td>178.0</td>\n",
       "      <td>4.0</td>\n",
       "      <td>180.0</td>\n",
       "      <td>0.0</td>\n",
       "      <td>0.0</td>\n",
       "      <td>0.0</td>\n",
       "      <td>0.0</td>\n",
       "      <td>1.0</td>\n",
       "      <td>1</td>\n",
       "    </tr>\n",
       "    <tr>\n",
       "      <th>4</th>\n",
       "      <td>73.0</td>\n",
       "      <td>0.0</td>\n",
       "      <td>0.0</td>\n",
       "      <td>0.0</td>\n",
       "      <td>0.0</td>\n",
       "      <td>0.0</td>\n",
       "      <td>0.0</td>\n",
       "      <td>0.0</td>\n",
       "      <td>0.0</td>\n",
       "      <td>0.0</td>\n",
       "      <td>...</td>\n",
       "      <td>4.0</td>\n",
       "      <td>64.0</td>\n",
       "      <td>4.0</td>\n",
       "      <td>73.0</td>\n",
       "      <td>0.0</td>\n",
       "      <td>0.0</td>\n",
       "      <td>0.0</td>\n",
       "      <td>1.0</td>\n",
       "      <td>0.0</td>\n",
       "      <td>2</td>\n",
       "    </tr>\n",
       "    <tr>\n",
       "      <th>...</th>\n",
       "      <td>...</td>\n",
       "      <td>...</td>\n",
       "      <td>...</td>\n",
       "      <td>...</td>\n",
       "      <td>...</td>\n",
       "      <td>...</td>\n",
       "      <td>...</td>\n",
       "      <td>...</td>\n",
       "      <td>...</td>\n",
       "      <td>...</td>\n",
       "      <td>...</td>\n",
       "      <td>...</td>\n",
       "      <td>...</td>\n",
       "      <td>...</td>\n",
       "      <td>...</td>\n",
       "      <td>...</td>\n",
       "      <td>...</td>\n",
       "      <td>...</td>\n",
       "      <td>...</td>\n",
       "      <td>...</td>\n",
       "      <td>...</td>\n",
       "    </tr>\n",
       "    <tr>\n",
       "      <th>13919</th>\n",
       "      <td>44.0</td>\n",
       "      <td>1.0</td>\n",
       "      <td>0.0</td>\n",
       "      <td>0.0</td>\n",
       "      <td>0.0</td>\n",
       "      <td>0.0</td>\n",
       "      <td>0.0</td>\n",
       "      <td>0.0</td>\n",
       "      <td>0.0</td>\n",
       "      <td>1.0</td>\n",
       "      <td>...</td>\n",
       "      <td>5.0</td>\n",
       "      <td>25.0</td>\n",
       "      <td>4.0</td>\n",
       "      <td>60.0</td>\n",
       "      <td>0.0</td>\n",
       "      <td>0.0</td>\n",
       "      <td>0.0</td>\n",
       "      <td>0.0</td>\n",
       "      <td>1.0</td>\n",
       "      <td>0</td>\n",
       "    </tr>\n",
       "    <tr>\n",
       "      <th>13920</th>\n",
       "      <td>49.0</td>\n",
       "      <td>0.0</td>\n",
       "      <td>0.0</td>\n",
       "      <td>0.0</td>\n",
       "      <td>0.0</td>\n",
       "      <td>0.0</td>\n",
       "      <td>0.0</td>\n",
       "      <td>0.0</td>\n",
       "      <td>0.0</td>\n",
       "      <td>0.0</td>\n",
       "      <td>...</td>\n",
       "      <td>4.0</td>\n",
       "      <td>51.0</td>\n",
       "      <td>4.0</td>\n",
       "      <td>57.0</td>\n",
       "      <td>0.0</td>\n",
       "      <td>0.0</td>\n",
       "      <td>0.0</td>\n",
       "      <td>0.0</td>\n",
       "      <td>1.0</td>\n",
       "      <td>0</td>\n",
       "    </tr>\n",
       "    <tr>\n",
       "      <th>13921</th>\n",
       "      <td>49.0</td>\n",
       "      <td>0.0</td>\n",
       "      <td>0.0</td>\n",
       "      <td>0.0</td>\n",
       "      <td>0.0</td>\n",
       "      <td>0.0</td>\n",
       "      <td>0.0</td>\n",
       "      <td>0.0</td>\n",
       "      <td>0.0</td>\n",
       "      <td>0.0</td>\n",
       "      <td>...</td>\n",
       "      <td>4.0</td>\n",
       "      <td>51.0</td>\n",
       "      <td>4.0</td>\n",
       "      <td>57.0</td>\n",
       "      <td>0.0</td>\n",
       "      <td>0.0</td>\n",
       "      <td>0.0</td>\n",
       "      <td>0.0</td>\n",
       "      <td>1.0</td>\n",
       "      <td>0</td>\n",
       "    </tr>\n",
       "    <tr>\n",
       "      <th>13922</th>\n",
       "      <td>49.0</td>\n",
       "      <td>0.0</td>\n",
       "      <td>0.0</td>\n",
       "      <td>0.0</td>\n",
       "      <td>0.0</td>\n",
       "      <td>0.0</td>\n",
       "      <td>0.0</td>\n",
       "      <td>0.0</td>\n",
       "      <td>0.0</td>\n",
       "      <td>0.0</td>\n",
       "      <td>...</td>\n",
       "      <td>4.0</td>\n",
       "      <td>51.0</td>\n",
       "      <td>4.0</td>\n",
       "      <td>57.0</td>\n",
       "      <td>0.0</td>\n",
       "      <td>0.0</td>\n",
       "      <td>0.0</td>\n",
       "      <td>0.0</td>\n",
       "      <td>1.0</td>\n",
       "      <td>0</td>\n",
       "    </tr>\n",
       "    <tr>\n",
       "      <th>13923</th>\n",
       "      <td>49.0</td>\n",
       "      <td>0.0</td>\n",
       "      <td>0.0</td>\n",
       "      <td>0.0</td>\n",
       "      <td>0.0</td>\n",
       "      <td>0.0</td>\n",
       "      <td>0.0</td>\n",
       "      <td>0.0</td>\n",
       "      <td>0.0</td>\n",
       "      <td>0.0</td>\n",
       "      <td>...</td>\n",
       "      <td>4.0</td>\n",
       "      <td>51.0</td>\n",
       "      <td>4.0</td>\n",
       "      <td>57.0</td>\n",
       "      <td>0.0</td>\n",
       "      <td>0.0</td>\n",
       "      <td>0.0</td>\n",
       "      <td>0.0</td>\n",
       "      <td>1.0</td>\n",
       "      <td>0</td>\n",
       "    </tr>\n",
       "  </tbody>\n",
       "</table>\n",
       "<p>13924 rows × 26 columns</p>\n",
       "</div>"
      ],
      "text/plain": [
       "        age  sex  on_thyroxine  query_on_thyroxine  on_antithyroid_medication  \\\n",
       "0      44.0  0.0           0.0                 0.0                        0.0   \n",
       "1      26.0  0.0           0.0                 0.0                        0.0   \n",
       "2      49.0  1.0           0.0                 0.0                        0.0   \n",
       "3      73.0  0.0           1.0                 0.0                        0.0   \n",
       "4      73.0  0.0           0.0                 0.0                        0.0   \n",
       "...     ...  ...           ...                 ...                        ...   \n",
       "13919  44.0  1.0           0.0                 0.0                        0.0   \n",
       "13920  49.0  0.0           0.0                 0.0                        0.0   \n",
       "13921  49.0  0.0           0.0                 0.0                        0.0   \n",
       "13922  49.0  0.0           0.0                 0.0                        0.0   \n",
       "13923  49.0  0.0           0.0                 0.0                        0.0   \n",
       "\n",
       "       sick  pregnant  thyroid_surgery  I131_treatment  query_hypothyroid  \\\n",
       "0       0.0       0.0              0.0             0.0                0.0   \n",
       "1       0.0       0.0              0.0             0.0                0.0   \n",
       "2       0.0       0.0              0.0             0.0                0.0   \n",
       "3       0.0       0.0              0.0             0.0                0.0   \n",
       "4       0.0       0.0              0.0             0.0                0.0   \n",
       "...     ...       ...              ...             ...                ...   \n",
       "13919   0.0       0.0              0.0             0.0                1.0   \n",
       "13920   0.0       0.0              0.0             0.0                0.0   \n",
       "13921   0.0       0.0              0.0             0.0                0.0   \n",
       "13922   0.0       0.0              0.0             0.0                0.0   \n",
       "13923   0.0       0.0              0.0             0.0                0.0   \n",
       "\n",
       "       ...   T3    TT4  T4U    FTI  referral_source_STMW  \\\n",
       "0      ...  5.0  128.0  4.0  112.0                   0.0   \n",
       "1      ...  5.0  105.0  4.0  111.0                   0.0   \n",
       "2      ...  5.0  112.0  4.0  123.0                   0.0   \n",
       "3      ...  5.0  178.0  4.0  180.0                   0.0   \n",
       "4      ...  4.0   64.0  4.0   73.0                   0.0   \n",
       "...    ...  ...    ...  ...    ...                   ...   \n",
       "13919  ...  5.0   25.0  4.0   60.0                   0.0   \n",
       "13920  ...  4.0   51.0  4.0   57.0                   0.0   \n",
       "13921  ...  4.0   51.0  4.0   57.0                   0.0   \n",
       "13922  ...  4.0   51.0  4.0   57.0                   0.0   \n",
       "13923  ...  4.0   51.0  4.0   57.0                   0.0   \n",
       "\n",
       "       referral_source_SVHC  referral_source_SVHD  referral_source_SVI  \\\n",
       "0                       1.0                   0.0                  0.0   \n",
       "1                       0.0                   0.0                  0.0   \n",
       "2                       0.0                   0.0                  0.0   \n",
       "3                       0.0                   0.0                  0.0   \n",
       "4                       0.0                   0.0                  1.0   \n",
       "...                     ...                   ...                  ...   \n",
       "13919                   0.0                   0.0                  0.0   \n",
       "13920                   0.0                   0.0                  0.0   \n",
       "13921                   0.0                   0.0                  0.0   \n",
       "13922                   0.0                   0.0                  0.0   \n",
       "13923                   0.0                   0.0                  0.0   \n",
       "\n",
       "       referral_source_other  Cluster  \n",
       "0                        0.0        1  \n",
       "1                        1.0        2  \n",
       "2                        1.0        1  \n",
       "3                        1.0        1  \n",
       "4                        0.0        2  \n",
       "...                      ...      ...  \n",
       "13919                    1.0        0  \n",
       "13920                    1.0        0  \n",
       "13921                    1.0        0  \n",
       "13922                    1.0        0  \n",
       "13923                    1.0        0  \n",
       "\n",
       "[13924 rows x 26 columns]"
      ]
     },
     "execution_count": 51,
     "metadata": {},
     "output_type": "execute_result"
    }
   ],
   "source": [
    "x_sampled"
   ]
  },
  {
   "cell_type": "code",
   "execution_count": 52,
   "metadata": {
    "id": "LUv6idjvpAYC"
   },
   "outputs": [],
   "source": [
    "#Adding data labels into x\n",
    "x_sampled['Labels']=y_sampled"
   ]
  },
  {
   "cell_type": "code",
   "execution_count": 53,
   "metadata": {
    "colab": {
     "base_uri": "https://localhost:8080/",
     "height": 224
    },
    "id": "LxhWBrTfpZgo",
    "outputId": "e3379219-24aa-4697-f962-728384571fc9"
   },
   "outputs": [
    {
     "data": {
      "text/html": [
       "<div>\n",
       "<style scoped>\n",
       "    .dataframe tbody tr th:only-of-type {\n",
       "        vertical-align: middle;\n",
       "    }\n",
       "\n",
       "    .dataframe tbody tr th {\n",
       "        vertical-align: top;\n",
       "    }\n",
       "\n",
       "    .dataframe thead th {\n",
       "        text-align: right;\n",
       "    }\n",
       "</style>\n",
       "<table border=\"1\" class=\"dataframe\">\n",
       "  <thead>\n",
       "    <tr style=\"text-align: right;\">\n",
       "      <th></th>\n",
       "      <th>age</th>\n",
       "      <th>sex</th>\n",
       "      <th>on_thyroxine</th>\n",
       "      <th>query_on_thyroxine</th>\n",
       "      <th>on_antithyroid_medication</th>\n",
       "      <th>sick</th>\n",
       "      <th>pregnant</th>\n",
       "      <th>thyroid_surgery</th>\n",
       "      <th>I131_treatment</th>\n",
       "      <th>query_hypothyroid</th>\n",
       "      <th>...</th>\n",
       "      <th>TT4</th>\n",
       "      <th>T4U</th>\n",
       "      <th>FTI</th>\n",
       "      <th>referral_source_STMW</th>\n",
       "      <th>referral_source_SVHC</th>\n",
       "      <th>referral_source_SVHD</th>\n",
       "      <th>referral_source_SVI</th>\n",
       "      <th>referral_source_other</th>\n",
       "      <th>Cluster</th>\n",
       "      <th>Labels</th>\n",
       "    </tr>\n",
       "  </thead>\n",
       "  <tbody>\n",
       "    <tr>\n",
       "      <th>0</th>\n",
       "      <td>44.0</td>\n",
       "      <td>0.0</td>\n",
       "      <td>0.0</td>\n",
       "      <td>0.0</td>\n",
       "      <td>0.0</td>\n",
       "      <td>0.0</td>\n",
       "      <td>0.0</td>\n",
       "      <td>0.0</td>\n",
       "      <td>0.0</td>\n",
       "      <td>0.0</td>\n",
       "      <td>...</td>\n",
       "      <td>128.0</td>\n",
       "      <td>4.0</td>\n",
       "      <td>112.0</td>\n",
       "      <td>0.0</td>\n",
       "      <td>1.0</td>\n",
       "      <td>0.0</td>\n",
       "      <td>0.0</td>\n",
       "      <td>0.0</td>\n",
       "      <td>1</td>\n",
       "      <td>1.0</td>\n",
       "    </tr>\n",
       "    <tr>\n",
       "      <th>1</th>\n",
       "      <td>26.0</td>\n",
       "      <td>0.0</td>\n",
       "      <td>0.0</td>\n",
       "      <td>0.0</td>\n",
       "      <td>0.0</td>\n",
       "      <td>0.0</td>\n",
       "      <td>0.0</td>\n",
       "      <td>0.0</td>\n",
       "      <td>0.0</td>\n",
       "      <td>0.0</td>\n",
       "      <td>...</td>\n",
       "      <td>105.0</td>\n",
       "      <td>4.0</td>\n",
       "      <td>111.0</td>\n",
       "      <td>0.0</td>\n",
       "      <td>0.0</td>\n",
       "      <td>0.0</td>\n",
       "      <td>0.0</td>\n",
       "      <td>1.0</td>\n",
       "      <td>2</td>\n",
       "      <td>1.0</td>\n",
       "    </tr>\n",
       "    <tr>\n",
       "      <th>2</th>\n",
       "      <td>49.0</td>\n",
       "      <td>1.0</td>\n",
       "      <td>0.0</td>\n",
       "      <td>0.0</td>\n",
       "      <td>0.0</td>\n",
       "      <td>0.0</td>\n",
       "      <td>0.0</td>\n",
       "      <td>0.0</td>\n",
       "      <td>0.0</td>\n",
       "      <td>0.0</td>\n",
       "      <td>...</td>\n",
       "      <td>112.0</td>\n",
       "      <td>4.0</td>\n",
       "      <td>123.0</td>\n",
       "      <td>0.0</td>\n",
       "      <td>0.0</td>\n",
       "      <td>0.0</td>\n",
       "      <td>0.0</td>\n",
       "      <td>1.0</td>\n",
       "      <td>1</td>\n",
       "      <td>1.0</td>\n",
       "    </tr>\n",
       "    <tr>\n",
       "      <th>3</th>\n",
       "      <td>73.0</td>\n",
       "      <td>0.0</td>\n",
       "      <td>1.0</td>\n",
       "      <td>0.0</td>\n",
       "      <td>0.0</td>\n",
       "      <td>0.0</td>\n",
       "      <td>0.0</td>\n",
       "      <td>0.0</td>\n",
       "      <td>0.0</td>\n",
       "      <td>0.0</td>\n",
       "      <td>...</td>\n",
       "      <td>178.0</td>\n",
       "      <td>4.0</td>\n",
       "      <td>180.0</td>\n",
       "      <td>0.0</td>\n",
       "      <td>0.0</td>\n",
       "      <td>0.0</td>\n",
       "      <td>0.0</td>\n",
       "      <td>1.0</td>\n",
       "      <td>1</td>\n",
       "      <td>1.0</td>\n",
       "    </tr>\n",
       "    <tr>\n",
       "      <th>4</th>\n",
       "      <td>73.0</td>\n",
       "      <td>0.0</td>\n",
       "      <td>0.0</td>\n",
       "      <td>0.0</td>\n",
       "      <td>0.0</td>\n",
       "      <td>0.0</td>\n",
       "      <td>0.0</td>\n",
       "      <td>0.0</td>\n",
       "      <td>0.0</td>\n",
       "      <td>0.0</td>\n",
       "      <td>...</td>\n",
       "      <td>64.0</td>\n",
       "      <td>4.0</td>\n",
       "      <td>73.0</td>\n",
       "      <td>0.0</td>\n",
       "      <td>0.0</td>\n",
       "      <td>0.0</td>\n",
       "      <td>1.0</td>\n",
       "      <td>0.0</td>\n",
       "      <td>2</td>\n",
       "      <td>1.0</td>\n",
       "    </tr>\n",
       "  </tbody>\n",
       "</table>\n",
       "<p>5 rows × 27 columns</p>\n",
       "</div>"
      ],
      "text/plain": [
       "    age  sex  on_thyroxine  query_on_thyroxine  on_antithyroid_medication  \\\n",
       "0  44.0  0.0           0.0                 0.0                        0.0   \n",
       "1  26.0  0.0           0.0                 0.0                        0.0   \n",
       "2  49.0  1.0           0.0                 0.0                        0.0   \n",
       "3  73.0  0.0           1.0                 0.0                        0.0   \n",
       "4  73.0  0.0           0.0                 0.0                        0.0   \n",
       "\n",
       "   sick  pregnant  thyroid_surgery  I131_treatment  query_hypothyroid  ...  \\\n",
       "0   0.0       0.0              0.0             0.0                0.0  ...   \n",
       "1   0.0       0.0              0.0             0.0                0.0  ...   \n",
       "2   0.0       0.0              0.0             0.0                0.0  ...   \n",
       "3   0.0       0.0              0.0             0.0                0.0  ...   \n",
       "4   0.0       0.0              0.0             0.0                0.0  ...   \n",
       "\n",
       "     TT4  T4U    FTI  referral_source_STMW  referral_source_SVHC  \\\n",
       "0  128.0  4.0  112.0                   0.0                   1.0   \n",
       "1  105.0  4.0  111.0                   0.0                   0.0   \n",
       "2  112.0  4.0  123.0                   0.0                   0.0   \n",
       "3  178.0  4.0  180.0                   0.0                   0.0   \n",
       "4   64.0  4.0   73.0                   0.0                   0.0   \n",
       "\n",
       "   referral_source_SVHD  referral_source_SVI  referral_source_other  Cluster  \\\n",
       "0                   0.0                  0.0                    0.0        1   \n",
       "1                   0.0                  0.0                    1.0        2   \n",
       "2                   0.0                  0.0                    1.0        1   \n",
       "3                   0.0                  0.0                    1.0        1   \n",
       "4                   0.0                  1.0                    0.0        2   \n",
       "\n",
       "   Labels  \n",
       "0     1.0  \n",
       "1     1.0  \n",
       "2     1.0  \n",
       "3     1.0  \n",
       "4     1.0  \n",
       "\n",
       "[5 rows x 27 columns]"
      ]
     },
     "execution_count": 53,
     "metadata": {},
     "output_type": "execute_result"
    }
   ],
   "source": [
    "x_sampled.head()"
   ]
  },
  {
   "cell_type": "code",
   "execution_count": 54,
   "metadata": {
    "colab": {
     "base_uri": "https://localhost:8080/"
    },
    "id": "5tFzJKR6pboQ",
    "outputId": "5787be38-118c-44b2-9f79-bde6d5094f9f"
   },
   "outputs": [
    {
     "data": {
      "text/plain": [
       "array([1, 2, 0], dtype=int32)"
      ]
     },
     "execution_count": 54,
     "metadata": {},
     "output_type": "execute_result"
    }
   ],
   "source": [
    "list_of_clusters=x_sampled['Cluster'].unique()\n",
    "list_of_clusters"
   ]
  },
  {
   "cell_type": "markdown",
   "metadata": {
    "id": "YQOiL1zqsDFU"
   },
   "source": [
    "### Model on Cluster == 1"
   ]
  },
  {
   "cell_type": "code",
   "execution_count": 55,
   "metadata": {
    "id": "mBNbOxvqpqBt"
   },
   "outputs": [],
   "source": [
    "cluster_data=x_sampled[x_sampled['Cluster']==1]"
   ]
  },
  {
   "cell_type": "code",
   "execution_count": 56,
   "metadata": {
    "colab": {
     "base_uri": "https://localhost:8080/",
     "height": 439
    },
    "id": "L_id9xdMqSdM",
    "outputId": "1f7bec2e-ce43-4849-9896-2d500ad4d4c1"
   },
   "outputs": [
    {
     "data": {
      "text/html": [
       "<div>\n",
       "<style scoped>\n",
       "    .dataframe tbody tr th:only-of-type {\n",
       "        vertical-align: middle;\n",
       "    }\n",
       "\n",
       "    .dataframe tbody tr th {\n",
       "        vertical-align: top;\n",
       "    }\n",
       "\n",
       "    .dataframe thead th {\n",
       "        text-align: right;\n",
       "    }\n",
       "</style>\n",
       "<table border=\"1\" class=\"dataframe\">\n",
       "  <thead>\n",
       "    <tr style=\"text-align: right;\">\n",
       "      <th></th>\n",
       "      <th>age</th>\n",
       "      <th>sex</th>\n",
       "      <th>on_thyroxine</th>\n",
       "      <th>query_on_thyroxine</th>\n",
       "      <th>on_antithyroid_medication</th>\n",
       "      <th>sick</th>\n",
       "      <th>pregnant</th>\n",
       "      <th>thyroid_surgery</th>\n",
       "      <th>I131_treatment</th>\n",
       "      <th>query_hypothyroid</th>\n",
       "      <th>...</th>\n",
       "      <th>TT4</th>\n",
       "      <th>T4U</th>\n",
       "      <th>FTI</th>\n",
       "      <th>referral_source_STMW</th>\n",
       "      <th>referral_source_SVHC</th>\n",
       "      <th>referral_source_SVHD</th>\n",
       "      <th>referral_source_SVI</th>\n",
       "      <th>referral_source_other</th>\n",
       "      <th>Cluster</th>\n",
       "      <th>Labels</th>\n",
       "    </tr>\n",
       "  </thead>\n",
       "  <tbody>\n",
       "    <tr>\n",
       "      <th>0</th>\n",
       "      <td>44.0</td>\n",
       "      <td>0.0</td>\n",
       "      <td>0.0</td>\n",
       "      <td>0.0</td>\n",
       "      <td>0.0</td>\n",
       "      <td>0.0</td>\n",
       "      <td>0.0</td>\n",
       "      <td>0.0</td>\n",
       "      <td>0.0</td>\n",
       "      <td>0.0</td>\n",
       "      <td>...</td>\n",
       "      <td>128.0</td>\n",
       "      <td>4.0</td>\n",
       "      <td>112.0</td>\n",
       "      <td>0.0</td>\n",
       "      <td>1.0</td>\n",
       "      <td>0.0</td>\n",
       "      <td>0.0</td>\n",
       "      <td>0.0</td>\n",
       "      <td>1</td>\n",
       "      <td>1.0</td>\n",
       "    </tr>\n",
       "    <tr>\n",
       "      <th>2</th>\n",
       "      <td>49.0</td>\n",
       "      <td>1.0</td>\n",
       "      <td>0.0</td>\n",
       "      <td>0.0</td>\n",
       "      <td>0.0</td>\n",
       "      <td>0.0</td>\n",
       "      <td>0.0</td>\n",
       "      <td>0.0</td>\n",
       "      <td>0.0</td>\n",
       "      <td>0.0</td>\n",
       "      <td>...</td>\n",
       "      <td>112.0</td>\n",
       "      <td>4.0</td>\n",
       "      <td>123.0</td>\n",
       "      <td>0.0</td>\n",
       "      <td>0.0</td>\n",
       "      <td>0.0</td>\n",
       "      <td>0.0</td>\n",
       "      <td>1.0</td>\n",
       "      <td>1</td>\n",
       "      <td>1.0</td>\n",
       "    </tr>\n",
       "    <tr>\n",
       "      <th>3</th>\n",
       "      <td>73.0</td>\n",
       "      <td>0.0</td>\n",
       "      <td>1.0</td>\n",
       "      <td>0.0</td>\n",
       "      <td>0.0</td>\n",
       "      <td>0.0</td>\n",
       "      <td>0.0</td>\n",
       "      <td>0.0</td>\n",
       "      <td>0.0</td>\n",
       "      <td>0.0</td>\n",
       "      <td>...</td>\n",
       "      <td>178.0</td>\n",
       "      <td>4.0</td>\n",
       "      <td>180.0</td>\n",
       "      <td>0.0</td>\n",
       "      <td>0.0</td>\n",
       "      <td>0.0</td>\n",
       "      <td>0.0</td>\n",
       "      <td>1.0</td>\n",
       "      <td>1</td>\n",
       "      <td>1.0</td>\n",
       "    </tr>\n",
       "    <tr>\n",
       "      <th>5</th>\n",
       "      <td>21.0</td>\n",
       "      <td>0.0</td>\n",
       "      <td>1.0</td>\n",
       "      <td>0.0</td>\n",
       "      <td>0.0</td>\n",
       "      <td>0.0</td>\n",
       "      <td>0.0</td>\n",
       "      <td>0.0</td>\n",
       "      <td>0.0</td>\n",
       "      <td>0.0</td>\n",
       "      <td>...</td>\n",
       "      <td>186.0</td>\n",
       "      <td>4.0</td>\n",
       "      <td>144.0</td>\n",
       "      <td>0.0</td>\n",
       "      <td>0.0</td>\n",
       "      <td>0.0</td>\n",
       "      <td>0.0</td>\n",
       "      <td>1.0</td>\n",
       "      <td>1</td>\n",
       "      <td>1.0</td>\n",
       "    </tr>\n",
       "    <tr>\n",
       "      <th>8</th>\n",
       "      <td>69.0</td>\n",
       "      <td>0.0</td>\n",
       "      <td>0.0</td>\n",
       "      <td>0.0</td>\n",
       "      <td>0.0</td>\n",
       "      <td>0.0</td>\n",
       "      <td>0.0</td>\n",
       "      <td>0.0</td>\n",
       "      <td>0.0</td>\n",
       "      <td>0.0</td>\n",
       "      <td>...</td>\n",
       "      <td>126.0</td>\n",
       "      <td>4.0</td>\n",
       "      <td>135.0</td>\n",
       "      <td>0.0</td>\n",
       "      <td>0.0</td>\n",
       "      <td>0.0</td>\n",
       "      <td>1.0</td>\n",
       "      <td>0.0</td>\n",
       "      <td>1</td>\n",
       "      <td>1.0</td>\n",
       "    </tr>\n",
       "    <tr>\n",
       "      <th>...</th>\n",
       "      <td>...</td>\n",
       "      <td>...</td>\n",
       "      <td>...</td>\n",
       "      <td>...</td>\n",
       "      <td>...</td>\n",
       "      <td>...</td>\n",
       "      <td>...</td>\n",
       "      <td>...</td>\n",
       "      <td>...</td>\n",
       "      <td>...</td>\n",
       "      <td>...</td>\n",
       "      <td>...</td>\n",
       "      <td>...</td>\n",
       "      <td>...</td>\n",
       "      <td>...</td>\n",
       "      <td>...</td>\n",
       "      <td>...</td>\n",
       "      <td>...</td>\n",
       "      <td>...</td>\n",
       "      <td>...</td>\n",
       "      <td>...</td>\n",
       "    </tr>\n",
       "    <tr>\n",
       "      <th>10315</th>\n",
       "      <td>5.0</td>\n",
       "      <td>0.0</td>\n",
       "      <td>0.0</td>\n",
       "      <td>0.0</td>\n",
       "      <td>0.0</td>\n",
       "      <td>0.0</td>\n",
       "      <td>0.0</td>\n",
       "      <td>0.0</td>\n",
       "      <td>0.0</td>\n",
       "      <td>0.0</td>\n",
       "      <td>...</td>\n",
       "      <td>114.0</td>\n",
       "      <td>4.0</td>\n",
       "      <td>139.0</td>\n",
       "      <td>1.0</td>\n",
       "      <td>0.0</td>\n",
       "      <td>0.0</td>\n",
       "      <td>0.0</td>\n",
       "      <td>0.0</td>\n",
       "      <td>1</td>\n",
       "      <td>2.0</td>\n",
       "    </tr>\n",
       "    <tr>\n",
       "      <th>10329</th>\n",
       "      <td>5.0</td>\n",
       "      <td>0.0</td>\n",
       "      <td>0.0</td>\n",
       "      <td>0.0</td>\n",
       "      <td>0.0</td>\n",
       "      <td>0.0</td>\n",
       "      <td>0.0</td>\n",
       "      <td>0.0</td>\n",
       "      <td>0.0</td>\n",
       "      <td>0.0</td>\n",
       "      <td>...</td>\n",
       "      <td>114.0</td>\n",
       "      <td>4.0</td>\n",
       "      <td>139.0</td>\n",
       "      <td>1.0</td>\n",
       "      <td>0.0</td>\n",
       "      <td>0.0</td>\n",
       "      <td>0.0</td>\n",
       "      <td>0.0</td>\n",
       "      <td>1</td>\n",
       "      <td>2.0</td>\n",
       "    </tr>\n",
       "    <tr>\n",
       "      <th>10344</th>\n",
       "      <td>48.0</td>\n",
       "      <td>0.0</td>\n",
       "      <td>0.0</td>\n",
       "      <td>0.0</td>\n",
       "      <td>0.0</td>\n",
       "      <td>0.0</td>\n",
       "      <td>0.0</td>\n",
       "      <td>0.0</td>\n",
       "      <td>0.0</td>\n",
       "      <td>0.0</td>\n",
       "      <td>...</td>\n",
       "      <td>126.0</td>\n",
       "      <td>4.0</td>\n",
       "      <td>130.0</td>\n",
       "      <td>0.0</td>\n",
       "      <td>0.0</td>\n",
       "      <td>0.0</td>\n",
       "      <td>1.0</td>\n",
       "      <td>0.0</td>\n",
       "      <td>1</td>\n",
       "      <td>2.0</td>\n",
       "    </tr>\n",
       "    <tr>\n",
       "      <th>10356</th>\n",
       "      <td>48.0</td>\n",
       "      <td>0.0</td>\n",
       "      <td>0.0</td>\n",
       "      <td>0.0</td>\n",
       "      <td>0.0</td>\n",
       "      <td>0.0</td>\n",
       "      <td>0.0</td>\n",
       "      <td>0.0</td>\n",
       "      <td>0.0</td>\n",
       "      <td>0.0</td>\n",
       "      <td>...</td>\n",
       "      <td>126.0</td>\n",
       "      <td>4.0</td>\n",
       "      <td>130.0</td>\n",
       "      <td>0.0</td>\n",
       "      <td>0.0</td>\n",
       "      <td>0.0</td>\n",
       "      <td>1.0</td>\n",
       "      <td>0.0</td>\n",
       "      <td>1</td>\n",
       "      <td>2.0</td>\n",
       "    </tr>\n",
       "    <tr>\n",
       "      <th>10400</th>\n",
       "      <td>48.0</td>\n",
       "      <td>0.0</td>\n",
       "      <td>0.0</td>\n",
       "      <td>0.0</td>\n",
       "      <td>0.0</td>\n",
       "      <td>0.0</td>\n",
       "      <td>0.0</td>\n",
       "      <td>0.0</td>\n",
       "      <td>0.0</td>\n",
       "      <td>0.0</td>\n",
       "      <td>...</td>\n",
       "      <td>126.0</td>\n",
       "      <td>4.0</td>\n",
       "      <td>130.0</td>\n",
       "      <td>0.0</td>\n",
       "      <td>0.0</td>\n",
       "      <td>0.0</td>\n",
       "      <td>1.0</td>\n",
       "      <td>0.0</td>\n",
       "      <td>1</td>\n",
       "      <td>2.0</td>\n",
       "    </tr>\n",
       "  </tbody>\n",
       "</table>\n",
       "<p>2431 rows × 27 columns</p>\n",
       "</div>"
      ],
      "text/plain": [
       "        age  sex  on_thyroxine  query_on_thyroxine  on_antithyroid_medication  \\\n",
       "0      44.0  0.0           0.0                 0.0                        0.0   \n",
       "2      49.0  1.0           0.0                 0.0                        0.0   \n",
       "3      73.0  0.0           1.0                 0.0                        0.0   \n",
       "5      21.0  0.0           1.0                 0.0                        0.0   \n",
       "8      69.0  0.0           0.0                 0.0                        0.0   \n",
       "...     ...  ...           ...                 ...                        ...   \n",
       "10315   5.0  0.0           0.0                 0.0                        0.0   \n",
       "10329   5.0  0.0           0.0                 0.0                        0.0   \n",
       "10344  48.0  0.0           0.0                 0.0                        0.0   \n",
       "10356  48.0  0.0           0.0                 0.0                        0.0   \n",
       "10400  48.0  0.0           0.0                 0.0                        0.0   \n",
       "\n",
       "       sick  pregnant  thyroid_surgery  I131_treatment  query_hypothyroid  \\\n",
       "0       0.0       0.0              0.0             0.0                0.0   \n",
       "2       0.0       0.0              0.0             0.0                0.0   \n",
       "3       0.0       0.0              0.0             0.0                0.0   \n",
       "5       0.0       0.0              0.0             0.0                0.0   \n",
       "8       0.0       0.0              0.0             0.0                0.0   \n",
       "...     ...       ...              ...             ...                ...   \n",
       "10315   0.0       0.0              0.0             0.0                0.0   \n",
       "10329   0.0       0.0              0.0             0.0                0.0   \n",
       "10344   0.0       0.0              0.0             0.0                0.0   \n",
       "10356   0.0       0.0              0.0             0.0                0.0   \n",
       "10400   0.0       0.0              0.0             0.0                0.0   \n",
       "\n",
       "       ...    TT4  T4U    FTI  referral_source_STMW  referral_source_SVHC  \\\n",
       "0      ...  128.0  4.0  112.0                   0.0                   1.0   \n",
       "2      ...  112.0  4.0  123.0                   0.0                   0.0   \n",
       "3      ...  178.0  4.0  180.0                   0.0                   0.0   \n",
       "5      ...  186.0  4.0  144.0                   0.0                   0.0   \n",
       "8      ...  126.0  4.0  135.0                   0.0                   0.0   \n",
       "...    ...    ...  ...    ...                   ...                   ...   \n",
       "10315  ...  114.0  4.0  139.0                   1.0                   0.0   \n",
       "10329  ...  114.0  4.0  139.0                   1.0                   0.0   \n",
       "10344  ...  126.0  4.0  130.0                   0.0                   0.0   \n",
       "10356  ...  126.0  4.0  130.0                   0.0                   0.0   \n",
       "10400  ...  126.0  4.0  130.0                   0.0                   0.0   \n",
       "\n",
       "       referral_source_SVHD  referral_source_SVI  referral_source_other  \\\n",
       "0                       0.0                  0.0                    0.0   \n",
       "2                       0.0                  0.0                    1.0   \n",
       "3                       0.0                  0.0                    1.0   \n",
       "5                       0.0                  0.0                    1.0   \n",
       "8                       0.0                  1.0                    0.0   \n",
       "...                     ...                  ...                    ...   \n",
       "10315                   0.0                  0.0                    0.0   \n",
       "10329                   0.0                  0.0                    0.0   \n",
       "10344                   0.0                  1.0                    0.0   \n",
       "10356                   0.0                  1.0                    0.0   \n",
       "10400                   0.0                  1.0                    0.0   \n",
       "\n",
       "       Cluster  Labels  \n",
       "0            1     1.0  \n",
       "2            1     1.0  \n",
       "3            1     1.0  \n",
       "5            1     1.0  \n",
       "8            1     1.0  \n",
       "...        ...     ...  \n",
       "10315        1     2.0  \n",
       "10329        1     2.0  \n",
       "10344        1     2.0  \n",
       "10356        1     2.0  \n",
       "10400        1     2.0  \n",
       "\n",
       "[2431 rows x 27 columns]"
      ]
     },
     "execution_count": 56,
     "metadata": {},
     "output_type": "execute_result"
    }
   ],
   "source": [
    "cluster_data"
   ]
  },
  {
   "cell_type": "code",
   "execution_count": 57,
   "metadata": {
    "id": "qHO-gTukqV4Y"
   },
   "outputs": [],
   "source": [
    "cluster_features=cluster_data.drop(['Labels','Cluster'],axis=1)\n",
    "cluster_label= cluster_data['Labels']"
   ]
  },
  {
   "cell_type": "code",
   "execution_count": 58,
   "metadata": {
    "id": "P5tmXW7qqssB"
   },
   "outputs": [],
   "source": [
    "# splitting the data into training and test set for each cluster one by one\n",
    "x_train, x_test, y_train, y_test = train_test_split(cluster_features, cluster_label, test_size=1 / 3, random_state=355)"
   ]
  },
  {
   "cell_type": "code",
   "execution_count": 59,
   "metadata": {
    "id": "BQpRfIvZeRBc"
   },
   "outputs": [],
   "source": [
    "def get_best_params_for_random_forest(train_x,train_y):\n",
    "        \"\"\"\n",
    "                                Method Name: get_best_params_for_random_forest\n",
    "                                Description: get the parameters for Random Forest Algorithm which give the best accuracy.\n",
    "                                             Use Hyper Parameter Tuning.\n",
    "                                Output: The model with the best parameters\n",
    "                                On Failure: Raise Exception\n",
    "\n",
    "        \"\"\"\n",
    "        print('Entered the get_best_params_for_random_forest method of the Model_Finder class')\n",
    "        try:\n",
    "            # initializing with different combination of parameters\n",
    "            param_grid = {\"n_estimators\": [10, 50, 100, 130], \"criterion\": ['gini', 'entropy'],\n",
    "                               \"max_depth\": range(2, 4, 1), \"max_features\": ['auto', 'log2']}\n",
    "\n",
    "            clf = RandomForestClassifier()\n",
    "        \n",
    "            #Creating an object of the Grid Search class\n",
    "            grid = GridSearchCV(estimator=clf, param_grid=param_grid, cv=5,  verbose=3)\n",
    "            #finding the best parameters\n",
    "            grid.fit(train_x, train_y)\n",
    "\n",
    "            #extracting the best parameters\n",
    "            criterion = grid.best_params_['criterion']\n",
    "            max_depth = grid.best_params_['max_depth']\n",
    "            max_features = grid.best_params_['max_features']\n",
    "            n_estimators = grid.best_params_['n_estimators']\n",
    "\n",
    "            #creating a new model with the best parameters\n",
    "            clf = RandomForestClassifier(n_estimators=n_estimators, criterion=criterion,\n",
    "                                              max_depth=max_depth, max_features=max_features)\n",
    "            # training the mew model\n",
    "            clf.fit(train_x, train_y)\n",
    "            \n",
    "            print('Random Forest best params: '+str(f\"{grid.best_params_}\")+'. Exited the get_best_params_for_random_forest method of the Model_Finder class')\n",
    "\n",
    "            return clf\n",
    "        except Exception as e:\n",
    "          raise Exception()\n"
   ]
  },
  {
   "cell_type": "code",
   "execution_count": 60,
   "metadata": {
    "id": "PL6G8iK_pUdz"
   },
   "outputs": [],
   "source": [
    "def get_best_params_for_KNN(train_x, train_y):\n",
    "        \"\"\"\n",
    "                                                Method Name: get_best_params_for_KNN\n",
    "                                                Description: get the parameters for KNN Algorithm which give the best accuracy.\n",
    "                                                             Use Hyper Parameter Tuning.\n",
    "                                                Output: The model with the best parameters\n",
    "                                                On Failure: Raise Exception\n",
    "\n",
    "        \"\"\"\n",
    "        print('Entered the get_best_params_for_Ensembled_KNN method of the Model_Finder class')\n",
    "        try:\n",
    "            #initializing with different combination of parameters\n",
    "            param_grid_knn = {\n",
    "                'algorithm' : ['ball_tree', 'kd_tree', 'brute'],\n",
    "                'leaf_size' : [10,17,24,28,30,35],\n",
    "                'n_neighbors':[4,5,8,10,11],\n",
    "                'p':[1,2]\n",
    "            }\n",
    "\n",
    "            knn = KNeighborsClassifier()\n",
    "            #Creating an object of the Grid Search class\n",
    "            grid = GridSearchCV(knn, param_grid_knn, verbose=3,cv=5)\n",
    "            # finding the best parameters\n",
    "            grid.fit(train_x, train_y)\n",
    "\n",
    "            # extracting the best parameters\n",
    "            algorithm =grid.best_params_['algorithm']\n",
    "            leaf_size = grid.best_params_['leaf_size']\n",
    "            n_neighbors = grid.best_params_['n_neighbors']\n",
    "            p  = grid.best_params_['p']\n",
    "\n",
    "            # creating a new model with the best parameters\n",
    "            knn = KNeighborsClassifier(algorithm=algorithm, leaf_size=leaf_size, n_neighbors=n_neighbors,p=p,n_jobs=-1)\n",
    "            # training the mew model\n",
    "            knn.fit(train_x, train_y)\n",
    "            print('KNN best params: ' + str(f\"{grid.best_params_}\") + '. Exited the KNN method of the Model_Finder class')\n",
    "            return knn\n",
    "\n",
    "        except Exception as e:\n",
    "            raise Exception()"
   ]
  },
  {
   "cell_type": "code",
   "execution_count": 61,
   "metadata": {
    "colab": {
     "base_uri": "https://localhost:8080/"
    },
    "id": "zGNd6SLq9S_l",
    "outputId": "02afcbab-cabc-4ed7-e2dc-e8deaf02bdf2"
   },
   "outputs": [
    {
     "name": "stdout",
     "output_type": "stream",
     "text": [
      "Entered the get_best_params_for_random_forest method of the Model_Finder class\n",
      "Fitting 5 folds for each of 32 candidates, totalling 160 fits\n",
      "[CV 1/5] END criterion=gini, max_depth=2, max_features=auto, n_estimators=10;, score=0.673 total time=   0.0s\n",
      "[CV 2/5] END criterion=gini, max_depth=2, max_features=auto, n_estimators=10;, score=0.676 total time=   0.0s\n",
      "[CV 3/5] END criterion=gini, max_depth=2, max_features=auto, n_estimators=10;, score=0.673 total time=   0.0s\n",
      "[CV 4/5] END criterion=gini, max_depth=2, max_features=auto, n_estimators=10;, score=0.673 total time=   0.0s\n",
      "[CV 5/5] END criterion=gini, max_depth=2, max_features=auto, n_estimators=10;, score=0.670 total time=   0.0s\n"
     ]
    },
    {
     "name": "stderr",
     "output_type": "stream",
     "text": [
      "/home/nidhiyashwanth/.local/lib/python3.10/site-packages/sklearn/ensemble/_forest.py:424: FutureWarning: `max_features='auto'` has been deprecated in 1.1 and will be removed in 1.3. To keep the past behaviour, explicitly set `max_features='sqrt'` or remove this parameter as it is also the default value for RandomForestClassifiers and ExtraTreesClassifiers.\n",
      "  warn(\n",
      "/home/nidhiyashwanth/.local/lib/python3.10/site-packages/sklearn/ensemble/_forest.py:424: FutureWarning: `max_features='auto'` has been deprecated in 1.1 and will be removed in 1.3. To keep the past behaviour, explicitly set `max_features='sqrt'` or remove this parameter as it is also the default value for RandomForestClassifiers and ExtraTreesClassifiers.\n",
      "  warn(\n",
      "/home/nidhiyashwanth/.local/lib/python3.10/site-packages/sklearn/ensemble/_forest.py:424: FutureWarning: `max_features='auto'` has been deprecated in 1.1 and will be removed in 1.3. To keep the past behaviour, explicitly set `max_features='sqrt'` or remove this parameter as it is also the default value for RandomForestClassifiers and ExtraTreesClassifiers.\n",
      "  warn(\n",
      "/home/nidhiyashwanth/.local/lib/python3.10/site-packages/sklearn/ensemble/_forest.py:424: FutureWarning: `max_features='auto'` has been deprecated in 1.1 and will be removed in 1.3. To keep the past behaviour, explicitly set `max_features='sqrt'` or remove this parameter as it is also the default value for RandomForestClassifiers and ExtraTreesClassifiers.\n",
      "  warn(\n",
      "/home/nidhiyashwanth/.local/lib/python3.10/site-packages/sklearn/ensemble/_forest.py:424: FutureWarning: `max_features='auto'` has been deprecated in 1.1 and will be removed in 1.3. To keep the past behaviour, explicitly set `max_features='sqrt'` or remove this parameter as it is also the default value for RandomForestClassifiers and ExtraTreesClassifiers.\n",
      "  warn(\n",
      "/home/nidhiyashwanth/.local/lib/python3.10/site-packages/sklearn/ensemble/_forest.py:424: FutureWarning: `max_features='auto'` has been deprecated in 1.1 and will be removed in 1.3. To keep the past behaviour, explicitly set `max_features='sqrt'` or remove this parameter as it is also the default value for RandomForestClassifiers and ExtraTreesClassifiers.\n",
      "  warn(\n"
     ]
    },
    {
     "name": "stdout",
     "output_type": "stream",
     "text": [
      "[CV 1/5] END criterion=gini, max_depth=2, max_features=auto, n_estimators=50;, score=0.673 total time=   0.2s\n",
      "[CV 2/5] END criterion=gini, max_depth=2, max_features=auto, n_estimators=50;, score=0.673 total time=   0.1s\n"
     ]
    },
    {
     "name": "stderr",
     "output_type": "stream",
     "text": [
      "/home/nidhiyashwanth/.local/lib/python3.10/site-packages/sklearn/ensemble/_forest.py:424: FutureWarning: `max_features='auto'` has been deprecated in 1.1 and will be removed in 1.3. To keep the past behaviour, explicitly set `max_features='sqrt'` or remove this parameter as it is also the default value for RandomForestClassifiers and ExtraTreesClassifiers.\n",
      "  warn(\n",
      "/home/nidhiyashwanth/.local/lib/python3.10/site-packages/sklearn/ensemble/_forest.py:424: FutureWarning: `max_features='auto'` has been deprecated in 1.1 and will be removed in 1.3. To keep the past behaviour, explicitly set `max_features='sqrt'` or remove this parameter as it is also the default value for RandomForestClassifiers and ExtraTreesClassifiers.\n",
      "  warn(\n"
     ]
    },
    {
     "name": "stdout",
     "output_type": "stream",
     "text": [
      "[CV 3/5] END criterion=gini, max_depth=2, max_features=auto, n_estimators=50;, score=0.673 total time=   0.2s\n",
      "[CV 4/5] END criterion=gini, max_depth=2, max_features=auto, n_estimators=50;, score=0.673 total time=   0.1s\n"
     ]
    },
    {
     "name": "stderr",
     "output_type": "stream",
     "text": [
      "/home/nidhiyashwanth/.local/lib/python3.10/site-packages/sklearn/ensemble/_forest.py:424: FutureWarning: `max_features='auto'` has been deprecated in 1.1 and will be removed in 1.3. To keep the past behaviour, explicitly set `max_features='sqrt'` or remove this parameter as it is also the default value for RandomForestClassifiers and ExtraTreesClassifiers.\n",
      "  warn(\n",
      "/home/nidhiyashwanth/.local/lib/python3.10/site-packages/sklearn/ensemble/_forest.py:424: FutureWarning: `max_features='auto'` has been deprecated in 1.1 and will be removed in 1.3. To keep the past behaviour, explicitly set `max_features='sqrt'` or remove this parameter as it is also the default value for RandomForestClassifiers and ExtraTreesClassifiers.\n",
      "  warn(\n"
     ]
    },
    {
     "name": "stdout",
     "output_type": "stream",
     "text": [
      "[CV 5/5] END criterion=gini, max_depth=2, max_features=auto, n_estimators=50;, score=0.670 total time=   0.2s\n"
     ]
    },
    {
     "name": "stderr",
     "output_type": "stream",
     "text": [
      "/home/nidhiyashwanth/.local/lib/python3.10/site-packages/sklearn/ensemble/_forest.py:424: FutureWarning: `max_features='auto'` has been deprecated in 1.1 and will be removed in 1.3. To keep the past behaviour, explicitly set `max_features='sqrt'` or remove this parameter as it is also the default value for RandomForestClassifiers and ExtraTreesClassifiers.\n",
      "  warn(\n"
     ]
    },
    {
     "name": "stdout",
     "output_type": "stream",
     "text": [
      "[CV 1/5] END criterion=gini, max_depth=2, max_features=auto, n_estimators=100;, score=0.673 total time=   0.4s\n"
     ]
    },
    {
     "name": "stderr",
     "output_type": "stream",
     "text": [
      "/home/nidhiyashwanth/.local/lib/python3.10/site-packages/sklearn/ensemble/_forest.py:424: FutureWarning: `max_features='auto'` has been deprecated in 1.1 and will be removed in 1.3. To keep the past behaviour, explicitly set `max_features='sqrt'` or remove this parameter as it is also the default value for RandomForestClassifiers and ExtraTreesClassifiers.\n",
      "  warn(\n"
     ]
    },
    {
     "name": "stdout",
     "output_type": "stream",
     "text": [
      "[CV 2/5] END criterion=gini, max_depth=2, max_features=auto, n_estimators=100;, score=0.673 total time=   0.4s\n"
     ]
    },
    {
     "name": "stderr",
     "output_type": "stream",
     "text": [
      "/home/nidhiyashwanth/.local/lib/python3.10/site-packages/sklearn/ensemble/_forest.py:424: FutureWarning: `max_features='auto'` has been deprecated in 1.1 and will be removed in 1.3. To keep the past behaviour, explicitly set `max_features='sqrt'` or remove this parameter as it is also the default value for RandomForestClassifiers and ExtraTreesClassifiers.\n",
      "  warn(\n"
     ]
    },
    {
     "name": "stdout",
     "output_type": "stream",
     "text": [
      "[CV 3/5] END criterion=gini, max_depth=2, max_features=auto, n_estimators=100;, score=0.673 total time=   0.4s\n"
     ]
    },
    {
     "name": "stderr",
     "output_type": "stream",
     "text": [
      "/home/nidhiyashwanth/.local/lib/python3.10/site-packages/sklearn/ensemble/_forest.py:424: FutureWarning: `max_features='auto'` has been deprecated in 1.1 and will be removed in 1.3. To keep the past behaviour, explicitly set `max_features='sqrt'` or remove this parameter as it is also the default value for RandomForestClassifiers and ExtraTreesClassifiers.\n",
      "  warn(\n"
     ]
    },
    {
     "name": "stdout",
     "output_type": "stream",
     "text": [
      "[CV 4/5] END criterion=gini, max_depth=2, max_features=auto, n_estimators=100;, score=0.673 total time=   0.3s\n"
     ]
    },
    {
     "name": "stderr",
     "output_type": "stream",
     "text": [
      "/home/nidhiyashwanth/.local/lib/python3.10/site-packages/sklearn/ensemble/_forest.py:424: FutureWarning: `max_features='auto'` has been deprecated in 1.1 and will be removed in 1.3. To keep the past behaviour, explicitly set `max_features='sqrt'` or remove this parameter as it is also the default value for RandomForestClassifiers and ExtraTreesClassifiers.\n",
      "  warn(\n"
     ]
    },
    {
     "name": "stdout",
     "output_type": "stream",
     "text": [
      "[CV 5/5] END criterion=gini, max_depth=2, max_features=auto, n_estimators=100;, score=0.670 total time=   0.3s\n"
     ]
    },
    {
     "name": "stderr",
     "output_type": "stream",
     "text": [
      "/home/nidhiyashwanth/.local/lib/python3.10/site-packages/sklearn/ensemble/_forest.py:424: FutureWarning: `max_features='auto'` has been deprecated in 1.1 and will be removed in 1.3. To keep the past behaviour, explicitly set `max_features='sqrt'` or remove this parameter as it is also the default value for RandomForestClassifiers and ExtraTreesClassifiers.\n",
      "  warn(\n"
     ]
    },
    {
     "name": "stdout",
     "output_type": "stream",
     "text": [
      "[CV 1/5] END criterion=gini, max_depth=2, max_features=auto, n_estimators=130;, score=0.673 total time=   0.4s\n"
     ]
    },
    {
     "name": "stderr",
     "output_type": "stream",
     "text": [
      "/home/nidhiyashwanth/.local/lib/python3.10/site-packages/sklearn/ensemble/_forest.py:424: FutureWarning: `max_features='auto'` has been deprecated in 1.1 and will be removed in 1.3. To keep the past behaviour, explicitly set `max_features='sqrt'` or remove this parameter as it is also the default value for RandomForestClassifiers and ExtraTreesClassifiers.\n",
      "  warn(\n"
     ]
    },
    {
     "name": "stdout",
     "output_type": "stream",
     "text": [
      "[CV 2/5] END criterion=gini, max_depth=2, max_features=auto, n_estimators=130;, score=0.673 total time=   0.4s\n"
     ]
    },
    {
     "name": "stderr",
     "output_type": "stream",
     "text": [
      "/home/nidhiyashwanth/.local/lib/python3.10/site-packages/sklearn/ensemble/_forest.py:424: FutureWarning: `max_features='auto'` has been deprecated in 1.1 and will be removed in 1.3. To keep the past behaviour, explicitly set `max_features='sqrt'` or remove this parameter as it is also the default value for RandomForestClassifiers and ExtraTreesClassifiers.\n",
      "  warn(\n"
     ]
    },
    {
     "name": "stdout",
     "output_type": "stream",
     "text": [
      "[CV 3/5] END criterion=gini, max_depth=2, max_features=auto, n_estimators=130;, score=0.673 total time=   0.4s\n"
     ]
    },
    {
     "name": "stderr",
     "output_type": "stream",
     "text": [
      "/home/nidhiyashwanth/.local/lib/python3.10/site-packages/sklearn/ensemble/_forest.py:424: FutureWarning: `max_features='auto'` has been deprecated in 1.1 and will be removed in 1.3. To keep the past behaviour, explicitly set `max_features='sqrt'` or remove this parameter as it is also the default value for RandomForestClassifiers and ExtraTreesClassifiers.\n",
      "  warn(\n"
     ]
    },
    {
     "name": "stdout",
     "output_type": "stream",
     "text": [
      "[CV 4/5] END criterion=gini, max_depth=2, max_features=auto, n_estimators=130;, score=0.673 total time=   0.5s\n"
     ]
    },
    {
     "name": "stderr",
     "output_type": "stream",
     "text": [
      "/home/nidhiyashwanth/.local/lib/python3.10/site-packages/sklearn/ensemble/_forest.py:424: FutureWarning: `max_features='auto'` has been deprecated in 1.1 and will be removed in 1.3. To keep the past behaviour, explicitly set `max_features='sqrt'` or remove this parameter as it is also the default value for RandomForestClassifiers and ExtraTreesClassifiers.\n",
      "  warn(\n"
     ]
    },
    {
     "name": "stdout",
     "output_type": "stream",
     "text": [
      "[CV 5/5] END criterion=gini, max_depth=2, max_features=auto, n_estimators=130;, score=0.670 total time=   0.4s\n",
      "[CV 1/5] END criterion=gini, max_depth=2, max_features=log2, n_estimators=10;, score=0.673 total time=   0.0s\n",
      "[CV 2/5] END criterion=gini, max_depth=2, max_features=log2, n_estimators=10;, score=0.676 total time=   0.1s\n",
      "[CV 3/5] END criterion=gini, max_depth=2, max_features=log2, n_estimators=10;, score=0.673 total time=   0.0s\n",
      "[CV 4/5] END criterion=gini, max_depth=2, max_features=log2, n_estimators=10;, score=0.673 total time=   0.0s\n",
      "[CV 5/5] END criterion=gini, max_depth=2, max_features=log2, n_estimators=10;, score=0.670 total time=   0.0s\n",
      "[CV 1/5] END criterion=gini, max_depth=2, max_features=log2, n_estimators=50;, score=0.673 total time=   0.1s\n",
      "[CV 2/5] END criterion=gini, max_depth=2, max_features=log2, n_estimators=50;, score=0.673 total time=   0.2s\n",
      "[CV 3/5] END criterion=gini, max_depth=2, max_features=log2, n_estimators=50;, score=0.673 total time=   0.2s\n",
      "[CV 4/5] END criterion=gini, max_depth=2, max_features=log2, n_estimators=50;, score=0.673 total time=   0.2s\n",
      "[CV 5/5] END criterion=gini, max_depth=2, max_features=log2, n_estimators=50;, score=0.670 total time=   0.2s\n",
      "[CV 1/5] END criterion=gini, max_depth=2, max_features=log2, n_estimators=100;, score=0.673 total time=   0.3s\n",
      "[CV 2/5] END criterion=gini, max_depth=2, max_features=log2, n_estimators=100;, score=0.673 total time=   0.3s\n",
      "[CV 3/5] END criterion=gini, max_depth=2, max_features=log2, n_estimators=100;, score=0.673 total time=   0.3s\n",
      "[CV 4/5] END criterion=gini, max_depth=2, max_features=log2, n_estimators=100;, score=0.673 total time=   0.3s\n",
      "[CV 5/5] END criterion=gini, max_depth=2, max_features=log2, n_estimators=100;, score=0.670 total time=   0.3s\n",
      "[CV 1/5] END criterion=gini, max_depth=2, max_features=log2, n_estimators=130;, score=0.673 total time=   0.4s\n",
      "[CV 2/5] END criterion=gini, max_depth=2, max_features=log2, n_estimators=130;, score=0.673 total time=   0.4s\n",
      "[CV 3/5] END criterion=gini, max_depth=2, max_features=log2, n_estimators=130;, score=0.673 total time=   0.4s\n",
      "[CV 4/5] END criterion=gini, max_depth=2, max_features=log2, n_estimators=130;, score=0.673 total time=   0.4s\n",
      "[CV 5/5] END criterion=gini, max_depth=2, max_features=log2, n_estimators=130;, score=0.670 total time=   0.4s\n",
      "[CV 1/5] END criterion=gini, max_depth=3, max_features=auto, n_estimators=10;, score=0.707 total time=   0.0s\n",
      "[CV 2/5] END criterion=gini, max_depth=3, max_features=auto, n_estimators=10;, score=0.688 total time=   0.0s\n",
      "[CV 3/5] END criterion=gini, max_depth=3, max_features=auto, n_estimators=10;, score=0.694 total time=   0.0s\n",
      "[CV 4/5] END criterion=gini, max_depth=3, max_features=auto, n_estimators=10;, score=0.731 total time=   0.0s\n",
      "[CV 5/5] END criterion=gini, max_depth=3, max_features=auto, n_estimators=10;, score=0.685 total time=   0.0s\n"
     ]
    },
    {
     "name": "stderr",
     "output_type": "stream",
     "text": [
      "/home/nidhiyashwanth/.local/lib/python3.10/site-packages/sklearn/ensemble/_forest.py:424: FutureWarning: `max_features='auto'` has been deprecated in 1.1 and will be removed in 1.3. To keep the past behaviour, explicitly set `max_features='sqrt'` or remove this parameter as it is also the default value for RandomForestClassifiers and ExtraTreesClassifiers.\n",
      "  warn(\n",
      "/home/nidhiyashwanth/.local/lib/python3.10/site-packages/sklearn/ensemble/_forest.py:424: FutureWarning: `max_features='auto'` has been deprecated in 1.1 and will be removed in 1.3. To keep the past behaviour, explicitly set `max_features='sqrt'` or remove this parameter as it is also the default value for RandomForestClassifiers and ExtraTreesClassifiers.\n",
      "  warn(\n",
      "/home/nidhiyashwanth/.local/lib/python3.10/site-packages/sklearn/ensemble/_forest.py:424: FutureWarning: `max_features='auto'` has been deprecated in 1.1 and will be removed in 1.3. To keep the past behaviour, explicitly set `max_features='sqrt'` or remove this parameter as it is also the default value for RandomForestClassifiers and ExtraTreesClassifiers.\n",
      "  warn(\n",
      "/home/nidhiyashwanth/.local/lib/python3.10/site-packages/sklearn/ensemble/_forest.py:424: FutureWarning: `max_features='auto'` has been deprecated in 1.1 and will be removed in 1.3. To keep the past behaviour, explicitly set `max_features='sqrt'` or remove this parameter as it is also the default value for RandomForestClassifiers and ExtraTreesClassifiers.\n",
      "  warn(\n",
      "/home/nidhiyashwanth/.local/lib/python3.10/site-packages/sklearn/ensemble/_forest.py:424: FutureWarning: `max_features='auto'` has been deprecated in 1.1 and will be removed in 1.3. To keep the past behaviour, explicitly set `max_features='sqrt'` or remove this parameter as it is also the default value for RandomForestClassifiers and ExtraTreesClassifiers.\n",
      "  warn(\n",
      "/home/nidhiyashwanth/.local/lib/python3.10/site-packages/sklearn/ensemble/_forest.py:424: FutureWarning: `max_features='auto'` has been deprecated in 1.1 and will be removed in 1.3. To keep the past behaviour, explicitly set `max_features='sqrt'` or remove this parameter as it is also the default value for RandomForestClassifiers and ExtraTreesClassifiers.\n",
      "  warn(\n"
     ]
    },
    {
     "name": "stdout",
     "output_type": "stream",
     "text": [
      "[CV 1/5] END criterion=gini, max_depth=3, max_features=auto, n_estimators=50;, score=0.676 total time=   0.2s\n",
      "[CV 2/5] END criterion=gini, max_depth=3, max_features=auto, n_estimators=50;, score=0.670 total time=   0.2s\n"
     ]
    },
    {
     "name": "stderr",
     "output_type": "stream",
     "text": [
      "/home/nidhiyashwanth/.local/lib/python3.10/site-packages/sklearn/ensemble/_forest.py:424: FutureWarning: `max_features='auto'` has been deprecated in 1.1 and will be removed in 1.3. To keep the past behaviour, explicitly set `max_features='sqrt'` or remove this parameter as it is also the default value for RandomForestClassifiers and ExtraTreesClassifiers.\n",
      "  warn(\n",
      "/home/nidhiyashwanth/.local/lib/python3.10/site-packages/sklearn/ensemble/_forest.py:424: FutureWarning: `max_features='auto'` has been deprecated in 1.1 and will be removed in 1.3. To keep the past behaviour, explicitly set `max_features='sqrt'` or remove this parameter as it is also the default value for RandomForestClassifiers and ExtraTreesClassifiers.\n",
      "  warn(\n"
     ]
    },
    {
     "name": "stdout",
     "output_type": "stream",
     "text": [
      "[CV 3/5] END criterion=gini, max_depth=3, max_features=auto, n_estimators=50;, score=0.673 total time=   0.2s\n",
      "[CV 4/5] END criterion=gini, max_depth=3, max_features=auto, n_estimators=50;, score=0.679 total time=   0.1s\n"
     ]
    },
    {
     "name": "stderr",
     "output_type": "stream",
     "text": [
      "/home/nidhiyashwanth/.local/lib/python3.10/site-packages/sklearn/ensemble/_forest.py:424: FutureWarning: `max_features='auto'` has been deprecated in 1.1 and will be removed in 1.3. To keep the past behaviour, explicitly set `max_features='sqrt'` or remove this parameter as it is also the default value for RandomForestClassifiers and ExtraTreesClassifiers.\n",
      "  warn(\n",
      "/home/nidhiyashwanth/.local/lib/python3.10/site-packages/sklearn/ensemble/_forest.py:424: FutureWarning: `max_features='auto'` has been deprecated in 1.1 and will be removed in 1.3. To keep the past behaviour, explicitly set `max_features='sqrt'` or remove this parameter as it is also the default value for RandomForestClassifiers and ExtraTreesClassifiers.\n",
      "  warn(\n"
     ]
    },
    {
     "name": "stdout",
     "output_type": "stream",
     "text": [
      "[CV 5/5] END criterion=gini, max_depth=3, max_features=auto, n_estimators=50;, score=0.670 total time=   0.2s\n"
     ]
    },
    {
     "name": "stderr",
     "output_type": "stream",
     "text": [
      "/home/nidhiyashwanth/.local/lib/python3.10/site-packages/sklearn/ensemble/_forest.py:424: FutureWarning: `max_features='auto'` has been deprecated in 1.1 and will be removed in 1.3. To keep the past behaviour, explicitly set `max_features='sqrt'` or remove this parameter as it is also the default value for RandomForestClassifiers and ExtraTreesClassifiers.\n",
      "  warn(\n"
     ]
    },
    {
     "name": "stdout",
     "output_type": "stream",
     "text": [
      "[CV 1/5] END criterion=gini, max_depth=3, max_features=auto, n_estimators=100;, score=0.673 total time=   0.3s\n"
     ]
    },
    {
     "name": "stderr",
     "output_type": "stream",
     "text": [
      "/home/nidhiyashwanth/.local/lib/python3.10/site-packages/sklearn/ensemble/_forest.py:424: FutureWarning: `max_features='auto'` has been deprecated in 1.1 and will be removed in 1.3. To keep the past behaviour, explicitly set `max_features='sqrt'` or remove this parameter as it is also the default value for RandomForestClassifiers and ExtraTreesClassifiers.\n",
      "  warn(\n"
     ]
    },
    {
     "name": "stdout",
     "output_type": "stream",
     "text": [
      "[CV 2/5] END criterion=gini, max_depth=3, max_features=auto, n_estimators=100;, score=0.673 total time=   0.3s\n"
     ]
    },
    {
     "name": "stderr",
     "output_type": "stream",
     "text": [
      "/home/nidhiyashwanth/.local/lib/python3.10/site-packages/sklearn/ensemble/_forest.py:424: FutureWarning: `max_features='auto'` has been deprecated in 1.1 and will be removed in 1.3. To keep the past behaviour, explicitly set `max_features='sqrt'` or remove this parameter as it is also the default value for RandomForestClassifiers and ExtraTreesClassifiers.\n",
      "  warn(\n"
     ]
    },
    {
     "name": "stdout",
     "output_type": "stream",
     "text": [
      "[CV 3/5] END criterion=gini, max_depth=3, max_features=auto, n_estimators=100;, score=0.682 total time=   0.3s\n"
     ]
    },
    {
     "name": "stderr",
     "output_type": "stream",
     "text": [
      "/home/nidhiyashwanth/.local/lib/python3.10/site-packages/sklearn/ensemble/_forest.py:424: FutureWarning: `max_features='auto'` has been deprecated in 1.1 and will be removed in 1.3. To keep the past behaviour, explicitly set `max_features='sqrt'` or remove this parameter as it is also the default value for RandomForestClassifiers and ExtraTreesClassifiers.\n",
      "  warn(\n"
     ]
    },
    {
     "name": "stdout",
     "output_type": "stream",
     "text": [
      "[CV 4/5] END criterion=gini, max_depth=3, max_features=auto, n_estimators=100;, score=0.673 total time=   0.3s\n"
     ]
    },
    {
     "name": "stderr",
     "output_type": "stream",
     "text": [
      "/home/nidhiyashwanth/.local/lib/python3.10/site-packages/sklearn/ensemble/_forest.py:424: FutureWarning: `max_features='auto'` has been deprecated in 1.1 and will be removed in 1.3. To keep the past behaviour, explicitly set `max_features='sqrt'` or remove this parameter as it is also the default value for RandomForestClassifiers and ExtraTreesClassifiers.\n",
      "  warn(\n"
     ]
    },
    {
     "name": "stdout",
     "output_type": "stream",
     "text": [
      "[CV 5/5] END criterion=gini, max_depth=3, max_features=auto, n_estimators=100;, score=0.670 total time=   0.3s\n"
     ]
    },
    {
     "name": "stderr",
     "output_type": "stream",
     "text": [
      "/home/nidhiyashwanth/.local/lib/python3.10/site-packages/sklearn/ensemble/_forest.py:424: FutureWarning: `max_features='auto'` has been deprecated in 1.1 and will be removed in 1.3. To keep the past behaviour, explicitly set `max_features='sqrt'` or remove this parameter as it is also the default value for RandomForestClassifiers and ExtraTreesClassifiers.\n",
      "  warn(\n"
     ]
    },
    {
     "name": "stdout",
     "output_type": "stream",
     "text": [
      "[CV 1/5] END criterion=gini, max_depth=3, max_features=auto, n_estimators=130;, score=0.673 total time=   0.4s\n"
     ]
    },
    {
     "name": "stderr",
     "output_type": "stream",
     "text": [
      "/home/nidhiyashwanth/.local/lib/python3.10/site-packages/sklearn/ensemble/_forest.py:424: FutureWarning: `max_features='auto'` has been deprecated in 1.1 and will be removed in 1.3. To keep the past behaviour, explicitly set `max_features='sqrt'` or remove this parameter as it is also the default value for RandomForestClassifiers and ExtraTreesClassifiers.\n",
      "  warn(\n"
     ]
    },
    {
     "name": "stdout",
     "output_type": "stream",
     "text": [
      "[CV 2/5] END criterion=gini, max_depth=3, max_features=auto, n_estimators=130;, score=0.676 total time=   0.4s\n"
     ]
    },
    {
     "name": "stderr",
     "output_type": "stream",
     "text": [
      "/home/nidhiyashwanth/.local/lib/python3.10/site-packages/sklearn/ensemble/_forest.py:424: FutureWarning: `max_features='auto'` has been deprecated in 1.1 and will be removed in 1.3. To keep the past behaviour, explicitly set `max_features='sqrt'` or remove this parameter as it is also the default value for RandomForestClassifiers and ExtraTreesClassifiers.\n",
      "  warn(\n"
     ]
    },
    {
     "name": "stdout",
     "output_type": "stream",
     "text": [
      "[CV 3/5] END criterion=gini, max_depth=3, max_features=auto, n_estimators=130;, score=0.676 total time=   0.4s\n"
     ]
    },
    {
     "name": "stderr",
     "output_type": "stream",
     "text": [
      "/home/nidhiyashwanth/.local/lib/python3.10/site-packages/sklearn/ensemble/_forest.py:424: FutureWarning: `max_features='auto'` has been deprecated in 1.1 and will be removed in 1.3. To keep the past behaviour, explicitly set `max_features='sqrt'` or remove this parameter as it is also the default value for RandomForestClassifiers and ExtraTreesClassifiers.\n",
      "  warn(\n"
     ]
    },
    {
     "name": "stdout",
     "output_type": "stream",
     "text": [
      "[CV 4/5] END criterion=gini, max_depth=3, max_features=auto, n_estimators=130;, score=0.673 total time=   0.4s\n"
     ]
    },
    {
     "name": "stderr",
     "output_type": "stream",
     "text": [
      "/home/nidhiyashwanth/.local/lib/python3.10/site-packages/sklearn/ensemble/_forest.py:424: FutureWarning: `max_features='auto'` has been deprecated in 1.1 and will be removed in 1.3. To keep the past behaviour, explicitly set `max_features='sqrt'` or remove this parameter as it is also the default value for RandomForestClassifiers and ExtraTreesClassifiers.\n",
      "  warn(\n"
     ]
    },
    {
     "name": "stdout",
     "output_type": "stream",
     "text": [
      "[CV 5/5] END criterion=gini, max_depth=3, max_features=auto, n_estimators=130;, score=0.670 total time=   0.4s\n",
      "[CV 1/5] END criterion=gini, max_depth=3, max_features=log2, n_estimators=10;, score=0.673 total time=   0.0s\n",
      "[CV 2/5] END criterion=gini, max_depth=3, max_features=log2, n_estimators=10;, score=0.676 total time=   0.0s\n",
      "[CV 3/5] END criterion=gini, max_depth=3, max_features=log2, n_estimators=10;, score=0.676 total time=   0.0s\n",
      "[CV 4/5] END criterion=gini, max_depth=3, max_features=log2, n_estimators=10;, score=0.673 total time=   0.0s\n",
      "[CV 5/5] END criterion=gini, max_depth=3, max_features=log2, n_estimators=10;, score=0.691 total time=   0.0s\n",
      "[CV 1/5] END criterion=gini, max_depth=3, max_features=log2, n_estimators=50;, score=0.673 total time=   0.2s\n",
      "[CV 2/5] END criterion=gini, max_depth=3, max_features=log2, n_estimators=50;, score=0.676 total time=   0.1s\n",
      "[CV 3/5] END criterion=gini, max_depth=3, max_features=log2, n_estimators=50;, score=0.676 total time=   0.2s\n",
      "[CV 4/5] END criterion=gini, max_depth=3, max_features=log2, n_estimators=50;, score=0.673 total time=   0.1s\n",
      "[CV 5/5] END criterion=gini, max_depth=3, max_features=log2, n_estimators=50;, score=0.670 total time=   0.2s\n",
      "[CV 1/5] END criterion=gini, max_depth=3, max_features=log2, n_estimators=100;, score=0.673 total time=   0.2s\n",
      "[CV 2/5] END criterion=gini, max_depth=3, max_features=log2, n_estimators=100;, score=0.676 total time=   0.3s\n",
      "[CV 3/5] END criterion=gini, max_depth=3, max_features=log2, n_estimators=100;, score=0.676 total time=   0.2s\n",
      "[CV 4/5] END criterion=gini, max_depth=3, max_features=log2, n_estimators=100;, score=0.673 total time=   0.2s\n",
      "[CV 5/5] END criterion=gini, max_depth=3, max_features=log2, n_estimators=100;, score=0.670 total time=   0.3s\n",
      "[CV 1/5] END criterion=gini, max_depth=3, max_features=log2, n_estimators=130;, score=0.673 total time=   0.3s\n",
      "[CV 2/5] END criterion=gini, max_depth=3, max_features=log2, n_estimators=130;, score=0.673 total time=   0.3s\n",
      "[CV 3/5] END criterion=gini, max_depth=3, max_features=log2, n_estimators=130;, score=0.673 total time=   0.4s\n",
      "[CV 4/5] END criterion=gini, max_depth=3, max_features=log2, n_estimators=130;, score=0.673 total time=   0.3s\n",
      "[CV 5/5] END criterion=gini, max_depth=3, max_features=log2, n_estimators=130;, score=0.670 total time=   0.3s\n",
      "[CV 1/5] END criterion=entropy, max_depth=2, max_features=auto, n_estimators=10;, score=0.673 total time=   0.0s\n",
      "[CV 2/5] END criterion=entropy, max_depth=2, max_features=auto, n_estimators=10;, score=0.673 total time=   0.0s\n",
      "[CV 3/5] END criterion=entropy, max_depth=2, max_features=auto, n_estimators=10;, score=0.673 total time=   0.0s\n",
      "[CV 4/5] END criterion=entropy, max_depth=2, max_features=auto, n_estimators=10;, score=0.673 total time=   0.0s\n",
      "[CV 5/5] END criterion=entropy, max_depth=2, max_features=auto, n_estimators=10;, score=0.670 total time=   0.0s\n"
     ]
    },
    {
     "name": "stderr",
     "output_type": "stream",
     "text": [
      "/home/nidhiyashwanth/.local/lib/python3.10/site-packages/sklearn/ensemble/_forest.py:424: FutureWarning: `max_features='auto'` has been deprecated in 1.1 and will be removed in 1.3. To keep the past behaviour, explicitly set `max_features='sqrt'` or remove this parameter as it is also the default value for RandomForestClassifiers and ExtraTreesClassifiers.\n",
      "  warn(\n",
      "/home/nidhiyashwanth/.local/lib/python3.10/site-packages/sklearn/ensemble/_forest.py:424: FutureWarning: `max_features='auto'` has been deprecated in 1.1 and will be removed in 1.3. To keep the past behaviour, explicitly set `max_features='sqrt'` or remove this parameter as it is also the default value for RandomForestClassifiers and ExtraTreesClassifiers.\n",
      "  warn(\n",
      "/home/nidhiyashwanth/.local/lib/python3.10/site-packages/sklearn/ensemble/_forest.py:424: FutureWarning: `max_features='auto'` has been deprecated in 1.1 and will be removed in 1.3. To keep the past behaviour, explicitly set `max_features='sqrt'` or remove this parameter as it is also the default value for RandomForestClassifiers and ExtraTreesClassifiers.\n",
      "  warn(\n",
      "/home/nidhiyashwanth/.local/lib/python3.10/site-packages/sklearn/ensemble/_forest.py:424: FutureWarning: `max_features='auto'` has been deprecated in 1.1 and will be removed in 1.3. To keep the past behaviour, explicitly set `max_features='sqrt'` or remove this parameter as it is also the default value for RandomForestClassifiers and ExtraTreesClassifiers.\n",
      "  warn(\n",
      "/home/nidhiyashwanth/.local/lib/python3.10/site-packages/sklearn/ensemble/_forest.py:424: FutureWarning: `max_features='auto'` has been deprecated in 1.1 and will be removed in 1.3. To keep the past behaviour, explicitly set `max_features='sqrt'` or remove this parameter as it is also the default value for RandomForestClassifiers and ExtraTreesClassifiers.\n",
      "  warn(\n",
      "/home/nidhiyashwanth/.local/lib/python3.10/site-packages/sklearn/ensemble/_forest.py:424: FutureWarning: `max_features='auto'` has been deprecated in 1.1 and will be removed in 1.3. To keep the past behaviour, explicitly set `max_features='sqrt'` or remove this parameter as it is also the default value for RandomForestClassifiers and ExtraTreesClassifiers.\n",
      "  warn(\n"
     ]
    },
    {
     "name": "stdout",
     "output_type": "stream",
     "text": [
      "[CV 1/5] END criterion=entropy, max_depth=2, max_features=auto, n_estimators=50;, score=0.673 total time=   0.1s\n",
      "[CV 2/5] END criterion=entropy, max_depth=2, max_features=auto, n_estimators=50;, score=0.673 total time=   0.2s\n"
     ]
    },
    {
     "name": "stderr",
     "output_type": "stream",
     "text": [
      "/home/nidhiyashwanth/.local/lib/python3.10/site-packages/sklearn/ensemble/_forest.py:424: FutureWarning: `max_features='auto'` has been deprecated in 1.1 and will be removed in 1.3. To keep the past behaviour, explicitly set `max_features='sqrt'` or remove this parameter as it is also the default value for RandomForestClassifiers and ExtraTreesClassifiers.\n",
      "  warn(\n",
      "/home/nidhiyashwanth/.local/lib/python3.10/site-packages/sklearn/ensemble/_forest.py:424: FutureWarning: `max_features='auto'` has been deprecated in 1.1 and will be removed in 1.3. To keep the past behaviour, explicitly set `max_features='sqrt'` or remove this parameter as it is also the default value for RandomForestClassifiers and ExtraTreesClassifiers.\n",
      "  warn(\n"
     ]
    },
    {
     "name": "stdout",
     "output_type": "stream",
     "text": [
      "[CV 3/5] END criterion=entropy, max_depth=2, max_features=auto, n_estimators=50;, score=0.673 total time=   0.2s\n",
      "[CV 4/5] END criterion=entropy, max_depth=2, max_features=auto, n_estimators=50;, score=0.673 total time=   0.1s\n"
     ]
    },
    {
     "name": "stderr",
     "output_type": "stream",
     "text": [
      "/home/nidhiyashwanth/.local/lib/python3.10/site-packages/sklearn/ensemble/_forest.py:424: FutureWarning: `max_features='auto'` has been deprecated in 1.1 and will be removed in 1.3. To keep the past behaviour, explicitly set `max_features='sqrt'` or remove this parameter as it is also the default value for RandomForestClassifiers and ExtraTreesClassifiers.\n",
      "  warn(\n",
      "/home/nidhiyashwanth/.local/lib/python3.10/site-packages/sklearn/ensemble/_forest.py:424: FutureWarning: `max_features='auto'` has been deprecated in 1.1 and will be removed in 1.3. To keep the past behaviour, explicitly set `max_features='sqrt'` or remove this parameter as it is also the default value for RandomForestClassifiers and ExtraTreesClassifiers.\n",
      "  warn(\n"
     ]
    },
    {
     "name": "stdout",
     "output_type": "stream",
     "text": [
      "[CV 5/5] END criterion=entropy, max_depth=2, max_features=auto, n_estimators=50;, score=0.670 total time=   0.1s\n"
     ]
    },
    {
     "name": "stderr",
     "output_type": "stream",
     "text": [
      "/home/nidhiyashwanth/.local/lib/python3.10/site-packages/sklearn/ensemble/_forest.py:424: FutureWarning: `max_features='auto'` has been deprecated in 1.1 and will be removed in 1.3. To keep the past behaviour, explicitly set `max_features='sqrt'` or remove this parameter as it is also the default value for RandomForestClassifiers and ExtraTreesClassifiers.\n",
      "  warn(\n"
     ]
    },
    {
     "name": "stdout",
     "output_type": "stream",
     "text": [
      "[CV 1/5] END criterion=entropy, max_depth=2, max_features=auto, n_estimators=100;, score=0.673 total time=   0.3s\n"
     ]
    },
    {
     "name": "stderr",
     "output_type": "stream",
     "text": [
      "/home/nidhiyashwanth/.local/lib/python3.10/site-packages/sklearn/ensemble/_forest.py:424: FutureWarning: `max_features='auto'` has been deprecated in 1.1 and will be removed in 1.3. To keep the past behaviour, explicitly set `max_features='sqrt'` or remove this parameter as it is also the default value for RandomForestClassifiers and ExtraTreesClassifiers.\n",
      "  warn(\n"
     ]
    },
    {
     "name": "stdout",
     "output_type": "stream",
     "text": [
      "[CV 2/5] END criterion=entropy, max_depth=2, max_features=auto, n_estimators=100;, score=0.673 total time=   0.3s\n"
     ]
    },
    {
     "name": "stderr",
     "output_type": "stream",
     "text": [
      "/home/nidhiyashwanth/.local/lib/python3.10/site-packages/sklearn/ensemble/_forest.py:424: FutureWarning: `max_features='auto'` has been deprecated in 1.1 and will be removed in 1.3. To keep the past behaviour, explicitly set `max_features='sqrt'` or remove this parameter as it is also the default value for RandomForestClassifiers and ExtraTreesClassifiers.\n",
      "  warn(\n"
     ]
    },
    {
     "name": "stdout",
     "output_type": "stream",
     "text": [
      "[CV 3/5] END criterion=entropy, max_depth=2, max_features=auto, n_estimators=100;, score=0.673 total time=   0.3s\n"
     ]
    },
    {
     "name": "stderr",
     "output_type": "stream",
     "text": [
      "/home/nidhiyashwanth/.local/lib/python3.10/site-packages/sklearn/ensemble/_forest.py:424: FutureWarning: `max_features='auto'` has been deprecated in 1.1 and will be removed in 1.3. To keep the past behaviour, explicitly set `max_features='sqrt'` or remove this parameter as it is also the default value for RandomForestClassifiers and ExtraTreesClassifiers.\n",
      "  warn(\n"
     ]
    },
    {
     "name": "stdout",
     "output_type": "stream",
     "text": [
      "[CV 4/5] END criterion=entropy, max_depth=2, max_features=auto, n_estimators=100;, score=0.673 total time=   0.3s\n"
     ]
    },
    {
     "name": "stderr",
     "output_type": "stream",
     "text": [
      "/home/nidhiyashwanth/.local/lib/python3.10/site-packages/sklearn/ensemble/_forest.py:424: FutureWarning: `max_features='auto'` has been deprecated in 1.1 and will be removed in 1.3. To keep the past behaviour, explicitly set `max_features='sqrt'` or remove this parameter as it is also the default value for RandomForestClassifiers and ExtraTreesClassifiers.\n",
      "  warn(\n"
     ]
    },
    {
     "name": "stdout",
     "output_type": "stream",
     "text": [
      "[CV 5/5] END criterion=entropy, max_depth=2, max_features=auto, n_estimators=100;, score=0.670 total time=   0.3s\n"
     ]
    },
    {
     "name": "stderr",
     "output_type": "stream",
     "text": [
      "/home/nidhiyashwanth/.local/lib/python3.10/site-packages/sklearn/ensemble/_forest.py:424: FutureWarning: `max_features='auto'` has been deprecated in 1.1 and will be removed in 1.3. To keep the past behaviour, explicitly set `max_features='sqrt'` or remove this parameter as it is also the default value for RandomForestClassifiers and ExtraTreesClassifiers.\n",
      "  warn(\n"
     ]
    },
    {
     "name": "stdout",
     "output_type": "stream",
     "text": [
      "[CV 1/5] END criterion=entropy, max_depth=2, max_features=auto, n_estimators=130;, score=0.673 total time=   0.4s\n"
     ]
    },
    {
     "name": "stderr",
     "output_type": "stream",
     "text": [
      "/home/nidhiyashwanth/.local/lib/python3.10/site-packages/sklearn/ensemble/_forest.py:424: FutureWarning: `max_features='auto'` has been deprecated in 1.1 and will be removed in 1.3. To keep the past behaviour, explicitly set `max_features='sqrt'` or remove this parameter as it is also the default value for RandomForestClassifiers and ExtraTreesClassifiers.\n",
      "  warn(\n"
     ]
    },
    {
     "name": "stdout",
     "output_type": "stream",
     "text": [
      "[CV 2/5] END criterion=entropy, max_depth=2, max_features=auto, n_estimators=130;, score=0.673 total time=   0.3s\n"
     ]
    },
    {
     "name": "stderr",
     "output_type": "stream",
     "text": [
      "/home/nidhiyashwanth/.local/lib/python3.10/site-packages/sklearn/ensemble/_forest.py:424: FutureWarning: `max_features='auto'` has been deprecated in 1.1 and will be removed in 1.3. To keep the past behaviour, explicitly set `max_features='sqrt'` or remove this parameter as it is also the default value for RandomForestClassifiers and ExtraTreesClassifiers.\n",
      "  warn(\n"
     ]
    },
    {
     "name": "stdout",
     "output_type": "stream",
     "text": [
      "[CV 3/5] END criterion=entropy, max_depth=2, max_features=auto, n_estimators=130;, score=0.673 total time=   0.3s\n"
     ]
    },
    {
     "name": "stderr",
     "output_type": "stream",
     "text": [
      "/home/nidhiyashwanth/.local/lib/python3.10/site-packages/sklearn/ensemble/_forest.py:424: FutureWarning: `max_features='auto'` has been deprecated in 1.1 and will be removed in 1.3. To keep the past behaviour, explicitly set `max_features='sqrt'` or remove this parameter as it is also the default value for RandomForestClassifiers and ExtraTreesClassifiers.\n",
      "  warn(\n"
     ]
    },
    {
     "name": "stdout",
     "output_type": "stream",
     "text": [
      "[CV 4/5] END criterion=entropy, max_depth=2, max_features=auto, n_estimators=130;, score=0.673 total time=   0.3s\n"
     ]
    },
    {
     "name": "stderr",
     "output_type": "stream",
     "text": [
      "/home/nidhiyashwanth/.local/lib/python3.10/site-packages/sklearn/ensemble/_forest.py:424: FutureWarning: `max_features='auto'` has been deprecated in 1.1 and will be removed in 1.3. To keep the past behaviour, explicitly set `max_features='sqrt'` or remove this parameter as it is also the default value for RandomForestClassifiers and ExtraTreesClassifiers.\n",
      "  warn(\n"
     ]
    },
    {
     "name": "stdout",
     "output_type": "stream",
     "text": [
      "[CV 5/5] END criterion=entropy, max_depth=2, max_features=auto, n_estimators=130;, score=0.670 total time=   0.4s\n",
      "[CV 1/5] END criterion=entropy, max_depth=2, max_features=log2, n_estimators=10;, score=0.673 total time=   0.0s\n",
      "[CV 2/5] END criterion=entropy, max_depth=2, max_features=log2, n_estimators=10;, score=0.673 total time=   0.0s\n",
      "[CV 3/5] END criterion=entropy, max_depth=2, max_features=log2, n_estimators=10;, score=0.673 total time=   0.0s\n",
      "[CV 4/5] END criterion=entropy, max_depth=2, max_features=log2, n_estimators=10;, score=0.673 total time=   0.0s\n",
      "[CV 5/5] END criterion=entropy, max_depth=2, max_features=log2, n_estimators=10;, score=0.670 total time=   0.0s\n",
      "[CV 1/5] END criterion=entropy, max_depth=2, max_features=log2, n_estimators=50;, score=0.673 total time=   0.1s\n",
      "[CV 2/5] END criterion=entropy, max_depth=2, max_features=log2, n_estimators=50;, score=0.673 total time=   0.1s\n",
      "[CV 3/5] END criterion=entropy, max_depth=2, max_features=log2, n_estimators=50;, score=0.673 total time=   0.2s\n",
      "[CV 4/5] END criterion=entropy, max_depth=2, max_features=log2, n_estimators=50;, score=0.673 total time=   0.1s\n",
      "[CV 5/5] END criterion=entropy, max_depth=2, max_features=log2, n_estimators=50;, score=0.670 total time=   0.1s\n",
      "[CV 1/5] END criterion=entropy, max_depth=2, max_features=log2, n_estimators=100;, score=0.673 total time=   0.3s\n",
      "[CV 2/5] END criterion=entropy, max_depth=2, max_features=log2, n_estimators=100;, score=0.673 total time=   0.2s\n",
      "[CV 3/5] END criterion=entropy, max_depth=2, max_features=log2, n_estimators=100;, score=0.673 total time=   0.3s\n",
      "[CV 4/5] END criterion=entropy, max_depth=2, max_features=log2, n_estimators=100;, score=0.673 total time=   0.3s\n",
      "[CV 5/5] END criterion=entropy, max_depth=2, max_features=log2, n_estimators=100;, score=0.670 total time=   0.3s\n",
      "[CV 1/5] END criterion=entropy, max_depth=2, max_features=log2, n_estimators=130;, score=0.673 total time=   0.4s\n",
      "[CV 2/5] END criterion=entropy, max_depth=2, max_features=log2, n_estimators=130;, score=0.673 total time=   0.4s\n",
      "[CV 3/5] END criterion=entropy, max_depth=2, max_features=log2, n_estimators=130;, score=0.673 total time=   0.3s\n",
      "[CV 4/5] END criterion=entropy, max_depth=2, max_features=log2, n_estimators=130;, score=0.673 total time=   0.3s\n",
      "[CV 5/5] END criterion=entropy, max_depth=2, max_features=log2, n_estimators=130;, score=0.670 total time=   0.3s\n",
      "[CV 1/5] END criterion=entropy, max_depth=3, max_features=auto, n_estimators=10;, score=0.673 total time=   0.0s\n",
      "[CV 2/5] END criterion=entropy, max_depth=3, max_features=auto, n_estimators=10;, score=0.676 total time=   0.0s\n",
      "[CV 3/5] END criterion=entropy, max_depth=3, max_features=auto, n_estimators=10;, score=0.676 total time=   0.0s\n",
      "[CV 4/5] END criterion=entropy, max_depth=3, max_features=auto, n_estimators=10;, score=0.694 total time=   0.0s\n",
      "[CV 5/5] END criterion=entropy, max_depth=3, max_features=auto, n_estimators=10;, score=0.670 total time=   0.0s\n"
     ]
    },
    {
     "name": "stderr",
     "output_type": "stream",
     "text": [
      "/home/nidhiyashwanth/.local/lib/python3.10/site-packages/sklearn/ensemble/_forest.py:424: FutureWarning: `max_features='auto'` has been deprecated in 1.1 and will be removed in 1.3. To keep the past behaviour, explicitly set `max_features='sqrt'` or remove this parameter as it is also the default value for RandomForestClassifiers and ExtraTreesClassifiers.\n",
      "  warn(\n",
      "/home/nidhiyashwanth/.local/lib/python3.10/site-packages/sklearn/ensemble/_forest.py:424: FutureWarning: `max_features='auto'` has been deprecated in 1.1 and will be removed in 1.3. To keep the past behaviour, explicitly set `max_features='sqrt'` or remove this parameter as it is also the default value for RandomForestClassifiers and ExtraTreesClassifiers.\n",
      "  warn(\n",
      "/home/nidhiyashwanth/.local/lib/python3.10/site-packages/sklearn/ensemble/_forest.py:424: FutureWarning: `max_features='auto'` has been deprecated in 1.1 and will be removed in 1.3. To keep the past behaviour, explicitly set `max_features='sqrt'` or remove this parameter as it is also the default value for RandomForestClassifiers and ExtraTreesClassifiers.\n",
      "  warn(\n",
      "/home/nidhiyashwanth/.local/lib/python3.10/site-packages/sklearn/ensemble/_forest.py:424: FutureWarning: `max_features='auto'` has been deprecated in 1.1 and will be removed in 1.3. To keep the past behaviour, explicitly set `max_features='sqrt'` or remove this parameter as it is also the default value for RandomForestClassifiers and ExtraTreesClassifiers.\n",
      "  warn(\n",
      "/home/nidhiyashwanth/.local/lib/python3.10/site-packages/sklearn/ensemble/_forest.py:424: FutureWarning: `max_features='auto'` has been deprecated in 1.1 and will be removed in 1.3. To keep the past behaviour, explicitly set `max_features='sqrt'` or remove this parameter as it is also the default value for RandomForestClassifiers and ExtraTreesClassifiers.\n",
      "  warn(\n",
      "/home/nidhiyashwanth/.local/lib/python3.10/site-packages/sklearn/ensemble/_forest.py:424: FutureWarning: `max_features='auto'` has been deprecated in 1.1 and will be removed in 1.3. To keep the past behaviour, explicitly set `max_features='sqrt'` or remove this parameter as it is also the default value for RandomForestClassifiers and ExtraTreesClassifiers.\n",
      "  warn(\n"
     ]
    },
    {
     "name": "stdout",
     "output_type": "stream",
     "text": [
      "[CV 1/5] END criterion=entropy, max_depth=3, max_features=auto, n_estimators=50;, score=0.673 total time=   0.2s\n",
      "[CV 2/5] END criterion=entropy, max_depth=3, max_features=auto, n_estimators=50;, score=0.673 total time=   0.1s\n"
     ]
    },
    {
     "name": "stderr",
     "output_type": "stream",
     "text": [
      "/home/nidhiyashwanth/.local/lib/python3.10/site-packages/sklearn/ensemble/_forest.py:424: FutureWarning: `max_features='auto'` has been deprecated in 1.1 and will be removed in 1.3. To keep the past behaviour, explicitly set `max_features='sqrt'` or remove this parameter as it is also the default value for RandomForestClassifiers and ExtraTreesClassifiers.\n",
      "  warn(\n",
      "/home/nidhiyashwanth/.local/lib/python3.10/site-packages/sklearn/ensemble/_forest.py:424: FutureWarning: `max_features='auto'` has been deprecated in 1.1 and will be removed in 1.3. To keep the past behaviour, explicitly set `max_features='sqrt'` or remove this parameter as it is also the default value for RandomForestClassifiers and ExtraTreesClassifiers.\n",
      "  warn(\n"
     ]
    },
    {
     "name": "stdout",
     "output_type": "stream",
     "text": [
      "[CV 3/5] END criterion=entropy, max_depth=3, max_features=auto, n_estimators=50;, score=0.673 total time=   0.1s\n",
      "[CV 4/5] END criterion=entropy, max_depth=3, max_features=auto, n_estimators=50;, score=0.673 total time=   0.1s\n"
     ]
    },
    {
     "name": "stderr",
     "output_type": "stream",
     "text": [
      "/home/nidhiyashwanth/.local/lib/python3.10/site-packages/sklearn/ensemble/_forest.py:424: FutureWarning: `max_features='auto'` has been deprecated in 1.1 and will be removed in 1.3. To keep the past behaviour, explicitly set `max_features='sqrt'` or remove this parameter as it is also the default value for RandomForestClassifiers and ExtraTreesClassifiers.\n",
      "  warn(\n",
      "/home/nidhiyashwanth/.local/lib/python3.10/site-packages/sklearn/ensemble/_forest.py:424: FutureWarning: `max_features='auto'` has been deprecated in 1.1 and will be removed in 1.3. To keep the past behaviour, explicitly set `max_features='sqrt'` or remove this parameter as it is also the default value for RandomForestClassifiers and ExtraTreesClassifiers.\n",
      "  warn(\n"
     ]
    },
    {
     "name": "stdout",
     "output_type": "stream",
     "text": [
      "[CV 5/5] END criterion=entropy, max_depth=3, max_features=auto, n_estimators=50;, score=0.670 total time=   0.1s\n"
     ]
    },
    {
     "name": "stderr",
     "output_type": "stream",
     "text": [
      "/home/nidhiyashwanth/.local/lib/python3.10/site-packages/sklearn/ensemble/_forest.py:424: FutureWarning: `max_features='auto'` has been deprecated in 1.1 and will be removed in 1.3. To keep the past behaviour, explicitly set `max_features='sqrt'` or remove this parameter as it is also the default value for RandomForestClassifiers and ExtraTreesClassifiers.\n",
      "  warn(\n"
     ]
    },
    {
     "name": "stdout",
     "output_type": "stream",
     "text": [
      "[CV 1/5] END criterion=entropy, max_depth=3, max_features=auto, n_estimators=100;, score=0.673 total time=   0.3s\n"
     ]
    },
    {
     "name": "stderr",
     "output_type": "stream",
     "text": [
      "/home/nidhiyashwanth/.local/lib/python3.10/site-packages/sklearn/ensemble/_forest.py:424: FutureWarning: `max_features='auto'` has been deprecated in 1.1 and will be removed in 1.3. To keep the past behaviour, explicitly set `max_features='sqrt'` or remove this parameter as it is also the default value for RandomForestClassifiers and ExtraTreesClassifiers.\n",
      "  warn(\n"
     ]
    },
    {
     "name": "stdout",
     "output_type": "stream",
     "text": [
      "[CV 2/5] END criterion=entropy, max_depth=3, max_features=auto, n_estimators=100;, score=0.673 total time=   0.3s\n"
     ]
    },
    {
     "name": "stderr",
     "output_type": "stream",
     "text": [
      "/home/nidhiyashwanth/.local/lib/python3.10/site-packages/sklearn/ensemble/_forest.py:424: FutureWarning: `max_features='auto'` has been deprecated in 1.1 and will be removed in 1.3. To keep the past behaviour, explicitly set `max_features='sqrt'` or remove this parameter as it is also the default value for RandomForestClassifiers and ExtraTreesClassifiers.\n",
      "  warn(\n"
     ]
    },
    {
     "name": "stdout",
     "output_type": "stream",
     "text": [
      "[CV 3/5] END criterion=entropy, max_depth=3, max_features=auto, n_estimators=100;, score=0.673 total time=   0.3s\n"
     ]
    },
    {
     "name": "stderr",
     "output_type": "stream",
     "text": [
      "/home/nidhiyashwanth/.local/lib/python3.10/site-packages/sklearn/ensemble/_forest.py:424: FutureWarning: `max_features='auto'` has been deprecated in 1.1 and will be removed in 1.3. To keep the past behaviour, explicitly set `max_features='sqrt'` or remove this parameter as it is also the default value for RandomForestClassifiers and ExtraTreesClassifiers.\n",
      "  warn(\n"
     ]
    },
    {
     "name": "stdout",
     "output_type": "stream",
     "text": [
      "[CV 4/5] END criterion=entropy, max_depth=3, max_features=auto, n_estimators=100;, score=0.673 total time=   0.3s\n"
     ]
    },
    {
     "name": "stderr",
     "output_type": "stream",
     "text": [
      "/home/nidhiyashwanth/.local/lib/python3.10/site-packages/sklearn/ensemble/_forest.py:424: FutureWarning: `max_features='auto'` has been deprecated in 1.1 and will be removed in 1.3. To keep the past behaviour, explicitly set `max_features='sqrt'` or remove this parameter as it is also the default value for RandomForestClassifiers and ExtraTreesClassifiers.\n",
      "  warn(\n"
     ]
    },
    {
     "name": "stdout",
     "output_type": "stream",
     "text": [
      "[CV 5/5] END criterion=entropy, max_depth=3, max_features=auto, n_estimators=100;, score=0.670 total time=   0.2s\n"
     ]
    },
    {
     "name": "stderr",
     "output_type": "stream",
     "text": [
      "/home/nidhiyashwanth/.local/lib/python3.10/site-packages/sklearn/ensemble/_forest.py:424: FutureWarning: `max_features='auto'` has been deprecated in 1.1 and will be removed in 1.3. To keep the past behaviour, explicitly set `max_features='sqrt'` or remove this parameter as it is also the default value for RandomForestClassifiers and ExtraTreesClassifiers.\n",
      "  warn(\n"
     ]
    },
    {
     "name": "stdout",
     "output_type": "stream",
     "text": [
      "[CV 1/5] END criterion=entropy, max_depth=3, max_features=auto, n_estimators=130;, score=0.673 total time=   0.3s\n"
     ]
    },
    {
     "name": "stderr",
     "output_type": "stream",
     "text": [
      "/home/nidhiyashwanth/.local/lib/python3.10/site-packages/sklearn/ensemble/_forest.py:424: FutureWarning: `max_features='auto'` has been deprecated in 1.1 and will be removed in 1.3. To keep the past behaviour, explicitly set `max_features='sqrt'` or remove this parameter as it is also the default value for RandomForestClassifiers and ExtraTreesClassifiers.\n",
      "  warn(\n"
     ]
    },
    {
     "name": "stdout",
     "output_type": "stream",
     "text": [
      "[CV 2/5] END criterion=entropy, max_depth=3, max_features=auto, n_estimators=130;, score=0.676 total time=   0.4s\n"
     ]
    },
    {
     "name": "stderr",
     "output_type": "stream",
     "text": [
      "/home/nidhiyashwanth/.local/lib/python3.10/site-packages/sklearn/ensemble/_forest.py:424: FutureWarning: `max_features='auto'` has been deprecated in 1.1 and will be removed in 1.3. To keep the past behaviour, explicitly set `max_features='sqrt'` or remove this parameter as it is also the default value for RandomForestClassifiers and ExtraTreesClassifiers.\n",
      "  warn(\n"
     ]
    },
    {
     "name": "stdout",
     "output_type": "stream",
     "text": [
      "[CV 3/5] END criterion=entropy, max_depth=3, max_features=auto, n_estimators=130;, score=0.673 total time=   0.5s\n"
     ]
    },
    {
     "name": "stderr",
     "output_type": "stream",
     "text": [
      "/home/nidhiyashwanth/.local/lib/python3.10/site-packages/sklearn/ensemble/_forest.py:424: FutureWarning: `max_features='auto'` has been deprecated in 1.1 and will be removed in 1.3. To keep the past behaviour, explicitly set `max_features='sqrt'` or remove this parameter as it is also the default value for RandomForestClassifiers and ExtraTreesClassifiers.\n",
      "  warn(\n"
     ]
    },
    {
     "name": "stdout",
     "output_type": "stream",
     "text": [
      "[CV 4/5] END criterion=entropy, max_depth=3, max_features=auto, n_estimators=130;, score=0.673 total time=   0.4s\n"
     ]
    },
    {
     "name": "stderr",
     "output_type": "stream",
     "text": [
      "/home/nidhiyashwanth/.local/lib/python3.10/site-packages/sklearn/ensemble/_forest.py:424: FutureWarning: `max_features='auto'` has been deprecated in 1.1 and will be removed in 1.3. To keep the past behaviour, explicitly set `max_features='sqrt'` or remove this parameter as it is also the default value for RandomForestClassifiers and ExtraTreesClassifiers.\n",
      "  warn(\n"
     ]
    },
    {
     "name": "stdout",
     "output_type": "stream",
     "text": [
      "[CV 5/5] END criterion=entropy, max_depth=3, max_features=auto, n_estimators=130;, score=0.670 total time=   0.4s\n",
      "[CV 1/5] END criterion=entropy, max_depth=3, max_features=log2, n_estimators=10;, score=0.673 total time=   0.0s\n",
      "[CV 2/5] END criterion=entropy, max_depth=3, max_features=log2, n_estimators=10;, score=0.673 total time=   0.0s\n",
      "[CV 3/5] END criterion=entropy, max_depth=3, max_features=log2, n_estimators=10;, score=0.676 total time=   0.0s\n",
      "[CV 4/5] END criterion=entropy, max_depth=3, max_features=log2, n_estimators=10;, score=0.685 total time=   0.0s\n",
      "[CV 5/5] END criterion=entropy, max_depth=3, max_features=log2, n_estimators=10;, score=0.670 total time=   0.0s\n",
      "[CV 1/5] END criterion=entropy, max_depth=3, max_features=log2, n_estimators=50;, score=0.673 total time=   0.2s\n",
      "[CV 2/5] END criterion=entropy, max_depth=3, max_features=log2, n_estimators=50;, score=0.673 total time=   0.2s\n",
      "[CV 3/5] END criterion=entropy, max_depth=3, max_features=log2, n_estimators=50;, score=0.673 total time=   0.1s\n",
      "[CV 4/5] END criterion=entropy, max_depth=3, max_features=log2, n_estimators=50;, score=0.673 total time=   0.1s\n",
      "[CV 5/5] END criterion=entropy, max_depth=3, max_features=log2, n_estimators=50;, score=0.670 total time=   0.2s\n",
      "[CV 1/5] END criterion=entropy, max_depth=3, max_features=log2, n_estimators=100;, score=0.673 total time=   0.3s\n",
      "[CV 2/5] END criterion=entropy, max_depth=3, max_features=log2, n_estimators=100;, score=0.673 total time=   0.3s\n",
      "[CV 3/5] END criterion=entropy, max_depth=3, max_features=log2, n_estimators=100;, score=0.673 total time=   0.2s\n",
      "[CV 4/5] END criterion=entropy, max_depth=3, max_features=log2, n_estimators=100;, score=0.673 total time=   0.3s\n",
      "[CV 5/5] END criterion=entropy, max_depth=3, max_features=log2, n_estimators=100;, score=0.670 total time=   0.2s\n",
      "[CV 1/5] END criterion=entropy, max_depth=3, max_features=log2, n_estimators=130;, score=0.673 total time=   0.3s\n",
      "[CV 2/5] END criterion=entropy, max_depth=3, max_features=log2, n_estimators=130;, score=0.673 total time=   0.3s\n",
      "[CV 3/5] END criterion=entropy, max_depth=3, max_features=log2, n_estimators=130;, score=0.673 total time=   0.3s\n",
      "[CV 4/5] END criterion=entropy, max_depth=3, max_features=log2, n_estimators=130;, score=0.673 total time=   0.3s\n",
      "[CV 5/5] END criterion=entropy, max_depth=3, max_features=log2, n_estimators=130;, score=0.670 total time=   0.3s\n",
      "Random Forest best params: {'criterion': 'gini', 'max_depth': 3, 'max_features': 'auto', 'n_estimators': 10}. Exited the get_best_params_for_random_forest method of the Model_Finder class\n"
     ]
    },
    {
     "name": "stderr",
     "output_type": "stream",
     "text": [
      "/home/nidhiyashwanth/.local/lib/python3.10/site-packages/sklearn/ensemble/_forest.py:424: FutureWarning: `max_features='auto'` has been deprecated in 1.1 and will be removed in 1.3. To keep the past behaviour, explicitly set `max_features='sqrt'` or remove this parameter as it is also the default value for RandomForestClassifiers and ExtraTreesClassifiers.\n",
      "  warn(\n",
      "/home/nidhiyashwanth/.local/lib/python3.10/site-packages/sklearn/ensemble/_forest.py:424: FutureWarning: `max_features='auto'` has been deprecated in 1.1 and will be removed in 1.3. To keep the past behaviour, explicitly set `max_features='sqrt'` or remove this parameter as it is also the default value for RandomForestClassifiers and ExtraTreesClassifiers.\n",
      "  warn(\n"
     ]
    }
   ],
   "source": [
    "random_forest_classifier = get_best_params_for_random_forest(x_train,y_train)"
   ]
  },
  {
   "cell_type": "code",
   "execution_count": 62,
   "metadata": {
    "colab": {
     "base_uri": "https://localhost:8080/"
    },
    "id": "0lR9rMiz9gxF",
    "outputId": "9876b213-d77c-443e-cb82-0104fb24ef1c"
   },
   "outputs": [
    {
     "name": "stdout",
     "output_type": "stream",
     "text": [
      "Entered the get_best_params_for_Ensembled_KNN method of the Model_Finder class\n",
      "Fitting 5 folds for each of 180 candidates, totalling 900 fits\n",
      "[CV 1/5] END algorithm=ball_tree, leaf_size=10, n_neighbors=4, p=1;, score=0.926 total time=   0.1s\n",
      "[CV 2/5] END algorithm=ball_tree, leaf_size=10, n_neighbors=4, p=1;, score=0.898 total time=   0.0s\n",
      "[CV 3/5] END algorithm=ball_tree, leaf_size=10, n_neighbors=4, p=1;, score=0.901 total time=   0.0s\n",
      "[CV 4/5] END algorithm=ball_tree, leaf_size=10, n_neighbors=4, p=1;, score=0.898 total time=   0.0s\n",
      "[CV 5/5] END algorithm=ball_tree, leaf_size=10, n_neighbors=4, p=1;, score=0.929 total time=   0.0s\n",
      "[CV 1/5] END algorithm=ball_tree, leaf_size=10, n_neighbors=4, p=2;, score=0.926 total time=   0.0s\n",
      "[CV 2/5] END algorithm=ball_tree, leaf_size=10, n_neighbors=4, p=2;, score=0.914 total time=   0.0s\n",
      "[CV 3/5] END algorithm=ball_tree, leaf_size=10, n_neighbors=4, p=2;, score=0.892 total time=   0.0s\n",
      "[CV 4/5] END algorithm=ball_tree, leaf_size=10, n_neighbors=4, p=2;, score=0.910 total time=   0.0s\n",
      "[CV 5/5] END algorithm=ball_tree, leaf_size=10, n_neighbors=4, p=2;, score=0.920 total time=   0.0s\n",
      "[CV 1/5] END algorithm=ball_tree, leaf_size=10, n_neighbors=5, p=1;, score=0.926 total time=   0.0s\n",
      "[CV 2/5] END algorithm=ball_tree, leaf_size=10, n_neighbors=5, p=1;, score=0.895 total time=   0.0s\n",
      "[CV 3/5] END algorithm=ball_tree, leaf_size=10, n_neighbors=5, p=1;, score=0.901 total time=   0.0s\n",
      "[CV 4/5] END algorithm=ball_tree, leaf_size=10, n_neighbors=5, p=1;, score=0.901 total time=   0.0s\n",
      "[CV 5/5] END algorithm=ball_tree, leaf_size=10, n_neighbors=5, p=1;, score=0.929 total time=   0.0s\n",
      "[CV 1/5] END algorithm=ball_tree, leaf_size=10, n_neighbors=5, p=2;, score=0.926 total time=   0.0s\n",
      "[CV 2/5] END algorithm=ball_tree, leaf_size=10, n_neighbors=5, p=2;, score=0.907 total time=   0.0s\n",
      "[CV 3/5] END algorithm=ball_tree, leaf_size=10, n_neighbors=5, p=2;, score=0.895 total time=   0.0s\n",
      "[CV 4/5] END algorithm=ball_tree, leaf_size=10, n_neighbors=5, p=2;, score=0.910 total time=   0.0s\n",
      "[CV 5/5] END algorithm=ball_tree, leaf_size=10, n_neighbors=5, p=2;, score=0.920 total time=   0.0s\n",
      "[CV 1/5] END algorithm=ball_tree, leaf_size=10, n_neighbors=8, p=1;, score=0.889 total time=   0.0s\n",
      "[CV 2/5] END algorithm=ball_tree, leaf_size=10, n_neighbors=8, p=1;, score=0.855 total time=   0.0s\n",
      "[CV 3/5] END algorithm=ball_tree, leaf_size=10, n_neighbors=8, p=1;, score=0.861 total time=   0.0s\n",
      "[CV 4/5] END algorithm=ball_tree, leaf_size=10, n_neighbors=8, p=1;, score=0.861 total time=   0.0s\n",
      "[CV 5/5] END algorithm=ball_tree, leaf_size=10, n_neighbors=8, p=1;, score=0.873 total time=   0.0s\n",
      "[CV 1/5] END algorithm=ball_tree, leaf_size=10, n_neighbors=8, p=2;, score=0.883 total time=   0.0s\n",
      "[CV 2/5] END algorithm=ball_tree, leaf_size=10, n_neighbors=8, p=2;, score=0.877 total time=   0.0s\n",
      "[CV 3/5] END algorithm=ball_tree, leaf_size=10, n_neighbors=8, p=2;, score=0.864 total time=   0.0s\n",
      "[CV 4/5] END algorithm=ball_tree, leaf_size=10, n_neighbors=8, p=2;, score=0.849 total time=   0.0s\n",
      "[CV 5/5] END algorithm=ball_tree, leaf_size=10, n_neighbors=8, p=2;, score=0.877 total time=   0.1s\n",
      "[CV 1/5] END algorithm=ball_tree, leaf_size=10, n_neighbors=10, p=1;, score=0.889 total time=   0.0s\n",
      "[CV 2/5] END algorithm=ball_tree, leaf_size=10, n_neighbors=10, p=1;, score=0.836 total time=   0.0s\n",
      "[CV 3/5] END algorithm=ball_tree, leaf_size=10, n_neighbors=10, p=1;, score=0.833 total time=   0.0s\n",
      "[CV 4/5] END algorithm=ball_tree, leaf_size=10, n_neighbors=10, p=1;, score=0.840 total time=   0.0s\n",
      "[CV 5/5] END algorithm=ball_tree, leaf_size=10, n_neighbors=10, p=1;, score=0.858 total time=   0.0s\n",
      "[CV 1/5] END algorithm=ball_tree, leaf_size=10, n_neighbors=10, p=2;, score=0.861 total time=   0.0s\n",
      "[CV 2/5] END algorithm=ball_tree, leaf_size=10, n_neighbors=10, p=2;, score=0.855 total time=   0.0s\n",
      "[CV 3/5] END algorithm=ball_tree, leaf_size=10, n_neighbors=10, p=2;, score=0.830 total time=   0.0s\n",
      "[CV 4/5] END algorithm=ball_tree, leaf_size=10, n_neighbors=10, p=2;, score=0.843 total time=   0.0s\n",
      "[CV 5/5] END algorithm=ball_tree, leaf_size=10, n_neighbors=10, p=2;, score=0.861 total time=   0.0s\n",
      "[CV 1/5] END algorithm=ball_tree, leaf_size=10, n_neighbors=11, p=1;, score=0.889 total time=   0.0s\n",
      "[CV 2/5] END algorithm=ball_tree, leaf_size=10, n_neighbors=11, p=1;, score=0.840 total time=   0.0s\n",
      "[CV 3/5] END algorithm=ball_tree, leaf_size=10, n_neighbors=11, p=1;, score=0.840 total time=   0.0s\n",
      "[CV 4/5] END algorithm=ball_tree, leaf_size=10, n_neighbors=11, p=1;, score=0.836 total time=   0.0s\n",
      "[CV 5/5] END algorithm=ball_tree, leaf_size=10, n_neighbors=11, p=1;, score=0.858 total time=   0.0s\n",
      "[CV 1/5] END algorithm=ball_tree, leaf_size=10, n_neighbors=11, p=2;, score=0.861 total time=   0.0s\n",
      "[CV 2/5] END algorithm=ball_tree, leaf_size=10, n_neighbors=11, p=2;, score=0.855 total time=   0.0s\n",
      "[CV 3/5] END algorithm=ball_tree, leaf_size=10, n_neighbors=11, p=2;, score=0.830 total time=   0.0s\n",
      "[CV 4/5] END algorithm=ball_tree, leaf_size=10, n_neighbors=11, p=2;, score=0.840 total time=   0.0s\n",
      "[CV 5/5] END algorithm=ball_tree, leaf_size=10, n_neighbors=11, p=2;, score=0.861 total time=   0.0s\n",
      "[CV 1/5] END algorithm=ball_tree, leaf_size=17, n_neighbors=4, p=1;, score=0.926 total time=   0.0s\n",
      "[CV 2/5] END algorithm=ball_tree, leaf_size=17, n_neighbors=4, p=1;, score=0.901 total time=   0.0s\n",
      "[CV 3/5] END algorithm=ball_tree, leaf_size=17, n_neighbors=4, p=1;, score=0.901 total time=   0.0s\n",
      "[CV 4/5] END algorithm=ball_tree, leaf_size=17, n_neighbors=4, p=1;, score=0.898 total time=   0.0s\n",
      "[CV 5/5] END algorithm=ball_tree, leaf_size=17, n_neighbors=4, p=1;, score=0.926 total time=   0.0s\n",
      "[CV 1/5] END algorithm=ball_tree, leaf_size=17, n_neighbors=4, p=2;, score=0.926 total time=   0.0s\n",
      "[CV 2/5] END algorithm=ball_tree, leaf_size=17, n_neighbors=4, p=2;, score=0.914 total time=   0.0s\n",
      "[CV 3/5] END algorithm=ball_tree, leaf_size=17, n_neighbors=4, p=2;, score=0.892 total time=   0.0s\n",
      "[CV 4/5] END algorithm=ball_tree, leaf_size=17, n_neighbors=4, p=2;, score=0.910 total time=   0.0s\n",
      "[CV 5/5] END algorithm=ball_tree, leaf_size=17, n_neighbors=4, p=2;, score=0.920 total time=   0.0s\n",
      "[CV 1/5] END algorithm=ball_tree, leaf_size=17, n_neighbors=5, p=1;, score=0.926 total time=   0.0s\n",
      "[CV 2/5] END algorithm=ball_tree, leaf_size=17, n_neighbors=5, p=1;, score=0.895 total time=   0.0s\n",
      "[CV 3/5] END algorithm=ball_tree, leaf_size=17, n_neighbors=5, p=1;, score=0.904 total time=   0.0s\n",
      "[CV 4/5] END algorithm=ball_tree, leaf_size=17, n_neighbors=5, p=1;, score=0.895 total time=   0.0s\n",
      "[CV 5/5] END algorithm=ball_tree, leaf_size=17, n_neighbors=5, p=1;, score=0.926 total time=   0.0s\n",
      "[CV 1/5] END algorithm=ball_tree, leaf_size=17, n_neighbors=5, p=2;, score=0.926 total time=   0.1s\n",
      "[CV 2/5] END algorithm=ball_tree, leaf_size=17, n_neighbors=5, p=2;, score=0.907 total time=   0.0s\n",
      "[CV 3/5] END algorithm=ball_tree, leaf_size=17, n_neighbors=5, p=2;, score=0.892 total time=   0.0s\n",
      "[CV 4/5] END algorithm=ball_tree, leaf_size=17, n_neighbors=5, p=2;, score=0.910 total time=   0.0s\n",
      "[CV 5/5] END algorithm=ball_tree, leaf_size=17, n_neighbors=5, p=2;, score=0.920 total time=   0.0s\n",
      "[CV 1/5] END algorithm=ball_tree, leaf_size=17, n_neighbors=8, p=1;, score=0.889 total time=   0.0s\n",
      "[CV 2/5] END algorithm=ball_tree, leaf_size=17, n_neighbors=8, p=1;, score=0.852 total time=   0.0s\n",
      "[CV 3/5] END algorithm=ball_tree, leaf_size=17, n_neighbors=8, p=1;, score=0.864 total time=   0.0s\n",
      "[CV 4/5] END algorithm=ball_tree, leaf_size=17, n_neighbors=8, p=1;, score=0.861 total time=   0.0s\n",
      "[CV 5/5] END algorithm=ball_tree, leaf_size=17, n_neighbors=8, p=1;, score=0.873 total time=   0.0s\n",
      "[CV 1/5] END algorithm=ball_tree, leaf_size=17, n_neighbors=8, p=2;, score=0.880 total time=   0.0s\n",
      "[CV 2/5] END algorithm=ball_tree, leaf_size=17, n_neighbors=8, p=2;, score=0.877 total time=   0.0s\n",
      "[CV 3/5] END algorithm=ball_tree, leaf_size=17, n_neighbors=8, p=2;, score=0.864 total time=   0.0s\n",
      "[CV 4/5] END algorithm=ball_tree, leaf_size=17, n_neighbors=8, p=2;, score=0.849 total time=   0.0s\n",
      "[CV 5/5] END algorithm=ball_tree, leaf_size=17, n_neighbors=8, p=2;, score=0.877 total time=   0.0s\n",
      "[CV 1/5] END algorithm=ball_tree, leaf_size=17, n_neighbors=10, p=1;, score=0.886 total time=   0.0s\n",
      "[CV 2/5] END algorithm=ball_tree, leaf_size=17, n_neighbors=10, p=1;, score=0.840 total time=   0.0s\n",
      "[CV 3/5] END algorithm=ball_tree, leaf_size=17, n_neighbors=10, p=1;, score=0.840 total time=   0.0s\n"
     ]
    },
    {
     "name": "stdout",
     "output_type": "stream",
     "text": [
      "[CV 4/5] END algorithm=ball_tree, leaf_size=17, n_neighbors=10, p=1;, score=0.833 total time=   0.0s\n",
      "[CV 5/5] END algorithm=ball_tree, leaf_size=17, n_neighbors=10, p=1;, score=0.855 total time=   0.0s\n",
      "[CV 1/5] END algorithm=ball_tree, leaf_size=17, n_neighbors=10, p=2;, score=0.861 total time=   0.1s\n",
      "[CV 2/5] END algorithm=ball_tree, leaf_size=17, n_neighbors=10, p=2;, score=0.855 total time=   0.0s\n",
      "[CV 3/5] END algorithm=ball_tree, leaf_size=17, n_neighbors=10, p=2;, score=0.830 total time=   0.0s\n",
      "[CV 4/5] END algorithm=ball_tree, leaf_size=17, n_neighbors=10, p=2;, score=0.840 total time=   0.0s\n",
      "[CV 5/5] END algorithm=ball_tree, leaf_size=17, n_neighbors=10, p=2;, score=0.861 total time=   0.0s\n",
      "[CV 1/5] END algorithm=ball_tree, leaf_size=17, n_neighbors=11, p=1;, score=0.886 total time=   0.0s\n",
      "[CV 2/5] END algorithm=ball_tree, leaf_size=17, n_neighbors=11, p=1;, score=0.840 total time=   0.0s\n",
      "[CV 3/5] END algorithm=ball_tree, leaf_size=17, n_neighbors=11, p=1;, score=0.843 total time=   0.0s\n",
      "[CV 4/5] END algorithm=ball_tree, leaf_size=17, n_neighbors=11, p=1;, score=0.833 total time=   0.0s\n",
      "[CV 5/5] END algorithm=ball_tree, leaf_size=17, n_neighbors=11, p=1;, score=0.855 total time=   0.0s\n",
      "[CV 1/5] END algorithm=ball_tree, leaf_size=17, n_neighbors=11, p=2;, score=0.861 total time=   0.0s\n",
      "[CV 2/5] END algorithm=ball_tree, leaf_size=17, n_neighbors=11, p=2;, score=0.855 total time=   0.0s\n",
      "[CV 3/5] END algorithm=ball_tree, leaf_size=17, n_neighbors=11, p=2;, score=0.830 total time=   0.0s\n",
      "[CV 4/5] END algorithm=ball_tree, leaf_size=17, n_neighbors=11, p=2;, score=0.840 total time=   0.0s\n",
      "[CV 5/5] END algorithm=ball_tree, leaf_size=17, n_neighbors=11, p=2;, score=0.861 total time=   0.0s\n",
      "[CV 1/5] END algorithm=ball_tree, leaf_size=24, n_neighbors=4, p=1;, score=0.923 total time=   0.0s\n",
      "[CV 2/5] END algorithm=ball_tree, leaf_size=24, n_neighbors=4, p=1;, score=0.898 total time=   0.0s\n",
      "[CV 3/5] END algorithm=ball_tree, leaf_size=24, n_neighbors=4, p=1;, score=0.904 total time=   0.0s\n",
      "[CV 4/5] END algorithm=ball_tree, leaf_size=24, n_neighbors=4, p=1;, score=0.901 total time=   0.0s\n",
      "[CV 5/5] END algorithm=ball_tree, leaf_size=24, n_neighbors=4, p=1;, score=0.926 total time=   0.0s\n",
      "[CV 1/5] END algorithm=ball_tree, leaf_size=24, n_neighbors=4, p=2;, score=0.926 total time=   0.0s\n",
      "[CV 2/5] END algorithm=ball_tree, leaf_size=24, n_neighbors=4, p=2;, score=0.914 total time=   0.0s\n",
      "[CV 3/5] END algorithm=ball_tree, leaf_size=24, n_neighbors=4, p=2;, score=0.892 total time=   0.0s\n",
      "[CV 4/5] END algorithm=ball_tree, leaf_size=24, n_neighbors=4, p=2;, score=0.910 total time=   0.0s\n",
      "[CV 5/5] END algorithm=ball_tree, leaf_size=24, n_neighbors=4, p=2;, score=0.920 total time=   0.1s\n",
      "[CV 1/5] END algorithm=ball_tree, leaf_size=24, n_neighbors=5, p=1;, score=0.923 total time=   0.1s\n",
      "[CV 2/5] END algorithm=ball_tree, leaf_size=24, n_neighbors=5, p=1;, score=0.892 total time=   0.1s\n",
      "[CV 3/5] END algorithm=ball_tree, leaf_size=24, n_neighbors=5, p=1;, score=0.904 total time=   0.1s\n",
      "[CV 4/5] END algorithm=ball_tree, leaf_size=24, n_neighbors=5, p=1;, score=0.901 total time=   0.0s\n",
      "[CV 5/5] END algorithm=ball_tree, leaf_size=24, n_neighbors=5, p=1;, score=0.926 total time=   0.1s\n",
      "[CV 1/5] END algorithm=ball_tree, leaf_size=24, n_neighbors=5, p=2;, score=0.926 total time=   0.0s\n",
      "[CV 2/5] END algorithm=ball_tree, leaf_size=24, n_neighbors=5, p=2;, score=0.907 total time=   0.0s\n",
      "[CV 3/5] END algorithm=ball_tree, leaf_size=24, n_neighbors=5, p=2;, score=0.892 total time=   0.0s\n",
      "[CV 4/5] END algorithm=ball_tree, leaf_size=24, n_neighbors=5, p=2;, score=0.910 total time=   0.0s\n",
      "[CV 5/5] END algorithm=ball_tree, leaf_size=24, n_neighbors=5, p=2;, score=0.920 total time=   0.0s\n",
      "[CV 1/5] END algorithm=ball_tree, leaf_size=24, n_neighbors=8, p=1;, score=0.889 total time=   0.0s\n",
      "[CV 2/5] END algorithm=ball_tree, leaf_size=24, n_neighbors=8, p=1;, score=0.852 total time=   0.0s\n",
      "[CV 3/5] END algorithm=ball_tree, leaf_size=24, n_neighbors=8, p=1;, score=0.861 total time=   0.0s\n",
      "[CV 4/5] END algorithm=ball_tree, leaf_size=24, n_neighbors=8, p=1;, score=0.864 total time=   0.0s\n",
      "[CV 5/5] END algorithm=ball_tree, leaf_size=24, n_neighbors=8, p=1;, score=0.873 total time=   0.0s\n",
      "[CV 1/5] END algorithm=ball_tree, leaf_size=24, n_neighbors=8, p=2;, score=0.880 total time=   0.0s\n",
      "[CV 2/5] END algorithm=ball_tree, leaf_size=24, n_neighbors=8, p=2;, score=0.877 total time=   0.1s\n",
      "[CV 3/5] END algorithm=ball_tree, leaf_size=24, n_neighbors=8, p=2;, score=0.864 total time=   0.0s\n",
      "[CV 4/5] END algorithm=ball_tree, leaf_size=24, n_neighbors=8, p=2;, score=0.849 total time=   0.0s\n",
      "[CV 5/5] END algorithm=ball_tree, leaf_size=24, n_neighbors=8, p=2;, score=0.877 total time=   0.0s\n",
      "[CV 1/5] END algorithm=ball_tree, leaf_size=24, n_neighbors=10, p=1;, score=0.883 total time=   0.0s\n",
      "[CV 2/5] END algorithm=ball_tree, leaf_size=24, n_neighbors=10, p=1;, score=0.836 total time=   0.0s\n",
      "[CV 3/5] END algorithm=ball_tree, leaf_size=24, n_neighbors=10, p=1;, score=0.840 total time=   0.0s\n",
      "[CV 4/5] END algorithm=ball_tree, leaf_size=24, n_neighbors=10, p=1;, score=0.833 total time=   0.0s\n",
      "[CV 5/5] END algorithm=ball_tree, leaf_size=24, n_neighbors=10, p=1;, score=0.855 total time=   0.0s\n",
      "[CV 1/5] END algorithm=ball_tree, leaf_size=24, n_neighbors=10, p=2;, score=0.861 total time=   0.0s\n",
      "[CV 2/5] END algorithm=ball_tree, leaf_size=24, n_neighbors=10, p=2;, score=0.855 total time=   0.0s\n",
      "[CV 3/5] END algorithm=ball_tree, leaf_size=24, n_neighbors=10, p=2;, score=0.830 total time=   0.1s\n",
      "[CV 4/5] END algorithm=ball_tree, leaf_size=24, n_neighbors=10, p=2;, score=0.836 total time=   0.1s\n",
      "[CV 5/5] END algorithm=ball_tree, leaf_size=24, n_neighbors=10, p=2;, score=0.861 total time=   0.0s\n",
      "[CV 1/5] END algorithm=ball_tree, leaf_size=24, n_neighbors=11, p=1;, score=0.883 total time=   0.0s\n",
      "[CV 2/5] END algorithm=ball_tree, leaf_size=24, n_neighbors=11, p=1;, score=0.836 total time=   0.0s\n",
      "[CV 3/5] END algorithm=ball_tree, leaf_size=24, n_neighbors=11, p=1;, score=0.843 total time=   0.0s\n",
      "[CV 4/5] END algorithm=ball_tree, leaf_size=24, n_neighbors=11, p=1;, score=0.833 total time=   0.0s\n",
      "[CV 5/5] END algorithm=ball_tree, leaf_size=24, n_neighbors=11, p=1;, score=0.855 total time=   0.0s\n",
      "[CV 1/5] END algorithm=ball_tree, leaf_size=24, n_neighbors=11, p=2;, score=0.861 total time=   0.0s\n",
      "[CV 2/5] END algorithm=ball_tree, leaf_size=24, n_neighbors=11, p=2;, score=0.855 total time=   0.0s\n",
      "[CV 3/5] END algorithm=ball_tree, leaf_size=24, n_neighbors=11, p=2;, score=0.830 total time=   0.0s\n",
      "[CV 4/5] END algorithm=ball_tree, leaf_size=24, n_neighbors=11, p=2;, score=0.836 total time=   0.0s\n",
      "[CV 5/5] END algorithm=ball_tree, leaf_size=24, n_neighbors=11, p=2;, score=0.861 total time=   0.0s\n",
      "[CV 1/5] END algorithm=ball_tree, leaf_size=28, n_neighbors=4, p=1;, score=0.923 total time=   0.0s\n",
      "[CV 2/5] END algorithm=ball_tree, leaf_size=28, n_neighbors=4, p=1;, score=0.898 total time=   0.0s\n",
      "[CV 3/5] END algorithm=ball_tree, leaf_size=28, n_neighbors=4, p=1;, score=0.904 total time=   0.1s\n",
      "[CV 4/5] END algorithm=ball_tree, leaf_size=28, n_neighbors=4, p=1;, score=0.901 total time=   0.0s\n",
      "[CV 5/5] END algorithm=ball_tree, leaf_size=28, n_neighbors=4, p=1;, score=0.926 total time=   0.0s\n",
      "[CV 1/5] END algorithm=ball_tree, leaf_size=28, n_neighbors=4, p=2;, score=0.926 total time=   0.0s\n",
      "[CV 2/5] END algorithm=ball_tree, leaf_size=28, n_neighbors=4, p=2;, score=0.914 total time=   0.0s\n",
      "[CV 3/5] END algorithm=ball_tree, leaf_size=28, n_neighbors=4, p=2;, score=0.892 total time=   0.0s\n",
      "[CV 4/5] END algorithm=ball_tree, leaf_size=28, n_neighbors=4, p=2;, score=0.910 total time=   0.0s\n",
      "[CV 5/5] END algorithm=ball_tree, leaf_size=28, n_neighbors=4, p=2;, score=0.920 total time=   0.1s\n",
      "[CV 1/5] END algorithm=ball_tree, leaf_size=28, n_neighbors=5, p=1;, score=0.923 total time=   0.0s\n",
      "[CV 2/5] END algorithm=ball_tree, leaf_size=28, n_neighbors=5, p=1;, score=0.892 total time=   0.0s\n",
      "[CV 3/5] END algorithm=ball_tree, leaf_size=28, n_neighbors=5, p=1;, score=0.904 total time=   0.0s\n",
      "[CV 4/5] END algorithm=ball_tree, leaf_size=28, n_neighbors=5, p=1;, score=0.901 total time=   0.0s\n",
      "[CV 5/5] END algorithm=ball_tree, leaf_size=28, n_neighbors=5, p=1;, score=0.926 total time=   0.0s\n",
      "[CV 1/5] END algorithm=ball_tree, leaf_size=28, n_neighbors=5, p=2;, score=0.926 total time=   0.0s\n",
      "[CV 2/5] END algorithm=ball_tree, leaf_size=28, n_neighbors=5, p=2;, score=0.907 total time=   0.0s\n"
     ]
    },
    {
     "name": "stdout",
     "output_type": "stream",
     "text": [
      "[CV 3/5] END algorithm=ball_tree, leaf_size=28, n_neighbors=5, p=2;, score=0.892 total time=   0.0s\n",
      "[CV 4/5] END algorithm=ball_tree, leaf_size=28, n_neighbors=5, p=2;, score=0.910 total time=   0.0s\n",
      "[CV 5/5] END algorithm=ball_tree, leaf_size=28, n_neighbors=5, p=2;, score=0.920 total time=   0.0s\n",
      "[CV 1/5] END algorithm=ball_tree, leaf_size=28, n_neighbors=8, p=1;, score=0.889 total time=   0.0s\n",
      "[CV 2/5] END algorithm=ball_tree, leaf_size=28, n_neighbors=8, p=1;, score=0.852 total time=   0.0s\n",
      "[CV 3/5] END algorithm=ball_tree, leaf_size=28, n_neighbors=8, p=1;, score=0.861 total time=   0.0s\n",
      "[CV 4/5] END algorithm=ball_tree, leaf_size=28, n_neighbors=8, p=1;, score=0.864 total time=   0.0s\n",
      "[CV 5/5] END algorithm=ball_tree, leaf_size=28, n_neighbors=8, p=1;, score=0.873 total time=   0.0s\n",
      "[CV 1/5] END algorithm=ball_tree, leaf_size=28, n_neighbors=8, p=2;, score=0.880 total time=   0.0s\n",
      "[CV 2/5] END algorithm=ball_tree, leaf_size=28, n_neighbors=8, p=2;, score=0.877 total time=   0.0s\n",
      "[CV 3/5] END algorithm=ball_tree, leaf_size=28, n_neighbors=8, p=2;, score=0.864 total time=   0.0s\n",
      "[CV 4/5] END algorithm=ball_tree, leaf_size=28, n_neighbors=8, p=2;, score=0.849 total time=   0.0s\n",
      "[CV 5/5] END algorithm=ball_tree, leaf_size=28, n_neighbors=8, p=2;, score=0.877 total time=   0.0s\n",
      "[CV 1/5] END algorithm=ball_tree, leaf_size=28, n_neighbors=10, p=1;, score=0.883 total time=   0.0s\n",
      "[CV 2/5] END algorithm=ball_tree, leaf_size=28, n_neighbors=10, p=1;, score=0.836 total time=   0.0s\n",
      "[CV 3/5] END algorithm=ball_tree, leaf_size=28, n_neighbors=10, p=1;, score=0.840 total time=   0.0s\n",
      "[CV 4/5] END algorithm=ball_tree, leaf_size=28, n_neighbors=10, p=1;, score=0.833 total time=   0.0s\n",
      "[CV 5/5] END algorithm=ball_tree, leaf_size=28, n_neighbors=10, p=1;, score=0.855 total time=   0.0s\n",
      "[CV 1/5] END algorithm=ball_tree, leaf_size=28, n_neighbors=10, p=2;, score=0.861 total time=   0.0s\n",
      "[CV 2/5] END algorithm=ball_tree, leaf_size=28, n_neighbors=10, p=2;, score=0.855 total time=   0.0s\n",
      "[CV 3/5] END algorithm=ball_tree, leaf_size=28, n_neighbors=10, p=2;, score=0.830 total time=   0.0s\n",
      "[CV 4/5] END algorithm=ball_tree, leaf_size=28, n_neighbors=10, p=2;, score=0.836 total time=   0.1s\n",
      "[CV 5/5] END algorithm=ball_tree, leaf_size=28, n_neighbors=10, p=2;, score=0.861 total time=   0.0s\n",
      "[CV 1/5] END algorithm=ball_tree, leaf_size=28, n_neighbors=11, p=1;, score=0.883 total time=   0.0s\n",
      "[CV 2/5] END algorithm=ball_tree, leaf_size=28, n_neighbors=11, p=1;, score=0.836 total time=   0.0s\n",
      "[CV 3/5] END algorithm=ball_tree, leaf_size=28, n_neighbors=11, p=1;, score=0.843 total time=   0.0s\n",
      "[CV 4/5] END algorithm=ball_tree, leaf_size=28, n_neighbors=11, p=1;, score=0.833 total time=   0.0s\n",
      "[CV 5/5] END algorithm=ball_tree, leaf_size=28, n_neighbors=11, p=1;, score=0.855 total time=   0.0s\n",
      "[CV 1/5] END algorithm=ball_tree, leaf_size=28, n_neighbors=11, p=2;, score=0.861 total time=   0.0s\n",
      "[CV 2/5] END algorithm=ball_tree, leaf_size=28, n_neighbors=11, p=2;, score=0.855 total time=   0.0s\n",
      "[CV 3/5] END algorithm=ball_tree, leaf_size=28, n_neighbors=11, p=2;, score=0.830 total time=   0.0s\n",
      "[CV 4/5] END algorithm=ball_tree, leaf_size=28, n_neighbors=11, p=2;, score=0.836 total time=   0.0s\n",
      "[CV 5/5] END algorithm=ball_tree, leaf_size=28, n_neighbors=11, p=2;, score=0.861 total time=   0.1s\n",
      "[CV 1/5] END algorithm=ball_tree, leaf_size=30, n_neighbors=4, p=1;, score=0.923 total time=   0.0s\n",
      "[CV 2/5] END algorithm=ball_tree, leaf_size=30, n_neighbors=4, p=1;, score=0.898 total time=   0.0s\n",
      "[CV 3/5] END algorithm=ball_tree, leaf_size=30, n_neighbors=4, p=1;, score=0.904 total time=   0.0s\n",
      "[CV 4/5] END algorithm=ball_tree, leaf_size=30, n_neighbors=4, p=1;, score=0.901 total time=   0.1s\n",
      "[CV 5/5] END algorithm=ball_tree, leaf_size=30, n_neighbors=4, p=1;, score=0.926 total time=   0.0s\n",
      "[CV 1/5] END algorithm=ball_tree, leaf_size=30, n_neighbors=4, p=2;, score=0.926 total time=   0.0s\n",
      "[CV 2/5] END algorithm=ball_tree, leaf_size=30, n_neighbors=4, p=2;, score=0.914 total time=   0.0s\n",
      "[CV 3/5] END algorithm=ball_tree, leaf_size=30, n_neighbors=4, p=2;, score=0.892 total time=   0.0s\n",
      "[CV 4/5] END algorithm=ball_tree, leaf_size=30, n_neighbors=4, p=2;, score=0.910 total time=   0.0s\n",
      "[CV 5/5] END algorithm=ball_tree, leaf_size=30, n_neighbors=4, p=2;, score=0.920 total time=   0.0s\n",
      "[CV 1/5] END algorithm=ball_tree, leaf_size=30, n_neighbors=5, p=1;, score=0.923 total time=   0.0s\n",
      "[CV 2/5] END algorithm=ball_tree, leaf_size=30, n_neighbors=5, p=1;, score=0.892 total time=   0.0s\n",
      "[CV 3/5] END algorithm=ball_tree, leaf_size=30, n_neighbors=5, p=1;, score=0.904 total time=   0.0s\n",
      "[CV 4/5] END algorithm=ball_tree, leaf_size=30, n_neighbors=5, p=1;, score=0.901 total time=   0.0s\n",
      "[CV 5/5] END algorithm=ball_tree, leaf_size=30, n_neighbors=5, p=1;, score=0.926 total time=   0.0s\n",
      "[CV 1/5] END algorithm=ball_tree, leaf_size=30, n_neighbors=5, p=2;, score=0.926 total time=   0.1s\n",
      "[CV 2/5] END algorithm=ball_tree, leaf_size=30, n_neighbors=5, p=2;, score=0.907 total time=   0.1s\n",
      "[CV 3/5] END algorithm=ball_tree, leaf_size=30, n_neighbors=5, p=2;, score=0.892 total time=   0.1s\n",
      "[CV 4/5] END algorithm=ball_tree, leaf_size=30, n_neighbors=5, p=2;, score=0.910 total time=   0.1s\n",
      "[CV 5/5] END algorithm=ball_tree, leaf_size=30, n_neighbors=5, p=2;, score=0.920 total time=   0.1s\n",
      "[CV 1/5] END algorithm=ball_tree, leaf_size=30, n_neighbors=8, p=1;, score=0.889 total time=   0.0s\n",
      "[CV 2/5] END algorithm=ball_tree, leaf_size=30, n_neighbors=8, p=1;, score=0.852 total time=   0.0s\n",
      "[CV 3/5] END algorithm=ball_tree, leaf_size=30, n_neighbors=8, p=1;, score=0.861 total time=   0.0s\n",
      "[CV 4/5] END algorithm=ball_tree, leaf_size=30, n_neighbors=8, p=1;, score=0.864 total time=   0.0s\n",
      "[CV 5/5] END algorithm=ball_tree, leaf_size=30, n_neighbors=8, p=1;, score=0.873 total time=   0.0s\n",
      "[CV 1/5] END algorithm=ball_tree, leaf_size=30, n_neighbors=8, p=2;, score=0.880 total time=   0.0s\n",
      "[CV 2/5] END algorithm=ball_tree, leaf_size=30, n_neighbors=8, p=2;, score=0.877 total time=   0.0s\n",
      "[CV 3/5] END algorithm=ball_tree, leaf_size=30, n_neighbors=8, p=2;, score=0.864 total time=   0.0s\n",
      "[CV 4/5] END algorithm=ball_tree, leaf_size=30, n_neighbors=8, p=2;, score=0.849 total time=   0.0s\n",
      "[CV 5/5] END algorithm=ball_tree, leaf_size=30, n_neighbors=8, p=2;, score=0.877 total time=   0.1s\n",
      "[CV 1/5] END algorithm=ball_tree, leaf_size=30, n_neighbors=10, p=1;, score=0.883 total time=   0.1s\n",
      "[CV 2/5] END algorithm=ball_tree, leaf_size=30, n_neighbors=10, p=1;, score=0.836 total time=   0.0s\n",
      "[CV 3/5] END algorithm=ball_tree, leaf_size=30, n_neighbors=10, p=1;, score=0.840 total time=   0.0s\n",
      "[CV 4/5] END algorithm=ball_tree, leaf_size=30, n_neighbors=10, p=1;, score=0.833 total time=   0.0s\n",
      "[CV 5/5] END algorithm=ball_tree, leaf_size=30, n_neighbors=10, p=1;, score=0.855 total time=   0.0s\n",
      "[CV 1/5] END algorithm=ball_tree, leaf_size=30, n_neighbors=10, p=2;, score=0.861 total time=   0.0s\n",
      "[CV 2/5] END algorithm=ball_tree, leaf_size=30, n_neighbors=10, p=2;, score=0.855 total time=   0.0s\n",
      "[CV 3/5] END algorithm=ball_tree, leaf_size=30, n_neighbors=10, p=2;, score=0.830 total time=   0.0s\n",
      "[CV 4/5] END algorithm=ball_tree, leaf_size=30, n_neighbors=10, p=2;, score=0.836 total time=   0.1s\n",
      "[CV 5/5] END algorithm=ball_tree, leaf_size=30, n_neighbors=10, p=2;, score=0.861 total time=   0.0s\n",
      "[CV 1/5] END algorithm=ball_tree, leaf_size=30, n_neighbors=11, p=1;, score=0.883 total time=   0.0s\n",
      "[CV 2/5] END algorithm=ball_tree, leaf_size=30, n_neighbors=11, p=1;, score=0.836 total time=   0.0s\n",
      "[CV 3/5] END algorithm=ball_tree, leaf_size=30, n_neighbors=11, p=1;, score=0.843 total time=   0.0s\n",
      "[CV 4/5] END algorithm=ball_tree, leaf_size=30, n_neighbors=11, p=1;, score=0.833 total time=   0.1s\n",
      "[CV 5/5] END algorithm=ball_tree, leaf_size=30, n_neighbors=11, p=1;, score=0.855 total time=   0.1s\n",
      "[CV 1/5] END algorithm=ball_tree, leaf_size=30, n_neighbors=11, p=2;, score=0.861 total time=   0.1s\n",
      "[CV 2/5] END algorithm=ball_tree, leaf_size=30, n_neighbors=11, p=2;, score=0.855 total time=   0.1s\n",
      "[CV 3/5] END algorithm=ball_tree, leaf_size=30, n_neighbors=11, p=2;, score=0.830 total time=   0.1s\n",
      "[CV 4/5] END algorithm=ball_tree, leaf_size=30, n_neighbors=11, p=2;, score=0.836 total time=   0.1s\n",
      "[CV 5/5] END algorithm=ball_tree, leaf_size=30, n_neighbors=11, p=2;, score=0.861 total time=   0.1s\n",
      "[CV 1/5] END algorithm=ball_tree, leaf_size=35, n_neighbors=4, p=1;, score=0.923 total time=   0.0s\n"
     ]
    },
    {
     "name": "stdout",
     "output_type": "stream",
     "text": [
      "[CV 2/5] END algorithm=ball_tree, leaf_size=35, n_neighbors=4, p=1;, score=0.898 total time=   0.0s\n",
      "[CV 3/5] END algorithm=ball_tree, leaf_size=35, n_neighbors=4, p=1;, score=0.904 total time=   0.0s\n",
      "[CV 4/5] END algorithm=ball_tree, leaf_size=35, n_neighbors=4, p=1;, score=0.901 total time=   0.0s\n",
      "[CV 5/5] END algorithm=ball_tree, leaf_size=35, n_neighbors=4, p=1;, score=0.926 total time=   0.0s\n",
      "[CV 1/5] END algorithm=ball_tree, leaf_size=35, n_neighbors=4, p=2;, score=0.926 total time=   0.0s\n",
      "[CV 2/5] END algorithm=ball_tree, leaf_size=35, n_neighbors=4, p=2;, score=0.914 total time=   0.0s\n",
      "[CV 3/5] END algorithm=ball_tree, leaf_size=35, n_neighbors=4, p=2;, score=0.892 total time=   0.0s\n",
      "[CV 4/5] END algorithm=ball_tree, leaf_size=35, n_neighbors=4, p=2;, score=0.910 total time=   0.0s\n",
      "[CV 5/5] END algorithm=ball_tree, leaf_size=35, n_neighbors=4, p=2;, score=0.920 total time=   0.0s\n",
      "[CV 1/5] END algorithm=ball_tree, leaf_size=35, n_neighbors=5, p=1;, score=0.923 total time=   0.0s\n",
      "[CV 2/5] END algorithm=ball_tree, leaf_size=35, n_neighbors=5, p=1;, score=0.892 total time=   0.0s\n",
      "[CV 3/5] END algorithm=ball_tree, leaf_size=35, n_neighbors=5, p=1;, score=0.904 total time=   0.0s\n",
      "[CV 4/5] END algorithm=ball_tree, leaf_size=35, n_neighbors=5, p=1;, score=0.901 total time=   0.0s\n",
      "[CV 5/5] END algorithm=ball_tree, leaf_size=35, n_neighbors=5, p=1;, score=0.926 total time=   0.0s\n",
      "[CV 1/5] END algorithm=ball_tree, leaf_size=35, n_neighbors=5, p=2;, score=0.926 total time=   0.0s\n",
      "[CV 2/5] END algorithm=ball_tree, leaf_size=35, n_neighbors=5, p=2;, score=0.907 total time=   0.0s\n",
      "[CV 3/5] END algorithm=ball_tree, leaf_size=35, n_neighbors=5, p=2;, score=0.892 total time=   0.0s\n",
      "[CV 4/5] END algorithm=ball_tree, leaf_size=35, n_neighbors=5, p=2;, score=0.910 total time=   0.0s\n",
      "[CV 5/5] END algorithm=ball_tree, leaf_size=35, n_neighbors=5, p=2;, score=0.920 total time=   0.0s\n",
      "[CV 1/5] END algorithm=ball_tree, leaf_size=35, n_neighbors=8, p=1;, score=0.889 total time=   0.0s\n",
      "[CV 2/5] END algorithm=ball_tree, leaf_size=35, n_neighbors=8, p=1;, score=0.852 total time=   0.0s\n",
      "[CV 3/5] END algorithm=ball_tree, leaf_size=35, n_neighbors=8, p=1;, score=0.861 total time=   0.0s\n",
      "[CV 4/5] END algorithm=ball_tree, leaf_size=35, n_neighbors=8, p=1;, score=0.864 total time=   0.0s\n",
      "[CV 5/5] END algorithm=ball_tree, leaf_size=35, n_neighbors=8, p=1;, score=0.873 total time=   0.0s\n",
      "[CV 1/5] END algorithm=ball_tree, leaf_size=35, n_neighbors=8, p=2;, score=0.880 total time=   0.0s\n",
      "[CV 2/5] END algorithm=ball_tree, leaf_size=35, n_neighbors=8, p=2;, score=0.877 total time=   0.0s\n",
      "[CV 3/5] END algorithm=ball_tree, leaf_size=35, n_neighbors=8, p=2;, score=0.864 total time=   0.0s\n",
      "[CV 4/5] END algorithm=ball_tree, leaf_size=35, n_neighbors=8, p=2;, score=0.849 total time=   0.0s\n",
      "[CV 5/5] END algorithm=ball_tree, leaf_size=35, n_neighbors=8, p=2;, score=0.877 total time=   0.0s\n",
      "[CV 1/5] END algorithm=ball_tree, leaf_size=35, n_neighbors=10, p=1;, score=0.883 total time=   0.0s\n",
      "[CV 2/5] END algorithm=ball_tree, leaf_size=35, n_neighbors=10, p=1;, score=0.836 total time=   0.0s\n",
      "[CV 3/5] END algorithm=ball_tree, leaf_size=35, n_neighbors=10, p=1;, score=0.840 total time=   0.0s\n",
      "[CV 4/5] END algorithm=ball_tree, leaf_size=35, n_neighbors=10, p=1;, score=0.833 total time=   0.1s\n",
      "[CV 5/5] END algorithm=ball_tree, leaf_size=35, n_neighbors=10, p=1;, score=0.855 total time=   0.0s\n",
      "[CV 1/5] END algorithm=ball_tree, leaf_size=35, n_neighbors=10, p=2;, score=0.861 total time=   0.0s\n",
      "[CV 2/5] END algorithm=ball_tree, leaf_size=35, n_neighbors=10, p=2;, score=0.855 total time=   0.0s\n",
      "[CV 3/5] END algorithm=ball_tree, leaf_size=35, n_neighbors=10, p=2;, score=0.830 total time=   0.0s\n",
      "[CV 4/5] END algorithm=ball_tree, leaf_size=35, n_neighbors=10, p=2;, score=0.836 total time=   0.0s\n",
      "[CV 5/5] END algorithm=ball_tree, leaf_size=35, n_neighbors=10, p=2;, score=0.861 total time=   0.0s\n",
      "[CV 1/5] END algorithm=ball_tree, leaf_size=35, n_neighbors=11, p=1;, score=0.883 total time=   0.0s\n",
      "[CV 2/5] END algorithm=ball_tree, leaf_size=35, n_neighbors=11, p=1;, score=0.836 total time=   0.0s\n",
      "[CV 3/5] END algorithm=ball_tree, leaf_size=35, n_neighbors=11, p=1;, score=0.843 total time=   0.0s\n",
      "[CV 4/5] END algorithm=ball_tree, leaf_size=35, n_neighbors=11, p=1;, score=0.833 total time=   0.0s\n",
      "[CV 5/5] END algorithm=ball_tree, leaf_size=35, n_neighbors=11, p=1;, score=0.855 total time=   0.0s\n",
      "[CV 1/5] END algorithm=ball_tree, leaf_size=35, n_neighbors=11, p=2;, score=0.861 total time=   0.0s\n",
      "[CV 2/5] END algorithm=ball_tree, leaf_size=35, n_neighbors=11, p=2;, score=0.855 total time=   0.0s\n",
      "[CV 3/5] END algorithm=ball_tree, leaf_size=35, n_neighbors=11, p=2;, score=0.830 total time=   0.0s\n",
      "[CV 4/5] END algorithm=ball_tree, leaf_size=35, n_neighbors=11, p=2;, score=0.836 total time=   0.0s\n",
      "[CV 5/5] END algorithm=ball_tree, leaf_size=35, n_neighbors=11, p=2;, score=0.861 total time=   0.0s\n",
      "[CV 1/5] END algorithm=kd_tree, leaf_size=10, n_neighbors=4, p=1;, score=0.926 total time=   0.0s\n",
      "[CV 2/5] END algorithm=kd_tree, leaf_size=10, n_neighbors=4, p=1;, score=0.901 total time=   0.0s\n",
      "[CV 3/5] END algorithm=kd_tree, leaf_size=10, n_neighbors=4, p=1;, score=0.907 total time=   0.0s\n",
      "[CV 4/5] END algorithm=kd_tree, leaf_size=10, n_neighbors=4, p=1;, score=0.898 total time=   0.0s\n",
      "[CV 5/5] END algorithm=kd_tree, leaf_size=10, n_neighbors=4, p=1;, score=0.926 total time=   0.0s\n",
      "[CV 1/5] END algorithm=kd_tree, leaf_size=10, n_neighbors=4, p=2;, score=0.926 total time=   0.0s\n",
      "[CV 2/5] END algorithm=kd_tree, leaf_size=10, n_neighbors=4, p=2;, score=0.914 total time=   0.0s\n",
      "[CV 3/5] END algorithm=kd_tree, leaf_size=10, n_neighbors=4, p=2;, score=0.892 total time=   0.0s\n",
      "[CV 4/5] END algorithm=kd_tree, leaf_size=10, n_neighbors=4, p=2;, score=0.910 total time=   0.0s\n",
      "[CV 5/5] END algorithm=kd_tree, leaf_size=10, n_neighbors=4, p=2;, score=0.920 total time=   0.0s\n",
      "[CV 1/5] END algorithm=kd_tree, leaf_size=10, n_neighbors=5, p=1;, score=0.926 total time=   0.0s\n",
      "[CV 2/5] END algorithm=kd_tree, leaf_size=10, n_neighbors=5, p=1;, score=0.901 total time=   0.0s\n",
      "[CV 3/5] END algorithm=kd_tree, leaf_size=10, n_neighbors=5, p=1;, score=0.910 total time=   0.0s\n",
      "[CV 4/5] END algorithm=kd_tree, leaf_size=10, n_neighbors=5, p=1;, score=0.901 total time=   0.0s\n",
      "[CV 5/5] END algorithm=kd_tree, leaf_size=10, n_neighbors=5, p=1;, score=0.929 total time=   0.0s\n",
      "[CV 1/5] END algorithm=kd_tree, leaf_size=10, n_neighbors=5, p=2;, score=0.926 total time=   0.0s\n",
      "[CV 2/5] END algorithm=kd_tree, leaf_size=10, n_neighbors=5, p=2;, score=0.907 total time=   0.0s\n",
      "[CV 3/5] END algorithm=kd_tree, leaf_size=10, n_neighbors=5, p=2;, score=0.895 total time=   0.0s\n",
      "[CV 4/5] END algorithm=kd_tree, leaf_size=10, n_neighbors=5, p=2;, score=0.910 total time=   0.0s\n",
      "[CV 5/5] END algorithm=kd_tree, leaf_size=10, n_neighbors=5, p=2;, score=0.920 total time=   0.0s\n",
      "[CV 1/5] END algorithm=kd_tree, leaf_size=10, n_neighbors=8, p=1;, score=0.895 total time=   0.0s\n",
      "[CV 2/5] END algorithm=kd_tree, leaf_size=10, n_neighbors=8, p=1;, score=0.858 total time=   0.0s\n",
      "[CV 3/5] END algorithm=kd_tree, leaf_size=10, n_neighbors=8, p=1;, score=0.858 total time=   0.0s\n",
      "[CV 4/5] END algorithm=kd_tree, leaf_size=10, n_neighbors=8, p=1;, score=0.858 total time=   0.0s\n",
      "[CV 5/5] END algorithm=kd_tree, leaf_size=10, n_neighbors=8, p=1;, score=0.880 total time=   0.0s\n",
      "[CV 1/5] END algorithm=kd_tree, leaf_size=10, n_neighbors=8, p=2;, score=0.883 total time=   0.0s\n",
      "[CV 2/5] END algorithm=kd_tree, leaf_size=10, n_neighbors=8, p=2;, score=0.877 total time=   0.0s\n",
      "[CV 3/5] END algorithm=kd_tree, leaf_size=10, n_neighbors=8, p=2;, score=0.864 total time=   0.0s\n",
      "[CV 4/5] END algorithm=kd_tree, leaf_size=10, n_neighbors=8, p=2;, score=0.849 total time=   0.0s\n",
      "[CV 5/5] END algorithm=kd_tree, leaf_size=10, n_neighbors=8, p=2;, score=0.877 total time=   0.0s\n",
      "[CV 1/5] END algorithm=kd_tree, leaf_size=10, n_neighbors=10, p=1;, score=0.883 total time=   0.0s\n",
      "[CV 2/5] END algorithm=kd_tree, leaf_size=10, n_neighbors=10, p=1;, score=0.840 total time=   0.0s\n",
      "[CV 3/5] END algorithm=kd_tree, leaf_size=10, n_neighbors=10, p=1;, score=0.843 total time=   0.1s\n",
      "[CV 4/5] END algorithm=kd_tree, leaf_size=10, n_neighbors=10, p=1;, score=0.846 total time=   0.1s\n"
     ]
    },
    {
     "name": "stdout",
     "output_type": "stream",
     "text": [
      "[CV 5/5] END algorithm=kd_tree, leaf_size=10, n_neighbors=10, p=1;, score=0.864 total time=   0.1s\n",
      "[CV 1/5] END algorithm=kd_tree, leaf_size=10, n_neighbors=10, p=2;, score=0.858 total time=   0.0s\n",
      "[CV 2/5] END algorithm=kd_tree, leaf_size=10, n_neighbors=10, p=2;, score=0.855 total time=   0.0s\n",
      "[CV 3/5] END algorithm=kd_tree, leaf_size=10, n_neighbors=10, p=2;, score=0.830 total time=   0.0s\n",
      "[CV 4/5] END algorithm=kd_tree, leaf_size=10, n_neighbors=10, p=2;, score=0.843 total time=   0.0s\n",
      "[CV 5/5] END algorithm=kd_tree, leaf_size=10, n_neighbors=10, p=2;, score=0.861 total time=   0.0s\n",
      "[CV 1/5] END algorithm=kd_tree, leaf_size=10, n_neighbors=11, p=1;, score=0.883 total time=   0.1s\n",
      "[CV 2/5] END algorithm=kd_tree, leaf_size=10, n_neighbors=11, p=1;, score=0.843 total time=   0.0s\n",
      "[CV 3/5] END algorithm=kd_tree, leaf_size=10, n_neighbors=11, p=1;, score=0.843 total time=   0.0s\n",
      "[CV 4/5] END algorithm=kd_tree, leaf_size=10, n_neighbors=11, p=1;, score=0.846 total time=   0.1s\n",
      "[CV 5/5] END algorithm=kd_tree, leaf_size=10, n_neighbors=11, p=1;, score=0.867 total time=   0.0s\n",
      "[CV 1/5] END algorithm=kd_tree, leaf_size=10, n_neighbors=11, p=2;, score=0.858 total time=   0.0s\n",
      "[CV 2/5] END algorithm=kd_tree, leaf_size=10, n_neighbors=11, p=2;, score=0.855 total time=   0.0s\n",
      "[CV 3/5] END algorithm=kd_tree, leaf_size=10, n_neighbors=11, p=2;, score=0.830 total time=   0.0s\n",
      "[CV 4/5] END algorithm=kd_tree, leaf_size=10, n_neighbors=11, p=2;, score=0.840 total time=   0.0s\n",
      "[CV 5/5] END algorithm=kd_tree, leaf_size=10, n_neighbors=11, p=2;, score=0.861 total time=   0.0s\n",
      "[CV 1/5] END algorithm=kd_tree, leaf_size=17, n_neighbors=4, p=1;, score=0.926 total time=   0.0s\n",
      "[CV 2/5] END algorithm=kd_tree, leaf_size=17, n_neighbors=4, p=1;, score=0.907 total time=   0.0s\n",
      "[CV 3/5] END algorithm=kd_tree, leaf_size=17, n_neighbors=4, p=1;, score=0.907 total time=   0.0s\n",
      "[CV 4/5] END algorithm=kd_tree, leaf_size=17, n_neighbors=4, p=1;, score=0.904 total time=   0.0s\n",
      "[CV 5/5] END algorithm=kd_tree, leaf_size=17, n_neighbors=4, p=1;, score=0.926 total time=   0.0s\n",
      "[CV 1/5] END algorithm=kd_tree, leaf_size=17, n_neighbors=4, p=2;, score=0.926 total time=   0.0s\n",
      "[CV 2/5] END algorithm=kd_tree, leaf_size=17, n_neighbors=4, p=2;, score=0.914 total time=   0.0s\n",
      "[CV 3/5] END algorithm=kd_tree, leaf_size=17, n_neighbors=4, p=2;, score=0.892 total time=   0.0s\n",
      "[CV 4/5] END algorithm=kd_tree, leaf_size=17, n_neighbors=4, p=2;, score=0.910 total time=   0.0s\n",
      "[CV 5/5] END algorithm=kd_tree, leaf_size=17, n_neighbors=4, p=2;, score=0.920 total time=   0.0s\n",
      "[CV 1/5] END algorithm=kd_tree, leaf_size=17, n_neighbors=5, p=1;, score=0.926 total time=   0.0s\n",
      "[CV 2/5] END algorithm=kd_tree, leaf_size=17, n_neighbors=5, p=1;, score=0.901 total time=   0.0s\n",
      "[CV 3/5] END algorithm=kd_tree, leaf_size=17, n_neighbors=5, p=1;, score=0.910 total time=   0.0s\n",
      "[CV 4/5] END algorithm=kd_tree, leaf_size=17, n_neighbors=5, p=1;, score=0.898 total time=   0.0s\n",
      "[CV 5/5] END algorithm=kd_tree, leaf_size=17, n_neighbors=5, p=1;, score=0.926 total time=   0.0s\n",
      "[CV 1/5] END algorithm=kd_tree, leaf_size=17, n_neighbors=5, p=2;, score=0.926 total time=   0.0s\n",
      "[CV 2/5] END algorithm=kd_tree, leaf_size=17, n_neighbors=5, p=2;, score=0.907 total time=   0.0s\n",
      "[CV 3/5] END algorithm=kd_tree, leaf_size=17, n_neighbors=5, p=2;, score=0.892 total time=   0.0s\n",
      "[CV 4/5] END algorithm=kd_tree, leaf_size=17, n_neighbors=5, p=2;, score=0.910 total time=   0.0s\n",
      "[CV 5/5] END algorithm=kd_tree, leaf_size=17, n_neighbors=5, p=2;, score=0.920 total time=   0.0s\n",
      "[CV 1/5] END algorithm=kd_tree, leaf_size=17, n_neighbors=8, p=1;, score=0.892 total time=   0.0s\n",
      "[CV 2/5] END algorithm=kd_tree, leaf_size=17, n_neighbors=8, p=1;, score=0.855 total time=   0.0s\n",
      "[CV 3/5] END algorithm=kd_tree, leaf_size=17, n_neighbors=8, p=1;, score=0.855 total time=   0.0s\n",
      "[CV 4/5] END algorithm=kd_tree, leaf_size=17, n_neighbors=8, p=1;, score=0.861 total time=   0.0s\n",
      "[CV 5/5] END algorithm=kd_tree, leaf_size=17, n_neighbors=8, p=1;, score=0.877 total time=   0.0s\n",
      "[CV 1/5] END algorithm=kd_tree, leaf_size=17, n_neighbors=8, p=2;, score=0.880 total time=   0.0s\n",
      "[CV 2/5] END algorithm=kd_tree, leaf_size=17, n_neighbors=8, p=2;, score=0.877 total time=   0.0s\n",
      "[CV 3/5] END algorithm=kd_tree, leaf_size=17, n_neighbors=8, p=2;, score=0.864 total time=   0.0s\n",
      "[CV 4/5] END algorithm=kd_tree, leaf_size=17, n_neighbors=8, p=2;, score=0.849 total time=   0.0s\n",
      "[CV 5/5] END algorithm=kd_tree, leaf_size=17, n_neighbors=8, p=2;, score=0.877 total time=   0.0s\n",
      "[CV 1/5] END algorithm=kd_tree, leaf_size=17, n_neighbors=10, p=1;, score=0.883 total time=   0.0s\n",
      "[CV 2/5] END algorithm=kd_tree, leaf_size=17, n_neighbors=10, p=1;, score=0.843 total time=   0.0s\n",
      "[CV 3/5] END algorithm=kd_tree, leaf_size=17, n_neighbors=10, p=1;, score=0.836 total time=   0.0s\n",
      "[CV 4/5] END algorithm=kd_tree, leaf_size=17, n_neighbors=10, p=1;, score=0.843 total time=   0.0s\n",
      "[CV 5/5] END algorithm=kd_tree, leaf_size=17, n_neighbors=10, p=1;, score=0.858 total time=   0.0s\n",
      "[CV 1/5] END algorithm=kd_tree, leaf_size=17, n_neighbors=10, p=2;, score=0.858 total time=   0.0s\n",
      "[CV 2/5] END algorithm=kd_tree, leaf_size=17, n_neighbors=10, p=2;, score=0.855 total time=   0.0s\n",
      "[CV 3/5] END algorithm=kd_tree, leaf_size=17, n_neighbors=10, p=2;, score=0.830 total time=   0.0s\n",
      "[CV 4/5] END algorithm=kd_tree, leaf_size=17, n_neighbors=10, p=2;, score=0.840 total time=   0.0s\n",
      "[CV 5/5] END algorithm=kd_tree, leaf_size=17, n_neighbors=10, p=2;, score=0.861 total time=   0.0s\n",
      "[CV 1/5] END algorithm=kd_tree, leaf_size=17, n_neighbors=11, p=1;, score=0.883 total time=   0.0s\n",
      "[CV 2/5] END algorithm=kd_tree, leaf_size=17, n_neighbors=11, p=1;, score=0.843 total time=   0.0s\n",
      "[CV 3/5] END algorithm=kd_tree, leaf_size=17, n_neighbors=11, p=1;, score=0.849 total time=   0.0s\n",
      "[CV 4/5] END algorithm=kd_tree, leaf_size=17, n_neighbors=11, p=1;, score=0.843 total time=   0.0s\n",
      "[CV 5/5] END algorithm=kd_tree, leaf_size=17, n_neighbors=11, p=1;, score=0.858 total time=   0.0s\n",
      "[CV 1/5] END algorithm=kd_tree, leaf_size=17, n_neighbors=11, p=2;, score=0.858 total time=   0.0s\n",
      "[CV 2/5] END algorithm=kd_tree, leaf_size=17, n_neighbors=11, p=2;, score=0.855 total time=   0.0s\n",
      "[CV 3/5] END algorithm=kd_tree, leaf_size=17, n_neighbors=11, p=2;, score=0.830 total time=   0.0s\n",
      "[CV 4/5] END algorithm=kd_tree, leaf_size=17, n_neighbors=11, p=2;, score=0.840 total time=   0.0s\n",
      "[CV 5/5] END algorithm=kd_tree, leaf_size=17, n_neighbors=11, p=2;, score=0.861 total time=   0.0s\n",
      "[CV 1/5] END algorithm=kd_tree, leaf_size=24, n_neighbors=4, p=1;, score=0.923 total time=   0.0s\n",
      "[CV 2/5] END algorithm=kd_tree, leaf_size=24, n_neighbors=4, p=1;, score=0.898 total time=   0.0s\n",
      "[CV 3/5] END algorithm=kd_tree, leaf_size=24, n_neighbors=4, p=1;, score=0.910 total time=   0.0s\n",
      "[CV 4/5] END algorithm=kd_tree, leaf_size=24, n_neighbors=4, p=1;, score=0.910 total time=   0.0s\n",
      "[CV 5/5] END algorithm=kd_tree, leaf_size=24, n_neighbors=4, p=1;, score=0.926 total time=   0.0s\n",
      "[CV 1/5] END algorithm=kd_tree, leaf_size=24, n_neighbors=4, p=2;, score=0.926 total time=   0.0s\n",
      "[CV 2/5] END algorithm=kd_tree, leaf_size=24, n_neighbors=4, p=2;, score=0.914 total time=   0.0s\n",
      "[CV 3/5] END algorithm=kd_tree, leaf_size=24, n_neighbors=4, p=2;, score=0.892 total time=   0.0s\n",
      "[CV 4/5] END algorithm=kd_tree, leaf_size=24, n_neighbors=4, p=2;, score=0.910 total time=   0.0s\n",
      "[CV 5/5] END algorithm=kd_tree, leaf_size=24, n_neighbors=4, p=2;, score=0.920 total time=   0.0s\n",
      "[CV 1/5] END algorithm=kd_tree, leaf_size=24, n_neighbors=5, p=1;, score=0.923 total time=   0.0s\n",
      "[CV 2/5] END algorithm=kd_tree, leaf_size=24, n_neighbors=5, p=1;, score=0.892 total time=   0.0s\n",
      "[CV 3/5] END algorithm=kd_tree, leaf_size=24, n_neighbors=5, p=1;, score=0.910 total time=   0.0s\n",
      "[CV 4/5] END algorithm=kd_tree, leaf_size=24, n_neighbors=5, p=1;, score=0.907 total time=   0.1s\n",
      "[CV 5/5] END algorithm=kd_tree, leaf_size=24, n_neighbors=5, p=1;, score=0.926 total time=   0.0s\n",
      "[CV 1/5] END algorithm=kd_tree, leaf_size=24, n_neighbors=5, p=2;, score=0.926 total time=   0.0s\n",
      "[CV 2/5] END algorithm=kd_tree, leaf_size=24, n_neighbors=5, p=2;, score=0.907 total time=   0.0s\n",
      "[CV 3/5] END algorithm=kd_tree, leaf_size=24, n_neighbors=5, p=2;, score=0.892 total time=   0.0s\n",
      "[CV 4/5] END algorithm=kd_tree, leaf_size=24, n_neighbors=5, p=2;, score=0.910 total time=   0.0s\n",
      "[CV 5/5] END algorithm=kd_tree, leaf_size=24, n_neighbors=5, p=2;, score=0.920 total time=   0.0s\n"
     ]
    },
    {
     "name": "stdout",
     "output_type": "stream",
     "text": [
      "[CV 1/5] END algorithm=kd_tree, leaf_size=24, n_neighbors=8, p=1;, score=0.889 total time=   0.0s\n",
      "[CV 2/5] END algorithm=kd_tree, leaf_size=24, n_neighbors=8, p=1;, score=0.855 total time=   0.0s\n",
      "[CV 3/5] END algorithm=kd_tree, leaf_size=24, n_neighbors=8, p=1;, score=0.858 total time=   0.0s\n",
      "[CV 4/5] END algorithm=kd_tree, leaf_size=24, n_neighbors=8, p=1;, score=0.861 total time=   0.1s\n",
      "[CV 5/5] END algorithm=kd_tree, leaf_size=24, n_neighbors=8, p=1;, score=0.877 total time=   0.1s\n",
      "[CV 1/5] END algorithm=kd_tree, leaf_size=24, n_neighbors=8, p=2;, score=0.880 total time=   0.1s\n",
      "[CV 2/5] END algorithm=kd_tree, leaf_size=24, n_neighbors=8, p=2;, score=0.877 total time=   0.1s\n",
      "[CV 3/5] END algorithm=kd_tree, leaf_size=24, n_neighbors=8, p=2;, score=0.864 total time=   0.1s\n",
      "[CV 4/5] END algorithm=kd_tree, leaf_size=24, n_neighbors=8, p=2;, score=0.849 total time=   0.0s\n",
      "[CV 5/5] END algorithm=kd_tree, leaf_size=24, n_neighbors=8, p=2;, score=0.877 total time=   0.0s\n",
      "[CV 1/5] END algorithm=kd_tree, leaf_size=24, n_neighbors=10, p=1;, score=0.880 total time=   0.0s\n",
      "[CV 2/5] END algorithm=kd_tree, leaf_size=24, n_neighbors=10, p=1;, score=0.840 total time=   0.0s\n",
      "[CV 3/5] END algorithm=kd_tree, leaf_size=24, n_neighbors=10, p=1;, score=0.840 total time=   0.0s\n",
      "[CV 4/5] END algorithm=kd_tree, leaf_size=24, n_neighbors=10, p=1;, score=0.843 total time=   0.0s\n",
      "[CV 5/5] END algorithm=kd_tree, leaf_size=24, n_neighbors=10, p=1;, score=0.858 total time=   0.0s\n",
      "[CV 1/5] END algorithm=kd_tree, leaf_size=24, n_neighbors=10, p=2;, score=0.858 total time=   0.0s\n",
      "[CV 2/5] END algorithm=kd_tree, leaf_size=24, n_neighbors=10, p=2;, score=0.855 total time=   0.0s\n",
      "[CV 3/5] END algorithm=kd_tree, leaf_size=24, n_neighbors=10, p=2;, score=0.830 total time=   0.0s\n",
      "[CV 4/5] END algorithm=kd_tree, leaf_size=24, n_neighbors=10, p=2;, score=0.840 total time=   0.0s\n",
      "[CV 5/5] END algorithm=kd_tree, leaf_size=24, n_neighbors=10, p=2;, score=0.861 total time=   0.0s\n",
      "[CV 1/5] END algorithm=kd_tree, leaf_size=24, n_neighbors=11, p=1;, score=0.880 total time=   0.0s\n",
      "[CV 2/5] END algorithm=kd_tree, leaf_size=24, n_neighbors=11, p=1;, score=0.840 total time=   0.0s\n",
      "[CV 3/5] END algorithm=kd_tree, leaf_size=24, n_neighbors=11, p=1;, score=0.843 total time=   0.0s\n",
      "[CV 4/5] END algorithm=kd_tree, leaf_size=24, n_neighbors=11, p=1;, score=0.840 total time=   0.0s\n",
      "[CV 5/5] END algorithm=kd_tree, leaf_size=24, n_neighbors=11, p=1;, score=0.858 total time=   0.0s\n",
      "[CV 1/5] END algorithm=kd_tree, leaf_size=24, n_neighbors=11, p=2;, score=0.858 total time=   0.0s\n",
      "[CV 2/5] END algorithm=kd_tree, leaf_size=24, n_neighbors=11, p=2;, score=0.855 total time=   0.0s\n",
      "[CV 3/5] END algorithm=kd_tree, leaf_size=24, n_neighbors=11, p=2;, score=0.830 total time=   0.0s\n",
      "[CV 4/5] END algorithm=kd_tree, leaf_size=24, n_neighbors=11, p=2;, score=0.836 total time=   0.0s\n",
      "[CV 5/5] END algorithm=kd_tree, leaf_size=24, n_neighbors=11, p=2;, score=0.861 total time=   0.0s\n",
      "[CV 1/5] END algorithm=kd_tree, leaf_size=28, n_neighbors=4, p=1;, score=0.923 total time=   0.0s\n",
      "[CV 2/5] END algorithm=kd_tree, leaf_size=28, n_neighbors=4, p=1;, score=0.898 total time=   0.0s\n",
      "[CV 3/5] END algorithm=kd_tree, leaf_size=28, n_neighbors=4, p=1;, score=0.910 total time=   0.0s\n",
      "[CV 4/5] END algorithm=kd_tree, leaf_size=28, n_neighbors=4, p=1;, score=0.910 total time=   0.0s\n",
      "[CV 5/5] END algorithm=kd_tree, leaf_size=28, n_neighbors=4, p=1;, score=0.926 total time=   0.0s\n",
      "[CV 1/5] END algorithm=kd_tree, leaf_size=28, n_neighbors=4, p=2;, score=0.926 total time=   0.0s\n",
      "[CV 2/5] END algorithm=kd_tree, leaf_size=28, n_neighbors=4, p=2;, score=0.914 total time=   0.0s\n",
      "[CV 3/5] END algorithm=kd_tree, leaf_size=28, n_neighbors=4, p=2;, score=0.892 total time=   0.0s\n",
      "[CV 4/5] END algorithm=kd_tree, leaf_size=28, n_neighbors=4, p=2;, score=0.910 total time=   0.0s\n",
      "[CV 5/5] END algorithm=kd_tree, leaf_size=28, n_neighbors=4, p=2;, score=0.920 total time=   0.0s\n",
      "[CV 1/5] END algorithm=kd_tree, leaf_size=28, n_neighbors=5, p=1;, score=0.923 total time=   0.0s\n",
      "[CV 2/5] END algorithm=kd_tree, leaf_size=28, n_neighbors=5, p=1;, score=0.892 total time=   0.0s\n",
      "[CV 3/5] END algorithm=kd_tree, leaf_size=28, n_neighbors=5, p=1;, score=0.910 total time=   0.0s\n",
      "[CV 4/5] END algorithm=kd_tree, leaf_size=28, n_neighbors=5, p=1;, score=0.907 total time=   0.0s\n",
      "[CV 5/5] END algorithm=kd_tree, leaf_size=28, n_neighbors=5, p=1;, score=0.926 total time=   0.0s\n",
      "[CV 1/5] END algorithm=kd_tree, leaf_size=28, n_neighbors=5, p=2;, score=0.926 total time=   0.1s\n",
      "[CV 2/5] END algorithm=kd_tree, leaf_size=28, n_neighbors=5, p=2;, score=0.907 total time=   0.1s\n",
      "[CV 3/5] END algorithm=kd_tree, leaf_size=28, n_neighbors=5, p=2;, score=0.892 total time=   0.0s\n",
      "[CV 4/5] END algorithm=kd_tree, leaf_size=28, n_neighbors=5, p=2;, score=0.910 total time=   0.0s\n",
      "[CV 5/5] END algorithm=kd_tree, leaf_size=28, n_neighbors=5, p=2;, score=0.920 total time=   0.0s\n",
      "[CV 1/5] END algorithm=kd_tree, leaf_size=28, n_neighbors=8, p=1;, score=0.889 total time=   0.0s\n",
      "[CV 2/5] END algorithm=kd_tree, leaf_size=28, n_neighbors=8, p=1;, score=0.855 total time=   0.0s\n",
      "[CV 3/5] END algorithm=kd_tree, leaf_size=28, n_neighbors=8, p=1;, score=0.858 total time=   0.0s\n",
      "[CV 4/5] END algorithm=kd_tree, leaf_size=28, n_neighbors=8, p=1;, score=0.861 total time=   0.0s\n",
      "[CV 5/5] END algorithm=kd_tree, leaf_size=28, n_neighbors=8, p=1;, score=0.877 total time=   0.0s\n",
      "[CV 1/5] END algorithm=kd_tree, leaf_size=28, n_neighbors=8, p=2;, score=0.880 total time=   0.0s\n",
      "[CV 2/5] END algorithm=kd_tree, leaf_size=28, n_neighbors=8, p=2;, score=0.877 total time=   0.0s\n",
      "[CV 3/5] END algorithm=kd_tree, leaf_size=28, n_neighbors=8, p=2;, score=0.864 total time=   0.0s\n",
      "[CV 4/5] END algorithm=kd_tree, leaf_size=28, n_neighbors=8, p=2;, score=0.849 total time=   0.0s\n",
      "[CV 5/5] END algorithm=kd_tree, leaf_size=28, n_neighbors=8, p=2;, score=0.877 total time=   0.0s\n",
      "[CV 1/5] END algorithm=kd_tree, leaf_size=28, n_neighbors=10, p=1;, score=0.880 total time=   0.0s\n",
      "[CV 2/5] END algorithm=kd_tree, leaf_size=28, n_neighbors=10, p=1;, score=0.840 total time=   0.0s\n",
      "[CV 3/5] END algorithm=kd_tree, leaf_size=28, n_neighbors=10, p=1;, score=0.840 total time=   0.0s\n",
      "[CV 4/5] END algorithm=kd_tree, leaf_size=28, n_neighbors=10, p=1;, score=0.843 total time=   0.0s\n",
      "[CV 5/5] END algorithm=kd_tree, leaf_size=28, n_neighbors=10, p=1;, score=0.858 total time=   0.1s\n",
      "[CV 1/5] END algorithm=kd_tree, leaf_size=28, n_neighbors=10, p=2;, score=0.858 total time=   0.0s\n",
      "[CV 2/5] END algorithm=kd_tree, leaf_size=28, n_neighbors=10, p=2;, score=0.855 total time=   0.0s\n",
      "[CV 3/5] END algorithm=kd_tree, leaf_size=28, n_neighbors=10, p=2;, score=0.830 total time=   0.0s\n",
      "[CV 4/5] END algorithm=kd_tree, leaf_size=28, n_neighbors=10, p=2;, score=0.840 total time=   0.0s\n",
      "[CV 5/5] END algorithm=kd_tree, leaf_size=28, n_neighbors=10, p=2;, score=0.861 total time=   0.0s\n",
      "[CV 1/5] END algorithm=kd_tree, leaf_size=28, n_neighbors=11, p=1;, score=0.880 total time=   0.0s\n",
      "[CV 2/5] END algorithm=kd_tree, leaf_size=28, n_neighbors=11, p=1;, score=0.840 total time=   0.0s\n",
      "[CV 3/5] END algorithm=kd_tree, leaf_size=28, n_neighbors=11, p=1;, score=0.843 total time=   0.0s\n",
      "[CV 4/5] END algorithm=kd_tree, leaf_size=28, n_neighbors=11, p=1;, score=0.840 total time=   0.0s\n",
      "[CV 5/5] END algorithm=kd_tree, leaf_size=28, n_neighbors=11, p=1;, score=0.858 total time=   0.0s\n",
      "[CV 1/5] END algorithm=kd_tree, leaf_size=28, n_neighbors=11, p=2;, score=0.858 total time=   0.0s\n",
      "[CV 2/5] END algorithm=kd_tree, leaf_size=28, n_neighbors=11, p=2;, score=0.855 total time=   0.0s\n",
      "[CV 3/5] END algorithm=kd_tree, leaf_size=28, n_neighbors=11, p=2;, score=0.830 total time=   0.0s\n",
      "[CV 4/5] END algorithm=kd_tree, leaf_size=28, n_neighbors=11, p=2;, score=0.836 total time=   0.0s\n",
      "[CV 5/5] END algorithm=kd_tree, leaf_size=28, n_neighbors=11, p=2;, score=0.861 total time=   0.0s\n",
      "[CV 1/5] END algorithm=kd_tree, leaf_size=30, n_neighbors=4, p=1;, score=0.923 total time=   0.0s\n",
      "[CV 2/5] END algorithm=kd_tree, leaf_size=30, n_neighbors=4, p=1;, score=0.898 total time=   0.0s\n",
      "[CV 3/5] END algorithm=kd_tree, leaf_size=30, n_neighbors=4, p=1;, score=0.910 total time=   0.0s\n",
      "[CV 4/5] END algorithm=kd_tree, leaf_size=30, n_neighbors=4, p=1;, score=0.910 total time=   0.0s\n",
      "[CV 5/5] END algorithm=kd_tree, leaf_size=30, n_neighbors=4, p=1;, score=0.926 total time=   0.0s\n"
     ]
    },
    {
     "name": "stdout",
     "output_type": "stream",
     "text": [
      "[CV 1/5] END algorithm=kd_tree, leaf_size=30, n_neighbors=4, p=2;, score=0.926 total time=   0.1s\n",
      "[CV 2/5] END algorithm=kd_tree, leaf_size=30, n_neighbors=4, p=2;, score=0.914 total time=   0.1s\n",
      "[CV 3/5] END algorithm=kd_tree, leaf_size=30, n_neighbors=4, p=2;, score=0.892 total time=   0.1s\n",
      "[CV 4/5] END algorithm=kd_tree, leaf_size=30, n_neighbors=4, p=2;, score=0.910 total time=   0.0s\n",
      "[CV 5/5] END algorithm=kd_tree, leaf_size=30, n_neighbors=4, p=2;, score=0.920 total time=   0.0s\n",
      "[CV 1/5] END algorithm=kd_tree, leaf_size=30, n_neighbors=5, p=1;, score=0.923 total time=   0.0s\n",
      "[CV 2/5] END algorithm=kd_tree, leaf_size=30, n_neighbors=5, p=1;, score=0.892 total time=   0.0s\n",
      "[CV 3/5] END algorithm=kd_tree, leaf_size=30, n_neighbors=5, p=1;, score=0.910 total time=   0.0s\n",
      "[CV 4/5] END algorithm=kd_tree, leaf_size=30, n_neighbors=5, p=1;, score=0.907 total time=   0.0s\n",
      "[CV 5/5] END algorithm=kd_tree, leaf_size=30, n_neighbors=5, p=1;, score=0.926 total time=   0.0s\n",
      "[CV 1/5] END algorithm=kd_tree, leaf_size=30, n_neighbors=5, p=2;, score=0.926 total time=   0.0s\n",
      "[CV 2/5] END algorithm=kd_tree, leaf_size=30, n_neighbors=5, p=2;, score=0.907 total time=   0.0s\n",
      "[CV 3/5] END algorithm=kd_tree, leaf_size=30, n_neighbors=5, p=2;, score=0.892 total time=   0.0s\n",
      "[CV 4/5] END algorithm=kd_tree, leaf_size=30, n_neighbors=5, p=2;, score=0.910 total time=   0.0s\n",
      "[CV 5/5] END algorithm=kd_tree, leaf_size=30, n_neighbors=5, p=2;, score=0.920 total time=   0.0s\n",
      "[CV 1/5] END algorithm=kd_tree, leaf_size=30, n_neighbors=8, p=1;, score=0.889 total time=   0.0s\n",
      "[CV 2/5] END algorithm=kd_tree, leaf_size=30, n_neighbors=8, p=1;, score=0.855 total time=   0.0s\n",
      "[CV 3/5] END algorithm=kd_tree, leaf_size=30, n_neighbors=8, p=1;, score=0.858 total time=   0.0s\n",
      "[CV 4/5] END algorithm=kd_tree, leaf_size=30, n_neighbors=8, p=1;, score=0.861 total time=   0.0s\n",
      "[CV 5/5] END algorithm=kd_tree, leaf_size=30, n_neighbors=8, p=1;, score=0.877 total time=   0.0s\n",
      "[CV 1/5] END algorithm=kd_tree, leaf_size=30, n_neighbors=8, p=2;, score=0.880 total time=   0.0s\n",
      "[CV 2/5] END algorithm=kd_tree, leaf_size=30, n_neighbors=8, p=2;, score=0.877 total time=   0.0s\n",
      "[CV 3/5] END algorithm=kd_tree, leaf_size=30, n_neighbors=8, p=2;, score=0.864 total time=   0.0s\n",
      "[CV 4/5] END algorithm=kd_tree, leaf_size=30, n_neighbors=8, p=2;, score=0.849 total time=   0.0s\n",
      "[CV 5/5] END algorithm=kd_tree, leaf_size=30, n_neighbors=8, p=2;, score=0.877 total time=   0.0s\n",
      "[CV 1/5] END algorithm=kd_tree, leaf_size=30, n_neighbors=10, p=1;, score=0.880 total time=   0.0s\n",
      "[CV 2/5] END algorithm=kd_tree, leaf_size=30, n_neighbors=10, p=1;, score=0.840 total time=   0.0s\n",
      "[CV 3/5] END algorithm=kd_tree, leaf_size=30, n_neighbors=10, p=1;, score=0.840 total time=   0.0s\n",
      "[CV 4/5] END algorithm=kd_tree, leaf_size=30, n_neighbors=10, p=1;, score=0.843 total time=   0.0s\n",
      "[CV 5/5] END algorithm=kd_tree, leaf_size=30, n_neighbors=10, p=1;, score=0.858 total time=   0.0s\n",
      "[CV 1/5] END algorithm=kd_tree, leaf_size=30, n_neighbors=10, p=2;, score=0.858 total time=   0.0s\n",
      "[CV 2/5] END algorithm=kd_tree, leaf_size=30, n_neighbors=10, p=2;, score=0.855 total time=   0.0s\n",
      "[CV 3/5] END algorithm=kd_tree, leaf_size=30, n_neighbors=10, p=2;, score=0.830 total time=   0.0s\n",
      "[CV 4/5] END algorithm=kd_tree, leaf_size=30, n_neighbors=10, p=2;, score=0.840 total time=   0.0s\n",
      "[CV 5/5] END algorithm=kd_tree, leaf_size=30, n_neighbors=10, p=2;, score=0.861 total time=   0.0s\n",
      "[CV 1/5] END algorithm=kd_tree, leaf_size=30, n_neighbors=11, p=1;, score=0.880 total time=   0.0s\n",
      "[CV 2/5] END algorithm=kd_tree, leaf_size=30, n_neighbors=11, p=1;, score=0.840 total time=   0.0s\n",
      "[CV 3/5] END algorithm=kd_tree, leaf_size=30, n_neighbors=11, p=1;, score=0.843 total time=   0.0s\n",
      "[CV 4/5] END algorithm=kd_tree, leaf_size=30, n_neighbors=11, p=1;, score=0.840 total time=   0.0s\n",
      "[CV 5/5] END algorithm=kd_tree, leaf_size=30, n_neighbors=11, p=1;, score=0.858 total time=   0.0s\n",
      "[CV 1/5] END algorithm=kd_tree, leaf_size=30, n_neighbors=11, p=2;, score=0.858 total time=   0.0s\n",
      "[CV 2/5] END algorithm=kd_tree, leaf_size=30, n_neighbors=11, p=2;, score=0.855 total time=   0.0s\n",
      "[CV 3/5] END algorithm=kd_tree, leaf_size=30, n_neighbors=11, p=2;, score=0.830 total time=   0.0s\n",
      "[CV 4/5] END algorithm=kd_tree, leaf_size=30, n_neighbors=11, p=2;, score=0.836 total time=   0.0s\n",
      "[CV 5/5] END algorithm=kd_tree, leaf_size=30, n_neighbors=11, p=2;, score=0.861 total time=   0.0s\n",
      "[CV 1/5] END algorithm=kd_tree, leaf_size=35, n_neighbors=4, p=1;, score=0.923 total time=   0.0s\n",
      "[CV 2/5] END algorithm=kd_tree, leaf_size=35, n_neighbors=4, p=1;, score=0.898 total time=   0.0s\n",
      "[CV 3/5] END algorithm=kd_tree, leaf_size=35, n_neighbors=4, p=1;, score=0.910 total time=   0.0s\n",
      "[CV 4/5] END algorithm=kd_tree, leaf_size=35, n_neighbors=4, p=1;, score=0.910 total time=   0.0s\n",
      "[CV 5/5] END algorithm=kd_tree, leaf_size=35, n_neighbors=4, p=1;, score=0.926 total time=   0.0s\n",
      "[CV 1/5] END algorithm=kd_tree, leaf_size=35, n_neighbors=4, p=2;, score=0.926 total time=   0.0s\n",
      "[CV 2/5] END algorithm=kd_tree, leaf_size=35, n_neighbors=4, p=2;, score=0.914 total time=   0.0s\n",
      "[CV 3/5] END algorithm=kd_tree, leaf_size=35, n_neighbors=4, p=2;, score=0.892 total time=   0.0s\n",
      "[CV 4/5] END algorithm=kd_tree, leaf_size=35, n_neighbors=4, p=2;, score=0.910 total time=   0.0s\n",
      "[CV 5/5] END algorithm=kd_tree, leaf_size=35, n_neighbors=4, p=2;, score=0.920 total time=   0.0s\n",
      "[CV 1/5] END algorithm=kd_tree, leaf_size=35, n_neighbors=5, p=1;, score=0.923 total time=   0.0s\n",
      "[CV 2/5] END algorithm=kd_tree, leaf_size=35, n_neighbors=5, p=1;, score=0.892 total time=   0.0s\n",
      "[CV 3/5] END algorithm=kd_tree, leaf_size=35, n_neighbors=5, p=1;, score=0.910 total time=   0.0s\n",
      "[CV 4/5] END algorithm=kd_tree, leaf_size=35, n_neighbors=5, p=1;, score=0.907 total time=   0.0s\n",
      "[CV 5/5] END algorithm=kd_tree, leaf_size=35, n_neighbors=5, p=1;, score=0.926 total time=   0.0s\n",
      "[CV 1/5] END algorithm=kd_tree, leaf_size=35, n_neighbors=5, p=2;, score=0.926 total time=   0.0s\n",
      "[CV 2/5] END algorithm=kd_tree, leaf_size=35, n_neighbors=5, p=2;, score=0.907 total time=   0.0s\n",
      "[CV 3/5] END algorithm=kd_tree, leaf_size=35, n_neighbors=5, p=2;, score=0.892 total time=   0.0s\n",
      "[CV 4/5] END algorithm=kd_tree, leaf_size=35, n_neighbors=5, p=2;, score=0.910 total time=   0.0s\n",
      "[CV 5/5] END algorithm=kd_tree, leaf_size=35, n_neighbors=5, p=2;, score=0.920 total time=   0.0s\n",
      "[CV 1/5] END algorithm=kd_tree, leaf_size=35, n_neighbors=8, p=1;, score=0.889 total time=   0.0s\n",
      "[CV 2/5] END algorithm=kd_tree, leaf_size=35, n_neighbors=8, p=1;, score=0.855 total time=   0.0s\n",
      "[CV 3/5] END algorithm=kd_tree, leaf_size=35, n_neighbors=8, p=1;, score=0.858 total time=   0.0s\n",
      "[CV 4/5] END algorithm=kd_tree, leaf_size=35, n_neighbors=8, p=1;, score=0.861 total time=   0.0s\n",
      "[CV 5/5] END algorithm=kd_tree, leaf_size=35, n_neighbors=8, p=1;, score=0.877 total time=   0.0s\n",
      "[CV 1/5] END algorithm=kd_tree, leaf_size=35, n_neighbors=8, p=2;, score=0.880 total time=   0.1s\n",
      "[CV 2/5] END algorithm=kd_tree, leaf_size=35, n_neighbors=8, p=2;, score=0.877 total time=   0.1s\n",
      "[CV 3/5] END algorithm=kd_tree, leaf_size=35, n_neighbors=8, p=2;, score=0.864 total time=   0.0s\n",
      "[CV 4/5] END algorithm=kd_tree, leaf_size=35, n_neighbors=8, p=2;, score=0.849 total time=   0.0s\n",
      "[CV 5/5] END algorithm=kd_tree, leaf_size=35, n_neighbors=8, p=2;, score=0.877 total time=   0.0s\n",
      "[CV 1/5] END algorithm=kd_tree, leaf_size=35, n_neighbors=10, p=1;, score=0.880 total time=   0.0s\n",
      "[CV 2/5] END algorithm=kd_tree, leaf_size=35, n_neighbors=10, p=1;, score=0.840 total time=   0.0s\n",
      "[CV 3/5] END algorithm=kd_tree, leaf_size=35, n_neighbors=10, p=1;, score=0.840 total time=   0.0s\n",
      "[CV 4/5] END algorithm=kd_tree, leaf_size=35, n_neighbors=10, p=1;, score=0.843 total time=   0.0s\n",
      "[CV 5/5] END algorithm=kd_tree, leaf_size=35, n_neighbors=10, p=1;, score=0.858 total time=   0.0s\n",
      "[CV 1/5] END algorithm=kd_tree, leaf_size=35, n_neighbors=10, p=2;, score=0.858 total time=   0.0s\n",
      "[CV 2/5] END algorithm=kd_tree, leaf_size=35, n_neighbors=10, p=2;, score=0.855 total time=   0.0s\n",
      "[CV 3/5] END algorithm=kd_tree, leaf_size=35, n_neighbors=10, p=2;, score=0.830 total time=   0.0s\n",
      "[CV 4/5] END algorithm=kd_tree, leaf_size=35, n_neighbors=10, p=2;, score=0.840 total time=   0.0s\n",
      "[CV 5/5] END algorithm=kd_tree, leaf_size=35, n_neighbors=10, p=2;, score=0.861 total time=   0.0s\n"
     ]
    },
    {
     "name": "stdout",
     "output_type": "stream",
     "text": [
      "[CV 1/5] END algorithm=kd_tree, leaf_size=35, n_neighbors=11, p=1;, score=0.880 total time=   0.0s\n",
      "[CV 2/5] END algorithm=kd_tree, leaf_size=35, n_neighbors=11, p=1;, score=0.840 total time=   0.0s\n",
      "[CV 3/5] END algorithm=kd_tree, leaf_size=35, n_neighbors=11, p=1;, score=0.843 total time=   0.0s\n",
      "[CV 4/5] END algorithm=kd_tree, leaf_size=35, n_neighbors=11, p=1;, score=0.840 total time=   0.0s\n",
      "[CV 5/5] END algorithm=kd_tree, leaf_size=35, n_neighbors=11, p=1;, score=0.858 total time=   0.0s\n",
      "[CV 1/5] END algorithm=kd_tree, leaf_size=35, n_neighbors=11, p=2;, score=0.858 total time=   0.0s\n",
      "[CV 2/5] END algorithm=kd_tree, leaf_size=35, n_neighbors=11, p=2;, score=0.855 total time=   0.0s\n",
      "[CV 3/5] END algorithm=kd_tree, leaf_size=35, n_neighbors=11, p=2;, score=0.830 total time=   0.0s\n",
      "[CV 4/5] END algorithm=kd_tree, leaf_size=35, n_neighbors=11, p=2;, score=0.836 total time=   0.0s\n",
      "[CV 5/5] END algorithm=kd_tree, leaf_size=35, n_neighbors=11, p=2;, score=0.861 total time=   0.0s\n",
      "[CV 1/5] END algorithm=brute, leaf_size=10, n_neighbors=4, p=1;, score=0.923 total time=   0.0s\n",
      "[CV 2/5] END algorithm=brute, leaf_size=10, n_neighbors=4, p=1;, score=0.892 total time=   0.0s\n",
      "[CV 3/5] END algorithm=brute, leaf_size=10, n_neighbors=4, p=1;, score=0.904 total time=   0.0s\n",
      "[CV 4/5] END algorithm=brute, leaf_size=10, n_neighbors=4, p=1;, score=0.901 total time=   0.0s\n",
      "[CV 5/5] END algorithm=brute, leaf_size=10, n_neighbors=4, p=1;, score=0.923 total time=   0.0s\n",
      "[CV 1/5] END algorithm=brute, leaf_size=10, n_neighbors=4, p=2;, score=0.926 total time=   0.0s\n",
      "[CV 2/5] END algorithm=brute, leaf_size=10, n_neighbors=4, p=2;, score=0.914 total time=   0.0s\n",
      "[CV 3/5] END algorithm=brute, leaf_size=10, n_neighbors=4, p=2;, score=0.892 total time=   0.0s\n",
      "[CV 4/5] END algorithm=brute, leaf_size=10, n_neighbors=4, p=2;, score=0.910 total time=   0.0s\n",
      "[CV 5/5] END algorithm=brute, leaf_size=10, n_neighbors=4, p=2;, score=0.920 total time=   0.0s\n",
      "[CV 1/5] END algorithm=brute, leaf_size=10, n_neighbors=5, p=1;, score=0.923 total time=   0.0s\n",
      "[CV 2/5] END algorithm=brute, leaf_size=10, n_neighbors=5, p=1;, score=0.886 total time=   0.0s\n",
      "[CV 3/5] END algorithm=brute, leaf_size=10, n_neighbors=5, p=1;, score=0.904 total time=   0.0s\n",
      "[CV 4/5] END algorithm=brute, leaf_size=10, n_neighbors=5, p=1;, score=0.910 total time=   0.0s\n",
      "[CV 5/5] END algorithm=brute, leaf_size=10, n_neighbors=5, p=1;, score=0.920 total time=   0.0s\n",
      "[CV 1/5] END algorithm=brute, leaf_size=10, n_neighbors=5, p=2;, score=0.926 total time=   0.0s\n",
      "[CV 2/5] END algorithm=brute, leaf_size=10, n_neighbors=5, p=2;, score=0.910 total time=   0.0s\n",
      "[CV 3/5] END algorithm=brute, leaf_size=10, n_neighbors=5, p=2;, score=0.892 total time=   0.0s\n",
      "[CV 4/5] END algorithm=brute, leaf_size=10, n_neighbors=5, p=2;, score=0.910 total time=   0.0s\n",
      "[CV 5/5] END algorithm=brute, leaf_size=10, n_neighbors=5, p=2;, score=0.920 total time=   0.0s\n",
      "[CV 1/5] END algorithm=brute, leaf_size=10, n_neighbors=8, p=1;, score=0.886 total time=   0.0s\n",
      "[CV 2/5] END algorithm=brute, leaf_size=10, n_neighbors=8, p=1;, score=0.855 total time=   0.0s\n",
      "[CV 3/5] END algorithm=brute, leaf_size=10, n_neighbors=8, p=1;, score=0.873 total time=   0.0s\n",
      "[CV 4/5] END algorithm=brute, leaf_size=10, n_neighbors=8, p=1;, score=0.849 total time=   0.0s\n",
      "[CV 5/5] END algorithm=brute, leaf_size=10, n_neighbors=8, p=1;, score=0.877 total time=   0.0s\n",
      "[CV 1/5] END algorithm=brute, leaf_size=10, n_neighbors=8, p=2;, score=0.880 total time=   0.0s\n",
      "[CV 2/5] END algorithm=brute, leaf_size=10, n_neighbors=8, p=2;, score=0.877 total time=   0.0s\n",
      "[CV 3/5] END algorithm=brute, leaf_size=10, n_neighbors=8, p=2;, score=0.861 total time=   0.0s\n",
      "[CV 4/5] END algorithm=brute, leaf_size=10, n_neighbors=8, p=2;, score=0.849 total time=   0.0s\n",
      "[CV 5/5] END algorithm=brute, leaf_size=10, n_neighbors=8, p=2;, score=0.877 total time=   0.0s\n",
      "[CV 1/5] END algorithm=brute, leaf_size=10, n_neighbors=10, p=1;, score=0.880 total time=   0.1s\n",
      "[CV 2/5] END algorithm=brute, leaf_size=10, n_neighbors=10, p=1;, score=0.833 total time=   0.0s\n",
      "[CV 3/5] END algorithm=brute, leaf_size=10, n_neighbors=10, p=1;, score=0.840 total time=   0.0s\n",
      "[CV 4/5] END algorithm=brute, leaf_size=10, n_neighbors=10, p=1;, score=0.846 total time=   0.0s\n",
      "[CV 5/5] END algorithm=brute, leaf_size=10, n_neighbors=10, p=1;, score=0.861 total time=   0.0s\n",
      "[CV 1/5] END algorithm=brute, leaf_size=10, n_neighbors=10, p=2;, score=0.858 total time=   0.0s\n",
      "[CV 2/5] END algorithm=brute, leaf_size=10, n_neighbors=10, p=2;, score=0.855 total time=   0.0s\n",
      "[CV 3/5] END algorithm=brute, leaf_size=10, n_neighbors=10, p=2;, score=0.830 total time=   0.0s\n",
      "[CV 4/5] END algorithm=brute, leaf_size=10, n_neighbors=10, p=2;, score=0.840 total time=   0.0s\n",
      "[CV 5/5] END algorithm=brute, leaf_size=10, n_neighbors=10, p=2;, score=0.861 total time=   0.0s\n",
      "[CV 1/5] END algorithm=brute, leaf_size=10, n_neighbors=11, p=1;, score=0.880 total time=   0.0s\n",
      "[CV 2/5] END algorithm=brute, leaf_size=10, n_neighbors=11, p=1;, score=0.833 total time=   0.0s\n",
      "[CV 3/5] END algorithm=brute, leaf_size=10, n_neighbors=11, p=1;, score=0.846 total time=   0.0s\n",
      "[CV 4/5] END algorithm=brute, leaf_size=10, n_neighbors=11, p=1;, score=0.840 total time=   0.0s\n",
      "[CV 5/5] END algorithm=brute, leaf_size=10, n_neighbors=11, p=1;, score=0.861 total time=   0.0s\n",
      "[CV 1/5] END algorithm=brute, leaf_size=10, n_neighbors=11, p=2;, score=0.858 total time=   0.0s\n",
      "[CV 2/5] END algorithm=brute, leaf_size=10, n_neighbors=11, p=2;, score=0.855 total time=   0.0s\n",
      "[CV 3/5] END algorithm=brute, leaf_size=10, n_neighbors=11, p=2;, score=0.830 total time=   0.1s\n",
      "[CV 4/5] END algorithm=brute, leaf_size=10, n_neighbors=11, p=2;, score=0.833 total time=   0.1s\n",
      "[CV 5/5] END algorithm=brute, leaf_size=10, n_neighbors=11, p=2;, score=0.861 total time=   0.0s\n",
      "[CV 1/5] END algorithm=brute, leaf_size=17, n_neighbors=4, p=1;, score=0.923 total time=   0.0s\n",
      "[CV 2/5] END algorithm=brute, leaf_size=17, n_neighbors=4, p=1;, score=0.892 total time=   0.1s\n",
      "[CV 3/5] END algorithm=brute, leaf_size=17, n_neighbors=4, p=1;, score=0.904 total time=   0.0s\n",
      "[CV 4/5] END algorithm=brute, leaf_size=17, n_neighbors=4, p=1;, score=0.901 total time=   0.1s\n",
      "[CV 5/5] END algorithm=brute, leaf_size=17, n_neighbors=4, p=1;, score=0.923 total time=   0.1s\n",
      "[CV 1/5] END algorithm=brute, leaf_size=17, n_neighbors=4, p=2;, score=0.926 total time=   0.0s\n",
      "[CV 2/5] END algorithm=brute, leaf_size=17, n_neighbors=4, p=2;, score=0.914 total time=   0.0s\n",
      "[CV 3/5] END algorithm=brute, leaf_size=17, n_neighbors=4, p=2;, score=0.892 total time=   0.0s\n",
      "[CV 4/5] END algorithm=brute, leaf_size=17, n_neighbors=4, p=2;, score=0.910 total time=   0.0s\n",
      "[CV 5/5] END algorithm=brute, leaf_size=17, n_neighbors=4, p=2;, score=0.920 total time=   0.1s\n",
      "[CV 1/5] END algorithm=brute, leaf_size=17, n_neighbors=5, p=1;, score=0.923 total time=   0.0s\n",
      "[CV 2/5] END algorithm=brute, leaf_size=17, n_neighbors=5, p=1;, score=0.886 total time=   0.1s\n",
      "[CV 3/5] END algorithm=brute, leaf_size=17, n_neighbors=5, p=1;, score=0.904 total time=   0.0s\n",
      "[CV 4/5] END algorithm=brute, leaf_size=17, n_neighbors=5, p=1;, score=0.910 total time=   0.1s\n",
      "[CV 5/5] END algorithm=brute, leaf_size=17, n_neighbors=5, p=1;, score=0.920 total time=   0.0s\n",
      "[CV 1/5] END algorithm=brute, leaf_size=17, n_neighbors=5, p=2;, score=0.926 total time=   0.0s\n",
      "[CV 2/5] END algorithm=brute, leaf_size=17, n_neighbors=5, p=2;, score=0.910 total time=   0.0s\n",
      "[CV 3/5] END algorithm=brute, leaf_size=17, n_neighbors=5, p=2;, score=0.892 total time=   0.0s\n",
      "[CV 4/5] END algorithm=brute, leaf_size=17, n_neighbors=5, p=2;, score=0.910 total time=   0.0s\n",
      "[CV 5/5] END algorithm=brute, leaf_size=17, n_neighbors=5, p=2;, score=0.920 total time=   0.0s\n",
      "[CV 1/5] END algorithm=brute, leaf_size=17, n_neighbors=8, p=1;, score=0.886 total time=   0.0s\n",
      "[CV 2/5] END algorithm=brute, leaf_size=17, n_neighbors=8, p=1;, score=0.855 total time=   0.0s\n",
      "[CV 3/5] END algorithm=brute, leaf_size=17, n_neighbors=8, p=1;, score=0.873 total time=   0.0s\n",
      "[CV 4/5] END algorithm=brute, leaf_size=17, n_neighbors=8, p=1;, score=0.849 total time=   0.0s\n",
      "[CV 5/5] END algorithm=brute, leaf_size=17, n_neighbors=8, p=1;, score=0.877 total time=   0.1s\n",
      "[CV 1/5] END algorithm=brute, leaf_size=17, n_neighbors=8, p=2;, score=0.880 total time=   0.0s\n",
      "[CV 2/5] END algorithm=brute, leaf_size=17, n_neighbors=8, p=2;, score=0.877 total time=   0.0s\n",
      "[CV 3/5] END algorithm=brute, leaf_size=17, n_neighbors=8, p=2;, score=0.861 total time=   0.0s\n",
      "[CV 4/5] END algorithm=brute, leaf_size=17, n_neighbors=8, p=2;, score=0.849 total time=   0.0s\n"
     ]
    },
    {
     "name": "stdout",
     "output_type": "stream",
     "text": [
      "[CV 5/5] END algorithm=brute, leaf_size=17, n_neighbors=8, p=2;, score=0.877 total time=   0.0s\n",
      "[CV 1/5] END algorithm=brute, leaf_size=17, n_neighbors=10, p=1;, score=0.880 total time=   0.1s\n",
      "[CV 2/5] END algorithm=brute, leaf_size=17, n_neighbors=10, p=1;, score=0.833 total time=   0.1s\n",
      "[CV 3/5] END algorithm=brute, leaf_size=17, n_neighbors=10, p=1;, score=0.840 total time=   0.0s\n",
      "[CV 4/5] END algorithm=brute, leaf_size=17, n_neighbors=10, p=1;, score=0.846 total time=   0.0s\n",
      "[CV 5/5] END algorithm=brute, leaf_size=17, n_neighbors=10, p=1;, score=0.861 total time=   0.0s\n",
      "[CV 1/5] END algorithm=brute, leaf_size=17, n_neighbors=10, p=2;, score=0.858 total time=   0.0s\n",
      "[CV 2/5] END algorithm=brute, leaf_size=17, n_neighbors=10, p=2;, score=0.855 total time=   0.0s\n",
      "[CV 3/5] END algorithm=brute, leaf_size=17, n_neighbors=10, p=2;, score=0.830 total time=   0.0s\n",
      "[CV 4/5] END algorithm=brute, leaf_size=17, n_neighbors=10, p=2;, score=0.840 total time=   0.0s\n",
      "[CV 5/5] END algorithm=brute, leaf_size=17, n_neighbors=10, p=2;, score=0.861 total time=   0.0s\n",
      "[CV 1/5] END algorithm=brute, leaf_size=17, n_neighbors=11, p=1;, score=0.880 total time=   0.0s\n",
      "[CV 2/5] END algorithm=brute, leaf_size=17, n_neighbors=11, p=1;, score=0.833 total time=   0.1s\n",
      "[CV 3/5] END algorithm=brute, leaf_size=17, n_neighbors=11, p=1;, score=0.846 total time=   0.1s\n",
      "[CV 4/5] END algorithm=brute, leaf_size=17, n_neighbors=11, p=1;, score=0.840 total time=   0.1s\n",
      "[CV 5/5] END algorithm=brute, leaf_size=17, n_neighbors=11, p=1;, score=0.861 total time=   0.0s\n",
      "[CV 1/5] END algorithm=brute, leaf_size=17, n_neighbors=11, p=2;, score=0.858 total time=   0.1s\n",
      "[CV 2/5] END algorithm=brute, leaf_size=17, n_neighbors=11, p=2;, score=0.855 total time=   0.1s\n",
      "[CV 3/5] END algorithm=brute, leaf_size=17, n_neighbors=11, p=2;, score=0.830 total time=   0.0s\n",
      "[CV 4/5] END algorithm=brute, leaf_size=17, n_neighbors=11, p=2;, score=0.833 total time=   0.0s\n",
      "[CV 5/5] END algorithm=brute, leaf_size=17, n_neighbors=11, p=2;, score=0.861 total time=   0.0s\n",
      "[CV 1/5] END algorithm=brute, leaf_size=24, n_neighbors=4, p=1;, score=0.923 total time=   0.0s\n",
      "[CV 2/5] END algorithm=brute, leaf_size=24, n_neighbors=4, p=1;, score=0.892 total time=   0.0s\n",
      "[CV 3/5] END algorithm=brute, leaf_size=24, n_neighbors=4, p=1;, score=0.904 total time=   0.0s\n",
      "[CV 4/5] END algorithm=brute, leaf_size=24, n_neighbors=4, p=1;, score=0.901 total time=   0.0s\n",
      "[CV 5/5] END algorithm=brute, leaf_size=24, n_neighbors=4, p=1;, score=0.923 total time=   0.0s\n",
      "[CV 1/5] END algorithm=brute, leaf_size=24, n_neighbors=4, p=2;, score=0.926 total time=   0.0s\n",
      "[CV 2/5] END algorithm=brute, leaf_size=24, n_neighbors=4, p=2;, score=0.914 total time=   0.0s\n",
      "[CV 3/5] END algorithm=brute, leaf_size=24, n_neighbors=4, p=2;, score=0.892 total time=   0.0s\n",
      "[CV 4/5] END algorithm=brute, leaf_size=24, n_neighbors=4, p=2;, score=0.910 total time=   0.0s\n",
      "[CV 5/5] END algorithm=brute, leaf_size=24, n_neighbors=4, p=2;, score=0.920 total time=   0.0s\n",
      "[CV 1/5] END algorithm=brute, leaf_size=24, n_neighbors=5, p=1;, score=0.923 total time=   0.0s\n",
      "[CV 2/5] END algorithm=brute, leaf_size=24, n_neighbors=5, p=1;, score=0.886 total time=   0.0s\n",
      "[CV 3/5] END algorithm=brute, leaf_size=24, n_neighbors=5, p=1;, score=0.904 total time=   0.0s\n",
      "[CV 4/5] END algorithm=brute, leaf_size=24, n_neighbors=5, p=1;, score=0.910 total time=   0.1s\n",
      "[CV 5/5] END algorithm=brute, leaf_size=24, n_neighbors=5, p=1;, score=0.920 total time=   0.0s\n",
      "[CV 1/5] END algorithm=brute, leaf_size=24, n_neighbors=5, p=2;, score=0.926 total time=   0.0s\n",
      "[CV 2/5] END algorithm=brute, leaf_size=24, n_neighbors=5, p=2;, score=0.910 total time=   0.0s\n",
      "[CV 3/5] END algorithm=brute, leaf_size=24, n_neighbors=5, p=2;, score=0.892 total time=   0.0s\n",
      "[CV 4/5] END algorithm=brute, leaf_size=24, n_neighbors=5, p=2;, score=0.910 total time=   0.0s\n",
      "[CV 5/5] END algorithm=brute, leaf_size=24, n_neighbors=5, p=2;, score=0.920 total time=   0.0s\n",
      "[CV 1/5] END algorithm=brute, leaf_size=24, n_neighbors=8, p=1;, score=0.886 total time=   0.1s\n",
      "[CV 2/5] END algorithm=brute, leaf_size=24, n_neighbors=8, p=1;, score=0.855 total time=   0.1s\n",
      "[CV 3/5] END algorithm=brute, leaf_size=24, n_neighbors=8, p=1;, score=0.873 total time=   0.1s\n",
      "[CV 4/5] END algorithm=brute, leaf_size=24, n_neighbors=8, p=1;, score=0.849 total time=   0.0s\n",
      "[CV 5/5] END algorithm=brute, leaf_size=24, n_neighbors=8, p=1;, score=0.877 total time=   0.0s\n",
      "[CV 1/5] END algorithm=brute, leaf_size=24, n_neighbors=8, p=2;, score=0.880 total time=   0.0s\n",
      "[CV 2/5] END algorithm=brute, leaf_size=24, n_neighbors=8, p=2;, score=0.877 total time=   0.0s\n",
      "[CV 3/5] END algorithm=brute, leaf_size=24, n_neighbors=8, p=2;, score=0.861 total time=   0.0s\n",
      "[CV 4/5] END algorithm=brute, leaf_size=24, n_neighbors=8, p=2;, score=0.849 total time=   0.0s\n",
      "[CV 5/5] END algorithm=brute, leaf_size=24, n_neighbors=8, p=2;, score=0.877 total time=   0.0s\n",
      "[CV 1/5] END algorithm=brute, leaf_size=24, n_neighbors=10, p=1;, score=0.880 total time=   0.0s\n",
      "[CV 2/5] END algorithm=brute, leaf_size=24, n_neighbors=10, p=1;, score=0.833 total time=   0.0s\n",
      "[CV 3/5] END algorithm=brute, leaf_size=24, n_neighbors=10, p=1;, score=0.840 total time=   0.0s\n",
      "[CV 4/5] END algorithm=brute, leaf_size=24, n_neighbors=10, p=1;, score=0.846 total time=   0.0s\n",
      "[CV 5/5] END algorithm=brute, leaf_size=24, n_neighbors=10, p=1;, score=0.861 total time=   0.0s\n",
      "[CV 1/5] END algorithm=brute, leaf_size=24, n_neighbors=10, p=2;, score=0.858 total time=   0.0s\n",
      "[CV 2/5] END algorithm=brute, leaf_size=24, n_neighbors=10, p=2;, score=0.855 total time=   0.0s\n",
      "[CV 3/5] END algorithm=brute, leaf_size=24, n_neighbors=10, p=2;, score=0.830 total time=   0.0s\n",
      "[CV 4/5] END algorithm=brute, leaf_size=24, n_neighbors=10, p=2;, score=0.840 total time=   0.0s\n",
      "[CV 5/5] END algorithm=brute, leaf_size=24, n_neighbors=10, p=2;, score=0.861 total time=   0.0s\n",
      "[CV 1/5] END algorithm=brute, leaf_size=24, n_neighbors=11, p=1;, score=0.880 total time=   0.0s\n",
      "[CV 2/5] END algorithm=brute, leaf_size=24, n_neighbors=11, p=1;, score=0.833 total time=   0.0s\n",
      "[CV 3/5] END algorithm=brute, leaf_size=24, n_neighbors=11, p=1;, score=0.846 total time=   0.0s\n",
      "[CV 4/5] END algorithm=brute, leaf_size=24, n_neighbors=11, p=1;, score=0.840 total time=   0.0s\n",
      "[CV 5/5] END algorithm=brute, leaf_size=24, n_neighbors=11, p=1;, score=0.861 total time=   0.1s\n",
      "[CV 1/5] END algorithm=brute, leaf_size=24, n_neighbors=11, p=2;, score=0.858 total time=   0.0s\n",
      "[CV 2/5] END algorithm=brute, leaf_size=24, n_neighbors=11, p=2;, score=0.855 total time=   0.0s\n",
      "[CV 3/5] END algorithm=brute, leaf_size=24, n_neighbors=11, p=2;, score=0.830 total time=   0.1s\n",
      "[CV 4/5] END algorithm=brute, leaf_size=24, n_neighbors=11, p=2;, score=0.833 total time=   0.1s\n",
      "[CV 5/5] END algorithm=brute, leaf_size=24, n_neighbors=11, p=2;, score=0.861 total time=   0.1s\n",
      "[CV 1/5] END algorithm=brute, leaf_size=28, n_neighbors=4, p=1;, score=0.923 total time=   0.0s\n",
      "[CV 2/5] END algorithm=brute, leaf_size=28, n_neighbors=4, p=1;, score=0.892 total time=   0.0s\n",
      "[CV 3/5] END algorithm=brute, leaf_size=28, n_neighbors=4, p=1;, score=0.904 total time=   0.0s\n",
      "[CV 4/5] END algorithm=brute, leaf_size=28, n_neighbors=4, p=1;, score=0.901 total time=   0.0s\n",
      "[CV 5/5] END algorithm=brute, leaf_size=28, n_neighbors=4, p=1;, score=0.923 total time=   0.0s\n",
      "[CV 1/5] END algorithm=brute, leaf_size=28, n_neighbors=4, p=2;, score=0.926 total time=   0.0s\n",
      "[CV 2/5] END algorithm=brute, leaf_size=28, n_neighbors=4, p=2;, score=0.914 total time=   0.0s\n",
      "[CV 3/5] END algorithm=brute, leaf_size=28, n_neighbors=4, p=2;, score=0.892 total time=   0.0s\n",
      "[CV 4/5] END algorithm=brute, leaf_size=28, n_neighbors=4, p=2;, score=0.910 total time=   0.0s\n",
      "[CV 5/5] END algorithm=brute, leaf_size=28, n_neighbors=4, p=2;, score=0.920 total time=   0.0s\n",
      "[CV 1/5] END algorithm=brute, leaf_size=28, n_neighbors=5, p=1;, score=0.923 total time=   0.1s\n",
      "[CV 2/5] END algorithm=brute, leaf_size=28, n_neighbors=5, p=1;, score=0.886 total time=   0.1s\n",
      "[CV 3/5] END algorithm=brute, leaf_size=28, n_neighbors=5, p=1;, score=0.904 total time=   0.1s\n",
      "[CV 4/5] END algorithm=brute, leaf_size=28, n_neighbors=5, p=1;, score=0.910 total time=   0.0s\n"
     ]
    },
    {
     "name": "stdout",
     "output_type": "stream",
     "text": [
      "[CV 5/5] END algorithm=brute, leaf_size=28, n_neighbors=5, p=1;, score=0.920 total time=   0.1s\n",
      "[CV 1/5] END algorithm=brute, leaf_size=28, n_neighbors=5, p=2;, score=0.926 total time=   0.1s\n",
      "[CV 2/5] END algorithm=brute, leaf_size=28, n_neighbors=5, p=2;, score=0.910 total time=   0.1s\n",
      "[CV 3/5] END algorithm=brute, leaf_size=28, n_neighbors=5, p=2;, score=0.892 total time=   0.0s\n",
      "[CV 4/5] END algorithm=brute, leaf_size=28, n_neighbors=5, p=2;, score=0.910 total time=   0.0s\n",
      "[CV 5/5] END algorithm=brute, leaf_size=28, n_neighbors=5, p=2;, score=0.920 total time=   0.0s\n",
      "[CV 1/5] END algorithm=brute, leaf_size=28, n_neighbors=8, p=1;, score=0.886 total time=   0.0s\n",
      "[CV 2/5] END algorithm=brute, leaf_size=28, n_neighbors=8, p=1;, score=0.855 total time=   0.1s\n",
      "[CV 3/5] END algorithm=brute, leaf_size=28, n_neighbors=8, p=1;, score=0.873 total time=   0.1s\n",
      "[CV 4/5] END algorithm=brute, leaf_size=28, n_neighbors=8, p=1;, score=0.849 total time=   0.1s\n",
      "[CV 5/5] END algorithm=brute, leaf_size=28, n_neighbors=8, p=1;, score=0.877 total time=   0.1s\n",
      "[CV 1/5] END algorithm=brute, leaf_size=28, n_neighbors=8, p=2;, score=0.880 total time=   0.0s\n",
      "[CV 2/5] END algorithm=brute, leaf_size=28, n_neighbors=8, p=2;, score=0.877 total time=   0.0s\n",
      "[CV 3/5] END algorithm=brute, leaf_size=28, n_neighbors=8, p=2;, score=0.861 total time=   0.0s\n",
      "[CV 4/5] END algorithm=brute, leaf_size=28, n_neighbors=8, p=2;, score=0.849 total time=   0.0s\n",
      "[CV 5/5] END algorithm=brute, leaf_size=28, n_neighbors=8, p=2;, score=0.877 total time=   0.0s\n",
      "[CV 1/5] END algorithm=brute, leaf_size=28, n_neighbors=10, p=1;, score=0.880 total time=   0.0s\n",
      "[CV 2/5] END algorithm=brute, leaf_size=28, n_neighbors=10, p=1;, score=0.833 total time=   0.0s\n",
      "[CV 3/5] END algorithm=brute, leaf_size=28, n_neighbors=10, p=1;, score=0.840 total time=   0.0s\n",
      "[CV 4/5] END algorithm=brute, leaf_size=28, n_neighbors=10, p=1;, score=0.846 total time=   0.0s\n",
      "[CV 5/5] END algorithm=brute, leaf_size=28, n_neighbors=10, p=1;, score=0.861 total time=   0.0s\n",
      "[CV 1/5] END algorithm=brute, leaf_size=28, n_neighbors=10, p=2;, score=0.858 total time=   0.0s\n",
      "[CV 2/5] END algorithm=brute, leaf_size=28, n_neighbors=10, p=2;, score=0.855 total time=   0.0s\n",
      "[CV 3/5] END algorithm=brute, leaf_size=28, n_neighbors=10, p=2;, score=0.830 total time=   0.0s\n",
      "[CV 4/5] END algorithm=brute, leaf_size=28, n_neighbors=10, p=2;, score=0.840 total time=   0.0s\n",
      "[CV 5/5] END algorithm=brute, leaf_size=28, n_neighbors=10, p=2;, score=0.861 total time=   0.0s\n",
      "[CV 1/5] END algorithm=brute, leaf_size=28, n_neighbors=11, p=1;, score=0.880 total time=   0.0s\n",
      "[CV 2/5] END algorithm=brute, leaf_size=28, n_neighbors=11, p=1;, score=0.833 total time=   0.0s\n",
      "[CV 3/5] END algorithm=brute, leaf_size=28, n_neighbors=11, p=1;, score=0.846 total time=   0.0s\n",
      "[CV 4/5] END algorithm=brute, leaf_size=28, n_neighbors=11, p=1;, score=0.840 total time=   0.1s\n",
      "[CV 5/5] END algorithm=brute, leaf_size=28, n_neighbors=11, p=1;, score=0.861 total time=   0.1s\n",
      "[CV 1/5] END algorithm=brute, leaf_size=28, n_neighbors=11, p=2;, score=0.858 total time=   0.0s\n",
      "[CV 2/5] END algorithm=brute, leaf_size=28, n_neighbors=11, p=2;, score=0.855 total time=   0.0s\n",
      "[CV 3/5] END algorithm=brute, leaf_size=28, n_neighbors=11, p=2;, score=0.830 total time=   0.0s\n",
      "[CV 4/5] END algorithm=brute, leaf_size=28, n_neighbors=11, p=2;, score=0.833 total time=   0.1s\n",
      "[CV 5/5] END algorithm=brute, leaf_size=28, n_neighbors=11, p=2;, score=0.861 total time=   0.0s\n",
      "[CV 1/5] END algorithm=brute, leaf_size=30, n_neighbors=4, p=1;, score=0.923 total time=   0.0s\n",
      "[CV 2/5] END algorithm=brute, leaf_size=30, n_neighbors=4, p=1;, score=0.892 total time=   0.0s\n",
      "[CV 3/5] END algorithm=brute, leaf_size=30, n_neighbors=4, p=1;, score=0.904 total time=   0.0s\n",
      "[CV 4/5] END algorithm=brute, leaf_size=30, n_neighbors=4, p=1;, score=0.901 total time=   0.0s\n",
      "[CV 5/5] END algorithm=brute, leaf_size=30, n_neighbors=4, p=1;, score=0.923 total time=   0.0s\n",
      "[CV 1/5] END algorithm=brute, leaf_size=30, n_neighbors=4, p=2;, score=0.926 total time=   0.0s\n",
      "[CV 2/5] END algorithm=brute, leaf_size=30, n_neighbors=4, p=2;, score=0.914 total time=   0.0s\n",
      "[CV 3/5] END algorithm=brute, leaf_size=30, n_neighbors=4, p=2;, score=0.892 total time=   0.0s\n",
      "[CV 4/5] END algorithm=brute, leaf_size=30, n_neighbors=4, p=2;, score=0.910 total time=   0.0s\n",
      "[CV 5/5] END algorithm=brute, leaf_size=30, n_neighbors=4, p=2;, score=0.920 total time=   0.0s\n",
      "[CV 1/5] END algorithm=brute, leaf_size=30, n_neighbors=5, p=1;, score=0.923 total time=   0.0s\n",
      "[CV 2/5] END algorithm=brute, leaf_size=30, n_neighbors=5, p=1;, score=0.886 total time=   0.0s\n",
      "[CV 3/5] END algorithm=brute, leaf_size=30, n_neighbors=5, p=1;, score=0.904 total time=   0.1s\n",
      "[CV 4/5] END algorithm=brute, leaf_size=30, n_neighbors=5, p=1;, score=0.910 total time=   0.0s\n",
      "[CV 5/5] END algorithm=brute, leaf_size=30, n_neighbors=5, p=1;, score=0.920 total time=   0.0s\n",
      "[CV 1/5] END algorithm=brute, leaf_size=30, n_neighbors=5, p=2;, score=0.926 total time=   0.0s\n",
      "[CV 2/5] END algorithm=brute, leaf_size=30, n_neighbors=5, p=2;, score=0.910 total time=   0.0s\n",
      "[CV 3/5] END algorithm=brute, leaf_size=30, n_neighbors=5, p=2;, score=0.892 total time=   0.0s\n",
      "[CV 4/5] END algorithm=brute, leaf_size=30, n_neighbors=5, p=2;, score=0.910 total time=   0.0s\n",
      "[CV 5/5] END algorithm=brute, leaf_size=30, n_neighbors=5, p=2;, score=0.920 total time=   0.0s\n",
      "[CV 1/5] END algorithm=brute, leaf_size=30, n_neighbors=8, p=1;, score=0.886 total time=   0.0s\n",
      "[CV 2/5] END algorithm=brute, leaf_size=30, n_neighbors=8, p=1;, score=0.855 total time=   0.0s\n",
      "[CV 3/5] END algorithm=brute, leaf_size=30, n_neighbors=8, p=1;, score=0.873 total time=   0.0s\n",
      "[CV 4/5] END algorithm=brute, leaf_size=30, n_neighbors=8, p=1;, score=0.849 total time=   0.0s\n",
      "[CV 5/5] END algorithm=brute, leaf_size=30, n_neighbors=8, p=1;, score=0.877 total time=   0.0s\n",
      "[CV 1/5] END algorithm=brute, leaf_size=30, n_neighbors=8, p=2;, score=0.880 total time=   0.0s\n",
      "[CV 2/5] END algorithm=brute, leaf_size=30, n_neighbors=8, p=2;, score=0.877 total time=   0.0s\n",
      "[CV 3/5] END algorithm=brute, leaf_size=30, n_neighbors=8, p=2;, score=0.861 total time=   0.1s\n",
      "[CV 4/5] END algorithm=brute, leaf_size=30, n_neighbors=8, p=2;, score=0.849 total time=   0.0s\n",
      "[CV 5/5] END algorithm=brute, leaf_size=30, n_neighbors=8, p=2;, score=0.877 total time=   0.0s\n",
      "[CV 1/5] END algorithm=brute, leaf_size=30, n_neighbors=10, p=1;, score=0.880 total time=   0.0s\n",
      "[CV 2/5] END algorithm=brute, leaf_size=30, n_neighbors=10, p=1;, score=0.833 total time=   0.0s\n",
      "[CV 3/5] END algorithm=brute, leaf_size=30, n_neighbors=10, p=1;, score=0.840 total time=   0.0s\n",
      "[CV 4/5] END algorithm=brute, leaf_size=30, n_neighbors=10, p=1;, score=0.846 total time=   0.1s\n",
      "[CV 5/5] END algorithm=brute, leaf_size=30, n_neighbors=10, p=1;, score=0.861 total time=   0.1s\n",
      "[CV 1/5] END algorithm=brute, leaf_size=30, n_neighbors=10, p=2;, score=0.858 total time=   0.0s\n",
      "[CV 2/5] END algorithm=brute, leaf_size=30, n_neighbors=10, p=2;, score=0.855 total time=   0.0s\n",
      "[CV 3/5] END algorithm=brute, leaf_size=30, n_neighbors=10, p=2;, score=0.830 total time=   0.0s\n",
      "[CV 4/5] END algorithm=brute, leaf_size=30, n_neighbors=10, p=2;, score=0.840 total time=   0.0s\n",
      "[CV 5/5] END algorithm=brute, leaf_size=30, n_neighbors=10, p=2;, score=0.861 total time=   0.0s\n",
      "[CV 1/5] END algorithm=brute, leaf_size=30, n_neighbors=11, p=1;, score=0.880 total time=   0.0s\n",
      "[CV 2/5] END algorithm=brute, leaf_size=30, n_neighbors=11, p=1;, score=0.833 total time=   0.0s\n",
      "[CV 3/5] END algorithm=brute, leaf_size=30, n_neighbors=11, p=1;, score=0.846 total time=   0.1s\n",
      "[CV 4/5] END algorithm=brute, leaf_size=30, n_neighbors=11, p=1;, score=0.840 total time=   0.0s\n",
      "[CV 5/5] END algorithm=brute, leaf_size=30, n_neighbors=11, p=1;, score=0.861 total time=   0.0s\n",
      "[CV 1/5] END algorithm=brute, leaf_size=30, n_neighbors=11, p=2;, score=0.858 total time=   0.0s\n",
      "[CV 2/5] END algorithm=brute, leaf_size=30, n_neighbors=11, p=2;, score=0.855 total time=   0.0s\n",
      "[CV 3/5] END algorithm=brute, leaf_size=30, n_neighbors=11, p=2;, score=0.830 total time=   0.0s\n",
      "[CV 4/5] END algorithm=brute, leaf_size=30, n_neighbors=11, p=2;, score=0.833 total time=   0.0s\n",
      "[CV 5/5] END algorithm=brute, leaf_size=30, n_neighbors=11, p=2;, score=0.861 total time=   0.0s\n",
      "[CV 1/5] END algorithm=brute, leaf_size=35, n_neighbors=4, p=1;, score=0.923 total time=   0.0s\n",
      "[CV 2/5] END algorithm=brute, leaf_size=35, n_neighbors=4, p=1;, score=0.892 total time=   0.0s\n",
      "[CV 3/5] END algorithm=brute, leaf_size=35, n_neighbors=4, p=1;, score=0.904 total time=   0.0s\n"
     ]
    },
    {
     "name": "stdout",
     "output_type": "stream",
     "text": [
      "[CV 4/5] END algorithm=brute, leaf_size=35, n_neighbors=4, p=1;, score=0.901 total time=   0.0s\n",
      "[CV 5/5] END algorithm=brute, leaf_size=35, n_neighbors=4, p=1;, score=0.923 total time=   0.0s\n",
      "[CV 1/5] END algorithm=brute, leaf_size=35, n_neighbors=4, p=2;, score=0.926 total time=   0.0s\n",
      "[CV 2/5] END algorithm=brute, leaf_size=35, n_neighbors=4, p=2;, score=0.914 total time=   0.0s\n",
      "[CV 3/5] END algorithm=brute, leaf_size=35, n_neighbors=4, p=2;, score=0.892 total time=   0.0s\n",
      "[CV 4/5] END algorithm=brute, leaf_size=35, n_neighbors=4, p=2;, score=0.910 total time=   0.0s\n",
      "[CV 5/5] END algorithm=brute, leaf_size=35, n_neighbors=4, p=2;, score=0.920 total time=   0.0s\n",
      "[CV 1/5] END algorithm=brute, leaf_size=35, n_neighbors=5, p=1;, score=0.923 total time=   0.0s\n",
      "[CV 2/5] END algorithm=brute, leaf_size=35, n_neighbors=5, p=1;, score=0.886 total time=   0.0s\n",
      "[CV 3/5] END algorithm=brute, leaf_size=35, n_neighbors=5, p=1;, score=0.904 total time=   0.0s\n",
      "[CV 4/5] END algorithm=brute, leaf_size=35, n_neighbors=5, p=1;, score=0.910 total time=   0.0s\n",
      "[CV 5/5] END algorithm=brute, leaf_size=35, n_neighbors=5, p=1;, score=0.920 total time=   0.0s\n",
      "[CV 1/5] END algorithm=brute, leaf_size=35, n_neighbors=5, p=2;, score=0.926 total time=   0.0s\n",
      "[CV 2/5] END algorithm=brute, leaf_size=35, n_neighbors=5, p=2;, score=0.910 total time=   0.0s\n",
      "[CV 3/5] END algorithm=brute, leaf_size=35, n_neighbors=5, p=2;, score=0.892 total time=   0.0s\n",
      "[CV 4/5] END algorithm=brute, leaf_size=35, n_neighbors=5, p=2;, score=0.910 total time=   0.0s\n",
      "[CV 5/5] END algorithm=brute, leaf_size=35, n_neighbors=5, p=2;, score=0.920 total time=   0.0s\n",
      "[CV 1/5] END algorithm=brute, leaf_size=35, n_neighbors=8, p=1;, score=0.886 total time=   0.0s\n",
      "[CV 2/5] END algorithm=brute, leaf_size=35, n_neighbors=8, p=1;, score=0.855 total time=   0.0s\n",
      "[CV 3/5] END algorithm=brute, leaf_size=35, n_neighbors=8, p=1;, score=0.873 total time=   0.0s\n",
      "[CV 4/5] END algorithm=brute, leaf_size=35, n_neighbors=8, p=1;, score=0.849 total time=   0.0s\n",
      "[CV 5/5] END algorithm=brute, leaf_size=35, n_neighbors=8, p=1;, score=0.877 total time=   0.0s\n",
      "[CV 1/5] END algorithm=brute, leaf_size=35, n_neighbors=8, p=2;, score=0.880 total time=   0.0s\n",
      "[CV 2/5] END algorithm=brute, leaf_size=35, n_neighbors=8, p=2;, score=0.877 total time=   0.0s\n",
      "[CV 3/5] END algorithm=brute, leaf_size=35, n_neighbors=8, p=2;, score=0.861 total time=   0.0s\n",
      "[CV 4/5] END algorithm=brute, leaf_size=35, n_neighbors=8, p=2;, score=0.849 total time=   0.0s\n",
      "[CV 5/5] END algorithm=brute, leaf_size=35, n_neighbors=8, p=2;, score=0.877 total time=   0.0s\n",
      "[CV 1/5] END algorithm=brute, leaf_size=35, n_neighbors=10, p=1;, score=0.880 total time=   0.0s\n",
      "[CV 2/5] END algorithm=brute, leaf_size=35, n_neighbors=10, p=1;, score=0.833 total time=   0.0s\n",
      "[CV 3/5] END algorithm=brute, leaf_size=35, n_neighbors=10, p=1;, score=0.840 total time=   0.0s\n",
      "[CV 4/5] END algorithm=brute, leaf_size=35, n_neighbors=10, p=1;, score=0.846 total time=   0.0s\n",
      "[CV 5/5] END algorithm=brute, leaf_size=35, n_neighbors=10, p=1;, score=0.861 total time=   0.0s\n",
      "[CV 1/5] END algorithm=brute, leaf_size=35, n_neighbors=10, p=2;, score=0.858 total time=   0.0s\n",
      "[CV 2/5] END algorithm=brute, leaf_size=35, n_neighbors=10, p=2;, score=0.855 total time=   0.0s\n",
      "[CV 3/5] END algorithm=brute, leaf_size=35, n_neighbors=10, p=2;, score=0.830 total time=   0.0s\n",
      "[CV 4/5] END algorithm=brute, leaf_size=35, n_neighbors=10, p=2;, score=0.840 total time=   0.0s\n",
      "[CV 5/5] END algorithm=brute, leaf_size=35, n_neighbors=10, p=2;, score=0.861 total time=   0.0s\n",
      "[CV 1/5] END algorithm=brute, leaf_size=35, n_neighbors=11, p=1;, score=0.880 total time=   0.0s\n",
      "[CV 2/5] END algorithm=brute, leaf_size=35, n_neighbors=11, p=1;, score=0.833 total time=   0.0s\n",
      "[CV 3/5] END algorithm=brute, leaf_size=35, n_neighbors=11, p=1;, score=0.846 total time=   0.0s\n",
      "[CV 4/5] END algorithm=brute, leaf_size=35, n_neighbors=11, p=1;, score=0.840 total time=   0.0s\n",
      "[CV 5/5] END algorithm=brute, leaf_size=35, n_neighbors=11, p=1;, score=0.861 total time=   0.0s\n",
      "[CV 1/5] END algorithm=brute, leaf_size=35, n_neighbors=11, p=2;, score=0.858 total time=   0.0s\n",
      "[CV 2/5] END algorithm=brute, leaf_size=35, n_neighbors=11, p=2;, score=0.855 total time=   0.0s\n",
      "[CV 3/5] END algorithm=brute, leaf_size=35, n_neighbors=11, p=2;, score=0.830 total time=   0.0s\n",
      "[CV 4/5] END algorithm=brute, leaf_size=35, n_neighbors=11, p=2;, score=0.833 total time=   0.0s\n",
      "[CV 5/5] END algorithm=brute, leaf_size=35, n_neighbors=11, p=2;, score=0.861 total time=   0.0s\n",
      "KNN best params: {'algorithm': 'kd_tree', 'leaf_size': 17, 'n_neighbors': 4, 'p': 1}. Exited the KNN method of the Model_Finder class\n"
     ]
    }
   ],
   "source": [
    "knn_classifier = get_best_params_for_KNN(x_train, y_train)"
   ]
  },
  {
   "cell_type": "code",
   "execution_count": 63,
   "metadata": {
    "id": "mBPS4Ath-54z"
   },
   "outputs": [],
   "source": [
    "def get_best_params_for_xgboost(train_x,train_y):\n",
    "   \"\"\"\n",
    "                                      Method Name: get_best_params_for_xgboost\n",
    "                                      Description: get the parameters for XGBoost Algorithm which give the best accuracy.\n",
    "                                      Use Hyper Parameter Tuning.\n",
    "\n",
    "                                      Output: The model with the best parameters\n",
    "                                      On Failure: Raise Exception\n",
    "                              \n",
    "   \"\"\"\n",
    "\n",
    "\n",
    "\n",
    "\n",
    "        \n",
    "   print('Entered the get_best_params_for_xgboost method of the Model_Finder class')\n",
    "   try:\n",
    "     # initializing with different combination of parameters\n",
    "     param_grid_xgboost = {\n",
    "    \n",
    "                 'learning_rate': [0.5, 0.1, 0.01, 0.001],\n",
    "                 'max_depth': [3, 5, 10, 20],\n",
    "                 'n_estimators': [10, 50, 100, 200]\n",
    "    \n",
    "             }\n",
    "     # Creating an object of the Grid Search class\n",
    "     grid= GridSearchCV(XGBClassifier(objective='binary:logistic'),param_grid_xgboost, verbose=3,cv=5)\n",
    "     # finding the best parameters\n",
    "     grid.fit(train_x, train_y)\n",
    "    \n",
    "     # extracting the best parameters\n",
    "     learning_rate = grid.best_params_['learning_rate']\n",
    "     max_depth = grid.best_params_['max_depth']\n",
    "     n_estimators = grid.best_params_['n_estimators']\n",
    "    \n",
    "     # creating a new model with the best parameters\n",
    "     xgb = XGBClassifier(learning_rate=1, max_depth=5, n_estimators=50)\n",
    "     # training the mew model\n",
    "     xgb.fit(train_x, train_y)\n",
    "     print('XGBoost best params: ' + str(f\"{grid.best_params_}\") + '. Exited the get_best_params_for_xgboost method of the Model_Finder class')\n",
    "            \n",
    "\n",
    "     return xgb\n",
    "   except Exception as e:\n",
    "     raise Exception()\n"
   ]
  },
  {
   "cell_type": "code",
   "execution_count": 64,
   "metadata": {
    "colab": {
     "base_uri": "https://localhost:8080/"
    },
    "id": "Tsxmf5GsGf4W",
    "outputId": "ed4cac56-6845-48cb-d218-0b8b7c4c8e98"
   },
   "outputs": [
    {
     "name": "stdout",
     "output_type": "stream",
     "text": [
      "Entered the get_best_params_for_xgboost method of the Model_Finder class\n",
      "Fitting 5 folds for each of 64 candidates, totalling 320 fits\n",
      "[CV 1/5] END learning_rate=0.5, max_depth=3, n_estimators=10;, score=0.861 total time=   0.1s\n",
      "[CV 2/5] END learning_rate=0.5, max_depth=3, n_estimators=10;, score=0.830 total time=   0.0s\n",
      "[CV 3/5] END learning_rate=0.5, max_depth=3, n_estimators=10;, score=0.873 total time=   0.0s\n",
      "[CV 4/5] END learning_rate=0.5, max_depth=3, n_estimators=10;, score=0.870 total time=   0.0s\n",
      "[CV 5/5] END learning_rate=0.5, max_depth=3, n_estimators=10;, score=0.877 total time=   0.1s\n",
      "[CV 1/5] END learning_rate=0.5, max_depth=3, n_estimators=50;, score=0.957 total time=   0.2s\n",
      "[CV 2/5] END learning_rate=0.5, max_depth=3, n_estimators=50;, score=0.951 total time=   0.2s\n",
      "[CV 3/5] END learning_rate=0.5, max_depth=3, n_estimators=50;, score=0.966 total time=   0.1s\n",
      "[CV 4/5] END learning_rate=0.5, max_depth=3, n_estimators=50;, score=0.969 total time=   0.2s\n",
      "[CV 5/5] END learning_rate=0.5, max_depth=3, n_estimators=50;, score=0.975 total time=   0.2s\n",
      "[CV 1/5] END learning_rate=0.5, max_depth=3, n_estimators=100;, score=0.988 total time=   0.4s\n",
      "[CV 2/5] END learning_rate=0.5, max_depth=3, n_estimators=100;, score=0.975 total time=   0.4s\n",
      "[CV 3/5] END learning_rate=0.5, max_depth=3, n_estimators=100;, score=0.978 total time=   0.2s\n",
      "[CV 4/5] END learning_rate=0.5, max_depth=3, n_estimators=100;, score=0.972 total time=   0.3s\n",
      "[CV 5/5] END learning_rate=0.5, max_depth=3, n_estimators=100;, score=0.981 total time=   0.3s\n",
      "[CV 1/5] END learning_rate=0.5, max_depth=3, n_estimators=200;, score=0.981 total time=   0.7s\n",
      "[CV 2/5] END learning_rate=0.5, max_depth=3, n_estimators=200;, score=0.963 total time=   0.6s\n",
      "[CV 3/5] END learning_rate=0.5, max_depth=3, n_estimators=200;, score=0.975 total time=   0.7s\n",
      "[CV 4/5] END learning_rate=0.5, max_depth=3, n_estimators=200;, score=0.978 total time=   1.0s\n",
      "[CV 5/5] END learning_rate=0.5, max_depth=3, n_estimators=200;, score=0.988 total time=   0.6s\n",
      "[CV 1/5] END learning_rate=0.5, max_depth=5, n_estimators=10;, score=0.938 total time=   0.1s\n",
      "[CV 2/5] END learning_rate=0.5, max_depth=5, n_estimators=10;, score=0.914 total time=   0.1s\n",
      "[CV 3/5] END learning_rate=0.5, max_depth=5, n_estimators=10;, score=0.941 total time=   0.1s\n",
      "[CV 4/5] END learning_rate=0.5, max_depth=5, n_estimators=10;, score=0.917 total time=   0.1s\n",
      "[CV 5/5] END learning_rate=0.5, max_depth=5, n_estimators=10;, score=0.972 total time=   0.1s\n",
      "[CV 1/5] END learning_rate=0.5, max_depth=5, n_estimators=50;, score=0.978 total time=   0.3s\n",
      "[CV 2/5] END learning_rate=0.5, max_depth=5, n_estimators=50;, score=0.975 total time=   0.2s\n",
      "[CV 3/5] END learning_rate=0.5, max_depth=5, n_estimators=50;, score=0.972 total time=   0.3s\n",
      "[CV 4/5] END learning_rate=0.5, max_depth=5, n_estimators=50;, score=0.981 total time=   0.3s\n",
      "[CV 5/5] END learning_rate=0.5, max_depth=5, n_estimators=50;, score=0.988 total time=   0.4s\n",
      "[CV 1/5] END learning_rate=0.5, max_depth=5, n_estimators=100;, score=0.991 total time=   0.4s\n",
      "[CV 2/5] END learning_rate=0.5, max_depth=5, n_estimators=100;, score=0.972 total time=   0.5s\n",
      "[CV 3/5] END learning_rate=0.5, max_depth=5, n_estimators=100;, score=0.975 total time=   0.4s\n",
      "[CV 4/5] END learning_rate=0.5, max_depth=5, n_estimators=100;, score=0.969 total time=   0.5s\n",
      "[CV 5/5] END learning_rate=0.5, max_depth=5, n_estimators=100;, score=0.997 total time=   0.6s\n",
      "[CV 1/5] END learning_rate=0.5, max_depth=5, n_estimators=200;, score=0.991 total time=   0.8s\n",
      "[CV 2/5] END learning_rate=0.5, max_depth=5, n_estimators=200;, score=0.975 total time=   0.8s\n",
      "[CV 3/5] END learning_rate=0.5, max_depth=5, n_estimators=200;, score=0.975 total time=   1.1s\n",
      "[CV 4/5] END learning_rate=0.5, max_depth=5, n_estimators=200;, score=0.978 total time=   0.7s\n",
      "[CV 5/5] END learning_rate=0.5, max_depth=5, n_estimators=200;, score=0.997 total time=   1.1s\n",
      "[CV 1/5] END learning_rate=0.5, max_depth=10, n_estimators=10;, score=0.978 total time=   0.3s\n",
      "[CV 2/5] END learning_rate=0.5, max_depth=10, n_estimators=10;, score=0.972 total time=   0.3s\n",
      "[CV 3/5] END learning_rate=0.5, max_depth=10, n_estimators=10;, score=0.972 total time=   0.1s\n",
      "[CV 4/5] END learning_rate=0.5, max_depth=10, n_estimators=10;, score=0.975 total time=   0.3s\n",
      "[CV 5/5] END learning_rate=0.5, max_depth=10, n_estimators=10;, score=0.994 total time=   0.2s\n",
      "[CV 1/5] END learning_rate=0.5, max_depth=10, n_estimators=50;, score=0.985 total time=   0.4s\n",
      "[CV 2/5] END learning_rate=0.5, max_depth=10, n_estimators=50;, score=0.972 total time=   0.3s\n",
      "[CV 3/5] END learning_rate=0.5, max_depth=10, n_estimators=50;, score=0.972 total time=   0.3s\n",
      "[CV 4/5] END learning_rate=0.5, max_depth=10, n_estimators=50;, score=0.978 total time=   0.3s\n",
      "[CV 5/5] END learning_rate=0.5, max_depth=10, n_estimators=50;, score=0.997 total time=   0.3s\n",
      "[CV 1/5] END learning_rate=0.5, max_depth=10, n_estimators=100;, score=0.985 total time=   0.6s\n",
      "[CV 2/5] END learning_rate=0.5, max_depth=10, n_estimators=100;, score=0.972 total time=   0.5s\n",
      "[CV 3/5] END learning_rate=0.5, max_depth=10, n_estimators=100;, score=0.972 total time=   0.6s\n",
      "[CV 4/5] END learning_rate=0.5, max_depth=10, n_estimators=100;, score=0.978 total time=   0.4s\n",
      "[CV 5/5] END learning_rate=0.5, max_depth=10, n_estimators=100;, score=0.997 total time=   0.5s\n",
      "[CV 1/5] END learning_rate=0.5, max_depth=10, n_estimators=200;, score=0.988 total time=   0.8s\n",
      "[CV 2/5] END learning_rate=0.5, max_depth=10, n_estimators=200;, score=0.972 total time=   0.7s\n",
      "[CV 3/5] END learning_rate=0.5, max_depth=10, n_estimators=200;, score=0.975 total time=   0.7s\n",
      "[CV 4/5] END learning_rate=0.5, max_depth=10, n_estimators=200;, score=0.978 total time=   0.8s\n",
      "[CV 5/5] END learning_rate=0.5, max_depth=10, n_estimators=200;, score=0.997 total time=   0.7s\n",
      "[CV 1/5] END learning_rate=0.5, max_depth=20, n_estimators=10;, score=0.994 total time=   0.1s\n",
      "[CV 2/5] END learning_rate=0.5, max_depth=20, n_estimators=10;, score=0.978 total time=   0.1s\n",
      "[CV 3/5] END learning_rate=0.5, max_depth=20, n_estimators=10;, score=0.972 total time=   0.1s\n",
      "[CV 4/5] END learning_rate=0.5, max_depth=20, n_estimators=10;, score=0.969 total time=   0.1s\n",
      "[CV 5/5] END learning_rate=0.5, max_depth=20, n_estimators=10;, score=0.988 total time=   0.1s\n",
      "[CV 1/5] END learning_rate=0.5, max_depth=20, n_estimators=50;, score=0.994 total time=   0.3s\n",
      "[CV 2/5] END learning_rate=0.5, max_depth=20, n_estimators=50;, score=0.978 total time=   0.3s\n",
      "[CV 3/5] END learning_rate=0.5, max_depth=20, n_estimators=50;, score=0.978 total time=   0.3s\n",
      "[CV 4/5] END learning_rate=0.5, max_depth=20, n_estimators=50;, score=0.972 total time=   0.2s\n",
      "[CV 5/5] END learning_rate=0.5, max_depth=20, n_estimators=50;, score=0.988 total time=   0.3s\n",
      "[CV 1/5] END learning_rate=0.5, max_depth=20, n_estimators=100;, score=0.994 total time=   0.5s\n",
      "[CV 2/5] END learning_rate=0.5, max_depth=20, n_estimators=100;, score=0.978 total time=   0.7s\n",
      "[CV 3/5] END learning_rate=0.5, max_depth=20, n_estimators=100;, score=0.981 total time=   0.8s\n",
      "[CV 4/5] END learning_rate=0.5, max_depth=20, n_estimators=100;, score=0.975 total time=   0.5s\n",
      "[CV 5/5] END learning_rate=0.5, max_depth=20, n_estimators=100;, score=0.988 total time=   0.7s\n",
      "[CV 1/5] END learning_rate=0.5, max_depth=20, n_estimators=200;, score=0.994 total time=   1.1s\n",
      "[CV 2/5] END learning_rate=0.5, max_depth=20, n_estimators=200;, score=0.978 total time=   1.3s\n",
      "[CV 3/5] END learning_rate=0.5, max_depth=20, n_estimators=200;, score=0.981 total time=   1.5s\n",
      "[CV 4/5] END learning_rate=0.5, max_depth=20, n_estimators=200;, score=0.978 total time=   0.7s\n",
      "[CV 5/5] END learning_rate=0.5, max_depth=20, n_estimators=200;, score=0.991 total time=   0.9s\n",
      "[CV 1/5] END learning_rate=0.1, max_depth=3, n_estimators=10;, score=0.778 total time=   0.1s\n",
      "[CV 2/5] END learning_rate=0.1, max_depth=3, n_estimators=10;, score=0.728 total time=   0.0s\n",
      "[CV 3/5] END learning_rate=0.1, max_depth=3, n_estimators=10;, score=0.769 total time=   0.1s\n",
      "[CV 4/5] END learning_rate=0.1, max_depth=3, n_estimators=10;, score=0.784 total time=   0.0s\n",
      "[CV 5/5] END learning_rate=0.1, max_depth=3, n_estimators=10;, score=0.790 total time=   0.1s\n"
     ]
    },
    {
     "name": "stdout",
     "output_type": "stream",
     "text": [
      "[CV 1/5] END learning_rate=0.1, max_depth=3, n_estimators=50;, score=0.858 total time=   0.3s\n",
      "[CV 2/5] END learning_rate=0.1, max_depth=3, n_estimators=50;, score=0.849 total time=   0.1s\n",
      "[CV 3/5] END learning_rate=0.1, max_depth=3, n_estimators=50;, score=0.873 total time=   0.1s\n",
      "[CV 4/5] END learning_rate=0.1, max_depth=3, n_estimators=50;, score=0.886 total time=   0.2s\n",
      "[CV 5/5] END learning_rate=0.1, max_depth=3, n_estimators=50;, score=0.883 total time=   0.2s\n",
      "[CV 1/5] END learning_rate=0.1, max_depth=3, n_estimators=100;, score=0.932 total time=   0.2s\n",
      "[CV 2/5] END learning_rate=0.1, max_depth=3, n_estimators=100;, score=0.886 total time=   0.2s\n",
      "[CV 3/5] END learning_rate=0.1, max_depth=3, n_estimators=100;, score=0.914 total time=   0.2s\n",
      "[CV 4/5] END learning_rate=0.1, max_depth=3, n_estimators=100;, score=0.910 total time=   0.2s\n",
      "[CV 5/5] END learning_rate=0.1, max_depth=3, n_estimators=100;, score=0.926 total time=   0.4s\n",
      "[CV 1/5] END learning_rate=0.1, max_depth=3, n_estimators=200;, score=0.944 total time=   0.6s\n",
      "[CV 2/5] END learning_rate=0.1, max_depth=3, n_estimators=200;, score=0.932 total time=   0.4s\n",
      "[CV 3/5] END learning_rate=0.1, max_depth=3, n_estimators=200;, score=0.966 total time=   0.4s\n",
      "[CV 4/5] END learning_rate=0.1, max_depth=3, n_estimators=200;, score=0.938 total time=   0.4s\n",
      "[CV 5/5] END learning_rate=0.1, max_depth=3, n_estimators=200;, score=0.966 total time=   0.4s\n",
      "[CV 1/5] END learning_rate=0.1, max_depth=5, n_estimators=10;, score=0.855 total time=   0.0s\n",
      "[CV 2/5] END learning_rate=0.1, max_depth=5, n_estimators=10;, score=0.799 total time=   0.0s\n",
      "[CV 3/5] END learning_rate=0.1, max_depth=5, n_estimators=10;, score=0.846 total time=   0.0s\n",
      "[CV 4/5] END learning_rate=0.1, max_depth=5, n_estimators=10;, score=0.849 total time=   0.0s\n",
      "[CV 5/5] END learning_rate=0.1, max_depth=5, n_estimators=10;, score=0.873 total time=   0.0s\n",
      "[CV 1/5] END learning_rate=0.1, max_depth=5, n_estimators=50;, score=0.935 total time=   0.2s\n",
      "[CV 2/5] END learning_rate=0.1, max_depth=5, n_estimators=50;, score=0.910 total time=   0.2s\n",
      "[CV 3/5] END learning_rate=0.1, max_depth=5, n_estimators=50;, score=0.929 total time=   0.2s\n",
      "[CV 4/5] END learning_rate=0.1, max_depth=5, n_estimators=50;, score=0.926 total time=   0.2s\n",
      "[CV 5/5] END learning_rate=0.1, max_depth=5, n_estimators=50;, score=0.938 total time=   0.2s\n",
      "[CV 1/5] END learning_rate=0.1, max_depth=5, n_estimators=100;, score=0.969 total time=   0.5s\n",
      "[CV 2/5] END learning_rate=0.1, max_depth=5, n_estimators=100;, score=0.972 total time=   0.3s\n",
      "[CV 3/5] END learning_rate=0.1, max_depth=5, n_estimators=100;, score=0.972 total time=   0.3s\n",
      "[CV 4/5] END learning_rate=0.1, max_depth=5, n_estimators=100;, score=0.963 total time=   0.3s\n",
      "[CV 5/5] END learning_rate=0.1, max_depth=5, n_estimators=100;, score=0.975 total time=   0.3s\n",
      "[CV 1/5] END learning_rate=0.1, max_depth=5, n_estimators=200;, score=0.985 total time=   0.6s\n",
      "[CV 2/5] END learning_rate=0.1, max_depth=5, n_estimators=200;, score=0.969 total time=   0.6s\n",
      "[CV 3/5] END learning_rate=0.1, max_depth=5, n_estimators=200;, score=0.978 total time=   0.7s\n",
      "[CV 4/5] END learning_rate=0.1, max_depth=5, n_estimators=200;, score=0.978 total time=   0.9s\n",
      "[CV 5/5] END learning_rate=0.1, max_depth=5, n_estimators=200;, score=0.981 total time=   1.3s\n",
      "[CV 1/5] END learning_rate=0.1, max_depth=10, n_estimators=10;, score=0.957 total time=   0.1s\n",
      "[CV 2/5] END learning_rate=0.1, max_depth=10, n_estimators=10;, score=0.972 total time=   0.1s\n",
      "[CV 3/5] END learning_rate=0.1, max_depth=10, n_estimators=10;, score=0.963 total time=   0.1s\n",
      "[CV 4/5] END learning_rate=0.1, max_depth=10, n_estimators=10;, score=0.935 total time=   0.1s\n",
      "[CV 5/5] END learning_rate=0.1, max_depth=10, n_estimators=10;, score=0.978 total time=   0.1s\n",
      "[CV 1/5] END learning_rate=0.1, max_depth=10, n_estimators=50;, score=0.975 total time=   0.3s\n",
      "[CV 2/5] END learning_rate=0.1, max_depth=10, n_estimators=50;, score=0.975 total time=   0.6s\n",
      "[CV 3/5] END learning_rate=0.1, max_depth=10, n_estimators=50;, score=0.975 total time=   0.5s\n",
      "[CV 4/5] END learning_rate=0.1, max_depth=10, n_estimators=50;, score=0.969 total time=   0.8s\n",
      "[CV 5/5] END learning_rate=0.1, max_depth=10, n_estimators=50;, score=0.988 total time=   0.4s\n",
      "[CV 1/5] END learning_rate=0.1, max_depth=10, n_estimators=100;, score=0.985 total time=   1.1s\n",
      "[CV 2/5] END learning_rate=0.1, max_depth=10, n_estimators=100;, score=0.978 total time=   0.9s\n",
      "[CV 3/5] END learning_rate=0.1, max_depth=10, n_estimators=100;, score=0.972 total time=   1.1s\n",
      "[CV 4/5] END learning_rate=0.1, max_depth=10, n_estimators=100;, score=0.972 total time=   1.2s\n",
      "[CV 5/5] END learning_rate=0.1, max_depth=10, n_estimators=100;, score=0.991 total time=   1.1s\n",
      "[CV 1/5] END learning_rate=0.1, max_depth=10, n_estimators=200;, score=0.988 total time=   1.5s\n",
      "[CV 2/5] END learning_rate=0.1, max_depth=10, n_estimators=200;, score=0.972 total time=   1.3s\n",
      "[CV 3/5] END learning_rate=0.1, max_depth=10, n_estimators=200;, score=0.975 total time=   1.1s\n",
      "[CV 4/5] END learning_rate=0.1, max_depth=10, n_estimators=200;, score=0.972 total time=   1.2s\n",
      "[CV 5/5] END learning_rate=0.1, max_depth=10, n_estimators=200;, score=0.991 total time=   2.2s\n",
      "[CV 1/5] END learning_rate=0.1, max_depth=20, n_estimators=10;, score=0.985 total time=   0.2s\n",
      "[CV 2/5] END learning_rate=0.1, max_depth=20, n_estimators=10;, score=0.972 total time=   0.2s\n",
      "[CV 3/5] END learning_rate=0.1, max_depth=20, n_estimators=10;, score=0.957 total time=   0.2s\n",
      "[CV 4/5] END learning_rate=0.1, max_depth=20, n_estimators=10;, score=0.972 total time=   0.1s\n",
      "[CV 5/5] END learning_rate=0.1, max_depth=20, n_estimators=10;, score=0.985 total time=   0.2s\n",
      "[CV 1/5] END learning_rate=0.1, max_depth=20, n_estimators=50;, score=0.991 total time=   0.8s\n",
      "[CV 2/5] END learning_rate=0.1, max_depth=20, n_estimators=50;, score=0.981 total time=   0.6s\n",
      "[CV 3/5] END learning_rate=0.1, max_depth=20, n_estimators=50;, score=0.972 total time=   0.5s\n",
      "[CV 4/5] END learning_rate=0.1, max_depth=20, n_estimators=50;, score=0.972 total time=   0.5s\n",
      "[CV 5/5] END learning_rate=0.1, max_depth=20, n_estimators=50;, score=0.991 total time=   0.5s\n",
      "[CV 1/5] END learning_rate=0.1, max_depth=20, n_estimators=100;, score=0.991 total time=   0.9s\n",
      "[CV 2/5] END learning_rate=0.1, max_depth=20, n_estimators=100;, score=0.981 total time=   1.0s\n",
      "[CV 3/5] END learning_rate=0.1, max_depth=20, n_estimators=100;, score=0.975 total time=   1.1s\n",
      "[CV 4/5] END learning_rate=0.1, max_depth=20, n_estimators=100;, score=0.969 total time=   1.0s\n",
      "[CV 5/5] END learning_rate=0.1, max_depth=20, n_estimators=100;, score=0.991 total time=   0.9s\n",
      "[CV 1/5] END learning_rate=0.1, max_depth=20, n_estimators=200;, score=0.988 total time=   1.6s\n",
      "[CV 2/5] END learning_rate=0.1, max_depth=20, n_estimators=200;, score=0.978 total time=   1.4s\n",
      "[CV 3/5] END learning_rate=0.1, max_depth=20, n_estimators=200;, score=0.978 total time=   1.5s\n",
      "[CV 4/5] END learning_rate=0.1, max_depth=20, n_estimators=200;, score=0.972 total time=   1.5s\n",
      "[CV 5/5] END learning_rate=0.1, max_depth=20, n_estimators=200;, score=0.991 total time=   1.5s\n",
      "[CV 1/5] END learning_rate=0.01, max_depth=3, n_estimators=10;, score=0.775 total time=   0.1s\n",
      "[CV 2/5] END learning_rate=0.01, max_depth=3, n_estimators=10;, score=0.772 total time=   0.1s\n",
      "[CV 3/5] END learning_rate=0.01, max_depth=3, n_estimators=10;, score=0.750 total time=   0.1s\n",
      "[CV 4/5] END learning_rate=0.01, max_depth=3, n_estimators=10;, score=0.753 total time=   0.1s\n",
      "[CV 5/5] END learning_rate=0.01, max_depth=3, n_estimators=10;, score=0.784 total time=   0.0s\n",
      "[CV 1/5] END learning_rate=0.01, max_depth=3, n_estimators=50;, score=0.759 total time=   0.2s\n",
      "[CV 2/5] END learning_rate=0.01, max_depth=3, n_estimators=50;, score=0.728 total time=   0.2s\n",
      "[CV 3/5] END learning_rate=0.01, max_depth=3, n_estimators=50;, score=0.769 total time=   0.3s\n",
      "[CV 4/5] END learning_rate=0.01, max_depth=3, n_estimators=50;, score=0.769 total time=   0.1s\n",
      "[CV 5/5] END learning_rate=0.01, max_depth=3, n_estimators=50;, score=0.787 total time=   0.2s\n",
      "[CV 1/5] END learning_rate=0.01, max_depth=3, n_estimators=100;, score=0.775 total time=   0.4s\n",
      "[CV 2/5] END learning_rate=0.01, max_depth=3, n_estimators=100;, score=0.735 total time=   0.4s\n"
     ]
    },
    {
     "name": "stdout",
     "output_type": "stream",
     "text": [
      "[CV 3/5] END learning_rate=0.01, max_depth=3, n_estimators=100;, score=0.769 total time=   0.3s\n",
      "[CV 4/5] END learning_rate=0.01, max_depth=3, n_estimators=100;, score=0.784 total time=   0.3s\n",
      "[CV 5/5] END learning_rate=0.01, max_depth=3, n_estimators=100;, score=0.787 total time=   0.3s\n",
      "[CV 1/5] END learning_rate=0.01, max_depth=3, n_estimators=200;, score=0.802 total time=   0.6s\n",
      "[CV 2/5] END learning_rate=0.01, max_depth=3, n_estimators=200;, score=0.750 total time=   0.6s\n",
      "[CV 3/5] END learning_rate=0.01, max_depth=3, n_estimators=200;, score=0.802 total time=   0.7s\n",
      "[CV 4/5] END learning_rate=0.01, max_depth=3, n_estimators=200;, score=0.787 total time=   0.6s\n",
      "[CV 5/5] END learning_rate=0.01, max_depth=3, n_estimators=200;, score=0.799 total time=   0.7s\n",
      "[CV 1/5] END learning_rate=0.01, max_depth=5, n_estimators=10;, score=0.840 total time=   0.1s\n",
      "[CV 2/5] END learning_rate=0.01, max_depth=5, n_estimators=10;, score=0.784 total time=   0.1s\n",
      "[CV 3/5] END learning_rate=0.01, max_depth=5, n_estimators=10;, score=0.833 total time=   0.1s\n",
      "[CV 4/5] END learning_rate=0.01, max_depth=5, n_estimators=10;, score=0.827 total time=   0.1s\n",
      "[CV 5/5] END learning_rate=0.01, max_depth=5, n_estimators=10;, score=0.843 total time=   0.1s\n",
      "[CV 1/5] END learning_rate=0.01, max_depth=5, n_estimators=50;, score=0.849 total time=   0.3s\n",
      "[CV 2/5] END learning_rate=0.01, max_depth=5, n_estimators=50;, score=0.796 total time=   0.2s\n",
      "[CV 3/5] END learning_rate=0.01, max_depth=5, n_estimators=50;, score=0.836 total time=   0.2s\n",
      "[CV 4/5] END learning_rate=0.01, max_depth=5, n_estimators=50;, score=0.836 total time=   0.2s\n",
      "[CV 5/5] END learning_rate=0.01, max_depth=5, n_estimators=50;, score=0.855 total time=   0.2s\n",
      "[CV 1/5] END learning_rate=0.01, max_depth=5, n_estimators=100;, score=0.846 total time=   0.4s\n",
      "[CV 2/5] END learning_rate=0.01, max_depth=5, n_estimators=100;, score=0.840 total time=   0.4s\n",
      "[CV 3/5] END learning_rate=0.01, max_depth=5, n_estimators=100;, score=0.858 total time=   0.5s\n",
      "[CV 4/5] END learning_rate=0.01, max_depth=5, n_estimators=100;, score=0.867 total time=   0.4s\n",
      "[CV 5/5] END learning_rate=0.01, max_depth=5, n_estimators=100;, score=0.873 total time=   0.5s\n",
      "[CV 1/5] END learning_rate=0.01, max_depth=5, n_estimators=200;, score=0.836 total time=   0.9s\n",
      "[CV 2/5] END learning_rate=0.01, max_depth=5, n_estimators=200;, score=0.836 total time=   0.9s\n",
      "[CV 3/5] END learning_rate=0.01, max_depth=5, n_estimators=200;, score=0.861 total time=   1.0s\n",
      "[CV 4/5] END learning_rate=0.01, max_depth=5, n_estimators=200;, score=0.895 total time=   0.8s\n",
      "[CV 5/5] END learning_rate=0.01, max_depth=5, n_estimators=200;, score=0.877 total time=   0.9s\n",
      "[CV 1/5] END learning_rate=0.01, max_depth=10, n_estimators=10;, score=0.969 total time=   0.1s\n",
      "[CV 2/5] END learning_rate=0.01, max_depth=10, n_estimators=10;, score=0.948 total time=   0.1s\n",
      "[CV 3/5] END learning_rate=0.01, max_depth=10, n_estimators=10;, score=0.929 total time=   0.1s\n",
      "[CV 4/5] END learning_rate=0.01, max_depth=10, n_estimators=10;, score=0.941 total time=   0.1s\n",
      "[CV 5/5] END learning_rate=0.01, max_depth=10, n_estimators=10;, score=0.960 total time=   0.1s\n",
      "[CV 1/5] END learning_rate=0.01, max_depth=10, n_estimators=50;, score=0.954 total time=   0.4s\n",
      "[CV 2/5] END learning_rate=0.01, max_depth=10, n_estimators=50;, score=0.957 total time=   0.5s\n",
      "[CV 3/5] END learning_rate=0.01, max_depth=10, n_estimators=50;, score=0.954 total time=   0.5s\n",
      "[CV 4/5] END learning_rate=0.01, max_depth=10, n_estimators=50;, score=0.951 total time=   0.4s\n",
      "[CV 5/5] END learning_rate=0.01, max_depth=10, n_estimators=50;, score=0.966 total time=   0.4s\n",
      "[CV 1/5] END learning_rate=0.01, max_depth=10, n_estimators=100;, score=0.954 total time=   0.7s\n",
      "[CV 2/5] END learning_rate=0.01, max_depth=10, n_estimators=100;, score=0.972 total time=   0.7s\n",
      "[CV 3/5] END learning_rate=0.01, max_depth=10, n_estimators=100;, score=0.963 total time=   0.7s\n",
      "[CV 4/5] END learning_rate=0.01, max_depth=10, n_estimators=100;, score=0.938 total time=   0.8s\n",
      "[CV 5/5] END learning_rate=0.01, max_depth=10, n_estimators=100;, score=0.978 total time=   0.8s\n",
      "[CV 1/5] END learning_rate=0.01, max_depth=10, n_estimators=200;, score=0.957 total time=   1.5s\n",
      "[CV 2/5] END learning_rate=0.01, max_depth=10, n_estimators=200;, score=0.975 total time=   1.6s\n",
      "[CV 3/5] END learning_rate=0.01, max_depth=10, n_estimators=200;, score=0.972 total time=   1.8s\n",
      "[CV 4/5] END learning_rate=0.01, max_depth=10, n_estimators=200;, score=0.960 total time=   1.7s\n",
      "[CV 5/5] END learning_rate=0.01, max_depth=10, n_estimators=200;, score=0.975 total time=   1.6s\n",
      "[CV 1/5] END learning_rate=0.01, max_depth=20, n_estimators=10;, score=0.991 total time=   0.1s\n",
      "[CV 2/5] END learning_rate=0.01, max_depth=20, n_estimators=10;, score=0.957 total time=   0.1s\n",
      "[CV 3/5] END learning_rate=0.01, max_depth=20, n_estimators=10;, score=0.954 total time=   0.1s\n",
      "[CV 4/5] END learning_rate=0.01, max_depth=20, n_estimators=10;, score=0.963 total time=   0.1s\n",
      "[CV 5/5] END learning_rate=0.01, max_depth=20, n_estimators=10;, score=0.978 total time=   0.1s\n",
      "[CV 1/5] END learning_rate=0.01, max_depth=20, n_estimators=50;, score=0.978 total time=   0.6s\n",
      "[CV 2/5] END learning_rate=0.01, max_depth=20, n_estimators=50;, score=0.978 total time=   0.5s\n",
      "[CV 3/5] END learning_rate=0.01, max_depth=20, n_estimators=50;, score=0.957 total time=   0.5s\n",
      "[CV 4/5] END learning_rate=0.01, max_depth=20, n_estimators=50;, score=0.969 total time=   0.6s\n",
      "[CV 5/5] END learning_rate=0.01, max_depth=20, n_estimators=50;, score=0.981 total time=   0.6s\n",
      "[CV 1/5] END learning_rate=0.01, max_depth=20, n_estimators=100;, score=0.985 total time=   1.1s\n",
      "[CV 2/5] END learning_rate=0.01, max_depth=20, n_estimators=100;, score=0.981 total time=   1.4s\n",
      "[CV 3/5] END learning_rate=0.01, max_depth=20, n_estimators=100;, score=0.957 total time=   1.2s\n",
      "[CV 4/5] END learning_rate=0.01, max_depth=20, n_estimators=100;, score=0.975 total time=   1.2s\n",
      "[CV 5/5] END learning_rate=0.01, max_depth=20, n_estimators=100;, score=0.985 total time=   1.3s\n",
      "[CV 1/5] END learning_rate=0.01, max_depth=20, n_estimators=200;, score=0.994 total time=   2.6s\n",
      "[CV 2/5] END learning_rate=0.01, max_depth=20, n_estimators=200;, score=0.978 total time=   2.6s\n",
      "[CV 3/5] END learning_rate=0.01, max_depth=20, n_estimators=200;, score=0.963 total time=   2.3s\n",
      "[CV 4/5] END learning_rate=0.01, max_depth=20, n_estimators=200;, score=0.972 total time=   2.3s\n",
      "[CV 5/5] END learning_rate=0.01, max_depth=20, n_estimators=200;, score=0.991 total time=   2.1s\n",
      "[CV 1/5] END learning_rate=0.001, max_depth=3, n_estimators=10;, score=0.775 total time=   0.0s\n",
      "[CV 2/5] END learning_rate=0.001, max_depth=3, n_estimators=10;, score=0.772 total time=   0.0s\n",
      "[CV 3/5] END learning_rate=0.001, max_depth=3, n_estimators=10;, score=0.756 total time=   0.0s\n",
      "[CV 4/5] END learning_rate=0.001, max_depth=3, n_estimators=10;, score=0.769 total time=   0.0s\n",
      "[CV 5/5] END learning_rate=0.001, max_depth=3, n_estimators=10;, score=0.787 total time=   0.1s\n",
      "[CV 1/5] END learning_rate=0.001, max_depth=3, n_estimators=50;, score=0.775 total time=   0.2s\n",
      "[CV 2/5] END learning_rate=0.001, max_depth=3, n_estimators=50;, score=0.772 total time=   0.2s\n",
      "[CV 3/5] END learning_rate=0.001, max_depth=3, n_estimators=50;, score=0.756 total time=   0.1s\n",
      "[CV 4/5] END learning_rate=0.001, max_depth=3, n_estimators=50;, score=0.753 total time=   0.2s\n",
      "[CV 5/5] END learning_rate=0.001, max_depth=3, n_estimators=50;, score=0.787 total time=   0.2s\n",
      "[CV 1/5] END learning_rate=0.001, max_depth=3, n_estimators=100;, score=0.775 total time=   0.3s\n",
      "[CV 2/5] END learning_rate=0.001, max_depth=3, n_estimators=100;, score=0.772 total time=   0.3s\n",
      "[CV 3/5] END learning_rate=0.001, max_depth=3, n_estimators=100;, score=0.750 total time=   0.3s\n",
      "[CV 4/5] END learning_rate=0.001, max_depth=3, n_estimators=100;, score=0.753 total time=   0.3s\n",
      "[CV 5/5] END learning_rate=0.001, max_depth=3, n_estimators=100;, score=0.784 total time=   0.3s\n",
      "[CV 1/5] END learning_rate=0.001, max_depth=3, n_estimators=200;, score=0.787 total time=   0.6s\n",
      "[CV 2/5] END learning_rate=0.001, max_depth=3, n_estimators=200;, score=0.753 total time=   0.6s\n",
      "[CV 3/5] END learning_rate=0.001, max_depth=3, n_estimators=200;, score=0.750 total time=   0.7s\n"
     ]
    },
    {
     "name": "stdout",
     "output_type": "stream",
     "text": [
      "[CV 4/5] END learning_rate=0.001, max_depth=3, n_estimators=200;, score=0.753 total time=   0.6s\n",
      "[CV 5/5] END learning_rate=0.001, max_depth=3, n_estimators=200;, score=0.784 total time=   0.7s\n",
      "[CV 1/5] END learning_rate=0.001, max_depth=5, n_estimators=10;, score=0.836 total time=   0.1s\n",
      "[CV 2/5] END learning_rate=0.001, max_depth=5, n_estimators=10;, score=0.765 total time=   0.1s\n",
      "[CV 3/5] END learning_rate=0.001, max_depth=5, n_estimators=10;, score=0.833 total time=   0.1s\n",
      "[CV 4/5] END learning_rate=0.001, max_depth=5, n_estimators=10;, score=0.827 total time=   0.1s\n",
      "[CV 5/5] END learning_rate=0.001, max_depth=5, n_estimators=10;, score=0.852 total time=   0.1s\n",
      "[CV 1/5] END learning_rate=0.001, max_depth=5, n_estimators=50;, score=0.836 total time=   0.3s\n",
      "[CV 2/5] END learning_rate=0.001, max_depth=5, n_estimators=50;, score=0.790 total time=   0.2s\n",
      "[CV 3/5] END learning_rate=0.001, max_depth=5, n_estimators=50;, score=0.833 total time=   0.2s\n",
      "[CV 4/5] END learning_rate=0.001, max_depth=5, n_estimators=50;, score=0.827 total time=   0.3s\n",
      "[CV 5/5] END learning_rate=0.001, max_depth=5, n_estimators=50;, score=0.852 total time=   0.3s\n",
      "[CV 1/5] END learning_rate=0.001, max_depth=5, n_estimators=100;, score=0.840 total time=   0.5s\n",
      "[CV 2/5] END learning_rate=0.001, max_depth=5, n_estimators=100;, score=0.784 total time=   0.5s\n",
      "[CV 3/5] END learning_rate=0.001, max_depth=5, n_estimators=100;, score=0.833 total time=   0.5s\n",
      "[CV 4/5] END learning_rate=0.001, max_depth=5, n_estimators=100;, score=0.827 total time=   0.5s\n",
      "[CV 5/5] END learning_rate=0.001, max_depth=5, n_estimators=100;, score=0.843 total time=   0.5s\n",
      "[CV 1/5] END learning_rate=0.001, max_depth=5, n_estimators=200;, score=0.833 total time=   0.9s\n",
      "[CV 2/5] END learning_rate=0.001, max_depth=5, n_estimators=200;, score=0.784 total time=   0.9s\n",
      "[CV 3/5] END learning_rate=0.001, max_depth=5, n_estimators=200;, score=0.836 total time=   0.9s\n",
      "[CV 4/5] END learning_rate=0.001, max_depth=5, n_estimators=200;, score=0.843 total time=   0.9s\n",
      "[CV 5/5] END learning_rate=0.001, max_depth=5, n_estimators=200;, score=0.846 total time=   1.0s\n",
      "[CV 1/5] END learning_rate=0.001, max_depth=10, n_estimators=10;, score=0.963 total time=   0.1s\n",
      "[CV 2/5] END learning_rate=0.001, max_depth=10, n_estimators=10;, score=0.935 total time=   0.2s\n",
      "[CV 3/5] END learning_rate=0.001, max_depth=10, n_estimators=10;, score=0.948 total time=   0.1s\n",
      "[CV 4/5] END learning_rate=0.001, max_depth=10, n_estimators=10;, score=0.948 total time=   0.1s\n",
      "[CV 5/5] END learning_rate=0.001, max_depth=10, n_estimators=10;, score=0.963 total time=   0.1s\n",
      "[CV 1/5] END learning_rate=0.001, max_depth=10, n_estimators=50;, score=0.975 total time=   0.4s\n",
      "[CV 2/5] END learning_rate=0.001, max_depth=10, n_estimators=50;, score=0.954 total time=   0.4s\n",
      "[CV 3/5] END learning_rate=0.001, max_depth=10, n_estimators=50;, score=0.926 total time=   0.4s\n",
      "[CV 4/5] END learning_rate=0.001, max_depth=10, n_estimators=50;, score=0.948 total time=   0.4s\n",
      "[CV 5/5] END learning_rate=0.001, max_depth=10, n_estimators=50;, score=0.969 total time=   0.5s\n",
      "[CV 1/5] END learning_rate=0.001, max_depth=10, n_estimators=100;, score=0.969 total time=   0.8s\n",
      "[CV 2/5] END learning_rate=0.001, max_depth=10, n_estimators=100;, score=0.948 total time=   0.7s\n",
      "[CV 3/5] END learning_rate=0.001, max_depth=10, n_estimators=100;, score=0.929 total time=   0.7s\n",
      "[CV 4/5] END learning_rate=0.001, max_depth=10, n_estimators=100;, score=0.941 total time=   0.7s\n",
      "[CV 5/5] END learning_rate=0.001, max_depth=10, n_estimators=100;, score=0.960 total time=   0.8s\n",
      "[CV 1/5] END learning_rate=0.001, max_depth=10, n_estimators=200;, score=0.954 total time=   1.6s\n",
      "[CV 2/5] END learning_rate=0.001, max_depth=10, n_estimators=200;, score=0.948 total time=   1.7s\n",
      "[CV 3/5] END learning_rate=0.001, max_depth=10, n_estimators=200;, score=0.944 total time=   1.7s\n",
      "[CV 4/5] END learning_rate=0.001, max_depth=10, n_estimators=200;, score=0.944 total time=   1.8s\n",
      "[CV 5/5] END learning_rate=0.001, max_depth=10, n_estimators=200;, score=0.957 total time=   1.9s\n",
      "[CV 1/5] END learning_rate=0.001, max_depth=20, n_estimators=10;, score=0.988 total time=   0.1s\n",
      "[CV 2/5] END learning_rate=0.001, max_depth=20, n_estimators=10;, score=0.963 total time=   0.1s\n",
      "[CV 3/5] END learning_rate=0.001, max_depth=20, n_estimators=10;, score=0.963 total time=   0.1s\n",
      "[CV 4/5] END learning_rate=0.001, max_depth=20, n_estimators=10;, score=0.963 total time=   0.2s\n",
      "[CV 5/5] END learning_rate=0.001, max_depth=20, n_estimators=10;, score=0.988 total time=   0.1s\n",
      "[CV 1/5] END learning_rate=0.001, max_depth=20, n_estimators=50;, score=0.991 total time=   0.6s\n",
      "[CV 2/5] END learning_rate=0.001, max_depth=20, n_estimators=50;, score=0.960 total time=   0.6s\n",
      "[CV 3/5] END learning_rate=0.001, max_depth=20, n_estimators=50;, score=0.963 total time=   0.6s\n",
      "[CV 4/5] END learning_rate=0.001, max_depth=20, n_estimators=50;, score=0.963 total time=   0.5s\n",
      "[CV 5/5] END learning_rate=0.001, max_depth=20, n_estimators=50;, score=0.985 total time=   0.5s\n",
      "[CV 1/5] END learning_rate=0.001, max_depth=20, n_estimators=100;, score=0.991 total time=   1.2s\n",
      "[CV 2/5] END learning_rate=0.001, max_depth=20, n_estimators=100;, score=0.957 total time=   1.1s\n",
      "[CV 3/5] END learning_rate=0.001, max_depth=20, n_estimators=100;, score=0.954 total time=   1.4s\n",
      "[CV 4/5] END learning_rate=0.001, max_depth=20, n_estimators=100;, score=0.963 total time=   1.1s\n",
      "[CV 5/5] END learning_rate=0.001, max_depth=20, n_estimators=100;, score=0.978 total time=   1.8s\n",
      "[CV 1/5] END learning_rate=0.001, max_depth=20, n_estimators=200;, score=0.985 total time=   2.5s\n",
      "[CV 2/5] END learning_rate=0.001, max_depth=20, n_estimators=200;, score=0.963 total time=   2.5s\n",
      "[CV 3/5] END learning_rate=0.001, max_depth=20, n_estimators=200;, score=0.948 total time=   2.5s\n",
      "[CV 4/5] END learning_rate=0.001, max_depth=20, n_estimators=200;, score=0.966 total time=   2.4s\n",
      "[CV 5/5] END learning_rate=0.001, max_depth=20, n_estimators=200;, score=0.981 total time=   2.3s\n",
      "XGBoost best params: {'learning_rate': 0.5, 'max_depth': 20, 'n_estimators': 200}. Exited the get_best_params_for_xgboost method of the Model_Finder class\n"
     ]
    }
   ],
   "source": [
    "xgb_classifier = get_best_params_for_xgboost(x_train,y_train)"
   ]
  },
  {
   "cell_type": "code",
   "execution_count": 65,
   "metadata": {
    "id": "LBbtdjr9H3Ao"
   },
   "outputs": [],
   "source": [
    "def get_best_model(train_x,train_y,test_x,test_y):\n",
    "        \"\"\"\n",
    "                                                Method Name: get_best_model\n",
    "                                                Description: Find out the Model which has the best AUC score.\n",
    "                                                Output: The best model name and the model object\n",
    "                                                On Failure: Raise Exception\n",
    "\n",
    "        \"\"\"\n",
    "        print('Entered the get_best_model method of the Model_Finder class')\n",
    "        # create best model for KNN\n",
    "        try:\n",
    "            knn= get_best_params_for_KNN(train_x,train_y)\n",
    "            prediction_knn = knn.predict_proba(test_x) # Predictions using the KNN Model\n",
    "\n",
    "            if len(test_y.unique()) == 1: #if there is only one label in y, then roc_auc_score returns error. We will use accuracy in that case\n",
    "                knn_score = accuracy_score(test_y, prediction_knn)\n",
    "                print('Accuracy for knn:' + str(knn_score))  # Log AUC\n",
    "            else:\n",
    "                knn_score = roc_auc_score(test_y, prediction_knn, average='macro',multi_class='ovr') # AUC for KNN\n",
    "                print('AUC for knn:' + str(knn_score)) # Log AUC\n",
    "\n",
    "            # create best model for Random Forest\n",
    "            random_forest= get_best_params_for_random_forest(train_x,train_y)\n",
    "            prediction_random_forest=random_forest.predict_proba(test_x) # prediction using the Random Forest Algorithm\n",
    "\n",
    "            if len(test_y.unique()) == 1:#if there is only one label in y, then roc_auc_score returns error. We will use accuracy in that case\n",
    "                random_forest_score = accuracy_score((test_y),prediction_random_forest)\n",
    "                print('Accuracy for RF:' + str(random_forest_score))\n",
    "            else:\n",
    "                random_forest_score = roc_auc_score((test_y), prediction_random_forest,multi_class='ovr') # AUC for Random Forest\n",
    "                print('AUC for RF:' + str(random_forest_score))\n",
    "\n",
    "            #comparing the two models\n",
    "            if(random_forest_score <  knn_score):\n",
    "                return 'KNN', knn\n",
    "            else:\n",
    "                return 'RandomForest', random_forest\n",
    "  \n",
    "        except Exception as e:\n",
    "            print('Exception occured in get_best_model method of the Model_Finder class. Exception message:  ' + str(e))\n",
    "            print('Model Selection Failed. Exited the get_best_model method of the Model_Finder class')\n",
    "\n",
    "            raise Exception()"
   ]
  },
  {
   "cell_type": "code",
   "execution_count": 66,
   "metadata": {
    "colab": {
     "base_uri": "https://localhost:8080/"
    },
    "id": "GEfYJnBjI2DB",
    "outputId": "b1576ffe-3624-458f-9413-9a82c851e9a5"
   },
   "outputs": [
    {
     "name": "stdout",
     "output_type": "stream",
     "text": [
      "Entered the get_best_model method of the Model_Finder class\n",
      "Entered the get_best_params_for_Ensembled_KNN method of the Model_Finder class\n",
      "Fitting 5 folds for each of 180 candidates, totalling 900 fits\n",
      "[CV 1/5] END algorithm=ball_tree, leaf_size=10, n_neighbors=4, p=1;, score=0.926 total time=   0.0s\n",
      "[CV 2/5] END algorithm=ball_tree, leaf_size=10, n_neighbors=4, p=1;, score=0.898 total time=   0.0s\n",
      "[CV 3/5] END algorithm=ball_tree, leaf_size=10, n_neighbors=4, p=1;, score=0.901 total time=   0.0s\n",
      "[CV 4/5] END algorithm=ball_tree, leaf_size=10, n_neighbors=4, p=1;, score=0.898 total time=   0.0s\n",
      "[CV 5/5] END algorithm=ball_tree, leaf_size=10, n_neighbors=4, p=1;, score=0.929 total time=   0.0s\n",
      "[CV 1/5] END algorithm=ball_tree, leaf_size=10, n_neighbors=4, p=2;, score=0.926 total time=   0.0s\n",
      "[CV 2/5] END algorithm=ball_tree, leaf_size=10, n_neighbors=4, p=2;, score=0.914 total time=   0.0s\n",
      "[CV 3/5] END algorithm=ball_tree, leaf_size=10, n_neighbors=4, p=2;, score=0.892 total time=   0.0s\n",
      "[CV 4/5] END algorithm=ball_tree, leaf_size=10, n_neighbors=4, p=2;, score=0.910 total time=   0.0s\n",
      "[CV 5/5] END algorithm=ball_tree, leaf_size=10, n_neighbors=4, p=2;, score=0.920 total time=   0.0s\n",
      "[CV 1/5] END algorithm=ball_tree, leaf_size=10, n_neighbors=5, p=1;, score=0.926 total time=   0.0s\n",
      "[CV 2/5] END algorithm=ball_tree, leaf_size=10, n_neighbors=5, p=1;, score=0.895 total time=   0.0s\n",
      "[CV 3/5] END algorithm=ball_tree, leaf_size=10, n_neighbors=5, p=1;, score=0.901 total time=   0.0s\n",
      "[CV 4/5] END algorithm=ball_tree, leaf_size=10, n_neighbors=5, p=1;, score=0.901 total time=   0.0s\n",
      "[CV 5/5] END algorithm=ball_tree, leaf_size=10, n_neighbors=5, p=1;, score=0.929 total time=   0.0s\n",
      "[CV 1/5] END algorithm=ball_tree, leaf_size=10, n_neighbors=5, p=2;, score=0.926 total time=   0.0s\n",
      "[CV 2/5] END algorithm=ball_tree, leaf_size=10, n_neighbors=5, p=2;, score=0.907 total time=   0.0s\n",
      "[CV 3/5] END algorithm=ball_tree, leaf_size=10, n_neighbors=5, p=2;, score=0.895 total time=   0.0s\n",
      "[CV 4/5] END algorithm=ball_tree, leaf_size=10, n_neighbors=5, p=2;, score=0.910 total time=   0.0s\n",
      "[CV 5/5] END algorithm=ball_tree, leaf_size=10, n_neighbors=5, p=2;, score=0.920 total time=   0.0s\n",
      "[CV 1/5] END algorithm=ball_tree, leaf_size=10, n_neighbors=8, p=1;, score=0.889 total time=   0.0s\n",
      "[CV 2/5] END algorithm=ball_tree, leaf_size=10, n_neighbors=8, p=1;, score=0.855 total time=   0.0s\n",
      "[CV 3/5] END algorithm=ball_tree, leaf_size=10, n_neighbors=8, p=1;, score=0.861 total time=   0.0s\n",
      "[CV 4/5] END algorithm=ball_tree, leaf_size=10, n_neighbors=8, p=1;, score=0.861 total time=   0.0s\n",
      "[CV 5/5] END algorithm=ball_tree, leaf_size=10, n_neighbors=8, p=1;, score=0.873 total time=   0.0s\n",
      "[CV 1/5] END algorithm=ball_tree, leaf_size=10, n_neighbors=8, p=2;, score=0.883 total time=   0.0s\n",
      "[CV 2/5] END algorithm=ball_tree, leaf_size=10, n_neighbors=8, p=2;, score=0.877 total time=   0.0s\n",
      "[CV 3/5] END algorithm=ball_tree, leaf_size=10, n_neighbors=8, p=2;, score=0.864 total time=   0.0s\n",
      "[CV 4/5] END algorithm=ball_tree, leaf_size=10, n_neighbors=8, p=2;, score=0.849 total time=   0.0s\n",
      "[CV 5/5] END algorithm=ball_tree, leaf_size=10, n_neighbors=8, p=2;, score=0.877 total time=   0.0s\n",
      "[CV 1/5] END algorithm=ball_tree, leaf_size=10, n_neighbors=10, p=1;, score=0.889 total time=   0.0s\n",
      "[CV 2/5] END algorithm=ball_tree, leaf_size=10, n_neighbors=10, p=1;, score=0.836 total time=   0.1s\n",
      "[CV 3/5] END algorithm=ball_tree, leaf_size=10, n_neighbors=10, p=1;, score=0.833 total time=   0.1s\n",
      "[CV 4/5] END algorithm=ball_tree, leaf_size=10, n_neighbors=10, p=1;, score=0.840 total time=   0.0s\n",
      "[CV 5/5] END algorithm=ball_tree, leaf_size=10, n_neighbors=10, p=1;, score=0.858 total time=   0.0s\n",
      "[CV 1/5] END algorithm=ball_tree, leaf_size=10, n_neighbors=10, p=2;, score=0.861 total time=   0.1s\n",
      "[CV 2/5] END algorithm=ball_tree, leaf_size=10, n_neighbors=10, p=2;, score=0.855 total time=   0.0s\n",
      "[CV 3/5] END algorithm=ball_tree, leaf_size=10, n_neighbors=10, p=2;, score=0.830 total time=   0.0s\n",
      "[CV 4/5] END algorithm=ball_tree, leaf_size=10, n_neighbors=10, p=2;, score=0.843 total time=   0.0s\n",
      "[CV 5/5] END algorithm=ball_tree, leaf_size=10, n_neighbors=10, p=2;, score=0.861 total time=   0.1s\n",
      "[CV 1/5] END algorithm=ball_tree, leaf_size=10, n_neighbors=11, p=1;, score=0.889 total time=   0.0s\n",
      "[CV 2/5] END algorithm=ball_tree, leaf_size=10, n_neighbors=11, p=1;, score=0.840 total time=   0.0s\n",
      "[CV 3/5] END algorithm=ball_tree, leaf_size=10, n_neighbors=11, p=1;, score=0.840 total time=   0.0s\n",
      "[CV 4/5] END algorithm=ball_tree, leaf_size=10, n_neighbors=11, p=1;, score=0.836 total time=   0.0s\n",
      "[CV 5/5] END algorithm=ball_tree, leaf_size=10, n_neighbors=11, p=1;, score=0.858 total time=   0.0s\n",
      "[CV 1/5] END algorithm=ball_tree, leaf_size=10, n_neighbors=11, p=2;, score=0.861 total time=   0.0s\n",
      "[CV 2/5] END algorithm=ball_tree, leaf_size=10, n_neighbors=11, p=2;, score=0.855 total time=   0.0s\n",
      "[CV 3/5] END algorithm=ball_tree, leaf_size=10, n_neighbors=11, p=2;, score=0.830 total time=   0.0s\n",
      "[CV 4/5] END algorithm=ball_tree, leaf_size=10, n_neighbors=11, p=2;, score=0.840 total time=   0.0s\n",
      "[CV 5/5] END algorithm=ball_tree, leaf_size=10, n_neighbors=11, p=2;, score=0.861 total time=   0.0s\n",
      "[CV 1/5] END algorithm=ball_tree, leaf_size=17, n_neighbors=4, p=1;, score=0.926 total time=   0.0s\n",
      "[CV 2/5] END algorithm=ball_tree, leaf_size=17, n_neighbors=4, p=1;, score=0.901 total time=   0.0s\n",
      "[CV 3/5] END algorithm=ball_tree, leaf_size=17, n_neighbors=4, p=1;, score=0.901 total time=   0.0s\n",
      "[CV 4/5] END algorithm=ball_tree, leaf_size=17, n_neighbors=4, p=1;, score=0.898 total time=   0.0s\n",
      "[CV 5/5] END algorithm=ball_tree, leaf_size=17, n_neighbors=4, p=1;, score=0.926 total time=   0.0s\n",
      "[CV 1/5] END algorithm=ball_tree, leaf_size=17, n_neighbors=4, p=2;, score=0.926 total time=   0.0s\n",
      "[CV 2/5] END algorithm=ball_tree, leaf_size=17, n_neighbors=4, p=2;, score=0.914 total time=   0.0s\n",
      "[CV 3/5] END algorithm=ball_tree, leaf_size=17, n_neighbors=4, p=2;, score=0.892 total time=   0.0s\n",
      "[CV 4/5] END algorithm=ball_tree, leaf_size=17, n_neighbors=4, p=2;, score=0.910 total time=   0.0s\n",
      "[CV 5/5] END algorithm=ball_tree, leaf_size=17, n_neighbors=4, p=2;, score=0.920 total time=   0.0s\n",
      "[CV 1/5] END algorithm=ball_tree, leaf_size=17, n_neighbors=5, p=1;, score=0.926 total time=   0.0s\n",
      "[CV 2/5] END algorithm=ball_tree, leaf_size=17, n_neighbors=5, p=1;, score=0.895 total time=   0.0s\n",
      "[CV 3/5] END algorithm=ball_tree, leaf_size=17, n_neighbors=5, p=1;, score=0.904 total time=   0.0s\n",
      "[CV 4/5] END algorithm=ball_tree, leaf_size=17, n_neighbors=5, p=1;, score=0.895 total time=   0.0s\n",
      "[CV 5/5] END algorithm=ball_tree, leaf_size=17, n_neighbors=5, p=1;, score=0.926 total time=   0.0s\n",
      "[CV 1/5] END algorithm=ball_tree, leaf_size=17, n_neighbors=5, p=2;, score=0.926 total time=   0.0s\n",
      "[CV 2/5] END algorithm=ball_tree, leaf_size=17, n_neighbors=5, p=2;, score=0.907 total time=   0.0s\n",
      "[CV 3/5] END algorithm=ball_tree, leaf_size=17, n_neighbors=5, p=2;, score=0.892 total time=   0.0s\n",
      "[CV 4/5] END algorithm=ball_tree, leaf_size=17, n_neighbors=5, p=2;, score=0.910 total time=   0.0s\n",
      "[CV 5/5] END algorithm=ball_tree, leaf_size=17, n_neighbors=5, p=2;, score=0.920 total time=   0.0s\n",
      "[CV 1/5] END algorithm=ball_tree, leaf_size=17, n_neighbors=8, p=1;, score=0.889 total time=   0.0s\n",
      "[CV 2/5] END algorithm=ball_tree, leaf_size=17, n_neighbors=8, p=1;, score=0.852 total time=   0.0s\n",
      "[CV 3/5] END algorithm=ball_tree, leaf_size=17, n_neighbors=8, p=1;, score=0.864 total time=   0.0s\n",
      "[CV 4/5] END algorithm=ball_tree, leaf_size=17, n_neighbors=8, p=1;, score=0.861 total time=   0.0s\n",
      "[CV 5/5] END algorithm=ball_tree, leaf_size=17, n_neighbors=8, p=1;, score=0.873 total time=   0.0s\n",
      "[CV 1/5] END algorithm=ball_tree, leaf_size=17, n_neighbors=8, p=2;, score=0.880 total time=   0.0s\n",
      "[CV 2/5] END algorithm=ball_tree, leaf_size=17, n_neighbors=8, p=2;, score=0.877 total time=   0.0s\n",
      "[CV 3/5] END algorithm=ball_tree, leaf_size=17, n_neighbors=8, p=2;, score=0.864 total time=   0.0s\n",
      "[CV 4/5] END algorithm=ball_tree, leaf_size=17, n_neighbors=8, p=2;, score=0.849 total time=   0.0s\n",
      "[CV 5/5] END algorithm=ball_tree, leaf_size=17, n_neighbors=8, p=2;, score=0.877 total time=   0.0s\n",
      "[CV 1/5] END algorithm=ball_tree, leaf_size=17, n_neighbors=10, p=1;, score=0.886 total time=   0.0s\n",
      "[CV 2/5] END algorithm=ball_tree, leaf_size=17, n_neighbors=10, p=1;, score=0.840 total time=   0.0s\n"
     ]
    },
    {
     "name": "stdout",
     "output_type": "stream",
     "text": [
      "[CV 3/5] END algorithm=ball_tree, leaf_size=17, n_neighbors=10, p=1;, score=0.840 total time=   0.0s\n",
      "[CV 4/5] END algorithm=ball_tree, leaf_size=17, n_neighbors=10, p=1;, score=0.833 total time=   0.0s\n",
      "[CV 5/5] END algorithm=ball_tree, leaf_size=17, n_neighbors=10, p=1;, score=0.855 total time=   0.0s\n",
      "[CV 1/5] END algorithm=ball_tree, leaf_size=17, n_neighbors=10, p=2;, score=0.861 total time=   0.0s\n",
      "[CV 2/5] END algorithm=ball_tree, leaf_size=17, n_neighbors=10, p=2;, score=0.855 total time=   0.0s\n",
      "[CV 3/5] END algorithm=ball_tree, leaf_size=17, n_neighbors=10, p=2;, score=0.830 total time=   0.0s\n",
      "[CV 4/5] END algorithm=ball_tree, leaf_size=17, n_neighbors=10, p=2;, score=0.840 total time=   0.0s\n",
      "[CV 5/5] END algorithm=ball_tree, leaf_size=17, n_neighbors=10, p=2;, score=0.861 total time=   0.1s\n",
      "[CV 1/5] END algorithm=ball_tree, leaf_size=17, n_neighbors=11, p=1;, score=0.886 total time=   0.0s\n",
      "[CV 2/5] END algorithm=ball_tree, leaf_size=17, n_neighbors=11, p=1;, score=0.840 total time=   0.0s\n",
      "[CV 3/5] END algorithm=ball_tree, leaf_size=17, n_neighbors=11, p=1;, score=0.843 total time=   0.0s\n",
      "[CV 4/5] END algorithm=ball_tree, leaf_size=17, n_neighbors=11, p=1;, score=0.833 total time=   0.0s\n",
      "[CV 5/5] END algorithm=ball_tree, leaf_size=17, n_neighbors=11, p=1;, score=0.855 total time=   0.0s\n",
      "[CV 1/5] END algorithm=ball_tree, leaf_size=17, n_neighbors=11, p=2;, score=0.861 total time=   0.0s\n",
      "[CV 2/5] END algorithm=ball_tree, leaf_size=17, n_neighbors=11, p=2;, score=0.855 total time=   0.0s\n",
      "[CV 3/5] END algorithm=ball_tree, leaf_size=17, n_neighbors=11, p=2;, score=0.830 total time=   0.0s\n",
      "[CV 4/5] END algorithm=ball_tree, leaf_size=17, n_neighbors=11, p=2;, score=0.840 total time=   0.0s\n",
      "[CV 5/5] END algorithm=ball_tree, leaf_size=17, n_neighbors=11, p=2;, score=0.861 total time=   0.0s\n",
      "[CV 1/5] END algorithm=ball_tree, leaf_size=24, n_neighbors=4, p=1;, score=0.923 total time=   0.0s\n",
      "[CV 2/5] END algorithm=ball_tree, leaf_size=24, n_neighbors=4, p=1;, score=0.898 total time=   0.0s\n",
      "[CV 3/5] END algorithm=ball_tree, leaf_size=24, n_neighbors=4, p=1;, score=0.904 total time=   0.0s\n",
      "[CV 4/5] END algorithm=ball_tree, leaf_size=24, n_neighbors=4, p=1;, score=0.901 total time=   0.0s\n",
      "[CV 5/5] END algorithm=ball_tree, leaf_size=24, n_neighbors=4, p=1;, score=0.926 total time=   0.0s\n",
      "[CV 1/5] END algorithm=ball_tree, leaf_size=24, n_neighbors=4, p=2;, score=0.926 total time=   0.0s\n",
      "[CV 2/5] END algorithm=ball_tree, leaf_size=24, n_neighbors=4, p=2;, score=0.914 total time=   0.0s\n",
      "[CV 3/5] END algorithm=ball_tree, leaf_size=24, n_neighbors=4, p=2;, score=0.892 total time=   0.0s\n",
      "[CV 4/5] END algorithm=ball_tree, leaf_size=24, n_neighbors=4, p=2;, score=0.910 total time=   0.0s\n",
      "[CV 5/5] END algorithm=ball_tree, leaf_size=24, n_neighbors=4, p=2;, score=0.920 total time=   0.0s\n",
      "[CV 1/5] END algorithm=ball_tree, leaf_size=24, n_neighbors=5, p=1;, score=0.923 total time=   0.0s\n",
      "[CV 2/5] END algorithm=ball_tree, leaf_size=24, n_neighbors=5, p=1;, score=0.892 total time=   0.0s\n",
      "[CV 3/5] END algorithm=ball_tree, leaf_size=24, n_neighbors=5, p=1;, score=0.904 total time=   0.0s\n",
      "[CV 4/5] END algorithm=ball_tree, leaf_size=24, n_neighbors=5, p=1;, score=0.901 total time=   0.0s\n",
      "[CV 5/5] END algorithm=ball_tree, leaf_size=24, n_neighbors=5, p=1;, score=0.926 total time=   0.0s\n",
      "[CV 1/5] END algorithm=ball_tree, leaf_size=24, n_neighbors=5, p=2;, score=0.926 total time=   0.0s\n",
      "[CV 2/5] END algorithm=ball_tree, leaf_size=24, n_neighbors=5, p=2;, score=0.907 total time=   0.0s\n",
      "[CV 3/5] END algorithm=ball_tree, leaf_size=24, n_neighbors=5, p=2;, score=0.892 total time=   0.0s\n",
      "[CV 4/5] END algorithm=ball_tree, leaf_size=24, n_neighbors=5, p=2;, score=0.910 total time=   0.0s\n",
      "[CV 5/5] END algorithm=ball_tree, leaf_size=24, n_neighbors=5, p=2;, score=0.920 total time=   0.0s\n",
      "[CV 1/5] END algorithm=ball_tree, leaf_size=24, n_neighbors=8, p=1;, score=0.889 total time=   0.0s\n",
      "[CV 2/5] END algorithm=ball_tree, leaf_size=24, n_neighbors=8, p=1;, score=0.852 total time=   0.1s\n",
      "[CV 3/5] END algorithm=ball_tree, leaf_size=24, n_neighbors=8, p=1;, score=0.861 total time=   0.0s\n",
      "[CV 4/5] END algorithm=ball_tree, leaf_size=24, n_neighbors=8, p=1;, score=0.864 total time=   0.0s\n",
      "[CV 5/5] END algorithm=ball_tree, leaf_size=24, n_neighbors=8, p=1;, score=0.873 total time=   0.0s\n",
      "[CV 1/5] END algorithm=ball_tree, leaf_size=24, n_neighbors=8, p=2;, score=0.880 total time=   0.0s\n",
      "[CV 2/5] END algorithm=ball_tree, leaf_size=24, n_neighbors=8, p=2;, score=0.877 total time=   0.0s\n",
      "[CV 3/5] END algorithm=ball_tree, leaf_size=24, n_neighbors=8, p=2;, score=0.864 total time=   0.0s\n",
      "[CV 4/5] END algorithm=ball_tree, leaf_size=24, n_neighbors=8, p=2;, score=0.849 total time=   0.0s\n",
      "[CV 5/5] END algorithm=ball_tree, leaf_size=24, n_neighbors=8, p=2;, score=0.877 total time=   0.0s\n",
      "[CV 1/5] END algorithm=ball_tree, leaf_size=24, n_neighbors=10, p=1;, score=0.883 total time=   0.0s\n",
      "[CV 2/5] END algorithm=ball_tree, leaf_size=24, n_neighbors=10, p=1;, score=0.836 total time=   0.0s\n",
      "[CV 3/5] END algorithm=ball_tree, leaf_size=24, n_neighbors=10, p=1;, score=0.840 total time=   0.0s\n",
      "[CV 4/5] END algorithm=ball_tree, leaf_size=24, n_neighbors=10, p=1;, score=0.833 total time=   0.0s\n",
      "[CV 5/5] END algorithm=ball_tree, leaf_size=24, n_neighbors=10, p=1;, score=0.855 total time=   0.0s\n",
      "[CV 1/5] END algorithm=ball_tree, leaf_size=24, n_neighbors=10, p=2;, score=0.861 total time=   0.0s\n",
      "[CV 2/5] END algorithm=ball_tree, leaf_size=24, n_neighbors=10, p=2;, score=0.855 total time=   0.0s\n",
      "[CV 3/5] END algorithm=ball_tree, leaf_size=24, n_neighbors=10, p=2;, score=0.830 total time=   0.0s\n",
      "[CV 4/5] END algorithm=ball_tree, leaf_size=24, n_neighbors=10, p=2;, score=0.836 total time=   0.0s\n",
      "[CV 5/5] END algorithm=ball_tree, leaf_size=24, n_neighbors=10, p=2;, score=0.861 total time=   0.0s\n",
      "[CV 1/5] END algorithm=ball_tree, leaf_size=24, n_neighbors=11, p=1;, score=0.883 total time=   0.0s\n",
      "[CV 2/5] END algorithm=ball_tree, leaf_size=24, n_neighbors=11, p=1;, score=0.836 total time=   0.0s\n",
      "[CV 3/5] END algorithm=ball_tree, leaf_size=24, n_neighbors=11, p=1;, score=0.843 total time=   0.0s\n",
      "[CV 4/5] END algorithm=ball_tree, leaf_size=24, n_neighbors=11, p=1;, score=0.833 total time=   0.0s\n",
      "[CV 5/5] END algorithm=ball_tree, leaf_size=24, n_neighbors=11, p=1;, score=0.855 total time=   0.0s\n",
      "[CV 1/5] END algorithm=ball_tree, leaf_size=24, n_neighbors=11, p=2;, score=0.861 total time=   0.0s\n",
      "[CV 2/5] END algorithm=ball_tree, leaf_size=24, n_neighbors=11, p=2;, score=0.855 total time=   0.0s\n",
      "[CV 3/5] END algorithm=ball_tree, leaf_size=24, n_neighbors=11, p=2;, score=0.830 total time=   0.0s\n",
      "[CV 4/5] END algorithm=ball_tree, leaf_size=24, n_neighbors=11, p=2;, score=0.836 total time=   0.0s\n",
      "[CV 5/5] END algorithm=ball_tree, leaf_size=24, n_neighbors=11, p=2;, score=0.861 total time=   0.0s\n",
      "[CV 1/5] END algorithm=ball_tree, leaf_size=28, n_neighbors=4, p=1;, score=0.923 total time=   0.0s\n",
      "[CV 2/5] END algorithm=ball_tree, leaf_size=28, n_neighbors=4, p=1;, score=0.898 total time=   0.0s\n",
      "[CV 3/5] END algorithm=ball_tree, leaf_size=28, n_neighbors=4, p=1;, score=0.904 total time=   0.0s\n",
      "[CV 4/5] END algorithm=ball_tree, leaf_size=28, n_neighbors=4, p=1;, score=0.901 total time=   0.0s\n",
      "[CV 5/5] END algorithm=ball_tree, leaf_size=28, n_neighbors=4, p=1;, score=0.926 total time=   0.0s\n",
      "[CV 1/5] END algorithm=ball_tree, leaf_size=28, n_neighbors=4, p=2;, score=0.926 total time=   0.0s\n",
      "[CV 2/5] END algorithm=ball_tree, leaf_size=28, n_neighbors=4, p=2;, score=0.914 total time=   0.0s\n",
      "[CV 3/5] END algorithm=ball_tree, leaf_size=28, n_neighbors=4, p=2;, score=0.892 total time=   0.0s\n",
      "[CV 4/5] END algorithm=ball_tree, leaf_size=28, n_neighbors=4, p=2;, score=0.910 total time=   0.0s\n",
      "[CV 5/5] END algorithm=ball_tree, leaf_size=28, n_neighbors=4, p=2;, score=0.920 total time=   0.0s\n",
      "[CV 1/5] END algorithm=ball_tree, leaf_size=28, n_neighbors=5, p=1;, score=0.923 total time=   0.0s\n",
      "[CV 2/5] END algorithm=ball_tree, leaf_size=28, n_neighbors=5, p=1;, score=0.892 total time=   0.0s\n",
      "[CV 3/5] END algorithm=ball_tree, leaf_size=28, n_neighbors=5, p=1;, score=0.904 total time=   0.0s\n",
      "[CV 4/5] END algorithm=ball_tree, leaf_size=28, n_neighbors=5, p=1;, score=0.901 total time=   0.0s\n",
      "[CV 5/5] END algorithm=ball_tree, leaf_size=28, n_neighbors=5, p=1;, score=0.926 total time=   0.0s\n"
     ]
    },
    {
     "name": "stdout",
     "output_type": "stream",
     "text": [
      "[CV 1/5] END algorithm=ball_tree, leaf_size=28, n_neighbors=5, p=2;, score=0.926 total time=   0.0s\n",
      "[CV 2/5] END algorithm=ball_tree, leaf_size=28, n_neighbors=5, p=2;, score=0.907 total time=   0.0s\n",
      "[CV 3/5] END algorithm=ball_tree, leaf_size=28, n_neighbors=5, p=2;, score=0.892 total time=   0.0s\n",
      "[CV 4/5] END algorithm=ball_tree, leaf_size=28, n_neighbors=5, p=2;, score=0.910 total time=   0.0s\n",
      "[CV 5/5] END algorithm=ball_tree, leaf_size=28, n_neighbors=5, p=2;, score=0.920 total time=   0.0s\n",
      "[CV 1/5] END algorithm=ball_tree, leaf_size=28, n_neighbors=8, p=1;, score=0.889 total time=   0.0s\n",
      "[CV 2/5] END algorithm=ball_tree, leaf_size=28, n_neighbors=8, p=1;, score=0.852 total time=   0.0s\n",
      "[CV 3/5] END algorithm=ball_tree, leaf_size=28, n_neighbors=8, p=1;, score=0.861 total time=   0.0s\n",
      "[CV 4/5] END algorithm=ball_tree, leaf_size=28, n_neighbors=8, p=1;, score=0.864 total time=   0.0s\n",
      "[CV 5/5] END algorithm=ball_tree, leaf_size=28, n_neighbors=8, p=1;, score=0.873 total time=   0.0s\n",
      "[CV 1/5] END algorithm=ball_tree, leaf_size=28, n_neighbors=8, p=2;, score=0.880 total time=   0.0s\n",
      "[CV 2/5] END algorithm=ball_tree, leaf_size=28, n_neighbors=8, p=2;, score=0.877 total time=   0.0s\n",
      "[CV 3/5] END algorithm=ball_tree, leaf_size=28, n_neighbors=8, p=2;, score=0.864 total time=   0.0s\n",
      "[CV 4/5] END algorithm=ball_tree, leaf_size=28, n_neighbors=8, p=2;, score=0.849 total time=   0.0s\n",
      "[CV 5/5] END algorithm=ball_tree, leaf_size=28, n_neighbors=8, p=2;, score=0.877 total time=   0.0s\n",
      "[CV 1/5] END algorithm=ball_tree, leaf_size=28, n_neighbors=10, p=1;, score=0.883 total time=   0.0s\n",
      "[CV 2/5] END algorithm=ball_tree, leaf_size=28, n_neighbors=10, p=1;, score=0.836 total time=   0.0s\n",
      "[CV 3/5] END algorithm=ball_tree, leaf_size=28, n_neighbors=10, p=1;, score=0.840 total time=   0.0s\n",
      "[CV 4/5] END algorithm=ball_tree, leaf_size=28, n_neighbors=10, p=1;, score=0.833 total time=   0.0s\n",
      "[CV 5/5] END algorithm=ball_tree, leaf_size=28, n_neighbors=10, p=1;, score=0.855 total time=   0.0s\n",
      "[CV 1/5] END algorithm=ball_tree, leaf_size=28, n_neighbors=10, p=2;, score=0.861 total time=   0.0s\n",
      "[CV 2/5] END algorithm=ball_tree, leaf_size=28, n_neighbors=10, p=2;, score=0.855 total time=   0.0s\n",
      "[CV 3/5] END algorithm=ball_tree, leaf_size=28, n_neighbors=10, p=2;, score=0.830 total time=   0.0s\n",
      "[CV 4/5] END algorithm=ball_tree, leaf_size=28, n_neighbors=10, p=2;, score=0.836 total time=   0.0s\n",
      "[CV 5/5] END algorithm=ball_tree, leaf_size=28, n_neighbors=10, p=2;, score=0.861 total time=   0.0s\n",
      "[CV 1/5] END algorithm=ball_tree, leaf_size=28, n_neighbors=11, p=1;, score=0.883 total time=   0.0s\n",
      "[CV 2/5] END algorithm=ball_tree, leaf_size=28, n_neighbors=11, p=1;, score=0.836 total time=   0.0s\n",
      "[CV 3/5] END algorithm=ball_tree, leaf_size=28, n_neighbors=11, p=1;, score=0.843 total time=   0.0s\n",
      "[CV 4/5] END algorithm=ball_tree, leaf_size=28, n_neighbors=11, p=1;, score=0.833 total time=   0.0s\n",
      "[CV 5/5] END algorithm=ball_tree, leaf_size=28, n_neighbors=11, p=1;, score=0.855 total time=   0.0s\n",
      "[CV 1/5] END algorithm=ball_tree, leaf_size=28, n_neighbors=11, p=2;, score=0.861 total time=   0.0s\n",
      "[CV 2/5] END algorithm=ball_tree, leaf_size=28, n_neighbors=11, p=2;, score=0.855 total time=   0.0s\n",
      "[CV 3/5] END algorithm=ball_tree, leaf_size=28, n_neighbors=11, p=2;, score=0.830 total time=   0.0s\n",
      "[CV 4/5] END algorithm=ball_tree, leaf_size=28, n_neighbors=11, p=2;, score=0.836 total time=   0.0s\n",
      "[CV 5/5] END algorithm=ball_tree, leaf_size=28, n_neighbors=11, p=2;, score=0.861 total time=   0.0s\n",
      "[CV 1/5] END algorithm=ball_tree, leaf_size=30, n_neighbors=4, p=1;, score=0.923 total time=   0.0s\n",
      "[CV 2/5] END algorithm=ball_tree, leaf_size=30, n_neighbors=4, p=1;, score=0.898 total time=   0.0s\n",
      "[CV 3/5] END algorithm=ball_tree, leaf_size=30, n_neighbors=4, p=1;, score=0.904 total time=   0.0s\n",
      "[CV 4/5] END algorithm=ball_tree, leaf_size=30, n_neighbors=4, p=1;, score=0.901 total time=   0.0s\n",
      "[CV 5/5] END algorithm=ball_tree, leaf_size=30, n_neighbors=4, p=1;, score=0.926 total time=   0.0s\n",
      "[CV 1/5] END algorithm=ball_tree, leaf_size=30, n_neighbors=4, p=2;, score=0.926 total time=   0.0s\n",
      "[CV 2/5] END algorithm=ball_tree, leaf_size=30, n_neighbors=4, p=2;, score=0.914 total time=   0.0s\n",
      "[CV 3/5] END algorithm=ball_tree, leaf_size=30, n_neighbors=4, p=2;, score=0.892 total time=   0.0s\n",
      "[CV 4/5] END algorithm=ball_tree, leaf_size=30, n_neighbors=4, p=2;, score=0.910 total time=   0.0s\n",
      "[CV 5/5] END algorithm=ball_tree, leaf_size=30, n_neighbors=4, p=2;, score=0.920 total time=   0.0s\n",
      "[CV 1/5] END algorithm=ball_tree, leaf_size=30, n_neighbors=5, p=1;, score=0.923 total time=   0.0s\n",
      "[CV 2/5] END algorithm=ball_tree, leaf_size=30, n_neighbors=5, p=1;, score=0.892 total time=   0.0s\n",
      "[CV 3/5] END algorithm=ball_tree, leaf_size=30, n_neighbors=5, p=1;, score=0.904 total time=   0.0s\n",
      "[CV 4/5] END algorithm=ball_tree, leaf_size=30, n_neighbors=5, p=1;, score=0.901 total time=   0.0s\n",
      "[CV 5/5] END algorithm=ball_tree, leaf_size=30, n_neighbors=5, p=1;, score=0.926 total time=   0.0s\n",
      "[CV 1/5] END algorithm=ball_tree, leaf_size=30, n_neighbors=5, p=2;, score=0.926 total time=   0.0s\n",
      "[CV 2/5] END algorithm=ball_tree, leaf_size=30, n_neighbors=5, p=2;, score=0.907 total time=   0.0s\n",
      "[CV 3/5] END algorithm=ball_tree, leaf_size=30, n_neighbors=5, p=2;, score=0.892 total time=   0.0s\n",
      "[CV 4/5] END algorithm=ball_tree, leaf_size=30, n_neighbors=5, p=2;, score=0.910 total time=   0.0s\n",
      "[CV 5/5] END algorithm=ball_tree, leaf_size=30, n_neighbors=5, p=2;, score=0.920 total time=   0.0s\n",
      "[CV 1/5] END algorithm=ball_tree, leaf_size=30, n_neighbors=8, p=1;, score=0.889 total time=   0.0s\n",
      "[CV 2/5] END algorithm=ball_tree, leaf_size=30, n_neighbors=8, p=1;, score=0.852 total time=   0.0s\n",
      "[CV 3/5] END algorithm=ball_tree, leaf_size=30, n_neighbors=8, p=1;, score=0.861 total time=   0.0s\n",
      "[CV 4/5] END algorithm=ball_tree, leaf_size=30, n_neighbors=8, p=1;, score=0.864 total time=   0.0s\n",
      "[CV 5/5] END algorithm=ball_tree, leaf_size=30, n_neighbors=8, p=1;, score=0.873 total time=   0.0s\n",
      "[CV 1/5] END algorithm=ball_tree, leaf_size=30, n_neighbors=8, p=2;, score=0.880 total time=   0.0s\n",
      "[CV 2/5] END algorithm=ball_tree, leaf_size=30, n_neighbors=8, p=2;, score=0.877 total time=   0.0s\n",
      "[CV 3/5] END algorithm=ball_tree, leaf_size=30, n_neighbors=8, p=2;, score=0.864 total time=   0.0s\n",
      "[CV 4/5] END algorithm=ball_tree, leaf_size=30, n_neighbors=8, p=2;, score=0.849 total time=   0.0s\n",
      "[CV 5/5] END algorithm=ball_tree, leaf_size=30, n_neighbors=8, p=2;, score=0.877 total time=   0.0s\n",
      "[CV 1/5] END algorithm=ball_tree, leaf_size=30, n_neighbors=10, p=1;, score=0.883 total time=   0.0s\n",
      "[CV 2/5] END algorithm=ball_tree, leaf_size=30, n_neighbors=10, p=1;, score=0.836 total time=   0.0s\n",
      "[CV 3/5] END algorithm=ball_tree, leaf_size=30, n_neighbors=10, p=1;, score=0.840 total time=   0.0s\n",
      "[CV 4/5] END algorithm=ball_tree, leaf_size=30, n_neighbors=10, p=1;, score=0.833 total time=   0.0s\n",
      "[CV 5/5] END algorithm=ball_tree, leaf_size=30, n_neighbors=10, p=1;, score=0.855 total time=   0.0s\n",
      "[CV 1/5] END algorithm=ball_tree, leaf_size=30, n_neighbors=10, p=2;, score=0.861 total time=   0.0s\n",
      "[CV 2/5] END algorithm=ball_tree, leaf_size=30, n_neighbors=10, p=2;, score=0.855 total time=   0.0s\n",
      "[CV 3/5] END algorithm=ball_tree, leaf_size=30, n_neighbors=10, p=2;, score=0.830 total time=   0.0s\n",
      "[CV 4/5] END algorithm=ball_tree, leaf_size=30, n_neighbors=10, p=2;, score=0.836 total time=   0.0s\n",
      "[CV 5/5] END algorithm=ball_tree, leaf_size=30, n_neighbors=10, p=2;, score=0.861 total time=   0.0s\n",
      "[CV 1/5] END algorithm=ball_tree, leaf_size=30, n_neighbors=11, p=1;, score=0.883 total time=   0.0s\n",
      "[CV 2/5] END algorithm=ball_tree, leaf_size=30, n_neighbors=11, p=1;, score=0.836 total time=   0.0s\n",
      "[CV 3/5] END algorithm=ball_tree, leaf_size=30, n_neighbors=11, p=1;, score=0.843 total time=   0.0s\n",
      "[CV 4/5] END algorithm=ball_tree, leaf_size=30, n_neighbors=11, p=1;, score=0.833 total time=   0.0s\n",
      "[CV 5/5] END algorithm=ball_tree, leaf_size=30, n_neighbors=11, p=1;, score=0.855 total time=   0.0s\n",
      "[CV 1/5] END algorithm=ball_tree, leaf_size=30, n_neighbors=11, p=2;, score=0.861 total time=   0.0s\n",
      "[CV 2/5] END algorithm=ball_tree, leaf_size=30, n_neighbors=11, p=2;, score=0.855 total time=   0.0s\n",
      "[CV 3/5] END algorithm=ball_tree, leaf_size=30, n_neighbors=11, p=2;, score=0.830 total time=   0.0s\n",
      "[CV 4/5] END algorithm=ball_tree, leaf_size=30, n_neighbors=11, p=2;, score=0.836 total time=   0.0s\n",
      "[CV 5/5] END algorithm=ball_tree, leaf_size=30, n_neighbors=11, p=2;, score=0.861 total time=   0.0s\n"
     ]
    },
    {
     "name": "stdout",
     "output_type": "stream",
     "text": [
      "[CV 1/5] END algorithm=ball_tree, leaf_size=35, n_neighbors=4, p=1;, score=0.923 total time=   0.0s\n",
      "[CV 2/5] END algorithm=ball_tree, leaf_size=35, n_neighbors=4, p=1;, score=0.898 total time=   0.0s\n",
      "[CV 3/5] END algorithm=ball_tree, leaf_size=35, n_neighbors=4, p=1;, score=0.904 total time=   0.0s\n",
      "[CV 4/5] END algorithm=ball_tree, leaf_size=35, n_neighbors=4, p=1;, score=0.901 total time=   0.0s\n",
      "[CV 5/5] END algorithm=ball_tree, leaf_size=35, n_neighbors=4, p=1;, score=0.926 total time=   0.0s\n",
      "[CV 1/5] END algorithm=ball_tree, leaf_size=35, n_neighbors=4, p=2;, score=0.926 total time=   0.0s\n",
      "[CV 2/5] END algorithm=ball_tree, leaf_size=35, n_neighbors=4, p=2;, score=0.914 total time=   0.0s\n",
      "[CV 3/5] END algorithm=ball_tree, leaf_size=35, n_neighbors=4, p=2;, score=0.892 total time=   0.0s\n",
      "[CV 4/5] END algorithm=ball_tree, leaf_size=35, n_neighbors=4, p=2;, score=0.910 total time=   0.0s\n",
      "[CV 5/5] END algorithm=ball_tree, leaf_size=35, n_neighbors=4, p=2;, score=0.920 total time=   0.0s\n",
      "[CV 1/5] END algorithm=ball_tree, leaf_size=35, n_neighbors=5, p=1;, score=0.923 total time=   0.0s\n",
      "[CV 2/5] END algorithm=ball_tree, leaf_size=35, n_neighbors=5, p=1;, score=0.892 total time=   0.0s\n",
      "[CV 3/5] END algorithm=ball_tree, leaf_size=35, n_neighbors=5, p=1;, score=0.904 total time=   0.0s\n",
      "[CV 4/5] END algorithm=ball_tree, leaf_size=35, n_neighbors=5, p=1;, score=0.901 total time=   0.0s\n",
      "[CV 5/5] END algorithm=ball_tree, leaf_size=35, n_neighbors=5, p=1;, score=0.926 total time=   0.0s\n",
      "[CV 1/5] END algorithm=ball_tree, leaf_size=35, n_neighbors=5, p=2;, score=0.926 total time=   0.0s\n",
      "[CV 2/5] END algorithm=ball_tree, leaf_size=35, n_neighbors=5, p=2;, score=0.907 total time=   0.0s\n",
      "[CV 3/5] END algorithm=ball_tree, leaf_size=35, n_neighbors=5, p=2;, score=0.892 total time=   0.0s\n",
      "[CV 4/5] END algorithm=ball_tree, leaf_size=35, n_neighbors=5, p=2;, score=0.910 total time=   0.0s\n",
      "[CV 5/5] END algorithm=ball_tree, leaf_size=35, n_neighbors=5, p=2;, score=0.920 total time=   0.0s\n",
      "[CV 1/5] END algorithm=ball_tree, leaf_size=35, n_neighbors=8, p=1;, score=0.889 total time=   0.0s\n",
      "[CV 2/5] END algorithm=ball_tree, leaf_size=35, n_neighbors=8, p=1;, score=0.852 total time=   0.0s\n",
      "[CV 3/5] END algorithm=ball_tree, leaf_size=35, n_neighbors=8, p=1;, score=0.861 total time=   0.0s\n",
      "[CV 4/5] END algorithm=ball_tree, leaf_size=35, n_neighbors=8, p=1;, score=0.864 total time=   0.1s\n",
      "[CV 5/5] END algorithm=ball_tree, leaf_size=35, n_neighbors=8, p=1;, score=0.873 total time=   0.1s\n",
      "[CV 1/5] END algorithm=ball_tree, leaf_size=35, n_neighbors=8, p=2;, score=0.880 total time=   0.1s\n",
      "[CV 2/5] END algorithm=ball_tree, leaf_size=35, n_neighbors=8, p=2;, score=0.877 total time=   0.0s\n",
      "[CV 3/5] END algorithm=ball_tree, leaf_size=35, n_neighbors=8, p=2;, score=0.864 total time=   0.0s\n",
      "[CV 4/5] END algorithm=ball_tree, leaf_size=35, n_neighbors=8, p=2;, score=0.849 total time=   0.0s\n",
      "[CV 5/5] END algorithm=ball_tree, leaf_size=35, n_neighbors=8, p=2;, score=0.877 total time=   0.0s\n",
      "[CV 1/5] END algorithm=ball_tree, leaf_size=35, n_neighbors=10, p=1;, score=0.883 total time=   0.0s\n",
      "[CV 2/5] END algorithm=ball_tree, leaf_size=35, n_neighbors=10, p=1;, score=0.836 total time=   0.0s\n",
      "[CV 3/5] END algorithm=ball_tree, leaf_size=35, n_neighbors=10, p=1;, score=0.840 total time=   0.1s\n",
      "[CV 4/5] END algorithm=ball_tree, leaf_size=35, n_neighbors=10, p=1;, score=0.833 total time=   0.1s\n",
      "[CV 5/5] END algorithm=ball_tree, leaf_size=35, n_neighbors=10, p=1;, score=0.855 total time=   0.1s\n",
      "[CV 1/5] END algorithm=ball_tree, leaf_size=35, n_neighbors=10, p=2;, score=0.861 total time=   0.0s\n",
      "[CV 2/5] END algorithm=ball_tree, leaf_size=35, n_neighbors=10, p=2;, score=0.855 total time=   0.0s\n",
      "[CV 3/5] END algorithm=ball_tree, leaf_size=35, n_neighbors=10, p=2;, score=0.830 total time=   0.0s\n",
      "[CV 4/5] END algorithm=ball_tree, leaf_size=35, n_neighbors=10, p=2;, score=0.836 total time=   0.0s\n",
      "[CV 5/5] END algorithm=ball_tree, leaf_size=35, n_neighbors=10, p=2;, score=0.861 total time=   0.0s\n",
      "[CV 1/5] END algorithm=ball_tree, leaf_size=35, n_neighbors=11, p=1;, score=0.883 total time=   0.0s\n",
      "[CV 2/5] END algorithm=ball_tree, leaf_size=35, n_neighbors=11, p=1;, score=0.836 total time=   0.0s\n",
      "[CV 3/5] END algorithm=ball_tree, leaf_size=35, n_neighbors=11, p=1;, score=0.843 total time=   0.0s\n",
      "[CV 4/5] END algorithm=ball_tree, leaf_size=35, n_neighbors=11, p=1;, score=0.833 total time=   0.0s\n",
      "[CV 5/5] END algorithm=ball_tree, leaf_size=35, n_neighbors=11, p=1;, score=0.855 total time=   0.0s\n",
      "[CV 1/5] END algorithm=ball_tree, leaf_size=35, n_neighbors=11, p=2;, score=0.861 total time=   0.1s\n",
      "[CV 2/5] END algorithm=ball_tree, leaf_size=35, n_neighbors=11, p=2;, score=0.855 total time=   0.0s\n",
      "[CV 3/5] END algorithm=ball_tree, leaf_size=35, n_neighbors=11, p=2;, score=0.830 total time=   0.1s\n",
      "[CV 4/5] END algorithm=ball_tree, leaf_size=35, n_neighbors=11, p=2;, score=0.836 total time=   0.0s\n",
      "[CV 5/5] END algorithm=ball_tree, leaf_size=35, n_neighbors=11, p=2;, score=0.861 total time=   0.0s\n",
      "[CV 1/5] END algorithm=kd_tree, leaf_size=10, n_neighbors=4, p=1;, score=0.926 total time=   0.0s\n",
      "[CV 2/5] END algorithm=kd_tree, leaf_size=10, n_neighbors=4, p=1;, score=0.901 total time=   0.0s\n",
      "[CV 3/5] END algorithm=kd_tree, leaf_size=10, n_neighbors=4, p=1;, score=0.907 total time=   0.0s\n",
      "[CV 4/5] END algorithm=kd_tree, leaf_size=10, n_neighbors=4, p=1;, score=0.898 total time=   0.0s\n",
      "[CV 5/5] END algorithm=kd_tree, leaf_size=10, n_neighbors=4, p=1;, score=0.926 total time=   0.0s\n",
      "[CV 1/5] END algorithm=kd_tree, leaf_size=10, n_neighbors=4, p=2;, score=0.926 total time=   0.0s\n",
      "[CV 2/5] END algorithm=kd_tree, leaf_size=10, n_neighbors=4, p=2;, score=0.914 total time=   0.0s\n",
      "[CV 3/5] END algorithm=kd_tree, leaf_size=10, n_neighbors=4, p=2;, score=0.892 total time=   0.0s\n",
      "[CV 4/5] END algorithm=kd_tree, leaf_size=10, n_neighbors=4, p=2;, score=0.910 total time=   0.0s\n",
      "[CV 5/5] END algorithm=kd_tree, leaf_size=10, n_neighbors=4, p=2;, score=0.920 total time=   0.0s\n",
      "[CV 1/5] END algorithm=kd_tree, leaf_size=10, n_neighbors=5, p=1;, score=0.926 total time=   0.0s\n",
      "[CV 2/5] END algorithm=kd_tree, leaf_size=10, n_neighbors=5, p=1;, score=0.901 total time=   0.0s\n",
      "[CV 3/5] END algorithm=kd_tree, leaf_size=10, n_neighbors=5, p=1;, score=0.910 total time=   0.0s\n",
      "[CV 4/5] END algorithm=kd_tree, leaf_size=10, n_neighbors=5, p=1;, score=0.901 total time=   0.0s\n",
      "[CV 5/5] END algorithm=kd_tree, leaf_size=10, n_neighbors=5, p=1;, score=0.929 total time=   0.0s\n",
      "[CV 1/5] END algorithm=kd_tree, leaf_size=10, n_neighbors=5, p=2;, score=0.926 total time=   0.0s\n",
      "[CV 2/5] END algorithm=kd_tree, leaf_size=10, n_neighbors=5, p=2;, score=0.907 total time=   0.0s\n",
      "[CV 3/5] END algorithm=kd_tree, leaf_size=10, n_neighbors=5, p=2;, score=0.895 total time=   0.0s\n",
      "[CV 4/5] END algorithm=kd_tree, leaf_size=10, n_neighbors=5, p=2;, score=0.910 total time=   0.0s\n",
      "[CV 5/5] END algorithm=kd_tree, leaf_size=10, n_neighbors=5, p=2;, score=0.920 total time=   0.0s\n",
      "[CV 1/5] END algorithm=kd_tree, leaf_size=10, n_neighbors=8, p=1;, score=0.895 total time=   0.0s\n",
      "[CV 2/5] END algorithm=kd_tree, leaf_size=10, n_neighbors=8, p=1;, score=0.858 total time=   0.0s\n",
      "[CV 3/5] END algorithm=kd_tree, leaf_size=10, n_neighbors=8, p=1;, score=0.858 total time=   0.0s\n",
      "[CV 4/5] END algorithm=kd_tree, leaf_size=10, n_neighbors=8, p=1;, score=0.858 total time=   0.0s\n",
      "[CV 5/5] END algorithm=kd_tree, leaf_size=10, n_neighbors=8, p=1;, score=0.880 total time=   0.0s\n",
      "[CV 1/5] END algorithm=kd_tree, leaf_size=10, n_neighbors=8, p=2;, score=0.883 total time=   0.0s\n",
      "[CV 2/5] END algorithm=kd_tree, leaf_size=10, n_neighbors=8, p=2;, score=0.877 total time=   0.0s\n",
      "[CV 3/5] END algorithm=kd_tree, leaf_size=10, n_neighbors=8, p=2;, score=0.864 total time=   0.0s\n",
      "[CV 4/5] END algorithm=kd_tree, leaf_size=10, n_neighbors=8, p=2;, score=0.849 total time=   0.0s\n",
      "[CV 5/5] END algorithm=kd_tree, leaf_size=10, n_neighbors=8, p=2;, score=0.877 total time=   0.0s\n",
      "[CV 1/5] END algorithm=kd_tree, leaf_size=10, n_neighbors=10, p=1;, score=0.883 total time=   0.0s\n",
      "[CV 2/5] END algorithm=kd_tree, leaf_size=10, n_neighbors=10, p=1;, score=0.840 total time=   0.0s\n",
      "[CV 3/5] END algorithm=kd_tree, leaf_size=10, n_neighbors=10, p=1;, score=0.843 total time=   0.0s\n",
      "[CV 4/5] END algorithm=kd_tree, leaf_size=10, n_neighbors=10, p=1;, score=0.846 total time=   0.0s\n",
      "[CV 5/5] END algorithm=kd_tree, leaf_size=10, n_neighbors=10, p=1;, score=0.864 total time=   0.0s\n"
     ]
    },
    {
     "name": "stdout",
     "output_type": "stream",
     "text": [
      "[CV 1/5] END algorithm=kd_tree, leaf_size=10, n_neighbors=10, p=2;, score=0.858 total time=   0.1s\n",
      "[CV 2/5] END algorithm=kd_tree, leaf_size=10, n_neighbors=10, p=2;, score=0.855 total time=   0.0s\n",
      "[CV 3/5] END algorithm=kd_tree, leaf_size=10, n_neighbors=10, p=2;, score=0.830 total time=   0.0s\n",
      "[CV 4/5] END algorithm=kd_tree, leaf_size=10, n_neighbors=10, p=2;, score=0.843 total time=   0.0s\n",
      "[CV 5/5] END algorithm=kd_tree, leaf_size=10, n_neighbors=10, p=2;, score=0.861 total time=   0.0s\n",
      "[CV 1/5] END algorithm=kd_tree, leaf_size=10, n_neighbors=11, p=1;, score=0.883 total time=   0.0s\n",
      "[CV 2/5] END algorithm=kd_tree, leaf_size=10, n_neighbors=11, p=1;, score=0.843 total time=   0.0s\n",
      "[CV 3/5] END algorithm=kd_tree, leaf_size=10, n_neighbors=11, p=1;, score=0.843 total time=   0.0s\n",
      "[CV 4/5] END algorithm=kd_tree, leaf_size=10, n_neighbors=11, p=1;, score=0.846 total time=   0.0s\n",
      "[CV 5/5] END algorithm=kd_tree, leaf_size=10, n_neighbors=11, p=1;, score=0.867 total time=   0.0s\n",
      "[CV 1/5] END algorithm=kd_tree, leaf_size=10, n_neighbors=11, p=2;, score=0.858 total time=   0.0s\n",
      "[CV 2/5] END algorithm=kd_tree, leaf_size=10, n_neighbors=11, p=2;, score=0.855 total time=   0.0s\n",
      "[CV 3/5] END algorithm=kd_tree, leaf_size=10, n_neighbors=11, p=2;, score=0.830 total time=   0.1s\n",
      "[CV 4/5] END algorithm=kd_tree, leaf_size=10, n_neighbors=11, p=2;, score=0.840 total time=   0.0s\n",
      "[CV 5/5] END algorithm=kd_tree, leaf_size=10, n_neighbors=11, p=2;, score=0.861 total time=   0.1s\n",
      "[CV 1/5] END algorithm=kd_tree, leaf_size=17, n_neighbors=4, p=1;, score=0.926 total time=   0.0s\n",
      "[CV 2/5] END algorithm=kd_tree, leaf_size=17, n_neighbors=4, p=1;, score=0.907 total time=   0.0s\n",
      "[CV 3/5] END algorithm=kd_tree, leaf_size=17, n_neighbors=4, p=1;, score=0.907 total time=   0.0s\n",
      "[CV 4/5] END algorithm=kd_tree, leaf_size=17, n_neighbors=4, p=1;, score=0.904 total time=   0.0s\n",
      "[CV 5/5] END algorithm=kd_tree, leaf_size=17, n_neighbors=4, p=1;, score=0.926 total time=   0.0s\n",
      "[CV 1/5] END algorithm=kd_tree, leaf_size=17, n_neighbors=4, p=2;, score=0.926 total time=   0.0s\n",
      "[CV 2/5] END algorithm=kd_tree, leaf_size=17, n_neighbors=4, p=2;, score=0.914 total time=   0.0s\n",
      "[CV 3/5] END algorithm=kd_tree, leaf_size=17, n_neighbors=4, p=2;, score=0.892 total time=   0.0s\n",
      "[CV 4/5] END algorithm=kd_tree, leaf_size=17, n_neighbors=4, p=2;, score=0.910 total time=   0.0s\n",
      "[CV 5/5] END algorithm=kd_tree, leaf_size=17, n_neighbors=4, p=2;, score=0.920 total time=   0.0s\n",
      "[CV 1/5] END algorithm=kd_tree, leaf_size=17, n_neighbors=5, p=1;, score=0.926 total time=   0.0s\n",
      "[CV 2/5] END algorithm=kd_tree, leaf_size=17, n_neighbors=5, p=1;, score=0.901 total time=   0.0s\n",
      "[CV 3/5] END algorithm=kd_tree, leaf_size=17, n_neighbors=5, p=1;, score=0.910 total time=   0.0s\n",
      "[CV 4/5] END algorithm=kd_tree, leaf_size=17, n_neighbors=5, p=1;, score=0.898 total time=   0.0s\n",
      "[CV 5/5] END algorithm=kd_tree, leaf_size=17, n_neighbors=5, p=1;, score=0.926 total time=   0.0s\n",
      "[CV 1/5] END algorithm=kd_tree, leaf_size=17, n_neighbors=5, p=2;, score=0.926 total time=   0.0s\n",
      "[CV 2/5] END algorithm=kd_tree, leaf_size=17, n_neighbors=5, p=2;, score=0.907 total time=   0.0s\n",
      "[CV 3/5] END algorithm=kd_tree, leaf_size=17, n_neighbors=5, p=2;, score=0.892 total time=   0.0s\n",
      "[CV 4/5] END algorithm=kd_tree, leaf_size=17, n_neighbors=5, p=2;, score=0.910 total time=   0.0s\n",
      "[CV 5/5] END algorithm=kd_tree, leaf_size=17, n_neighbors=5, p=2;, score=0.920 total time=   0.0s\n",
      "[CV 1/5] END algorithm=kd_tree, leaf_size=17, n_neighbors=8, p=1;, score=0.892 total time=   0.1s\n",
      "[CV 2/5] END algorithm=kd_tree, leaf_size=17, n_neighbors=8, p=1;, score=0.855 total time=   0.0s\n",
      "[CV 3/5] END algorithm=kd_tree, leaf_size=17, n_neighbors=8, p=1;, score=0.855 total time=   0.0s\n",
      "[CV 4/5] END algorithm=kd_tree, leaf_size=17, n_neighbors=8, p=1;, score=0.861 total time=   0.0s\n",
      "[CV 5/5] END algorithm=kd_tree, leaf_size=17, n_neighbors=8, p=1;, score=0.877 total time=   0.0s\n",
      "[CV 1/5] END algorithm=kd_tree, leaf_size=17, n_neighbors=8, p=2;, score=0.880 total time=   0.0s\n",
      "[CV 2/5] END algorithm=kd_tree, leaf_size=17, n_neighbors=8, p=2;, score=0.877 total time=   0.0s\n",
      "[CV 3/5] END algorithm=kd_tree, leaf_size=17, n_neighbors=8, p=2;, score=0.864 total time=   0.0s\n",
      "[CV 4/5] END algorithm=kd_tree, leaf_size=17, n_neighbors=8, p=2;, score=0.849 total time=   0.0s\n",
      "[CV 5/5] END algorithm=kd_tree, leaf_size=17, n_neighbors=8, p=2;, score=0.877 total time=   0.0s\n",
      "[CV 1/5] END algorithm=kd_tree, leaf_size=17, n_neighbors=10, p=1;, score=0.883 total time=   0.0s\n",
      "[CV 2/5] END algorithm=kd_tree, leaf_size=17, n_neighbors=10, p=1;, score=0.843 total time=   0.0s\n",
      "[CV 3/5] END algorithm=kd_tree, leaf_size=17, n_neighbors=10, p=1;, score=0.836 total time=   0.0s\n",
      "[CV 4/5] END algorithm=kd_tree, leaf_size=17, n_neighbors=10, p=1;, score=0.843 total time=   0.0s\n",
      "[CV 5/5] END algorithm=kd_tree, leaf_size=17, n_neighbors=10, p=1;, score=0.858 total time=   0.0s\n",
      "[CV 1/5] END algorithm=kd_tree, leaf_size=17, n_neighbors=10, p=2;, score=0.858 total time=   0.0s\n",
      "[CV 2/5] END algorithm=kd_tree, leaf_size=17, n_neighbors=10, p=2;, score=0.855 total time=   0.0s\n",
      "[CV 3/5] END algorithm=kd_tree, leaf_size=17, n_neighbors=10, p=2;, score=0.830 total time=   0.0s\n",
      "[CV 4/5] END algorithm=kd_tree, leaf_size=17, n_neighbors=10, p=2;, score=0.840 total time=   0.0s\n",
      "[CV 5/5] END algorithm=kd_tree, leaf_size=17, n_neighbors=10, p=2;, score=0.861 total time=   0.0s\n",
      "[CV 1/5] END algorithm=kd_tree, leaf_size=17, n_neighbors=11, p=1;, score=0.883 total time=   0.0s\n",
      "[CV 2/5] END algorithm=kd_tree, leaf_size=17, n_neighbors=11, p=1;, score=0.843 total time=   0.0s\n",
      "[CV 3/5] END algorithm=kd_tree, leaf_size=17, n_neighbors=11, p=1;, score=0.849 total time=   0.0s\n",
      "[CV 4/5] END algorithm=kd_tree, leaf_size=17, n_neighbors=11, p=1;, score=0.843 total time=   0.0s\n",
      "[CV 5/5] END algorithm=kd_tree, leaf_size=17, n_neighbors=11, p=1;, score=0.858 total time=   0.0s\n",
      "[CV 1/5] END algorithm=kd_tree, leaf_size=17, n_neighbors=11, p=2;, score=0.858 total time=   0.0s\n",
      "[CV 2/5] END algorithm=kd_tree, leaf_size=17, n_neighbors=11, p=2;, score=0.855 total time=   0.0s\n",
      "[CV 3/5] END algorithm=kd_tree, leaf_size=17, n_neighbors=11, p=2;, score=0.830 total time=   0.0s\n",
      "[CV 4/5] END algorithm=kd_tree, leaf_size=17, n_neighbors=11, p=2;, score=0.840 total time=   0.0s\n",
      "[CV 5/5] END algorithm=kd_tree, leaf_size=17, n_neighbors=11, p=2;, score=0.861 total time=   0.0s\n",
      "[CV 1/5] END algorithm=kd_tree, leaf_size=24, n_neighbors=4, p=1;, score=0.923 total time=   0.0s\n",
      "[CV 2/5] END algorithm=kd_tree, leaf_size=24, n_neighbors=4, p=1;, score=0.898 total time=   0.0s\n",
      "[CV 3/5] END algorithm=kd_tree, leaf_size=24, n_neighbors=4, p=1;, score=0.910 total time=   0.0s\n",
      "[CV 4/5] END algorithm=kd_tree, leaf_size=24, n_neighbors=4, p=1;, score=0.910 total time=   0.0s\n",
      "[CV 5/5] END algorithm=kd_tree, leaf_size=24, n_neighbors=4, p=1;, score=0.926 total time=   0.0s\n",
      "[CV 1/5] END algorithm=kd_tree, leaf_size=24, n_neighbors=4, p=2;, score=0.926 total time=   0.0s\n",
      "[CV 2/5] END algorithm=kd_tree, leaf_size=24, n_neighbors=4, p=2;, score=0.914 total time=   0.0s\n",
      "[CV 3/5] END algorithm=kd_tree, leaf_size=24, n_neighbors=4, p=2;, score=0.892 total time=   0.0s\n",
      "[CV 4/5] END algorithm=kd_tree, leaf_size=24, n_neighbors=4, p=2;, score=0.910 total time=   0.0s\n",
      "[CV 5/5] END algorithm=kd_tree, leaf_size=24, n_neighbors=4, p=2;, score=0.920 total time=   0.0s\n",
      "[CV 1/5] END algorithm=kd_tree, leaf_size=24, n_neighbors=5, p=1;, score=0.923 total time=   0.0s\n",
      "[CV 2/5] END algorithm=kd_tree, leaf_size=24, n_neighbors=5, p=1;, score=0.892 total time=   0.0s\n",
      "[CV 3/5] END algorithm=kd_tree, leaf_size=24, n_neighbors=5, p=1;, score=0.910 total time=   0.0s\n",
      "[CV 4/5] END algorithm=kd_tree, leaf_size=24, n_neighbors=5, p=1;, score=0.907 total time=   0.0s\n",
      "[CV 5/5] END algorithm=kd_tree, leaf_size=24, n_neighbors=5, p=1;, score=0.926 total time=   0.0s\n",
      "[CV 1/5] END algorithm=kd_tree, leaf_size=24, n_neighbors=5, p=2;, score=0.926 total time=   0.0s\n",
      "[CV 2/5] END algorithm=kd_tree, leaf_size=24, n_neighbors=5, p=2;, score=0.907 total time=   0.0s\n",
      "[CV 3/5] END algorithm=kd_tree, leaf_size=24, n_neighbors=5, p=2;, score=0.892 total time=   0.0s\n",
      "[CV 4/5] END algorithm=kd_tree, leaf_size=24, n_neighbors=5, p=2;, score=0.910 total time=   0.0s\n",
      "[CV 5/5] END algorithm=kd_tree, leaf_size=24, n_neighbors=5, p=2;, score=0.920 total time=   0.0s\n",
      "[CV 1/5] END algorithm=kd_tree, leaf_size=24, n_neighbors=8, p=1;, score=0.889 total time=   0.0s\n",
      "[CV 2/5] END algorithm=kd_tree, leaf_size=24, n_neighbors=8, p=1;, score=0.855 total time=   0.0s\n"
     ]
    },
    {
     "name": "stdout",
     "output_type": "stream",
     "text": [
      "[CV 3/5] END algorithm=kd_tree, leaf_size=24, n_neighbors=8, p=1;, score=0.858 total time=   0.0s\n",
      "[CV 4/5] END algorithm=kd_tree, leaf_size=24, n_neighbors=8, p=1;, score=0.861 total time=   0.0s\n",
      "[CV 5/5] END algorithm=kd_tree, leaf_size=24, n_neighbors=8, p=1;, score=0.877 total time=   0.0s\n",
      "[CV 1/5] END algorithm=kd_tree, leaf_size=24, n_neighbors=8, p=2;, score=0.880 total time=   0.0s\n",
      "[CV 2/5] END algorithm=kd_tree, leaf_size=24, n_neighbors=8, p=2;, score=0.877 total time=   0.0s\n",
      "[CV 3/5] END algorithm=kd_tree, leaf_size=24, n_neighbors=8, p=2;, score=0.864 total time=   0.0s\n",
      "[CV 4/5] END algorithm=kd_tree, leaf_size=24, n_neighbors=8, p=2;, score=0.849 total time=   0.0s\n",
      "[CV 5/5] END algorithm=kd_tree, leaf_size=24, n_neighbors=8, p=2;, score=0.877 total time=   0.0s\n",
      "[CV 1/5] END algorithm=kd_tree, leaf_size=24, n_neighbors=10, p=1;, score=0.880 total time=   0.0s\n",
      "[CV 2/5] END algorithm=kd_tree, leaf_size=24, n_neighbors=10, p=1;, score=0.840 total time=   0.0s\n",
      "[CV 3/5] END algorithm=kd_tree, leaf_size=24, n_neighbors=10, p=1;, score=0.840 total time=   0.0s\n",
      "[CV 4/5] END algorithm=kd_tree, leaf_size=24, n_neighbors=10, p=1;, score=0.843 total time=   0.0s\n",
      "[CV 5/5] END algorithm=kd_tree, leaf_size=24, n_neighbors=10, p=1;, score=0.858 total time=   0.0s\n",
      "[CV 1/5] END algorithm=kd_tree, leaf_size=24, n_neighbors=10, p=2;, score=0.858 total time=   0.0s\n",
      "[CV 2/5] END algorithm=kd_tree, leaf_size=24, n_neighbors=10, p=2;, score=0.855 total time=   0.0s\n",
      "[CV 3/5] END algorithm=kd_tree, leaf_size=24, n_neighbors=10, p=2;, score=0.830 total time=   0.0s\n",
      "[CV 4/5] END algorithm=kd_tree, leaf_size=24, n_neighbors=10, p=2;, score=0.840 total time=   0.0s\n",
      "[CV 5/5] END algorithm=kd_tree, leaf_size=24, n_neighbors=10, p=2;, score=0.861 total time=   0.0s\n",
      "[CV 1/5] END algorithm=kd_tree, leaf_size=24, n_neighbors=11, p=1;, score=0.880 total time=   0.0s\n",
      "[CV 2/5] END algorithm=kd_tree, leaf_size=24, n_neighbors=11, p=1;, score=0.840 total time=   0.0s\n",
      "[CV 3/5] END algorithm=kd_tree, leaf_size=24, n_neighbors=11, p=1;, score=0.843 total time=   0.0s\n",
      "[CV 4/5] END algorithm=kd_tree, leaf_size=24, n_neighbors=11, p=1;, score=0.840 total time=   0.0s\n",
      "[CV 5/5] END algorithm=kd_tree, leaf_size=24, n_neighbors=11, p=1;, score=0.858 total time=   0.0s\n",
      "[CV 1/5] END algorithm=kd_tree, leaf_size=24, n_neighbors=11, p=2;, score=0.858 total time=   0.0s\n",
      "[CV 2/5] END algorithm=kd_tree, leaf_size=24, n_neighbors=11, p=2;, score=0.855 total time=   0.0s\n",
      "[CV 3/5] END algorithm=kd_tree, leaf_size=24, n_neighbors=11, p=2;, score=0.830 total time=   0.0s\n",
      "[CV 4/5] END algorithm=kd_tree, leaf_size=24, n_neighbors=11, p=2;, score=0.836 total time=   0.0s\n",
      "[CV 5/5] END algorithm=kd_tree, leaf_size=24, n_neighbors=11, p=2;, score=0.861 total time=   0.0s\n",
      "[CV 1/5] END algorithm=kd_tree, leaf_size=28, n_neighbors=4, p=1;, score=0.923 total time=   0.0s\n",
      "[CV 2/5] END algorithm=kd_tree, leaf_size=28, n_neighbors=4, p=1;, score=0.898 total time=   0.0s\n",
      "[CV 3/5] END algorithm=kd_tree, leaf_size=28, n_neighbors=4, p=1;, score=0.910 total time=   0.0s\n",
      "[CV 4/5] END algorithm=kd_tree, leaf_size=28, n_neighbors=4, p=1;, score=0.910 total time=   0.0s\n",
      "[CV 5/5] END algorithm=kd_tree, leaf_size=28, n_neighbors=4, p=1;, score=0.926 total time=   0.0s\n",
      "[CV 1/5] END algorithm=kd_tree, leaf_size=28, n_neighbors=4, p=2;, score=0.926 total time=   0.0s\n",
      "[CV 2/5] END algorithm=kd_tree, leaf_size=28, n_neighbors=4, p=2;, score=0.914 total time=   0.0s\n",
      "[CV 3/5] END algorithm=kd_tree, leaf_size=28, n_neighbors=4, p=2;, score=0.892 total time=   0.0s\n",
      "[CV 4/5] END algorithm=kd_tree, leaf_size=28, n_neighbors=4, p=2;, score=0.910 total time=   0.0s\n",
      "[CV 5/5] END algorithm=kd_tree, leaf_size=28, n_neighbors=4, p=2;, score=0.920 total time=   0.1s\n",
      "[CV 1/5] END algorithm=kd_tree, leaf_size=28, n_neighbors=5, p=1;, score=0.923 total time=   0.1s\n",
      "[CV 2/5] END algorithm=kd_tree, leaf_size=28, n_neighbors=5, p=1;, score=0.892 total time=   0.1s\n",
      "[CV 3/5] END algorithm=kd_tree, leaf_size=28, n_neighbors=5, p=1;, score=0.910 total time=   0.1s\n",
      "[CV 4/5] END algorithm=kd_tree, leaf_size=28, n_neighbors=5, p=1;, score=0.907 total time=   0.0s\n",
      "[CV 5/5] END algorithm=kd_tree, leaf_size=28, n_neighbors=5, p=1;, score=0.926 total time=   0.0s\n",
      "[CV 1/5] END algorithm=kd_tree, leaf_size=28, n_neighbors=5, p=2;, score=0.926 total time=   0.0s\n",
      "[CV 2/5] END algorithm=kd_tree, leaf_size=28, n_neighbors=5, p=2;, score=0.907 total time=   0.0s\n",
      "[CV 3/5] END algorithm=kd_tree, leaf_size=28, n_neighbors=5, p=2;, score=0.892 total time=   0.0s\n",
      "[CV 4/5] END algorithm=kd_tree, leaf_size=28, n_neighbors=5, p=2;, score=0.910 total time=   0.0s\n",
      "[CV 5/5] END algorithm=kd_tree, leaf_size=28, n_neighbors=5, p=2;, score=0.920 total time=   0.0s\n",
      "[CV 1/5] END algorithm=kd_tree, leaf_size=28, n_neighbors=8, p=1;, score=0.889 total time=   0.0s\n",
      "[CV 2/5] END algorithm=kd_tree, leaf_size=28, n_neighbors=8, p=1;, score=0.855 total time=   0.0s\n",
      "[CV 3/5] END algorithm=kd_tree, leaf_size=28, n_neighbors=8, p=1;, score=0.858 total time=   0.0s\n",
      "[CV 4/5] END algorithm=kd_tree, leaf_size=28, n_neighbors=8, p=1;, score=0.861 total time=   0.0s\n",
      "[CV 5/5] END algorithm=kd_tree, leaf_size=28, n_neighbors=8, p=1;, score=0.877 total time=   0.0s\n",
      "[CV 1/5] END algorithm=kd_tree, leaf_size=28, n_neighbors=8, p=2;, score=0.880 total time=   0.0s\n",
      "[CV 2/5] END algorithm=kd_tree, leaf_size=28, n_neighbors=8, p=2;, score=0.877 total time=   0.0s\n",
      "[CV 3/5] END algorithm=kd_tree, leaf_size=28, n_neighbors=8, p=2;, score=0.864 total time=   0.0s\n",
      "[CV 4/5] END algorithm=kd_tree, leaf_size=28, n_neighbors=8, p=2;, score=0.849 total time=   0.0s\n",
      "[CV 5/5] END algorithm=kd_tree, leaf_size=28, n_neighbors=8, p=2;, score=0.877 total time=   0.0s\n",
      "[CV 1/5] END algorithm=kd_tree, leaf_size=28, n_neighbors=10, p=1;, score=0.880 total time=   0.0s\n",
      "[CV 2/5] END algorithm=kd_tree, leaf_size=28, n_neighbors=10, p=1;, score=0.840 total time=   0.0s\n",
      "[CV 3/5] END algorithm=kd_tree, leaf_size=28, n_neighbors=10, p=1;, score=0.840 total time=   0.0s\n",
      "[CV 4/5] END algorithm=kd_tree, leaf_size=28, n_neighbors=10, p=1;, score=0.843 total time=   0.0s\n",
      "[CV 5/5] END algorithm=kd_tree, leaf_size=28, n_neighbors=10, p=1;, score=0.858 total time=   0.0s\n",
      "[CV 1/5] END algorithm=kd_tree, leaf_size=28, n_neighbors=10, p=2;, score=0.858 total time=   0.0s\n",
      "[CV 2/5] END algorithm=kd_tree, leaf_size=28, n_neighbors=10, p=2;, score=0.855 total time=   0.0s\n",
      "[CV 3/5] END algorithm=kd_tree, leaf_size=28, n_neighbors=10, p=2;, score=0.830 total time=   0.0s\n",
      "[CV 4/5] END algorithm=kd_tree, leaf_size=28, n_neighbors=10, p=2;, score=0.840 total time=   0.0s\n",
      "[CV 5/5] END algorithm=kd_tree, leaf_size=28, n_neighbors=10, p=2;, score=0.861 total time=   0.0s\n",
      "[CV 1/5] END algorithm=kd_tree, leaf_size=28, n_neighbors=11, p=1;, score=0.880 total time=   0.0s\n",
      "[CV 2/5] END algorithm=kd_tree, leaf_size=28, n_neighbors=11, p=1;, score=0.840 total time=   0.0s\n",
      "[CV 3/5] END algorithm=kd_tree, leaf_size=28, n_neighbors=11, p=1;, score=0.843 total time=   0.0s\n",
      "[CV 4/5] END algorithm=kd_tree, leaf_size=28, n_neighbors=11, p=1;, score=0.840 total time=   0.0s\n",
      "[CV 5/5] END algorithm=kd_tree, leaf_size=28, n_neighbors=11, p=1;, score=0.858 total time=   0.0s\n",
      "[CV 1/5] END algorithm=kd_tree, leaf_size=28, n_neighbors=11, p=2;, score=0.858 total time=   0.0s\n",
      "[CV 2/5] END algorithm=kd_tree, leaf_size=28, n_neighbors=11, p=2;, score=0.855 total time=   0.0s\n",
      "[CV 3/5] END algorithm=kd_tree, leaf_size=28, n_neighbors=11, p=2;, score=0.830 total time=   0.0s\n",
      "[CV 4/5] END algorithm=kd_tree, leaf_size=28, n_neighbors=11, p=2;, score=0.836 total time=   0.0s\n",
      "[CV 5/5] END algorithm=kd_tree, leaf_size=28, n_neighbors=11, p=2;, score=0.861 total time=   0.1s\n",
      "[CV 1/5] END algorithm=kd_tree, leaf_size=30, n_neighbors=4, p=1;, score=0.923 total time=   0.1s\n",
      "[CV 2/5] END algorithm=kd_tree, leaf_size=30, n_neighbors=4, p=1;, score=0.898 total time=   0.1s\n",
      "[CV 3/5] END algorithm=kd_tree, leaf_size=30, n_neighbors=4, p=1;, score=0.910 total time=   0.1s\n",
      "[CV 4/5] END algorithm=kd_tree, leaf_size=30, n_neighbors=4, p=1;, score=0.910 total time=   0.1s\n",
      "[CV 5/5] END algorithm=kd_tree, leaf_size=30, n_neighbors=4, p=1;, score=0.926 total time=   0.0s\n",
      "[CV 1/5] END algorithm=kd_tree, leaf_size=30, n_neighbors=4, p=2;, score=0.926 total time=   0.0s\n",
      "[CV 2/5] END algorithm=kd_tree, leaf_size=30, n_neighbors=4, p=2;, score=0.914 total time=   0.0s\n",
      "[CV 3/5] END algorithm=kd_tree, leaf_size=30, n_neighbors=4, p=2;, score=0.892 total time=   0.0s\n",
      "[CV 4/5] END algorithm=kd_tree, leaf_size=30, n_neighbors=4, p=2;, score=0.910 total time=   0.0s\n"
     ]
    },
    {
     "name": "stdout",
     "output_type": "stream",
     "text": [
      "[CV 5/5] END algorithm=kd_tree, leaf_size=30, n_neighbors=4, p=2;, score=0.920 total time=   0.0s\n",
      "[CV 1/5] END algorithm=kd_tree, leaf_size=30, n_neighbors=5, p=1;, score=0.923 total time=   0.0s\n",
      "[CV 2/5] END algorithm=kd_tree, leaf_size=30, n_neighbors=5, p=1;, score=0.892 total time=   0.0s\n",
      "[CV 3/5] END algorithm=kd_tree, leaf_size=30, n_neighbors=5, p=1;, score=0.910 total time=   0.0s\n",
      "[CV 4/5] END algorithm=kd_tree, leaf_size=30, n_neighbors=5, p=1;, score=0.907 total time=   0.0s\n",
      "[CV 5/5] END algorithm=kd_tree, leaf_size=30, n_neighbors=5, p=1;, score=0.926 total time=   0.0s\n",
      "[CV 1/5] END algorithm=kd_tree, leaf_size=30, n_neighbors=5, p=2;, score=0.926 total time=   0.0s\n",
      "[CV 2/5] END algorithm=kd_tree, leaf_size=30, n_neighbors=5, p=2;, score=0.907 total time=   0.0s\n",
      "[CV 3/5] END algorithm=kd_tree, leaf_size=30, n_neighbors=5, p=2;, score=0.892 total time=   0.0s\n",
      "[CV 4/5] END algorithm=kd_tree, leaf_size=30, n_neighbors=5, p=2;, score=0.910 total time=   0.0s\n",
      "[CV 5/5] END algorithm=kd_tree, leaf_size=30, n_neighbors=5, p=2;, score=0.920 total time=   0.0s\n",
      "[CV 1/5] END algorithm=kd_tree, leaf_size=30, n_neighbors=8, p=1;, score=0.889 total time=   0.0s\n",
      "[CV 2/5] END algorithm=kd_tree, leaf_size=30, n_neighbors=8, p=1;, score=0.855 total time=   0.0s\n",
      "[CV 3/5] END algorithm=kd_tree, leaf_size=30, n_neighbors=8, p=1;, score=0.858 total time=   0.0s\n",
      "[CV 4/5] END algorithm=kd_tree, leaf_size=30, n_neighbors=8, p=1;, score=0.861 total time=   0.0s\n",
      "[CV 5/5] END algorithm=kd_tree, leaf_size=30, n_neighbors=8, p=1;, score=0.877 total time=   0.0s\n",
      "[CV 1/5] END algorithm=kd_tree, leaf_size=30, n_neighbors=8, p=2;, score=0.880 total time=   0.0s\n",
      "[CV 2/5] END algorithm=kd_tree, leaf_size=30, n_neighbors=8, p=2;, score=0.877 total time=   0.0s\n",
      "[CV 3/5] END algorithm=kd_tree, leaf_size=30, n_neighbors=8, p=2;, score=0.864 total time=   0.0s\n",
      "[CV 4/5] END algorithm=kd_tree, leaf_size=30, n_neighbors=8, p=2;, score=0.849 total time=   0.0s\n",
      "[CV 5/5] END algorithm=kd_tree, leaf_size=30, n_neighbors=8, p=2;, score=0.877 total time=   0.0s\n",
      "[CV 1/5] END algorithm=kd_tree, leaf_size=30, n_neighbors=10, p=1;, score=0.880 total time=   0.0s\n",
      "[CV 2/5] END algorithm=kd_tree, leaf_size=30, n_neighbors=10, p=1;, score=0.840 total time=   0.0s\n",
      "[CV 3/5] END algorithm=kd_tree, leaf_size=30, n_neighbors=10, p=1;, score=0.840 total time=   0.0s\n",
      "[CV 4/5] END algorithm=kd_tree, leaf_size=30, n_neighbors=10, p=1;, score=0.843 total time=   0.0s\n",
      "[CV 5/5] END algorithm=kd_tree, leaf_size=30, n_neighbors=10, p=1;, score=0.858 total time=   0.0s\n",
      "[CV 1/5] END algorithm=kd_tree, leaf_size=30, n_neighbors=10, p=2;, score=0.858 total time=   0.0s\n",
      "[CV 2/5] END algorithm=kd_tree, leaf_size=30, n_neighbors=10, p=2;, score=0.855 total time=   0.0s\n",
      "[CV 3/5] END algorithm=kd_tree, leaf_size=30, n_neighbors=10, p=2;, score=0.830 total time=   0.0s\n",
      "[CV 4/5] END algorithm=kd_tree, leaf_size=30, n_neighbors=10, p=2;, score=0.840 total time=   0.0s\n",
      "[CV 5/5] END algorithm=kd_tree, leaf_size=30, n_neighbors=10, p=2;, score=0.861 total time=   0.0s\n",
      "[CV 1/5] END algorithm=kd_tree, leaf_size=30, n_neighbors=11, p=1;, score=0.880 total time=   0.0s\n",
      "[CV 2/5] END algorithm=kd_tree, leaf_size=30, n_neighbors=11, p=1;, score=0.840 total time=   0.0s\n",
      "[CV 3/5] END algorithm=kd_tree, leaf_size=30, n_neighbors=11, p=1;, score=0.843 total time=   0.0s\n",
      "[CV 4/5] END algorithm=kd_tree, leaf_size=30, n_neighbors=11, p=1;, score=0.840 total time=   0.0s\n",
      "[CV 5/5] END algorithm=kd_tree, leaf_size=30, n_neighbors=11, p=1;, score=0.858 total time=   0.0s\n",
      "[CV 1/5] END algorithm=kd_tree, leaf_size=30, n_neighbors=11, p=2;, score=0.858 total time=   0.0s\n",
      "[CV 2/5] END algorithm=kd_tree, leaf_size=30, n_neighbors=11, p=2;, score=0.855 total time=   0.0s\n",
      "[CV 3/5] END algorithm=kd_tree, leaf_size=30, n_neighbors=11, p=2;, score=0.830 total time=   0.0s\n",
      "[CV 4/5] END algorithm=kd_tree, leaf_size=30, n_neighbors=11, p=2;, score=0.836 total time=   0.0s\n",
      "[CV 5/5] END algorithm=kd_tree, leaf_size=30, n_neighbors=11, p=2;, score=0.861 total time=   0.0s\n",
      "[CV 1/5] END algorithm=kd_tree, leaf_size=35, n_neighbors=4, p=1;, score=0.923 total time=   0.0s\n",
      "[CV 2/5] END algorithm=kd_tree, leaf_size=35, n_neighbors=4, p=1;, score=0.898 total time=   0.0s\n",
      "[CV 3/5] END algorithm=kd_tree, leaf_size=35, n_neighbors=4, p=1;, score=0.910 total time=   0.0s\n",
      "[CV 4/5] END algorithm=kd_tree, leaf_size=35, n_neighbors=4, p=1;, score=0.910 total time=   0.0s\n",
      "[CV 5/5] END algorithm=kd_tree, leaf_size=35, n_neighbors=4, p=1;, score=0.926 total time=   0.0s\n",
      "[CV 1/5] END algorithm=kd_tree, leaf_size=35, n_neighbors=4, p=2;, score=0.926 total time=   0.0s\n",
      "[CV 2/5] END algorithm=kd_tree, leaf_size=35, n_neighbors=4, p=2;, score=0.914 total time=   0.0s\n",
      "[CV 3/5] END algorithm=kd_tree, leaf_size=35, n_neighbors=4, p=2;, score=0.892 total time=   0.0s\n",
      "[CV 4/5] END algorithm=kd_tree, leaf_size=35, n_neighbors=4, p=2;, score=0.910 total time=   0.0s\n",
      "[CV 5/5] END algorithm=kd_tree, leaf_size=35, n_neighbors=4, p=2;, score=0.920 total time=   0.0s\n",
      "[CV 1/5] END algorithm=kd_tree, leaf_size=35, n_neighbors=5, p=1;, score=0.923 total time=   0.0s\n",
      "[CV 2/5] END algorithm=kd_tree, leaf_size=35, n_neighbors=5, p=1;, score=0.892 total time=   0.0s\n",
      "[CV 3/5] END algorithm=kd_tree, leaf_size=35, n_neighbors=5, p=1;, score=0.910 total time=   0.0s\n",
      "[CV 4/5] END algorithm=kd_tree, leaf_size=35, n_neighbors=5, p=1;, score=0.907 total time=   0.0s\n",
      "[CV 5/5] END algorithm=kd_tree, leaf_size=35, n_neighbors=5, p=1;, score=0.926 total time=   0.0s\n",
      "[CV 1/5] END algorithm=kd_tree, leaf_size=35, n_neighbors=5, p=2;, score=0.926 total time=   0.0s\n",
      "[CV 2/5] END algorithm=kd_tree, leaf_size=35, n_neighbors=5, p=2;, score=0.907 total time=   0.0s\n",
      "[CV 3/5] END algorithm=kd_tree, leaf_size=35, n_neighbors=5, p=2;, score=0.892 total time=   0.0s\n",
      "[CV 4/5] END algorithm=kd_tree, leaf_size=35, n_neighbors=5, p=2;, score=0.910 total time=   0.0s\n",
      "[CV 5/5] END algorithm=kd_tree, leaf_size=35, n_neighbors=5, p=2;, score=0.920 total time=   0.0s\n",
      "[CV 1/5] END algorithm=kd_tree, leaf_size=35, n_neighbors=8, p=1;, score=0.889 total time=   0.0s\n",
      "[CV 2/5] END algorithm=kd_tree, leaf_size=35, n_neighbors=8, p=1;, score=0.855 total time=   0.0s\n",
      "[CV 3/5] END algorithm=kd_tree, leaf_size=35, n_neighbors=8, p=1;, score=0.858 total time=   0.0s\n",
      "[CV 4/5] END algorithm=kd_tree, leaf_size=35, n_neighbors=8, p=1;, score=0.861 total time=   0.0s\n",
      "[CV 5/5] END algorithm=kd_tree, leaf_size=35, n_neighbors=8, p=1;, score=0.877 total time=   0.0s\n",
      "[CV 1/5] END algorithm=kd_tree, leaf_size=35, n_neighbors=8, p=2;, score=0.880 total time=   0.0s\n",
      "[CV 2/5] END algorithm=kd_tree, leaf_size=35, n_neighbors=8, p=2;, score=0.877 total time=   0.0s\n",
      "[CV 3/5] END algorithm=kd_tree, leaf_size=35, n_neighbors=8, p=2;, score=0.864 total time=   0.0s\n",
      "[CV 4/5] END algorithm=kd_tree, leaf_size=35, n_neighbors=8, p=2;, score=0.849 total time=   0.0s\n",
      "[CV 5/5] END algorithm=kd_tree, leaf_size=35, n_neighbors=8, p=2;, score=0.877 total time=   0.0s\n",
      "[CV 1/5] END algorithm=kd_tree, leaf_size=35, n_neighbors=10, p=1;, score=0.880 total time=   0.0s\n",
      "[CV 2/5] END algorithm=kd_tree, leaf_size=35, n_neighbors=10, p=1;, score=0.840 total time=   0.0s\n",
      "[CV 3/5] END algorithm=kd_tree, leaf_size=35, n_neighbors=10, p=1;, score=0.840 total time=   0.0s\n",
      "[CV 4/5] END algorithm=kd_tree, leaf_size=35, n_neighbors=10, p=1;, score=0.843 total time=   0.0s\n",
      "[CV 5/5] END algorithm=kd_tree, leaf_size=35, n_neighbors=10, p=1;, score=0.858 total time=   0.0s\n",
      "[CV 1/5] END algorithm=kd_tree, leaf_size=35, n_neighbors=10, p=2;, score=0.858 total time=   0.0s\n",
      "[CV 2/5] END algorithm=kd_tree, leaf_size=35, n_neighbors=10, p=2;, score=0.855 total time=   0.0s\n",
      "[CV 3/5] END algorithm=kd_tree, leaf_size=35, n_neighbors=10, p=2;, score=0.830 total time=   0.0s\n",
      "[CV 4/5] END algorithm=kd_tree, leaf_size=35, n_neighbors=10, p=2;, score=0.840 total time=   0.0s\n",
      "[CV 5/5] END algorithm=kd_tree, leaf_size=35, n_neighbors=10, p=2;, score=0.861 total time=   0.0s\n",
      "[CV 1/5] END algorithm=kd_tree, leaf_size=35, n_neighbors=11, p=1;, score=0.880 total time=   0.0s\n",
      "[CV 2/5] END algorithm=kd_tree, leaf_size=35, n_neighbors=11, p=1;, score=0.840 total time=   0.0s\n",
      "[CV 3/5] END algorithm=kd_tree, leaf_size=35, n_neighbors=11, p=1;, score=0.843 total time=   0.1s\n",
      "[CV 4/5] END algorithm=kd_tree, leaf_size=35, n_neighbors=11, p=1;, score=0.840 total time=   0.0s\n",
      "[CV 5/5] END algorithm=kd_tree, leaf_size=35, n_neighbors=11, p=1;, score=0.858 total time=   0.0s\n",
      "[CV 1/5] END algorithm=kd_tree, leaf_size=35, n_neighbors=11, p=2;, score=0.858 total time=   0.0s\n"
     ]
    },
    {
     "name": "stdout",
     "output_type": "stream",
     "text": [
      "[CV 2/5] END algorithm=kd_tree, leaf_size=35, n_neighbors=11, p=2;, score=0.855 total time=   0.0s\n",
      "[CV 3/5] END algorithm=kd_tree, leaf_size=35, n_neighbors=11, p=2;, score=0.830 total time=   0.1s\n",
      "[CV 4/5] END algorithm=kd_tree, leaf_size=35, n_neighbors=11, p=2;, score=0.836 total time=   0.1s\n",
      "[CV 5/5] END algorithm=kd_tree, leaf_size=35, n_neighbors=11, p=2;, score=0.861 total time=   0.1s\n",
      "[CV 1/5] END algorithm=brute, leaf_size=10, n_neighbors=4, p=1;, score=0.923 total time=   0.0s\n",
      "[CV 2/5] END algorithm=brute, leaf_size=10, n_neighbors=4, p=1;, score=0.892 total time=   0.0s\n",
      "[CV 3/5] END algorithm=brute, leaf_size=10, n_neighbors=4, p=1;, score=0.904 total time=   0.1s\n",
      "[CV 4/5] END algorithm=brute, leaf_size=10, n_neighbors=4, p=1;, score=0.901 total time=   0.0s\n",
      "[CV 5/5] END algorithm=brute, leaf_size=10, n_neighbors=4, p=1;, score=0.923 total time=   0.0s\n",
      "[CV 1/5] END algorithm=brute, leaf_size=10, n_neighbors=4, p=2;, score=0.926 total time=   0.0s\n",
      "[CV 2/5] END algorithm=brute, leaf_size=10, n_neighbors=4, p=2;, score=0.914 total time=   0.0s\n",
      "[CV 3/5] END algorithm=brute, leaf_size=10, n_neighbors=4, p=2;, score=0.892 total time=   0.0s\n",
      "[CV 4/5] END algorithm=brute, leaf_size=10, n_neighbors=4, p=2;, score=0.910 total time=   0.0s\n",
      "[CV 5/5] END algorithm=brute, leaf_size=10, n_neighbors=4, p=2;, score=0.920 total time=   0.0s\n",
      "[CV 1/5] END algorithm=brute, leaf_size=10, n_neighbors=5, p=1;, score=0.923 total time=   0.0s\n",
      "[CV 2/5] END algorithm=brute, leaf_size=10, n_neighbors=5, p=1;, score=0.886 total time=   0.0s\n",
      "[CV 3/5] END algorithm=brute, leaf_size=10, n_neighbors=5, p=1;, score=0.904 total time=   0.0s\n",
      "[CV 4/5] END algorithm=brute, leaf_size=10, n_neighbors=5, p=1;, score=0.910 total time=   0.0s\n",
      "[CV 5/5] END algorithm=brute, leaf_size=10, n_neighbors=5, p=1;, score=0.920 total time=   0.0s\n",
      "[CV 1/5] END algorithm=brute, leaf_size=10, n_neighbors=5, p=2;, score=0.926 total time=   0.0s\n",
      "[CV 2/5] END algorithm=brute, leaf_size=10, n_neighbors=5, p=2;, score=0.910 total time=   0.0s\n",
      "[CV 3/5] END algorithm=brute, leaf_size=10, n_neighbors=5, p=2;, score=0.892 total time=   0.0s\n",
      "[CV 4/5] END algorithm=brute, leaf_size=10, n_neighbors=5, p=2;, score=0.910 total time=   0.0s\n",
      "[CV 5/5] END algorithm=brute, leaf_size=10, n_neighbors=5, p=2;, score=0.920 total time=   0.0s\n",
      "[CV 1/5] END algorithm=brute, leaf_size=10, n_neighbors=8, p=1;, score=0.886 total time=   0.0s\n",
      "[CV 2/5] END algorithm=brute, leaf_size=10, n_neighbors=8, p=1;, score=0.855 total time=   0.0s\n",
      "[CV 3/5] END algorithm=brute, leaf_size=10, n_neighbors=8, p=1;, score=0.873 total time=   0.0s\n",
      "[CV 4/5] END algorithm=brute, leaf_size=10, n_neighbors=8, p=1;, score=0.849 total time=   0.0s\n",
      "[CV 5/5] END algorithm=brute, leaf_size=10, n_neighbors=8, p=1;, score=0.877 total time=   0.0s\n",
      "[CV 1/5] END algorithm=brute, leaf_size=10, n_neighbors=8, p=2;, score=0.880 total time=   0.0s\n",
      "[CV 2/5] END algorithm=brute, leaf_size=10, n_neighbors=8, p=2;, score=0.877 total time=   0.0s\n",
      "[CV 3/5] END algorithm=brute, leaf_size=10, n_neighbors=8, p=2;, score=0.861 total time=   0.0s\n",
      "[CV 4/5] END algorithm=brute, leaf_size=10, n_neighbors=8, p=2;, score=0.849 total time=   0.0s\n",
      "[CV 5/5] END algorithm=brute, leaf_size=10, n_neighbors=8, p=2;, score=0.877 total time=   0.0s\n",
      "[CV 1/5] END algorithm=brute, leaf_size=10, n_neighbors=10, p=1;, score=0.880 total time=   0.1s\n",
      "[CV 2/5] END algorithm=brute, leaf_size=10, n_neighbors=10, p=1;, score=0.833 total time=   0.1s\n",
      "[CV 3/5] END algorithm=brute, leaf_size=10, n_neighbors=10, p=1;, score=0.840 total time=   0.0s\n",
      "[CV 4/5] END algorithm=brute, leaf_size=10, n_neighbors=10, p=1;, score=0.846 total time=   0.0s\n",
      "[CV 5/5] END algorithm=brute, leaf_size=10, n_neighbors=10, p=1;, score=0.861 total time=   0.0s\n",
      "[CV 1/5] END algorithm=brute, leaf_size=10, n_neighbors=10, p=2;, score=0.858 total time=   0.0s\n",
      "[CV 2/5] END algorithm=brute, leaf_size=10, n_neighbors=10, p=2;, score=0.855 total time=   0.0s\n",
      "[CV 3/5] END algorithm=brute, leaf_size=10, n_neighbors=10, p=2;, score=0.830 total time=   0.0s\n",
      "[CV 4/5] END algorithm=brute, leaf_size=10, n_neighbors=10, p=2;, score=0.840 total time=   0.0s\n",
      "[CV 5/5] END algorithm=brute, leaf_size=10, n_neighbors=10, p=2;, score=0.861 total time=   0.0s\n",
      "[CV 1/5] END algorithm=brute, leaf_size=10, n_neighbors=11, p=1;, score=0.880 total time=   0.0s\n",
      "[CV 2/5] END algorithm=brute, leaf_size=10, n_neighbors=11, p=1;, score=0.833 total time=   0.0s\n",
      "[CV 3/5] END algorithm=brute, leaf_size=10, n_neighbors=11, p=1;, score=0.846 total time=   0.0s\n",
      "[CV 4/5] END algorithm=brute, leaf_size=10, n_neighbors=11, p=1;, score=0.840 total time=   0.0s\n",
      "[CV 5/5] END algorithm=brute, leaf_size=10, n_neighbors=11, p=1;, score=0.861 total time=   0.0s\n",
      "[CV 1/5] END algorithm=brute, leaf_size=10, n_neighbors=11, p=2;, score=0.858 total time=   0.0s\n",
      "[CV 2/5] END algorithm=brute, leaf_size=10, n_neighbors=11, p=2;, score=0.855 total time=   0.0s\n",
      "[CV 3/5] END algorithm=brute, leaf_size=10, n_neighbors=11, p=2;, score=0.830 total time=   0.0s\n",
      "[CV 4/5] END algorithm=brute, leaf_size=10, n_neighbors=11, p=2;, score=0.833 total time=   0.0s\n",
      "[CV 5/5] END algorithm=brute, leaf_size=10, n_neighbors=11, p=2;, score=0.861 total time=   0.0s\n",
      "[CV 1/5] END algorithm=brute, leaf_size=17, n_neighbors=4, p=1;, score=0.923 total time=   0.0s\n",
      "[CV 2/5] END algorithm=brute, leaf_size=17, n_neighbors=4, p=1;, score=0.892 total time=   0.0s\n",
      "[CV 3/5] END algorithm=brute, leaf_size=17, n_neighbors=4, p=1;, score=0.904 total time=   0.0s\n",
      "[CV 4/5] END algorithm=brute, leaf_size=17, n_neighbors=4, p=1;, score=0.901 total time=   0.0s\n",
      "[CV 5/5] END algorithm=brute, leaf_size=17, n_neighbors=4, p=1;, score=0.923 total time=   0.0s\n",
      "[CV 1/5] END algorithm=brute, leaf_size=17, n_neighbors=4, p=2;, score=0.926 total time=   0.0s\n",
      "[CV 2/5] END algorithm=brute, leaf_size=17, n_neighbors=4, p=2;, score=0.914 total time=   0.0s\n",
      "[CV 3/5] END algorithm=brute, leaf_size=17, n_neighbors=4, p=2;, score=0.892 total time=   0.0s\n",
      "[CV 4/5] END algorithm=brute, leaf_size=17, n_neighbors=4, p=2;, score=0.910 total time=   0.0s\n",
      "[CV 5/5] END algorithm=brute, leaf_size=17, n_neighbors=4, p=2;, score=0.920 total time=   0.0s\n",
      "[CV 1/5] END algorithm=brute, leaf_size=17, n_neighbors=5, p=1;, score=0.923 total time=   0.0s\n",
      "[CV 2/5] END algorithm=brute, leaf_size=17, n_neighbors=5, p=1;, score=0.886 total time=   0.0s\n",
      "[CV 3/5] END algorithm=brute, leaf_size=17, n_neighbors=5, p=1;, score=0.904 total time=   0.0s\n",
      "[CV 4/5] END algorithm=brute, leaf_size=17, n_neighbors=5, p=1;, score=0.910 total time=   0.0s\n",
      "[CV 5/5] END algorithm=brute, leaf_size=17, n_neighbors=5, p=1;, score=0.920 total time=   0.0s\n",
      "[CV 1/5] END algorithm=brute, leaf_size=17, n_neighbors=5, p=2;, score=0.926 total time=   0.0s\n",
      "[CV 2/5] END algorithm=brute, leaf_size=17, n_neighbors=5, p=2;, score=0.910 total time=   0.0s\n",
      "[CV 3/5] END algorithm=brute, leaf_size=17, n_neighbors=5, p=2;, score=0.892 total time=   0.0s\n",
      "[CV 4/5] END algorithm=brute, leaf_size=17, n_neighbors=5, p=2;, score=0.910 total time=   0.0s\n",
      "[CV 5/5] END algorithm=brute, leaf_size=17, n_neighbors=5, p=2;, score=0.920 total time=   0.0s\n",
      "[CV 1/5] END algorithm=brute, leaf_size=17, n_neighbors=8, p=1;, score=0.886 total time=   0.0s\n",
      "[CV 2/5] END algorithm=brute, leaf_size=17, n_neighbors=8, p=1;, score=0.855 total time=   0.0s\n",
      "[CV 3/5] END algorithm=brute, leaf_size=17, n_neighbors=8, p=1;, score=0.873 total time=   0.0s\n",
      "[CV 4/5] END algorithm=brute, leaf_size=17, n_neighbors=8, p=1;, score=0.849 total time=   0.0s\n",
      "[CV 5/5] END algorithm=brute, leaf_size=17, n_neighbors=8, p=1;, score=0.877 total time=   0.0s\n",
      "[CV 1/5] END algorithm=brute, leaf_size=17, n_neighbors=8, p=2;, score=0.880 total time=   0.0s\n",
      "[CV 2/5] END algorithm=brute, leaf_size=17, n_neighbors=8, p=2;, score=0.877 total time=   0.0s\n",
      "[CV 3/5] END algorithm=brute, leaf_size=17, n_neighbors=8, p=2;, score=0.861 total time=   0.0s\n",
      "[CV 4/5] END algorithm=brute, leaf_size=17, n_neighbors=8, p=2;, score=0.849 total time=   0.0s\n",
      "[CV 5/5] END algorithm=brute, leaf_size=17, n_neighbors=8, p=2;, score=0.877 total time=   0.0s\n",
      "[CV 1/5] END algorithm=brute, leaf_size=17, n_neighbors=10, p=1;, score=0.880 total time=   0.0s\n"
     ]
    },
    {
     "name": "stdout",
     "output_type": "stream",
     "text": [
      "[CV 2/5] END algorithm=brute, leaf_size=17, n_neighbors=10, p=1;, score=0.833 total time=   0.0s\n",
      "[CV 3/5] END algorithm=brute, leaf_size=17, n_neighbors=10, p=1;, score=0.840 total time=   0.0s\n",
      "[CV 4/5] END algorithm=brute, leaf_size=17, n_neighbors=10, p=1;, score=0.846 total time=   0.0s\n",
      "[CV 5/5] END algorithm=brute, leaf_size=17, n_neighbors=10, p=1;, score=0.861 total time=   0.0s\n",
      "[CV 1/5] END algorithm=brute, leaf_size=17, n_neighbors=10, p=2;, score=0.858 total time=   0.0s\n",
      "[CV 2/5] END algorithm=brute, leaf_size=17, n_neighbors=10, p=2;, score=0.855 total time=   0.0s\n",
      "[CV 3/5] END algorithm=brute, leaf_size=17, n_neighbors=10, p=2;, score=0.830 total time=   0.0s\n",
      "[CV 4/5] END algorithm=brute, leaf_size=17, n_neighbors=10, p=2;, score=0.840 total time=   0.0s\n",
      "[CV 5/5] END algorithm=brute, leaf_size=17, n_neighbors=10, p=2;, score=0.861 total time=   0.0s\n",
      "[CV 1/5] END algorithm=brute, leaf_size=17, n_neighbors=11, p=1;, score=0.880 total time=   0.0s\n",
      "[CV 2/5] END algorithm=brute, leaf_size=17, n_neighbors=11, p=1;, score=0.833 total time=   0.0s\n",
      "[CV 3/5] END algorithm=brute, leaf_size=17, n_neighbors=11, p=1;, score=0.846 total time=   0.0s\n",
      "[CV 4/5] END algorithm=brute, leaf_size=17, n_neighbors=11, p=1;, score=0.840 total time=   0.0s\n",
      "[CV 5/5] END algorithm=brute, leaf_size=17, n_neighbors=11, p=1;, score=0.861 total time=   0.0s\n",
      "[CV 1/5] END algorithm=brute, leaf_size=17, n_neighbors=11, p=2;, score=0.858 total time=   0.0s\n",
      "[CV 2/5] END algorithm=brute, leaf_size=17, n_neighbors=11, p=2;, score=0.855 total time=   0.0s\n",
      "[CV 3/5] END algorithm=brute, leaf_size=17, n_neighbors=11, p=2;, score=0.830 total time=   0.0s\n",
      "[CV 4/5] END algorithm=brute, leaf_size=17, n_neighbors=11, p=2;, score=0.833 total time=   0.0s\n",
      "[CV 5/5] END algorithm=brute, leaf_size=17, n_neighbors=11, p=2;, score=0.861 total time=   0.0s\n",
      "[CV 1/5] END algorithm=brute, leaf_size=24, n_neighbors=4, p=1;, score=0.923 total time=   0.0s\n",
      "[CV 2/5] END algorithm=brute, leaf_size=24, n_neighbors=4, p=1;, score=0.892 total time=   0.0s\n",
      "[CV 3/5] END algorithm=brute, leaf_size=24, n_neighbors=4, p=1;, score=0.904 total time=   0.0s\n",
      "[CV 4/5] END algorithm=brute, leaf_size=24, n_neighbors=4, p=1;, score=0.901 total time=   0.0s\n",
      "[CV 5/5] END algorithm=brute, leaf_size=24, n_neighbors=4, p=1;, score=0.923 total time=   0.0s\n",
      "[CV 1/5] END algorithm=brute, leaf_size=24, n_neighbors=4, p=2;, score=0.926 total time=   0.0s\n",
      "[CV 2/5] END algorithm=brute, leaf_size=24, n_neighbors=4, p=2;, score=0.914 total time=   0.0s\n",
      "[CV 3/5] END algorithm=brute, leaf_size=24, n_neighbors=4, p=2;, score=0.892 total time=   0.0s\n",
      "[CV 4/5] END algorithm=brute, leaf_size=24, n_neighbors=4, p=2;, score=0.910 total time=   0.0s\n",
      "[CV 5/5] END algorithm=brute, leaf_size=24, n_neighbors=4, p=2;, score=0.920 total time=   0.0s\n",
      "[CV 1/5] END algorithm=brute, leaf_size=24, n_neighbors=5, p=1;, score=0.923 total time=   0.0s\n",
      "[CV 2/5] END algorithm=brute, leaf_size=24, n_neighbors=5, p=1;, score=0.886 total time=   0.1s\n",
      "[CV 3/5] END algorithm=brute, leaf_size=24, n_neighbors=5, p=1;, score=0.904 total time=   0.0s\n",
      "[CV 4/5] END algorithm=brute, leaf_size=24, n_neighbors=5, p=1;, score=0.910 total time=   0.0s\n",
      "[CV 5/5] END algorithm=brute, leaf_size=24, n_neighbors=5, p=1;, score=0.920 total time=   0.0s\n",
      "[CV 1/5] END algorithm=brute, leaf_size=24, n_neighbors=5, p=2;, score=0.926 total time=   0.0s\n",
      "[CV 2/5] END algorithm=brute, leaf_size=24, n_neighbors=5, p=2;, score=0.910 total time=   0.0s\n",
      "[CV 3/5] END algorithm=brute, leaf_size=24, n_neighbors=5, p=2;, score=0.892 total time=   0.0s\n",
      "[CV 4/5] END algorithm=brute, leaf_size=24, n_neighbors=5, p=2;, score=0.910 total time=   0.0s\n",
      "[CV 5/5] END algorithm=brute, leaf_size=24, n_neighbors=5, p=2;, score=0.920 total time=   0.0s\n",
      "[CV 1/5] END algorithm=brute, leaf_size=24, n_neighbors=8, p=1;, score=0.886 total time=   0.0s\n",
      "[CV 2/5] END algorithm=brute, leaf_size=24, n_neighbors=8, p=1;, score=0.855 total time=   0.0s\n",
      "[CV 3/5] END algorithm=brute, leaf_size=24, n_neighbors=8, p=1;, score=0.873 total time=   0.0s\n",
      "[CV 4/5] END algorithm=brute, leaf_size=24, n_neighbors=8, p=1;, score=0.849 total time=   0.0s\n",
      "[CV 5/5] END algorithm=brute, leaf_size=24, n_neighbors=8, p=1;, score=0.877 total time=   0.0s\n",
      "[CV 1/5] END algorithm=brute, leaf_size=24, n_neighbors=8, p=2;, score=0.880 total time=   0.0s\n",
      "[CV 2/5] END algorithm=brute, leaf_size=24, n_neighbors=8, p=2;, score=0.877 total time=   0.0s\n",
      "[CV 3/5] END algorithm=brute, leaf_size=24, n_neighbors=8, p=2;, score=0.861 total time=   0.0s\n",
      "[CV 4/5] END algorithm=brute, leaf_size=24, n_neighbors=8, p=2;, score=0.849 total time=   0.0s\n",
      "[CV 5/5] END algorithm=brute, leaf_size=24, n_neighbors=8, p=2;, score=0.877 total time=   0.0s\n",
      "[CV 1/5] END algorithm=brute, leaf_size=24, n_neighbors=10, p=1;, score=0.880 total time=   0.0s\n",
      "[CV 2/5] END algorithm=brute, leaf_size=24, n_neighbors=10, p=1;, score=0.833 total time=   0.0s\n",
      "[CV 3/5] END algorithm=brute, leaf_size=24, n_neighbors=10, p=1;, score=0.840 total time=   0.0s\n",
      "[CV 4/5] END algorithm=brute, leaf_size=24, n_neighbors=10, p=1;, score=0.846 total time=   0.0s\n",
      "[CV 5/5] END algorithm=brute, leaf_size=24, n_neighbors=10, p=1;, score=0.861 total time=   0.0s\n",
      "[CV 1/5] END algorithm=brute, leaf_size=24, n_neighbors=10, p=2;, score=0.858 total time=   0.0s\n",
      "[CV 2/5] END algorithm=brute, leaf_size=24, n_neighbors=10, p=2;, score=0.855 total time=   0.0s\n",
      "[CV 3/5] END algorithm=brute, leaf_size=24, n_neighbors=10, p=2;, score=0.830 total time=   0.1s\n",
      "[CV 4/5] END algorithm=brute, leaf_size=24, n_neighbors=10, p=2;, score=0.840 total time=   0.0s\n",
      "[CV 5/5] END algorithm=brute, leaf_size=24, n_neighbors=10, p=2;, score=0.861 total time=   0.0s\n",
      "[CV 1/5] END algorithm=brute, leaf_size=24, n_neighbors=11, p=1;, score=0.880 total time=   0.1s\n",
      "[CV 2/5] END algorithm=brute, leaf_size=24, n_neighbors=11, p=1;, score=0.833 total time=   0.1s\n",
      "[CV 3/5] END algorithm=brute, leaf_size=24, n_neighbors=11, p=1;, score=0.846 total time=   0.1s\n",
      "[CV 4/5] END algorithm=brute, leaf_size=24, n_neighbors=11, p=1;, score=0.840 total time=   0.1s\n",
      "[CV 5/5] END algorithm=brute, leaf_size=24, n_neighbors=11, p=1;, score=0.861 total time=   0.1s\n",
      "[CV 1/5] END algorithm=brute, leaf_size=24, n_neighbors=11, p=2;, score=0.858 total time=   0.0s\n",
      "[CV 2/5] END algorithm=brute, leaf_size=24, n_neighbors=11, p=2;, score=0.855 total time=   0.0s\n",
      "[CV 3/5] END algorithm=brute, leaf_size=24, n_neighbors=11, p=2;, score=0.830 total time=   0.0s\n",
      "[CV 4/5] END algorithm=brute, leaf_size=24, n_neighbors=11, p=2;, score=0.833 total time=   0.1s\n",
      "[CV 5/5] END algorithm=brute, leaf_size=24, n_neighbors=11, p=2;, score=0.861 total time=   0.1s\n",
      "[CV 1/5] END algorithm=brute, leaf_size=28, n_neighbors=4, p=1;, score=0.923 total time=   0.1s\n",
      "[CV 2/5] END algorithm=brute, leaf_size=28, n_neighbors=4, p=1;, score=0.892 total time=   0.1s\n",
      "[CV 3/5] END algorithm=brute, leaf_size=28, n_neighbors=4, p=1;, score=0.904 total time=   0.1s\n",
      "[CV 4/5] END algorithm=brute, leaf_size=28, n_neighbors=4, p=1;, score=0.901 total time=   0.1s\n",
      "[CV 5/5] END algorithm=brute, leaf_size=28, n_neighbors=4, p=1;, score=0.923 total time=   0.1s\n",
      "[CV 1/5] END algorithm=brute, leaf_size=28, n_neighbors=4, p=2;, score=0.926 total time=   0.0s\n",
      "[CV 2/5] END algorithm=brute, leaf_size=28, n_neighbors=4, p=2;, score=0.914 total time=   0.0s\n",
      "[CV 3/5] END algorithm=brute, leaf_size=28, n_neighbors=4, p=2;, score=0.892 total time=   0.0s\n",
      "[CV 4/5] END algorithm=brute, leaf_size=28, n_neighbors=4, p=2;, score=0.910 total time=   0.0s\n",
      "[CV 5/5] END algorithm=brute, leaf_size=28, n_neighbors=4, p=2;, score=0.920 total time=   0.0s\n",
      "[CV 1/5] END algorithm=brute, leaf_size=28, n_neighbors=5, p=1;, score=0.923 total time=   0.0s\n",
      "[CV 2/5] END algorithm=brute, leaf_size=28, n_neighbors=5, p=1;, score=0.886 total time=   0.1s\n",
      "[CV 3/5] END algorithm=brute, leaf_size=28, n_neighbors=5, p=1;, score=0.904 total time=   0.1s\n",
      "[CV 4/5] END algorithm=brute, leaf_size=28, n_neighbors=5, p=1;, score=0.910 total time=   0.0s\n",
      "[CV 5/5] END algorithm=brute, leaf_size=28, n_neighbors=5, p=1;, score=0.920 total time=   0.0s\n",
      "[CV 1/5] END algorithm=brute, leaf_size=28, n_neighbors=5, p=2;, score=0.926 total time=   0.0s\n",
      "[CV 2/5] END algorithm=brute, leaf_size=28, n_neighbors=5, p=2;, score=0.910 total time=   0.0s\n"
     ]
    },
    {
     "name": "stdout",
     "output_type": "stream",
     "text": [
      "[CV 3/5] END algorithm=brute, leaf_size=28, n_neighbors=5, p=2;, score=0.892 total time=   0.0s\n",
      "[CV 4/5] END algorithm=brute, leaf_size=28, n_neighbors=5, p=2;, score=0.910 total time=   0.0s\n",
      "[CV 5/5] END algorithm=brute, leaf_size=28, n_neighbors=5, p=2;, score=0.920 total time=   0.0s\n",
      "[CV 1/5] END algorithm=brute, leaf_size=28, n_neighbors=8, p=1;, score=0.886 total time=   0.0s\n",
      "[CV 2/5] END algorithm=brute, leaf_size=28, n_neighbors=8, p=1;, score=0.855 total time=   0.0s\n",
      "[CV 3/5] END algorithm=brute, leaf_size=28, n_neighbors=8, p=1;, score=0.873 total time=   0.0s\n",
      "[CV 4/5] END algorithm=brute, leaf_size=28, n_neighbors=8, p=1;, score=0.849 total time=   0.0s\n",
      "[CV 5/5] END algorithm=brute, leaf_size=28, n_neighbors=8, p=1;, score=0.877 total time=   0.0s\n",
      "[CV 1/5] END algorithm=brute, leaf_size=28, n_neighbors=8, p=2;, score=0.880 total time=   0.1s\n",
      "[CV 2/5] END algorithm=brute, leaf_size=28, n_neighbors=8, p=2;, score=0.877 total time=   0.0s\n",
      "[CV 3/5] END algorithm=brute, leaf_size=28, n_neighbors=8, p=2;, score=0.861 total time=   0.0s\n",
      "[CV 4/5] END algorithm=brute, leaf_size=28, n_neighbors=8, p=2;, score=0.849 total time=   0.0s\n",
      "[CV 5/5] END algorithm=brute, leaf_size=28, n_neighbors=8, p=2;, score=0.877 total time=   0.0s\n",
      "[CV 1/5] END algorithm=brute, leaf_size=28, n_neighbors=10, p=1;, score=0.880 total time=   0.0s\n",
      "[CV 2/5] END algorithm=brute, leaf_size=28, n_neighbors=10, p=1;, score=0.833 total time=   0.0s\n",
      "[CV 3/5] END algorithm=brute, leaf_size=28, n_neighbors=10, p=1;, score=0.840 total time=   0.0s\n",
      "[CV 4/5] END algorithm=brute, leaf_size=28, n_neighbors=10, p=1;, score=0.846 total time=   0.0s\n",
      "[CV 5/5] END algorithm=brute, leaf_size=28, n_neighbors=10, p=1;, score=0.861 total time=   0.0s\n",
      "[CV 1/5] END algorithm=brute, leaf_size=28, n_neighbors=10, p=2;, score=0.858 total time=   0.0s\n",
      "[CV 2/5] END algorithm=brute, leaf_size=28, n_neighbors=10, p=2;, score=0.855 total time=   0.0s\n",
      "[CV 3/5] END algorithm=brute, leaf_size=28, n_neighbors=10, p=2;, score=0.830 total time=   0.0s\n",
      "[CV 4/5] END algorithm=brute, leaf_size=28, n_neighbors=10, p=2;, score=0.840 total time=   0.0s\n",
      "[CV 5/5] END algorithm=brute, leaf_size=28, n_neighbors=10, p=2;, score=0.861 total time=   0.0s\n",
      "[CV 1/5] END algorithm=brute, leaf_size=28, n_neighbors=11, p=1;, score=0.880 total time=   0.0s\n",
      "[CV 2/5] END algorithm=brute, leaf_size=28, n_neighbors=11, p=1;, score=0.833 total time=   0.0s\n",
      "[CV 3/5] END algorithm=brute, leaf_size=28, n_neighbors=11, p=1;, score=0.846 total time=   0.0s\n",
      "[CV 4/5] END algorithm=brute, leaf_size=28, n_neighbors=11, p=1;, score=0.840 total time=   0.0s\n",
      "[CV 5/5] END algorithm=brute, leaf_size=28, n_neighbors=11, p=1;, score=0.861 total time=   0.0s\n",
      "[CV 1/5] END algorithm=brute, leaf_size=28, n_neighbors=11, p=2;, score=0.858 total time=   0.0s\n",
      "[CV 2/5] END algorithm=brute, leaf_size=28, n_neighbors=11, p=2;, score=0.855 total time=   0.0s\n",
      "[CV 3/5] END algorithm=brute, leaf_size=28, n_neighbors=11, p=2;, score=0.830 total time=   0.0s\n",
      "[CV 4/5] END algorithm=brute, leaf_size=28, n_neighbors=11, p=2;, score=0.833 total time=   0.0s\n",
      "[CV 5/5] END algorithm=brute, leaf_size=28, n_neighbors=11, p=2;, score=0.861 total time=   0.1s\n",
      "[CV 1/5] END algorithm=brute, leaf_size=30, n_neighbors=4, p=1;, score=0.923 total time=   0.0s\n",
      "[CV 2/5] END algorithm=brute, leaf_size=30, n_neighbors=4, p=1;, score=0.892 total time=   0.1s\n",
      "[CV 3/5] END algorithm=brute, leaf_size=30, n_neighbors=4, p=1;, score=0.904 total time=   0.1s\n",
      "[CV 4/5] END algorithm=brute, leaf_size=30, n_neighbors=4, p=1;, score=0.901 total time=   0.0s\n",
      "[CV 5/5] END algorithm=brute, leaf_size=30, n_neighbors=4, p=1;, score=0.923 total time=   0.0s\n",
      "[CV 1/5] END algorithm=brute, leaf_size=30, n_neighbors=4, p=2;, score=0.926 total time=   0.0s\n",
      "[CV 2/5] END algorithm=brute, leaf_size=30, n_neighbors=4, p=2;, score=0.914 total time=   0.0s\n",
      "[CV 3/5] END algorithm=brute, leaf_size=30, n_neighbors=4, p=2;, score=0.892 total time=   0.0s\n",
      "[CV 4/5] END algorithm=brute, leaf_size=30, n_neighbors=4, p=2;, score=0.910 total time=   0.0s\n",
      "[CV 5/5] END algorithm=brute, leaf_size=30, n_neighbors=4, p=2;, score=0.920 total time=   0.0s\n",
      "[CV 1/5] END algorithm=brute, leaf_size=30, n_neighbors=5, p=1;, score=0.923 total time=   0.0s\n",
      "[CV 2/5] END algorithm=brute, leaf_size=30, n_neighbors=5, p=1;, score=0.886 total time=   0.0s\n",
      "[CV 3/5] END algorithm=brute, leaf_size=30, n_neighbors=5, p=1;, score=0.904 total time=   0.0s\n",
      "[CV 4/5] END algorithm=brute, leaf_size=30, n_neighbors=5, p=1;, score=0.910 total time=   0.0s\n",
      "[CV 5/5] END algorithm=brute, leaf_size=30, n_neighbors=5, p=1;, score=0.920 total time=   0.0s\n",
      "[CV 1/5] END algorithm=brute, leaf_size=30, n_neighbors=5, p=2;, score=0.926 total time=   0.0s\n",
      "[CV 2/5] END algorithm=brute, leaf_size=30, n_neighbors=5, p=2;, score=0.910 total time=   0.0s\n",
      "[CV 3/5] END algorithm=brute, leaf_size=30, n_neighbors=5, p=2;, score=0.892 total time=   0.0s\n",
      "[CV 4/5] END algorithm=brute, leaf_size=30, n_neighbors=5, p=2;, score=0.910 total time=   0.0s\n",
      "[CV 5/5] END algorithm=brute, leaf_size=30, n_neighbors=5, p=2;, score=0.920 total time=   0.0s\n",
      "[CV 1/5] END algorithm=brute, leaf_size=30, n_neighbors=8, p=1;, score=0.886 total time=   0.0s\n",
      "[CV 2/5] END algorithm=brute, leaf_size=30, n_neighbors=8, p=1;, score=0.855 total time=   0.1s\n",
      "[CV 3/5] END algorithm=brute, leaf_size=30, n_neighbors=8, p=1;, score=0.873 total time=   0.0s\n",
      "[CV 4/5] END algorithm=brute, leaf_size=30, n_neighbors=8, p=1;, score=0.849 total time=   0.0s\n",
      "[CV 5/5] END algorithm=brute, leaf_size=30, n_neighbors=8, p=1;, score=0.877 total time=   0.0s\n",
      "[CV 1/5] END algorithm=brute, leaf_size=30, n_neighbors=8, p=2;, score=0.880 total time=   0.0s\n",
      "[CV 2/5] END algorithm=brute, leaf_size=30, n_neighbors=8, p=2;, score=0.877 total time=   0.0s\n",
      "[CV 3/5] END algorithm=brute, leaf_size=30, n_neighbors=8, p=2;, score=0.861 total time=   0.0s\n",
      "[CV 4/5] END algorithm=brute, leaf_size=30, n_neighbors=8, p=2;, score=0.849 total time=   0.0s\n",
      "[CV 5/5] END algorithm=brute, leaf_size=30, n_neighbors=8, p=2;, score=0.877 total time=   0.0s\n",
      "[CV 1/5] END algorithm=brute, leaf_size=30, n_neighbors=10, p=1;, score=0.880 total time=   0.0s\n",
      "[CV 2/5] END algorithm=brute, leaf_size=30, n_neighbors=10, p=1;, score=0.833 total time=   0.0s\n",
      "[CV 3/5] END algorithm=brute, leaf_size=30, n_neighbors=10, p=1;, score=0.840 total time=   0.0s\n",
      "[CV 4/5] END algorithm=brute, leaf_size=30, n_neighbors=10, p=1;, score=0.846 total time=   0.0s\n",
      "[CV 5/5] END algorithm=brute, leaf_size=30, n_neighbors=10, p=1;, score=0.861 total time=   0.0s\n",
      "[CV 1/5] END algorithm=brute, leaf_size=30, n_neighbors=10, p=2;, score=0.858 total time=   0.0s\n",
      "[CV 2/5] END algorithm=brute, leaf_size=30, n_neighbors=10, p=2;, score=0.855 total time=   0.0s\n",
      "[CV 3/5] END algorithm=brute, leaf_size=30, n_neighbors=10, p=2;, score=0.830 total time=   0.0s\n",
      "[CV 4/5] END algorithm=brute, leaf_size=30, n_neighbors=10, p=2;, score=0.840 total time=   0.0s\n",
      "[CV 5/5] END algorithm=brute, leaf_size=30, n_neighbors=10, p=2;, score=0.861 total time=   0.0s\n",
      "[CV 1/5] END algorithm=brute, leaf_size=30, n_neighbors=11, p=1;, score=0.880 total time=   0.0s\n",
      "[CV 2/5] END algorithm=brute, leaf_size=30, n_neighbors=11, p=1;, score=0.833 total time=   0.0s\n",
      "[CV 3/5] END algorithm=brute, leaf_size=30, n_neighbors=11, p=1;, score=0.846 total time=   0.0s\n",
      "[CV 4/5] END algorithm=brute, leaf_size=30, n_neighbors=11, p=1;, score=0.840 total time=   0.0s\n",
      "[CV 5/5] END algorithm=brute, leaf_size=30, n_neighbors=11, p=1;, score=0.861 total time=   0.0s\n",
      "[CV 1/5] END algorithm=brute, leaf_size=30, n_neighbors=11, p=2;, score=0.858 total time=   0.0s\n",
      "[CV 2/5] END algorithm=brute, leaf_size=30, n_neighbors=11, p=2;, score=0.855 total time=   0.0s\n",
      "[CV 3/5] END algorithm=brute, leaf_size=30, n_neighbors=11, p=2;, score=0.830 total time=   0.0s\n",
      "[CV 4/5] END algorithm=brute, leaf_size=30, n_neighbors=11, p=2;, score=0.833 total time=   0.0s\n",
      "[CV 5/5] END algorithm=brute, leaf_size=30, n_neighbors=11, p=2;, score=0.861 total time=   0.0s\n",
      "[CV 1/5] END algorithm=brute, leaf_size=35, n_neighbors=4, p=1;, score=0.923 total time=   0.0s\n",
      "[CV 2/5] END algorithm=brute, leaf_size=35, n_neighbors=4, p=1;, score=0.892 total time=   0.0s\n",
      "[CV 3/5] END algorithm=brute, leaf_size=35, n_neighbors=4, p=1;, score=0.904 total time=   0.0s\n",
      "[CV 4/5] END algorithm=brute, leaf_size=35, n_neighbors=4, p=1;, score=0.901 total time=   0.0s\n",
      "[CV 5/5] END algorithm=brute, leaf_size=35, n_neighbors=4, p=1;, score=0.923 total time=   0.0s\n",
      "[CV 1/5] END algorithm=brute, leaf_size=35, n_neighbors=4, p=2;, score=0.926 total time=   0.0s\n",
      "[CV 2/5] END algorithm=brute, leaf_size=35, n_neighbors=4, p=2;, score=0.914 total time=   0.0s\n",
      "[CV 3/5] END algorithm=brute, leaf_size=35, n_neighbors=4, p=2;, score=0.892 total time=   0.0s\n"
     ]
    },
    {
     "name": "stdout",
     "output_type": "stream",
     "text": [
      "[CV 4/5] END algorithm=brute, leaf_size=35, n_neighbors=4, p=2;, score=0.910 total time=   0.0s\n",
      "[CV 5/5] END algorithm=brute, leaf_size=35, n_neighbors=4, p=2;, score=0.920 total time=   0.0s\n",
      "[CV 1/5] END algorithm=brute, leaf_size=35, n_neighbors=5, p=1;, score=0.923 total time=   0.0s\n",
      "[CV 2/5] END algorithm=brute, leaf_size=35, n_neighbors=5, p=1;, score=0.886 total time=   0.0s\n",
      "[CV 3/5] END algorithm=brute, leaf_size=35, n_neighbors=5, p=1;, score=0.904 total time=   0.0s\n",
      "[CV 4/5] END algorithm=brute, leaf_size=35, n_neighbors=5, p=1;, score=0.910 total time=   0.0s\n",
      "[CV 5/5] END algorithm=brute, leaf_size=35, n_neighbors=5, p=1;, score=0.920 total time=   0.0s\n",
      "[CV 1/5] END algorithm=brute, leaf_size=35, n_neighbors=5, p=2;, score=0.926 total time=   0.0s\n",
      "[CV 2/5] END algorithm=brute, leaf_size=35, n_neighbors=5, p=2;, score=0.910 total time=   0.0s\n",
      "[CV 3/5] END algorithm=brute, leaf_size=35, n_neighbors=5, p=2;, score=0.892 total time=   0.0s\n",
      "[CV 4/5] END algorithm=brute, leaf_size=35, n_neighbors=5, p=2;, score=0.910 total time=   0.0s\n",
      "[CV 5/5] END algorithm=brute, leaf_size=35, n_neighbors=5, p=2;, score=0.920 total time=   0.0s\n",
      "[CV 1/5] END algorithm=brute, leaf_size=35, n_neighbors=8, p=1;, score=0.886 total time=   0.0s\n",
      "[CV 2/5] END algorithm=brute, leaf_size=35, n_neighbors=8, p=1;, score=0.855 total time=   0.0s\n",
      "[CV 3/5] END algorithm=brute, leaf_size=35, n_neighbors=8, p=1;, score=0.873 total time=   0.0s\n",
      "[CV 4/5] END algorithm=brute, leaf_size=35, n_neighbors=8, p=1;, score=0.849 total time=   0.0s\n",
      "[CV 5/5] END algorithm=brute, leaf_size=35, n_neighbors=8, p=1;, score=0.877 total time=   0.1s\n",
      "[CV 1/5] END algorithm=brute, leaf_size=35, n_neighbors=8, p=2;, score=0.880 total time=   0.0s\n",
      "[CV 2/5] END algorithm=brute, leaf_size=35, n_neighbors=8, p=2;, score=0.877 total time=   0.0s\n",
      "[CV 3/5] END algorithm=brute, leaf_size=35, n_neighbors=8, p=2;, score=0.861 total time=   0.0s\n",
      "[CV 4/5] END algorithm=brute, leaf_size=35, n_neighbors=8, p=2;, score=0.849 total time=   0.0s\n",
      "[CV 5/5] END algorithm=brute, leaf_size=35, n_neighbors=8, p=2;, score=0.877 total time=   0.0s\n",
      "[CV 1/5] END algorithm=brute, leaf_size=35, n_neighbors=10, p=1;, score=0.880 total time=   0.0s\n",
      "[CV 2/5] END algorithm=brute, leaf_size=35, n_neighbors=10, p=1;, score=0.833 total time=   0.0s\n",
      "[CV 3/5] END algorithm=brute, leaf_size=35, n_neighbors=10, p=1;, score=0.840 total time=   0.0s\n",
      "[CV 4/5] END algorithm=brute, leaf_size=35, n_neighbors=10, p=1;, score=0.846 total time=   0.0s\n",
      "[CV 5/5] END algorithm=brute, leaf_size=35, n_neighbors=10, p=1;, score=0.861 total time=   0.0s\n",
      "[CV 1/5] END algorithm=brute, leaf_size=35, n_neighbors=10, p=2;, score=0.858 total time=   0.0s\n",
      "[CV 2/5] END algorithm=brute, leaf_size=35, n_neighbors=10, p=2;, score=0.855 total time=   0.0s\n",
      "[CV 3/5] END algorithm=brute, leaf_size=35, n_neighbors=10, p=2;, score=0.830 total time=   0.0s\n",
      "[CV 4/5] END algorithm=brute, leaf_size=35, n_neighbors=10, p=2;, score=0.840 total time=   0.0s\n",
      "[CV 5/5] END algorithm=brute, leaf_size=35, n_neighbors=10, p=2;, score=0.861 total time=   0.0s\n",
      "[CV 1/5] END algorithm=brute, leaf_size=35, n_neighbors=11, p=1;, score=0.880 total time=   0.0s\n",
      "[CV 2/5] END algorithm=brute, leaf_size=35, n_neighbors=11, p=1;, score=0.833 total time=   0.0s\n",
      "[CV 3/5] END algorithm=brute, leaf_size=35, n_neighbors=11, p=1;, score=0.846 total time=   0.0s\n",
      "[CV 4/5] END algorithm=brute, leaf_size=35, n_neighbors=11, p=1;, score=0.840 total time=   0.0s\n",
      "[CV 5/5] END algorithm=brute, leaf_size=35, n_neighbors=11, p=1;, score=0.861 total time=   0.1s\n",
      "[CV 1/5] END algorithm=brute, leaf_size=35, n_neighbors=11, p=2;, score=0.858 total time=   0.0s\n",
      "[CV 2/5] END algorithm=brute, leaf_size=35, n_neighbors=11, p=2;, score=0.855 total time=   0.0s\n",
      "[CV 3/5] END algorithm=brute, leaf_size=35, n_neighbors=11, p=2;, score=0.830 total time=   0.0s\n",
      "[CV 4/5] END algorithm=brute, leaf_size=35, n_neighbors=11, p=2;, score=0.833 total time=   0.0s\n",
      "[CV 5/5] END algorithm=brute, leaf_size=35, n_neighbors=11, p=2;, score=0.861 total time=   0.0s\n",
      "KNN best params: {'algorithm': 'kd_tree', 'leaf_size': 17, 'n_neighbors': 4, 'p': 1}. Exited the KNN method of the Model_Finder class\n",
      "AUC for knn:0.9885529191920863\n",
      "Entered the get_best_params_for_random_forest method of the Model_Finder class\n",
      "Fitting 5 folds for each of 32 candidates, totalling 160 fits\n",
      "[CV 1/5] END criterion=gini, max_depth=2, max_features=auto, n_estimators=10;, score=0.673 total time=   0.0s\n",
      "[CV 2/5] END criterion=gini, max_depth=2, max_features=auto, n_estimators=10;, score=0.673 total time=   0.1s\n"
     ]
    },
    {
     "name": "stderr",
     "output_type": "stream",
     "text": [
      "/home/nidhiyashwanth/.local/lib/python3.10/site-packages/sklearn/ensemble/_forest.py:424: FutureWarning: `max_features='auto'` has been deprecated in 1.1 and will be removed in 1.3. To keep the past behaviour, explicitly set `max_features='sqrt'` or remove this parameter as it is also the default value for RandomForestClassifiers and ExtraTreesClassifiers.\n",
      "  warn(\n",
      "/home/nidhiyashwanth/.local/lib/python3.10/site-packages/sklearn/ensemble/_forest.py:424: FutureWarning: `max_features='auto'` has been deprecated in 1.1 and will be removed in 1.3. To keep the past behaviour, explicitly set `max_features='sqrt'` or remove this parameter as it is also the default value for RandomForestClassifiers and ExtraTreesClassifiers.\n",
      "  warn(\n",
      "/home/nidhiyashwanth/.local/lib/python3.10/site-packages/sklearn/ensemble/_forest.py:424: FutureWarning: `max_features='auto'` has been deprecated in 1.1 and will be removed in 1.3. To keep the past behaviour, explicitly set `max_features='sqrt'` or remove this parameter as it is also the default value for RandomForestClassifiers and ExtraTreesClassifiers.\n",
      "  warn(\n",
      "/home/nidhiyashwanth/.local/lib/python3.10/site-packages/sklearn/ensemble/_forest.py:424: FutureWarning: `max_features='auto'` has been deprecated in 1.1 and will be removed in 1.3. To keep the past behaviour, explicitly set `max_features='sqrt'` or remove this parameter as it is also the default value for RandomForestClassifiers and ExtraTreesClassifiers.\n",
      "  warn(\n"
     ]
    },
    {
     "name": "stdout",
     "output_type": "stream",
     "text": [
      "[CV 3/5] END criterion=gini, max_depth=2, max_features=auto, n_estimators=10;, score=0.673 total time=   0.1s\n",
      "[CV 4/5] END criterion=gini, max_depth=2, max_features=auto, n_estimators=10;, score=0.673 total time=   0.1s\n",
      "[CV 5/5] END criterion=gini, max_depth=2, max_features=auto, n_estimators=10;, score=0.670 total time=   0.0s\n"
     ]
    },
    {
     "name": "stderr",
     "output_type": "stream",
     "text": [
      "/home/nidhiyashwanth/.local/lib/python3.10/site-packages/sklearn/ensemble/_forest.py:424: FutureWarning: `max_features='auto'` has been deprecated in 1.1 and will be removed in 1.3. To keep the past behaviour, explicitly set `max_features='sqrt'` or remove this parameter as it is also the default value for RandomForestClassifiers and ExtraTreesClassifiers.\n",
      "  warn(\n",
      "/home/nidhiyashwanth/.local/lib/python3.10/site-packages/sklearn/ensemble/_forest.py:424: FutureWarning: `max_features='auto'` has been deprecated in 1.1 and will be removed in 1.3. To keep the past behaviour, explicitly set `max_features='sqrt'` or remove this parameter as it is also the default value for RandomForestClassifiers and ExtraTreesClassifiers.\n",
      "  warn(\n"
     ]
    },
    {
     "name": "stdout",
     "output_type": "stream",
     "text": [
      "[CV 1/5] END criterion=gini, max_depth=2, max_features=auto, n_estimators=50;, score=0.673 total time=   0.2s\n",
      "[CV 2/5] END criterion=gini, max_depth=2, max_features=auto, n_estimators=50;, score=0.673 total time=   0.2s\n"
     ]
    },
    {
     "name": "stderr",
     "output_type": "stream",
     "text": [
      "/home/nidhiyashwanth/.local/lib/python3.10/site-packages/sklearn/ensemble/_forest.py:424: FutureWarning: `max_features='auto'` has been deprecated in 1.1 and will be removed in 1.3. To keep the past behaviour, explicitly set `max_features='sqrt'` or remove this parameter as it is also the default value for RandomForestClassifiers and ExtraTreesClassifiers.\n",
      "  warn(\n",
      "/home/nidhiyashwanth/.local/lib/python3.10/site-packages/sklearn/ensemble/_forest.py:424: FutureWarning: `max_features='auto'` has been deprecated in 1.1 and will be removed in 1.3. To keep the past behaviour, explicitly set `max_features='sqrt'` or remove this parameter as it is also the default value for RandomForestClassifiers and ExtraTreesClassifiers.\n",
      "  warn(\n"
     ]
    },
    {
     "name": "stdout",
     "output_type": "stream",
     "text": [
      "[CV 3/5] END criterion=gini, max_depth=2, max_features=auto, n_estimators=50;, score=0.673 total time=   0.2s\n",
      "[CV 4/5] END criterion=gini, max_depth=2, max_features=auto, n_estimators=50;, score=0.673 total time=   0.2s\n"
     ]
    },
    {
     "name": "stderr",
     "output_type": "stream",
     "text": [
      "/home/nidhiyashwanth/.local/lib/python3.10/site-packages/sklearn/ensemble/_forest.py:424: FutureWarning: `max_features='auto'` has been deprecated in 1.1 and will be removed in 1.3. To keep the past behaviour, explicitly set `max_features='sqrt'` or remove this parameter as it is also the default value for RandomForestClassifiers and ExtraTreesClassifiers.\n",
      "  warn(\n",
      "/home/nidhiyashwanth/.local/lib/python3.10/site-packages/sklearn/ensemble/_forest.py:424: FutureWarning: `max_features='auto'` has been deprecated in 1.1 and will be removed in 1.3. To keep the past behaviour, explicitly set `max_features='sqrt'` or remove this parameter as it is also the default value for RandomForestClassifiers and ExtraTreesClassifiers.\n",
      "  warn(\n"
     ]
    },
    {
     "name": "stdout",
     "output_type": "stream",
     "text": [
      "[CV 5/5] END criterion=gini, max_depth=2, max_features=auto, n_estimators=50;, score=0.670 total time=   0.1s\n"
     ]
    },
    {
     "name": "stderr",
     "output_type": "stream",
     "text": [
      "/home/nidhiyashwanth/.local/lib/python3.10/site-packages/sklearn/ensemble/_forest.py:424: FutureWarning: `max_features='auto'` has been deprecated in 1.1 and will be removed in 1.3. To keep the past behaviour, explicitly set `max_features='sqrt'` or remove this parameter as it is also the default value for RandomForestClassifiers and ExtraTreesClassifiers.\n",
      "  warn(\n"
     ]
    },
    {
     "name": "stdout",
     "output_type": "stream",
     "text": [
      "[CV 1/5] END criterion=gini, max_depth=2, max_features=auto, n_estimators=100;, score=0.673 total time=   0.3s\n"
     ]
    },
    {
     "name": "stderr",
     "output_type": "stream",
     "text": [
      "/home/nidhiyashwanth/.local/lib/python3.10/site-packages/sklearn/ensemble/_forest.py:424: FutureWarning: `max_features='auto'` has been deprecated in 1.1 and will be removed in 1.3. To keep the past behaviour, explicitly set `max_features='sqrt'` or remove this parameter as it is also the default value for RandomForestClassifiers and ExtraTreesClassifiers.\n",
      "  warn(\n"
     ]
    },
    {
     "name": "stdout",
     "output_type": "stream",
     "text": [
      "[CV 2/5] END criterion=gini, max_depth=2, max_features=auto, n_estimators=100;, score=0.673 total time=   0.4s\n"
     ]
    },
    {
     "name": "stderr",
     "output_type": "stream",
     "text": [
      "/home/nidhiyashwanth/.local/lib/python3.10/site-packages/sklearn/ensemble/_forest.py:424: FutureWarning: `max_features='auto'` has been deprecated in 1.1 and will be removed in 1.3. To keep the past behaviour, explicitly set `max_features='sqrt'` or remove this parameter as it is also the default value for RandomForestClassifiers and ExtraTreesClassifiers.\n",
      "  warn(\n"
     ]
    },
    {
     "name": "stdout",
     "output_type": "stream",
     "text": [
      "[CV 3/5] END criterion=gini, max_depth=2, max_features=auto, n_estimators=100;, score=0.673 total time=   0.3s\n"
     ]
    },
    {
     "name": "stderr",
     "output_type": "stream",
     "text": [
      "/home/nidhiyashwanth/.local/lib/python3.10/site-packages/sklearn/ensemble/_forest.py:424: FutureWarning: `max_features='auto'` has been deprecated in 1.1 and will be removed in 1.3. To keep the past behaviour, explicitly set `max_features='sqrt'` or remove this parameter as it is also the default value for RandomForestClassifiers and ExtraTreesClassifiers.\n",
      "  warn(\n"
     ]
    },
    {
     "name": "stdout",
     "output_type": "stream",
     "text": [
      "[CV 4/5] END criterion=gini, max_depth=2, max_features=auto, n_estimators=100;, score=0.673 total time=   0.4s\n"
     ]
    },
    {
     "name": "stderr",
     "output_type": "stream",
     "text": [
      "/home/nidhiyashwanth/.local/lib/python3.10/site-packages/sklearn/ensemble/_forest.py:424: FutureWarning: `max_features='auto'` has been deprecated in 1.1 and will be removed in 1.3. To keep the past behaviour, explicitly set `max_features='sqrt'` or remove this parameter as it is also the default value for RandomForestClassifiers and ExtraTreesClassifiers.\n",
      "  warn(\n"
     ]
    },
    {
     "name": "stdout",
     "output_type": "stream",
     "text": [
      "[CV 5/5] END criterion=gini, max_depth=2, max_features=auto, n_estimators=100;, score=0.670 total time=   0.4s\n"
     ]
    },
    {
     "name": "stderr",
     "output_type": "stream",
     "text": [
      "/home/nidhiyashwanth/.local/lib/python3.10/site-packages/sklearn/ensemble/_forest.py:424: FutureWarning: `max_features='auto'` has been deprecated in 1.1 and will be removed in 1.3. To keep the past behaviour, explicitly set `max_features='sqrt'` or remove this parameter as it is also the default value for RandomForestClassifiers and ExtraTreesClassifiers.\n",
      "  warn(\n"
     ]
    },
    {
     "name": "stdout",
     "output_type": "stream",
     "text": [
      "[CV 1/5] END criterion=gini, max_depth=2, max_features=auto, n_estimators=130;, score=0.673 total time=   0.4s\n"
     ]
    },
    {
     "name": "stderr",
     "output_type": "stream",
     "text": [
      "/home/nidhiyashwanth/.local/lib/python3.10/site-packages/sklearn/ensemble/_forest.py:424: FutureWarning: `max_features='auto'` has been deprecated in 1.1 and will be removed in 1.3. To keep the past behaviour, explicitly set `max_features='sqrt'` or remove this parameter as it is also the default value for RandomForestClassifiers and ExtraTreesClassifiers.\n",
      "  warn(\n"
     ]
    },
    {
     "name": "stdout",
     "output_type": "stream",
     "text": [
      "[CV 2/5] END criterion=gini, max_depth=2, max_features=auto, n_estimators=130;, score=0.673 total time=   0.4s\n"
     ]
    },
    {
     "name": "stderr",
     "output_type": "stream",
     "text": [
      "/home/nidhiyashwanth/.local/lib/python3.10/site-packages/sklearn/ensemble/_forest.py:424: FutureWarning: `max_features='auto'` has been deprecated in 1.1 and will be removed in 1.3. To keep the past behaviour, explicitly set `max_features='sqrt'` or remove this parameter as it is also the default value for RandomForestClassifiers and ExtraTreesClassifiers.\n",
      "  warn(\n"
     ]
    },
    {
     "name": "stdout",
     "output_type": "stream",
     "text": [
      "[CV 3/5] END criterion=gini, max_depth=2, max_features=auto, n_estimators=130;, score=0.673 total time=   0.4s\n"
     ]
    },
    {
     "name": "stderr",
     "output_type": "stream",
     "text": [
      "/home/nidhiyashwanth/.local/lib/python3.10/site-packages/sklearn/ensemble/_forest.py:424: FutureWarning: `max_features='auto'` has been deprecated in 1.1 and will be removed in 1.3. To keep the past behaviour, explicitly set `max_features='sqrt'` or remove this parameter as it is also the default value for RandomForestClassifiers and ExtraTreesClassifiers.\n",
      "  warn(\n"
     ]
    },
    {
     "name": "stdout",
     "output_type": "stream",
     "text": [
      "[CV 4/5] END criterion=gini, max_depth=2, max_features=auto, n_estimators=130;, score=0.673 total time=   0.4s\n"
     ]
    },
    {
     "name": "stderr",
     "output_type": "stream",
     "text": [
      "/home/nidhiyashwanth/.local/lib/python3.10/site-packages/sklearn/ensemble/_forest.py:424: FutureWarning: `max_features='auto'` has been deprecated in 1.1 and will be removed in 1.3. To keep the past behaviour, explicitly set `max_features='sqrt'` or remove this parameter as it is also the default value for RandomForestClassifiers and ExtraTreesClassifiers.\n",
      "  warn(\n"
     ]
    },
    {
     "name": "stdout",
     "output_type": "stream",
     "text": [
      "[CV 5/5] END criterion=gini, max_depth=2, max_features=auto, n_estimators=130;, score=0.670 total time=   0.3s\n",
      "[CV 1/5] END criterion=gini, max_depth=2, max_features=log2, n_estimators=10;, score=0.673 total time=   0.0s\n",
      "[CV 2/5] END criterion=gini, max_depth=2, max_features=log2, n_estimators=10;, score=0.691 total time=   0.0s\n",
      "[CV 3/5] END criterion=gini, max_depth=2, max_features=log2, n_estimators=10;, score=0.673 total time=   0.0s\n",
      "[CV 4/5] END criterion=gini, max_depth=2, max_features=log2, n_estimators=10;, score=0.673 total time=   0.0s\n",
      "[CV 5/5] END criterion=gini, max_depth=2, max_features=log2, n_estimators=10;, score=0.682 total time=   0.0s\n",
      "[CV 1/5] END criterion=gini, max_depth=2, max_features=log2, n_estimators=50;, score=0.673 total time=   0.1s\n",
      "[CV 2/5] END criterion=gini, max_depth=2, max_features=log2, n_estimators=50;, score=0.673 total time=   0.1s\n",
      "[CV 3/5] END criterion=gini, max_depth=2, max_features=log2, n_estimators=50;, score=0.673 total time=   0.1s\n",
      "[CV 4/5] END criterion=gini, max_depth=2, max_features=log2, n_estimators=50;, score=0.673 total time=   0.2s\n",
      "[CV 5/5] END criterion=gini, max_depth=2, max_features=log2, n_estimators=50;, score=0.670 total time=   0.1s\n",
      "[CV 1/5] END criterion=gini, max_depth=2, max_features=log2, n_estimators=100;, score=0.673 total time=   0.3s\n",
      "[CV 2/5] END criterion=gini, max_depth=2, max_features=log2, n_estimators=100;, score=0.673 total time=   0.3s\n",
      "[CV 3/5] END criterion=gini, max_depth=2, max_features=log2, n_estimators=100;, score=0.673 total time=   0.3s\n",
      "[CV 4/5] END criterion=gini, max_depth=2, max_features=log2, n_estimators=100;, score=0.673 total time=   0.3s\n",
      "[CV 5/5] END criterion=gini, max_depth=2, max_features=log2, n_estimators=100;, score=0.670 total time=   0.2s\n",
      "[CV 1/5] END criterion=gini, max_depth=2, max_features=log2, n_estimators=130;, score=0.673 total time=   0.3s\n",
      "[CV 2/5] END criterion=gini, max_depth=2, max_features=log2, n_estimators=130;, score=0.673 total time=   0.3s\n",
      "[CV 3/5] END criterion=gini, max_depth=2, max_features=log2, n_estimators=130;, score=0.673 total time=   0.4s\n",
      "[CV 4/5] END criterion=gini, max_depth=2, max_features=log2, n_estimators=130;, score=0.673 total time=   0.4s\n",
      "[CV 5/5] END criterion=gini, max_depth=2, max_features=log2, n_estimators=130;, score=0.670 total time=   0.5s\n",
      "[CV 1/5] END criterion=gini, max_depth=3, max_features=auto, n_estimators=10;, score=0.673 total time=   0.0s\n",
      "[CV 2/5] END criterion=gini, max_depth=3, max_features=auto, n_estimators=10;, score=0.719 total time=   0.0s\n",
      "[CV 3/5] END criterion=gini, max_depth=3, max_features=auto, n_estimators=10;, score=0.713 total time=   0.0s\n",
      "[CV 4/5] END criterion=gini, max_depth=3, max_features=auto, n_estimators=10;, score=0.679 total time=   0.0s\n",
      "[CV 5/5] END criterion=gini, max_depth=3, max_features=auto, n_estimators=10;, score=0.688 total time=   0.0s\n"
     ]
    },
    {
     "name": "stderr",
     "output_type": "stream",
     "text": [
      "/home/nidhiyashwanth/.local/lib/python3.10/site-packages/sklearn/ensemble/_forest.py:424: FutureWarning: `max_features='auto'` has been deprecated in 1.1 and will be removed in 1.3. To keep the past behaviour, explicitly set `max_features='sqrt'` or remove this parameter as it is also the default value for RandomForestClassifiers and ExtraTreesClassifiers.\n",
      "  warn(\n",
      "/home/nidhiyashwanth/.local/lib/python3.10/site-packages/sklearn/ensemble/_forest.py:424: FutureWarning: `max_features='auto'` has been deprecated in 1.1 and will be removed in 1.3. To keep the past behaviour, explicitly set `max_features='sqrt'` or remove this parameter as it is also the default value for RandomForestClassifiers and ExtraTreesClassifiers.\n",
      "  warn(\n",
      "/home/nidhiyashwanth/.local/lib/python3.10/site-packages/sklearn/ensemble/_forest.py:424: FutureWarning: `max_features='auto'` has been deprecated in 1.1 and will be removed in 1.3. To keep the past behaviour, explicitly set `max_features='sqrt'` or remove this parameter as it is also the default value for RandomForestClassifiers and ExtraTreesClassifiers.\n",
      "  warn(\n",
      "/home/nidhiyashwanth/.local/lib/python3.10/site-packages/sklearn/ensemble/_forest.py:424: FutureWarning: `max_features='auto'` has been deprecated in 1.1 and will be removed in 1.3. To keep the past behaviour, explicitly set `max_features='sqrt'` or remove this parameter as it is also the default value for RandomForestClassifiers and ExtraTreesClassifiers.\n",
      "  warn(\n",
      "/home/nidhiyashwanth/.local/lib/python3.10/site-packages/sklearn/ensemble/_forest.py:424: FutureWarning: `max_features='auto'` has been deprecated in 1.1 and will be removed in 1.3. To keep the past behaviour, explicitly set `max_features='sqrt'` or remove this parameter as it is also the default value for RandomForestClassifiers and ExtraTreesClassifiers.\n",
      "  warn(\n",
      "/home/nidhiyashwanth/.local/lib/python3.10/site-packages/sklearn/ensemble/_forest.py:424: FutureWarning: `max_features='auto'` has been deprecated in 1.1 and will be removed in 1.3. To keep the past behaviour, explicitly set `max_features='sqrt'` or remove this parameter as it is also the default value for RandomForestClassifiers and ExtraTreesClassifiers.\n",
      "  warn(\n"
     ]
    },
    {
     "name": "stdout",
     "output_type": "stream",
     "text": [
      "[CV 1/5] END criterion=gini, max_depth=3, max_features=auto, n_estimators=50;, score=0.679 total time=   0.1s\n",
      "[CV 2/5] END criterion=gini, max_depth=3, max_features=auto, n_estimators=50;, score=0.694 total time=   0.2s\n"
     ]
    },
    {
     "name": "stderr",
     "output_type": "stream",
     "text": [
      "/home/nidhiyashwanth/.local/lib/python3.10/site-packages/sklearn/ensemble/_forest.py:424: FutureWarning: `max_features='auto'` has been deprecated in 1.1 and will be removed in 1.3. To keep the past behaviour, explicitly set `max_features='sqrt'` or remove this parameter as it is also the default value for RandomForestClassifiers and ExtraTreesClassifiers.\n",
      "  warn(\n",
      "/home/nidhiyashwanth/.local/lib/python3.10/site-packages/sklearn/ensemble/_forest.py:424: FutureWarning: `max_features='auto'` has been deprecated in 1.1 and will be removed in 1.3. To keep the past behaviour, explicitly set `max_features='sqrt'` or remove this parameter as it is also the default value for RandomForestClassifiers and ExtraTreesClassifiers.\n",
      "  warn(\n"
     ]
    },
    {
     "name": "stdout",
     "output_type": "stream",
     "text": [
      "[CV 3/5] END criterion=gini, max_depth=3, max_features=auto, n_estimators=50;, score=0.679 total time=   0.1s\n",
      "[CV 4/5] END criterion=gini, max_depth=3, max_features=auto, n_estimators=50;, score=0.673 total time=   0.1s\n"
     ]
    },
    {
     "name": "stderr",
     "output_type": "stream",
     "text": [
      "/home/nidhiyashwanth/.local/lib/python3.10/site-packages/sklearn/ensemble/_forest.py:424: FutureWarning: `max_features='auto'` has been deprecated in 1.1 and will be removed in 1.3. To keep the past behaviour, explicitly set `max_features='sqrt'` or remove this parameter as it is also the default value for RandomForestClassifiers and ExtraTreesClassifiers.\n",
      "  warn(\n",
      "/home/nidhiyashwanth/.local/lib/python3.10/site-packages/sklearn/ensemble/_forest.py:424: FutureWarning: `max_features='auto'` has been deprecated in 1.1 and will be removed in 1.3. To keep the past behaviour, explicitly set `max_features='sqrt'` or remove this parameter as it is also the default value for RandomForestClassifiers and ExtraTreesClassifiers.\n",
      "  warn(\n"
     ]
    },
    {
     "name": "stdout",
     "output_type": "stream",
     "text": [
      "[CV 5/5] END criterion=gini, max_depth=3, max_features=auto, n_estimators=50;, score=0.685 total time=   0.2s\n"
     ]
    },
    {
     "name": "stderr",
     "output_type": "stream",
     "text": [
      "/home/nidhiyashwanth/.local/lib/python3.10/site-packages/sklearn/ensemble/_forest.py:424: FutureWarning: `max_features='auto'` has been deprecated in 1.1 and will be removed in 1.3. To keep the past behaviour, explicitly set `max_features='sqrt'` or remove this parameter as it is also the default value for RandomForestClassifiers and ExtraTreesClassifiers.\n",
      "  warn(\n"
     ]
    },
    {
     "name": "stdout",
     "output_type": "stream",
     "text": [
      "[CV 1/5] END criterion=gini, max_depth=3, max_features=auto, n_estimators=100;, score=0.685 total time=   0.3s\n"
     ]
    },
    {
     "name": "stderr",
     "output_type": "stream",
     "text": [
      "/home/nidhiyashwanth/.local/lib/python3.10/site-packages/sklearn/ensemble/_forest.py:424: FutureWarning: `max_features='auto'` has been deprecated in 1.1 and will be removed in 1.3. To keep the past behaviour, explicitly set `max_features='sqrt'` or remove this parameter as it is also the default value for RandomForestClassifiers and ExtraTreesClassifiers.\n",
      "  warn(\n"
     ]
    },
    {
     "name": "stdout",
     "output_type": "stream",
     "text": [
      "[CV 2/5] END criterion=gini, max_depth=3, max_features=auto, n_estimators=100;, score=0.694 total time=   0.3s\n"
     ]
    },
    {
     "name": "stderr",
     "output_type": "stream",
     "text": [
      "/home/nidhiyashwanth/.local/lib/python3.10/site-packages/sklearn/ensemble/_forest.py:424: FutureWarning: `max_features='auto'` has been deprecated in 1.1 and will be removed in 1.3. To keep the past behaviour, explicitly set `max_features='sqrt'` or remove this parameter as it is also the default value for RandomForestClassifiers and ExtraTreesClassifiers.\n",
      "  warn(\n"
     ]
    },
    {
     "name": "stdout",
     "output_type": "stream",
     "text": [
      "[CV 3/5] END criterion=gini, max_depth=3, max_features=auto, n_estimators=100;, score=0.673 total time=   0.3s\n"
     ]
    },
    {
     "name": "stderr",
     "output_type": "stream",
     "text": [
      "/home/nidhiyashwanth/.local/lib/python3.10/site-packages/sklearn/ensemble/_forest.py:424: FutureWarning: `max_features='auto'` has been deprecated in 1.1 and will be removed in 1.3. To keep the past behaviour, explicitly set `max_features='sqrt'` or remove this parameter as it is also the default value for RandomForestClassifiers and ExtraTreesClassifiers.\n",
      "  warn(\n"
     ]
    },
    {
     "name": "stdout",
     "output_type": "stream",
     "text": [
      "[CV 4/5] END criterion=gini, max_depth=3, max_features=auto, n_estimators=100;, score=0.673 total time=   0.3s\n"
     ]
    },
    {
     "name": "stderr",
     "output_type": "stream",
     "text": [
      "/home/nidhiyashwanth/.local/lib/python3.10/site-packages/sklearn/ensemble/_forest.py:424: FutureWarning: `max_features='auto'` has been deprecated in 1.1 and will be removed in 1.3. To keep the past behaviour, explicitly set `max_features='sqrt'` or remove this parameter as it is also the default value for RandomForestClassifiers and ExtraTreesClassifiers.\n",
      "  warn(\n"
     ]
    },
    {
     "name": "stdout",
     "output_type": "stream",
     "text": [
      "[CV 5/5] END criterion=gini, max_depth=3, max_features=auto, n_estimators=100;, score=0.670 total time=   0.2s\n"
     ]
    },
    {
     "name": "stderr",
     "output_type": "stream",
     "text": [
      "/home/nidhiyashwanth/.local/lib/python3.10/site-packages/sklearn/ensemble/_forest.py:424: FutureWarning: `max_features='auto'` has been deprecated in 1.1 and will be removed in 1.3. To keep the past behaviour, explicitly set `max_features='sqrt'` or remove this parameter as it is also the default value for RandomForestClassifiers and ExtraTreesClassifiers.\n",
      "  warn(\n"
     ]
    },
    {
     "name": "stdout",
     "output_type": "stream",
     "text": [
      "[CV 1/5] END criterion=gini, max_depth=3, max_features=auto, n_estimators=130;, score=0.673 total time=   0.3s\n"
     ]
    },
    {
     "name": "stderr",
     "output_type": "stream",
     "text": [
      "/home/nidhiyashwanth/.local/lib/python3.10/site-packages/sklearn/ensemble/_forest.py:424: FutureWarning: `max_features='auto'` has been deprecated in 1.1 and will be removed in 1.3. To keep the past behaviour, explicitly set `max_features='sqrt'` or remove this parameter as it is also the default value for RandomForestClassifiers and ExtraTreesClassifiers.\n",
      "  warn(\n"
     ]
    },
    {
     "name": "stdout",
     "output_type": "stream",
     "text": [
      "[CV 2/5] END criterion=gini, max_depth=3, max_features=auto, n_estimators=130;, score=0.676 total time=   0.4s\n"
     ]
    },
    {
     "name": "stderr",
     "output_type": "stream",
     "text": [
      "/home/nidhiyashwanth/.local/lib/python3.10/site-packages/sklearn/ensemble/_forest.py:424: FutureWarning: `max_features='auto'` has been deprecated in 1.1 and will be removed in 1.3. To keep the past behaviour, explicitly set `max_features='sqrt'` or remove this parameter as it is also the default value for RandomForestClassifiers and ExtraTreesClassifiers.\n",
      "  warn(\n"
     ]
    },
    {
     "name": "stdout",
     "output_type": "stream",
     "text": [
      "[CV 3/5] END criterion=gini, max_depth=3, max_features=auto, n_estimators=130;, score=0.676 total time=   0.4s\n"
     ]
    },
    {
     "name": "stderr",
     "output_type": "stream",
     "text": [
      "/home/nidhiyashwanth/.local/lib/python3.10/site-packages/sklearn/ensemble/_forest.py:424: FutureWarning: `max_features='auto'` has been deprecated in 1.1 and will be removed in 1.3. To keep the past behaviour, explicitly set `max_features='sqrt'` or remove this parameter as it is also the default value for RandomForestClassifiers and ExtraTreesClassifiers.\n",
      "  warn(\n"
     ]
    },
    {
     "name": "stdout",
     "output_type": "stream",
     "text": [
      "[CV 4/5] END criterion=gini, max_depth=3, max_features=auto, n_estimators=130;, score=0.673 total time=   0.5s\n"
     ]
    },
    {
     "name": "stderr",
     "output_type": "stream",
     "text": [
      "/home/nidhiyashwanth/.local/lib/python3.10/site-packages/sklearn/ensemble/_forest.py:424: FutureWarning: `max_features='auto'` has been deprecated in 1.1 and will be removed in 1.3. To keep the past behaviour, explicitly set `max_features='sqrt'` or remove this parameter as it is also the default value for RandomForestClassifiers and ExtraTreesClassifiers.\n",
      "  warn(\n"
     ]
    },
    {
     "name": "stdout",
     "output_type": "stream",
     "text": [
      "[CV 5/5] END criterion=gini, max_depth=3, max_features=auto, n_estimators=130;, score=0.670 total time=   0.3s\n",
      "[CV 1/5] END criterion=gini, max_depth=3, max_features=log2, n_estimators=10;, score=0.679 total time=   0.0s\n",
      "[CV 2/5] END criterion=gini, max_depth=3, max_features=log2, n_estimators=10;, score=0.688 total time=   0.0s\n",
      "[CV 3/5] END criterion=gini, max_depth=3, max_features=log2, n_estimators=10;, score=0.679 total time=   0.0s\n",
      "[CV 4/5] END criterion=gini, max_depth=3, max_features=log2, n_estimators=10;, score=0.673 total time=   0.0s\n",
      "[CV 5/5] END criterion=gini, max_depth=3, max_features=log2, n_estimators=10;, score=0.704 total time=   0.0s\n",
      "[CV 1/5] END criterion=gini, max_depth=3, max_features=log2, n_estimators=50;, score=0.673 total time=   0.1s\n",
      "[CV 2/5] END criterion=gini, max_depth=3, max_features=log2, n_estimators=50;, score=0.676 total time=   0.1s\n",
      "[CV 3/5] END criterion=gini, max_depth=3, max_features=log2, n_estimators=50;, score=0.673 total time=   0.1s\n",
      "[CV 4/5] END criterion=gini, max_depth=3, max_features=log2, n_estimators=50;, score=0.679 total time=   0.1s\n",
      "[CV 5/5] END criterion=gini, max_depth=3, max_features=log2, n_estimators=50;, score=0.688 total time=   0.1s\n",
      "[CV 1/5] END criterion=gini, max_depth=3, max_features=log2, n_estimators=100;, score=0.673 total time=   0.3s\n",
      "[CV 2/5] END criterion=gini, max_depth=3, max_features=log2, n_estimators=100;, score=0.673 total time=   0.2s\n",
      "[CV 3/5] END criterion=gini, max_depth=3, max_features=log2, n_estimators=100;, score=0.673 total time=   0.2s\n",
      "[CV 4/5] END criterion=gini, max_depth=3, max_features=log2, n_estimators=100;, score=0.673 total time=   0.2s\n",
      "[CV 5/5] END criterion=gini, max_depth=3, max_features=log2, n_estimators=100;, score=0.670 total time=   0.2s\n",
      "[CV 1/5] END criterion=gini, max_depth=3, max_features=log2, n_estimators=130;, score=0.673 total time=   0.3s\n",
      "[CV 2/5] END criterion=gini, max_depth=3, max_features=log2, n_estimators=130;, score=0.676 total time=   0.3s\n",
      "[CV 3/5] END criterion=gini, max_depth=3, max_features=log2, n_estimators=130;, score=0.673 total time=   0.3s\n",
      "[CV 4/5] END criterion=gini, max_depth=3, max_features=log2, n_estimators=130;, score=0.673 total time=   0.3s\n",
      "[CV 5/5] END criterion=gini, max_depth=3, max_features=log2, n_estimators=130;, score=0.670 total time=   0.3s\n",
      "[CV 1/5] END criterion=entropy, max_depth=2, max_features=auto, n_estimators=10;, score=0.673 total time=   0.0s\n",
      "[CV 2/5] END criterion=entropy, max_depth=2, max_features=auto, n_estimators=10;, score=0.673 total time=   0.0s\n",
      "[CV 3/5] END criterion=entropy, max_depth=2, max_features=auto, n_estimators=10;, score=0.673 total time=   0.0s\n",
      "[CV 4/5] END criterion=entropy, max_depth=2, max_features=auto, n_estimators=10;, score=0.673 total time=   0.0s\n",
      "[CV 5/5] END criterion=entropy, max_depth=2, max_features=auto, n_estimators=10;, score=0.670 total time=   0.0s\n"
     ]
    },
    {
     "name": "stderr",
     "output_type": "stream",
     "text": [
      "/home/nidhiyashwanth/.local/lib/python3.10/site-packages/sklearn/ensemble/_forest.py:424: FutureWarning: `max_features='auto'` has been deprecated in 1.1 and will be removed in 1.3. To keep the past behaviour, explicitly set `max_features='sqrt'` or remove this parameter as it is also the default value for RandomForestClassifiers and ExtraTreesClassifiers.\n",
      "  warn(\n",
      "/home/nidhiyashwanth/.local/lib/python3.10/site-packages/sklearn/ensemble/_forest.py:424: FutureWarning: `max_features='auto'` has been deprecated in 1.1 and will be removed in 1.3. To keep the past behaviour, explicitly set `max_features='sqrt'` or remove this parameter as it is also the default value for RandomForestClassifiers and ExtraTreesClassifiers.\n",
      "  warn(\n",
      "/home/nidhiyashwanth/.local/lib/python3.10/site-packages/sklearn/ensemble/_forest.py:424: FutureWarning: `max_features='auto'` has been deprecated in 1.1 and will be removed in 1.3. To keep the past behaviour, explicitly set `max_features='sqrt'` or remove this parameter as it is also the default value for RandomForestClassifiers and ExtraTreesClassifiers.\n",
      "  warn(\n",
      "/home/nidhiyashwanth/.local/lib/python3.10/site-packages/sklearn/ensemble/_forest.py:424: FutureWarning: `max_features='auto'` has been deprecated in 1.1 and will be removed in 1.3. To keep the past behaviour, explicitly set `max_features='sqrt'` or remove this parameter as it is also the default value for RandomForestClassifiers and ExtraTreesClassifiers.\n",
      "  warn(\n",
      "/home/nidhiyashwanth/.local/lib/python3.10/site-packages/sklearn/ensemble/_forest.py:424: FutureWarning: `max_features='auto'` has been deprecated in 1.1 and will be removed in 1.3. To keep the past behaviour, explicitly set `max_features='sqrt'` or remove this parameter as it is also the default value for RandomForestClassifiers and ExtraTreesClassifiers.\n",
      "  warn(\n",
      "/home/nidhiyashwanth/.local/lib/python3.10/site-packages/sklearn/ensemble/_forest.py:424: FutureWarning: `max_features='auto'` has been deprecated in 1.1 and will be removed in 1.3. To keep the past behaviour, explicitly set `max_features='sqrt'` or remove this parameter as it is also the default value for RandomForestClassifiers and ExtraTreesClassifiers.\n",
      "  warn(\n"
     ]
    },
    {
     "name": "stdout",
     "output_type": "stream",
     "text": [
      "[CV 1/5] END criterion=entropy, max_depth=2, max_features=auto, n_estimators=50;, score=0.673 total time=   0.1s\n",
      "[CV 2/5] END criterion=entropy, max_depth=2, max_features=auto, n_estimators=50;, score=0.673 total time=   0.1s\n"
     ]
    },
    {
     "name": "stderr",
     "output_type": "stream",
     "text": [
      "/home/nidhiyashwanth/.local/lib/python3.10/site-packages/sklearn/ensemble/_forest.py:424: FutureWarning: `max_features='auto'` has been deprecated in 1.1 and will be removed in 1.3. To keep the past behaviour, explicitly set `max_features='sqrt'` or remove this parameter as it is also the default value for RandomForestClassifiers and ExtraTreesClassifiers.\n",
      "  warn(\n",
      "/home/nidhiyashwanth/.local/lib/python3.10/site-packages/sklearn/ensemble/_forest.py:424: FutureWarning: `max_features='auto'` has been deprecated in 1.1 and will be removed in 1.3. To keep the past behaviour, explicitly set `max_features='sqrt'` or remove this parameter as it is also the default value for RandomForestClassifiers and ExtraTreesClassifiers.\n",
      "  warn(\n"
     ]
    },
    {
     "name": "stdout",
     "output_type": "stream",
     "text": [
      "[CV 3/5] END criterion=entropy, max_depth=2, max_features=auto, n_estimators=50;, score=0.673 total time=   0.1s\n",
      "[CV 4/5] END criterion=entropy, max_depth=2, max_features=auto, n_estimators=50;, score=0.673 total time=   0.1s\n"
     ]
    },
    {
     "name": "stderr",
     "output_type": "stream",
     "text": [
      "/home/nidhiyashwanth/.local/lib/python3.10/site-packages/sklearn/ensemble/_forest.py:424: FutureWarning: `max_features='auto'` has been deprecated in 1.1 and will be removed in 1.3. To keep the past behaviour, explicitly set `max_features='sqrt'` or remove this parameter as it is also the default value for RandomForestClassifiers and ExtraTreesClassifiers.\n",
      "  warn(\n",
      "/home/nidhiyashwanth/.local/lib/python3.10/site-packages/sklearn/ensemble/_forest.py:424: FutureWarning: `max_features='auto'` has been deprecated in 1.1 and will be removed in 1.3. To keep the past behaviour, explicitly set `max_features='sqrt'` or remove this parameter as it is also the default value for RandomForestClassifiers and ExtraTreesClassifiers.\n",
      "  warn(\n"
     ]
    },
    {
     "name": "stdout",
     "output_type": "stream",
     "text": [
      "[CV 5/5] END criterion=entropy, max_depth=2, max_features=auto, n_estimators=50;, score=0.670 total time=   0.1s\n"
     ]
    },
    {
     "name": "stderr",
     "output_type": "stream",
     "text": [
      "/home/nidhiyashwanth/.local/lib/python3.10/site-packages/sklearn/ensemble/_forest.py:424: FutureWarning: `max_features='auto'` has been deprecated in 1.1 and will be removed in 1.3. To keep the past behaviour, explicitly set `max_features='sqrt'` or remove this parameter as it is also the default value for RandomForestClassifiers and ExtraTreesClassifiers.\n",
      "  warn(\n"
     ]
    },
    {
     "name": "stdout",
     "output_type": "stream",
     "text": [
      "[CV 1/5] END criterion=entropy, max_depth=2, max_features=auto, n_estimators=100;, score=0.673 total time=   0.3s\n"
     ]
    },
    {
     "name": "stderr",
     "output_type": "stream",
     "text": [
      "/home/nidhiyashwanth/.local/lib/python3.10/site-packages/sklearn/ensemble/_forest.py:424: FutureWarning: `max_features='auto'` has been deprecated in 1.1 and will be removed in 1.3. To keep the past behaviour, explicitly set `max_features='sqrt'` or remove this parameter as it is also the default value for RandomForestClassifiers and ExtraTreesClassifiers.\n",
      "  warn(\n"
     ]
    },
    {
     "name": "stdout",
     "output_type": "stream",
     "text": [
      "[CV 2/5] END criterion=entropy, max_depth=2, max_features=auto, n_estimators=100;, score=0.673 total time=   0.3s\n"
     ]
    },
    {
     "name": "stderr",
     "output_type": "stream",
     "text": [
      "/home/nidhiyashwanth/.local/lib/python3.10/site-packages/sklearn/ensemble/_forest.py:424: FutureWarning: `max_features='auto'` has been deprecated in 1.1 and will be removed in 1.3. To keep the past behaviour, explicitly set `max_features='sqrt'` or remove this parameter as it is also the default value for RandomForestClassifiers and ExtraTreesClassifiers.\n",
      "  warn(\n"
     ]
    },
    {
     "name": "stdout",
     "output_type": "stream",
     "text": [
      "[CV 3/5] END criterion=entropy, max_depth=2, max_features=auto, n_estimators=100;, score=0.673 total time=   0.3s\n"
     ]
    },
    {
     "name": "stderr",
     "output_type": "stream",
     "text": [
      "/home/nidhiyashwanth/.local/lib/python3.10/site-packages/sklearn/ensemble/_forest.py:424: FutureWarning: `max_features='auto'` has been deprecated in 1.1 and will be removed in 1.3. To keep the past behaviour, explicitly set `max_features='sqrt'` or remove this parameter as it is also the default value for RandomForestClassifiers and ExtraTreesClassifiers.\n",
      "  warn(\n"
     ]
    },
    {
     "name": "stdout",
     "output_type": "stream",
     "text": [
      "[CV 4/5] END criterion=entropy, max_depth=2, max_features=auto, n_estimators=100;, score=0.673 total time=   0.3s\n"
     ]
    },
    {
     "name": "stderr",
     "output_type": "stream",
     "text": [
      "/home/nidhiyashwanth/.local/lib/python3.10/site-packages/sklearn/ensemble/_forest.py:424: FutureWarning: `max_features='auto'` has been deprecated in 1.1 and will be removed in 1.3. To keep the past behaviour, explicitly set `max_features='sqrt'` or remove this parameter as it is also the default value for RandomForestClassifiers and ExtraTreesClassifiers.\n",
      "  warn(\n"
     ]
    },
    {
     "name": "stdout",
     "output_type": "stream",
     "text": [
      "[CV 5/5] END criterion=entropy, max_depth=2, max_features=auto, n_estimators=100;, score=0.670 total time=   0.3s\n"
     ]
    },
    {
     "name": "stderr",
     "output_type": "stream",
     "text": [
      "/home/nidhiyashwanth/.local/lib/python3.10/site-packages/sklearn/ensemble/_forest.py:424: FutureWarning: `max_features='auto'` has been deprecated in 1.1 and will be removed in 1.3. To keep the past behaviour, explicitly set `max_features='sqrt'` or remove this parameter as it is also the default value for RandomForestClassifiers and ExtraTreesClassifiers.\n",
      "  warn(\n"
     ]
    },
    {
     "name": "stdout",
     "output_type": "stream",
     "text": [
      "[CV 1/5] END criterion=entropy, max_depth=2, max_features=auto, n_estimators=130;, score=0.673 total time=   0.3s\n"
     ]
    },
    {
     "name": "stderr",
     "output_type": "stream",
     "text": [
      "/home/nidhiyashwanth/.local/lib/python3.10/site-packages/sklearn/ensemble/_forest.py:424: FutureWarning: `max_features='auto'` has been deprecated in 1.1 and will be removed in 1.3. To keep the past behaviour, explicitly set `max_features='sqrt'` or remove this parameter as it is also the default value for RandomForestClassifiers and ExtraTreesClassifiers.\n",
      "  warn(\n"
     ]
    },
    {
     "name": "stdout",
     "output_type": "stream",
     "text": [
      "[CV 2/5] END criterion=entropy, max_depth=2, max_features=auto, n_estimators=130;, score=0.673 total time=   0.3s\n"
     ]
    },
    {
     "name": "stderr",
     "output_type": "stream",
     "text": [
      "/home/nidhiyashwanth/.local/lib/python3.10/site-packages/sklearn/ensemble/_forest.py:424: FutureWarning: `max_features='auto'` has been deprecated in 1.1 and will be removed in 1.3. To keep the past behaviour, explicitly set `max_features='sqrt'` or remove this parameter as it is also the default value for RandomForestClassifiers and ExtraTreesClassifiers.\n",
      "  warn(\n"
     ]
    },
    {
     "name": "stdout",
     "output_type": "stream",
     "text": [
      "[CV 3/5] END criterion=entropy, max_depth=2, max_features=auto, n_estimators=130;, score=0.673 total time=   0.3s\n"
     ]
    },
    {
     "name": "stderr",
     "output_type": "stream",
     "text": [
      "/home/nidhiyashwanth/.local/lib/python3.10/site-packages/sklearn/ensemble/_forest.py:424: FutureWarning: `max_features='auto'` has been deprecated in 1.1 and will be removed in 1.3. To keep the past behaviour, explicitly set `max_features='sqrt'` or remove this parameter as it is also the default value for RandomForestClassifiers and ExtraTreesClassifiers.\n",
      "  warn(\n"
     ]
    },
    {
     "name": "stdout",
     "output_type": "stream",
     "text": [
      "[CV 4/5] END criterion=entropy, max_depth=2, max_features=auto, n_estimators=130;, score=0.673 total time=   0.3s\n"
     ]
    },
    {
     "name": "stderr",
     "output_type": "stream",
     "text": [
      "/home/nidhiyashwanth/.local/lib/python3.10/site-packages/sklearn/ensemble/_forest.py:424: FutureWarning: `max_features='auto'` has been deprecated in 1.1 and will be removed in 1.3. To keep the past behaviour, explicitly set `max_features='sqrt'` or remove this parameter as it is also the default value for RandomForestClassifiers and ExtraTreesClassifiers.\n",
      "  warn(\n"
     ]
    },
    {
     "name": "stdout",
     "output_type": "stream",
     "text": [
      "[CV 5/5] END criterion=entropy, max_depth=2, max_features=auto, n_estimators=130;, score=0.670 total time=   0.3s\n",
      "[CV 1/5] END criterion=entropy, max_depth=2, max_features=log2, n_estimators=10;, score=0.673 total time=   0.0s\n",
      "[CV 2/5] END criterion=entropy, max_depth=2, max_features=log2, n_estimators=10;, score=0.673 total time=   0.0s\n",
      "[CV 3/5] END criterion=entropy, max_depth=2, max_features=log2, n_estimators=10;, score=0.673 total time=   0.0s\n",
      "[CV 4/5] END criterion=entropy, max_depth=2, max_features=log2, n_estimators=10;, score=0.673 total time=   0.0s\n",
      "[CV 5/5] END criterion=entropy, max_depth=2, max_features=log2, n_estimators=10;, score=0.670 total time=   0.0s\n",
      "[CV 1/5] END criterion=entropy, max_depth=2, max_features=log2, n_estimators=50;, score=0.673 total time=   0.1s\n",
      "[CV 2/5] END criterion=entropy, max_depth=2, max_features=log2, n_estimators=50;, score=0.673 total time=   0.1s\n",
      "[CV 3/5] END criterion=entropy, max_depth=2, max_features=log2, n_estimators=50;, score=0.673 total time=   0.1s\n",
      "[CV 4/5] END criterion=entropy, max_depth=2, max_features=log2, n_estimators=50;, score=0.673 total time=   0.1s\n",
      "[CV 5/5] END criterion=entropy, max_depth=2, max_features=log2, n_estimators=50;, score=0.670 total time=   0.1s\n",
      "[CV 1/5] END criterion=entropy, max_depth=2, max_features=log2, n_estimators=100;, score=0.673 total time=   0.2s\n",
      "[CV 2/5] END criterion=entropy, max_depth=2, max_features=log2, n_estimators=100;, score=0.673 total time=   0.2s\n",
      "[CV 3/5] END criterion=entropy, max_depth=2, max_features=log2, n_estimators=100;, score=0.673 total time=   0.2s\n",
      "[CV 4/5] END criterion=entropy, max_depth=2, max_features=log2, n_estimators=100;, score=0.673 total time=   0.2s\n",
      "[CV 5/5] END criterion=entropy, max_depth=2, max_features=log2, n_estimators=100;, score=0.670 total time=   0.2s\n",
      "[CV 1/5] END criterion=entropy, max_depth=2, max_features=log2, n_estimators=130;, score=0.673 total time=   0.3s\n",
      "[CV 2/5] END criterion=entropy, max_depth=2, max_features=log2, n_estimators=130;, score=0.673 total time=   0.3s\n",
      "[CV 3/5] END criterion=entropy, max_depth=2, max_features=log2, n_estimators=130;, score=0.673 total time=   0.3s\n",
      "[CV 4/5] END criterion=entropy, max_depth=2, max_features=log2, n_estimators=130;, score=0.673 total time=   0.3s\n",
      "[CV 5/5] END criterion=entropy, max_depth=2, max_features=log2, n_estimators=130;, score=0.670 total time=   0.3s\n",
      "[CV 1/5] END criterion=entropy, max_depth=3, max_features=auto, n_estimators=10;, score=0.673 total time=   0.0s\n",
      "[CV 2/5] END criterion=entropy, max_depth=3, max_features=auto, n_estimators=10;, score=0.685 total time=   0.0s\n",
      "[CV 3/5] END criterion=entropy, max_depth=3, max_features=auto, n_estimators=10;, score=0.673 total time=   0.0s\n",
      "[CV 4/5] END criterion=entropy, max_depth=3, max_features=auto, n_estimators=10;, score=0.691 total time=   0.0s\n",
      "[CV 5/5] END criterion=entropy, max_depth=3, max_features=auto, n_estimators=10;, score=0.670 total time=   0.0s\n"
     ]
    },
    {
     "name": "stderr",
     "output_type": "stream",
     "text": [
      "/home/nidhiyashwanth/.local/lib/python3.10/site-packages/sklearn/ensemble/_forest.py:424: FutureWarning: `max_features='auto'` has been deprecated in 1.1 and will be removed in 1.3. To keep the past behaviour, explicitly set `max_features='sqrt'` or remove this parameter as it is also the default value for RandomForestClassifiers and ExtraTreesClassifiers.\n",
      "  warn(\n",
      "/home/nidhiyashwanth/.local/lib/python3.10/site-packages/sklearn/ensemble/_forest.py:424: FutureWarning: `max_features='auto'` has been deprecated in 1.1 and will be removed in 1.3. To keep the past behaviour, explicitly set `max_features='sqrt'` or remove this parameter as it is also the default value for RandomForestClassifiers and ExtraTreesClassifiers.\n",
      "  warn(\n",
      "/home/nidhiyashwanth/.local/lib/python3.10/site-packages/sklearn/ensemble/_forest.py:424: FutureWarning: `max_features='auto'` has been deprecated in 1.1 and will be removed in 1.3. To keep the past behaviour, explicitly set `max_features='sqrt'` or remove this parameter as it is also the default value for RandomForestClassifiers and ExtraTreesClassifiers.\n",
      "  warn(\n",
      "/home/nidhiyashwanth/.local/lib/python3.10/site-packages/sklearn/ensemble/_forest.py:424: FutureWarning: `max_features='auto'` has been deprecated in 1.1 and will be removed in 1.3. To keep the past behaviour, explicitly set `max_features='sqrt'` or remove this parameter as it is also the default value for RandomForestClassifiers and ExtraTreesClassifiers.\n",
      "  warn(\n",
      "/home/nidhiyashwanth/.local/lib/python3.10/site-packages/sklearn/ensemble/_forest.py:424: FutureWarning: `max_features='auto'` has been deprecated in 1.1 and will be removed in 1.3. To keep the past behaviour, explicitly set `max_features='sqrt'` or remove this parameter as it is also the default value for RandomForestClassifiers and ExtraTreesClassifiers.\n",
      "  warn(\n",
      "/home/nidhiyashwanth/.local/lib/python3.10/site-packages/sklearn/ensemble/_forest.py:424: FutureWarning: `max_features='auto'` has been deprecated in 1.1 and will be removed in 1.3. To keep the past behaviour, explicitly set `max_features='sqrt'` or remove this parameter as it is also the default value for RandomForestClassifiers and ExtraTreesClassifiers.\n",
      "  warn(\n"
     ]
    },
    {
     "name": "stdout",
     "output_type": "stream",
     "text": [
      "[CV 1/5] END criterion=entropy, max_depth=3, max_features=auto, n_estimators=50;, score=0.673 total time=   0.1s\n",
      "[CV 2/5] END criterion=entropy, max_depth=3, max_features=auto, n_estimators=50;, score=0.673 total time=   0.1s\n"
     ]
    },
    {
     "name": "stderr",
     "output_type": "stream",
     "text": [
      "/home/nidhiyashwanth/.local/lib/python3.10/site-packages/sklearn/ensemble/_forest.py:424: FutureWarning: `max_features='auto'` has been deprecated in 1.1 and will be removed in 1.3. To keep the past behaviour, explicitly set `max_features='sqrt'` or remove this parameter as it is also the default value for RandomForestClassifiers and ExtraTreesClassifiers.\n",
      "  warn(\n",
      "/home/nidhiyashwanth/.local/lib/python3.10/site-packages/sklearn/ensemble/_forest.py:424: FutureWarning: `max_features='auto'` has been deprecated in 1.1 and will be removed in 1.3. To keep the past behaviour, explicitly set `max_features='sqrt'` or remove this parameter as it is also the default value for RandomForestClassifiers and ExtraTreesClassifiers.\n",
      "  warn(\n"
     ]
    },
    {
     "name": "stdout",
     "output_type": "stream",
     "text": [
      "[CV 3/5] END criterion=entropy, max_depth=3, max_features=auto, n_estimators=50;, score=0.673 total time=   0.1s\n",
      "[CV 4/5] END criterion=entropy, max_depth=3, max_features=auto, n_estimators=50;, score=0.673 total time=   0.1s\n"
     ]
    },
    {
     "name": "stderr",
     "output_type": "stream",
     "text": [
      "/home/nidhiyashwanth/.local/lib/python3.10/site-packages/sklearn/ensemble/_forest.py:424: FutureWarning: `max_features='auto'` has been deprecated in 1.1 and will be removed in 1.3. To keep the past behaviour, explicitly set `max_features='sqrt'` or remove this parameter as it is also the default value for RandomForestClassifiers and ExtraTreesClassifiers.\n",
      "  warn(\n",
      "/home/nidhiyashwanth/.local/lib/python3.10/site-packages/sklearn/ensemble/_forest.py:424: FutureWarning: `max_features='auto'` has been deprecated in 1.1 and will be removed in 1.3. To keep the past behaviour, explicitly set `max_features='sqrt'` or remove this parameter as it is also the default value for RandomForestClassifiers and ExtraTreesClassifiers.\n",
      "  warn(\n"
     ]
    },
    {
     "name": "stdout",
     "output_type": "stream",
     "text": [
      "[CV 5/5] END criterion=entropy, max_depth=3, max_features=auto, n_estimators=50;, score=0.670 total time=   0.1s\n"
     ]
    },
    {
     "name": "stderr",
     "output_type": "stream",
     "text": [
      "/home/nidhiyashwanth/.local/lib/python3.10/site-packages/sklearn/ensemble/_forest.py:424: FutureWarning: `max_features='auto'` has been deprecated in 1.1 and will be removed in 1.3. To keep the past behaviour, explicitly set `max_features='sqrt'` or remove this parameter as it is also the default value for RandomForestClassifiers and ExtraTreesClassifiers.\n",
      "  warn(\n"
     ]
    },
    {
     "name": "stdout",
     "output_type": "stream",
     "text": [
      "[CV 1/5] END criterion=entropy, max_depth=3, max_features=auto, n_estimators=100;, score=0.673 total time=   0.3s\n"
     ]
    },
    {
     "name": "stderr",
     "output_type": "stream",
     "text": [
      "/home/nidhiyashwanth/.local/lib/python3.10/site-packages/sklearn/ensemble/_forest.py:424: FutureWarning: `max_features='auto'` has been deprecated in 1.1 and will be removed in 1.3. To keep the past behaviour, explicitly set `max_features='sqrt'` or remove this parameter as it is also the default value for RandomForestClassifiers and ExtraTreesClassifiers.\n",
      "  warn(\n"
     ]
    },
    {
     "name": "stdout",
     "output_type": "stream",
     "text": [
      "[CV 2/5] END criterion=entropy, max_depth=3, max_features=auto, n_estimators=100;, score=0.673 total time=   0.3s\n"
     ]
    },
    {
     "name": "stderr",
     "output_type": "stream",
     "text": [
      "/home/nidhiyashwanth/.local/lib/python3.10/site-packages/sklearn/ensemble/_forest.py:424: FutureWarning: `max_features='auto'` has been deprecated in 1.1 and will be removed in 1.3. To keep the past behaviour, explicitly set `max_features='sqrt'` or remove this parameter as it is also the default value for RandomForestClassifiers and ExtraTreesClassifiers.\n",
      "  warn(\n"
     ]
    },
    {
     "name": "stdout",
     "output_type": "stream",
     "text": [
      "[CV 3/5] END criterion=entropy, max_depth=3, max_features=auto, n_estimators=100;, score=0.673 total time=   0.3s\n"
     ]
    },
    {
     "name": "stderr",
     "output_type": "stream",
     "text": [
      "/home/nidhiyashwanth/.local/lib/python3.10/site-packages/sklearn/ensemble/_forest.py:424: FutureWarning: `max_features='auto'` has been deprecated in 1.1 and will be removed in 1.3. To keep the past behaviour, explicitly set `max_features='sqrt'` or remove this parameter as it is also the default value for RandomForestClassifiers and ExtraTreesClassifiers.\n",
      "  warn(\n"
     ]
    },
    {
     "name": "stdout",
     "output_type": "stream",
     "text": [
      "[CV 4/5] END criterion=entropy, max_depth=3, max_features=auto, n_estimators=100;, score=0.673 total time=   0.3s\n"
     ]
    },
    {
     "name": "stderr",
     "output_type": "stream",
     "text": [
      "/home/nidhiyashwanth/.local/lib/python3.10/site-packages/sklearn/ensemble/_forest.py:424: FutureWarning: `max_features='auto'` has been deprecated in 1.1 and will be removed in 1.3. To keep the past behaviour, explicitly set `max_features='sqrt'` or remove this parameter as it is also the default value for RandomForestClassifiers and ExtraTreesClassifiers.\n",
      "  warn(\n"
     ]
    },
    {
     "name": "stdout",
     "output_type": "stream",
     "text": [
      "[CV 5/5] END criterion=entropy, max_depth=3, max_features=auto, n_estimators=100;, score=0.670 total time=   0.3s\n"
     ]
    },
    {
     "name": "stderr",
     "output_type": "stream",
     "text": [
      "/home/nidhiyashwanth/.local/lib/python3.10/site-packages/sklearn/ensemble/_forest.py:424: FutureWarning: `max_features='auto'` has been deprecated in 1.1 and will be removed in 1.3. To keep the past behaviour, explicitly set `max_features='sqrt'` or remove this parameter as it is also the default value for RandomForestClassifiers and ExtraTreesClassifiers.\n",
      "  warn(\n"
     ]
    },
    {
     "name": "stdout",
     "output_type": "stream",
     "text": [
      "[CV 1/5] END criterion=entropy, max_depth=3, max_features=auto, n_estimators=130;, score=0.673 total time=   0.3s\n"
     ]
    },
    {
     "name": "stderr",
     "output_type": "stream",
     "text": [
      "/home/nidhiyashwanth/.local/lib/python3.10/site-packages/sklearn/ensemble/_forest.py:424: FutureWarning: `max_features='auto'` has been deprecated in 1.1 and will be removed in 1.3. To keep the past behaviour, explicitly set `max_features='sqrt'` or remove this parameter as it is also the default value for RandomForestClassifiers and ExtraTreesClassifiers.\n",
      "  warn(\n"
     ]
    },
    {
     "name": "stdout",
     "output_type": "stream",
     "text": [
      "[CV 2/5] END criterion=entropy, max_depth=3, max_features=auto, n_estimators=130;, score=0.676 total time=   0.3s\n"
     ]
    },
    {
     "name": "stderr",
     "output_type": "stream",
     "text": [
      "/home/nidhiyashwanth/.local/lib/python3.10/site-packages/sklearn/ensemble/_forest.py:424: FutureWarning: `max_features='auto'` has been deprecated in 1.1 and will be removed in 1.3. To keep the past behaviour, explicitly set `max_features='sqrt'` or remove this parameter as it is also the default value for RandomForestClassifiers and ExtraTreesClassifiers.\n",
      "  warn(\n"
     ]
    },
    {
     "name": "stdout",
     "output_type": "stream",
     "text": [
      "[CV 3/5] END criterion=entropy, max_depth=3, max_features=auto, n_estimators=130;, score=0.673 total time=   0.3s\n"
     ]
    },
    {
     "name": "stderr",
     "output_type": "stream",
     "text": [
      "/home/nidhiyashwanth/.local/lib/python3.10/site-packages/sklearn/ensemble/_forest.py:424: FutureWarning: `max_features='auto'` has been deprecated in 1.1 and will be removed in 1.3. To keep the past behaviour, explicitly set `max_features='sqrt'` or remove this parameter as it is also the default value for RandomForestClassifiers and ExtraTreesClassifiers.\n",
      "  warn(\n"
     ]
    },
    {
     "name": "stdout",
     "output_type": "stream",
     "text": [
      "[CV 4/5] END criterion=entropy, max_depth=3, max_features=auto, n_estimators=130;, score=0.673 total time=   0.3s\n"
     ]
    },
    {
     "name": "stderr",
     "output_type": "stream",
     "text": [
      "/home/nidhiyashwanth/.local/lib/python3.10/site-packages/sklearn/ensemble/_forest.py:424: FutureWarning: `max_features='auto'` has been deprecated in 1.1 and will be removed in 1.3. To keep the past behaviour, explicitly set `max_features='sqrt'` or remove this parameter as it is also the default value for RandomForestClassifiers and ExtraTreesClassifiers.\n",
      "  warn(\n"
     ]
    },
    {
     "name": "stdout",
     "output_type": "stream",
     "text": [
      "[CV 5/5] END criterion=entropy, max_depth=3, max_features=auto, n_estimators=130;, score=0.670 total time=   0.3s\n",
      "[CV 1/5] END criterion=entropy, max_depth=3, max_features=log2, n_estimators=10;, score=0.691 total time=   0.0s\n",
      "[CV 2/5] END criterion=entropy, max_depth=3, max_features=log2, n_estimators=10;, score=0.676 total time=   0.0s\n",
      "[CV 3/5] END criterion=entropy, max_depth=3, max_features=log2, n_estimators=10;, score=0.673 total time=   0.0s\n",
      "[CV 4/5] END criterion=entropy, max_depth=3, max_features=log2, n_estimators=10;, score=0.673 total time=   0.0s\n",
      "[CV 5/5] END criterion=entropy, max_depth=3, max_features=log2, n_estimators=10;, score=0.670 total time=   0.0s\n",
      "[CV 1/5] END criterion=entropy, max_depth=3, max_features=log2, n_estimators=50;, score=0.673 total time=   0.2s\n",
      "[CV 2/5] END criterion=entropy, max_depth=3, max_features=log2, n_estimators=50;, score=0.673 total time=   0.1s\n",
      "[CV 3/5] END criterion=entropy, max_depth=3, max_features=log2, n_estimators=50;, score=0.673 total time=   0.1s\n",
      "[CV 4/5] END criterion=entropy, max_depth=3, max_features=log2, n_estimators=50;, score=0.673 total time=   0.1s\n",
      "[CV 5/5] END criterion=entropy, max_depth=3, max_features=log2, n_estimators=50;, score=0.670 total time=   0.2s\n",
      "[CV 1/5] END criterion=entropy, max_depth=3, max_features=log2, n_estimators=100;, score=0.673 total time=   0.3s\n",
      "[CV 2/5] END criterion=entropy, max_depth=3, max_features=log2, n_estimators=100;, score=0.673 total time=   0.3s\n",
      "[CV 3/5] END criterion=entropy, max_depth=3, max_features=log2, n_estimators=100;, score=0.673 total time=   0.3s\n",
      "[CV 4/5] END criterion=entropy, max_depth=3, max_features=log2, n_estimators=100;, score=0.673 total time=   0.4s\n",
      "[CV 5/5] END criterion=entropy, max_depth=3, max_features=log2, n_estimators=100;, score=0.670 total time=   0.3s\n",
      "[CV 1/5] END criterion=entropy, max_depth=3, max_features=log2, n_estimators=130;, score=0.673 total time=   0.4s\n",
      "[CV 2/5] END criterion=entropy, max_depth=3, max_features=log2, n_estimators=130;, score=0.673 total time=   0.4s\n",
      "[CV 3/5] END criterion=entropy, max_depth=3, max_features=log2, n_estimators=130;, score=0.673 total time=   0.4s\n",
      "[CV 4/5] END criterion=entropy, max_depth=3, max_features=log2, n_estimators=130;, score=0.673 total time=   0.4s\n",
      "[CV 5/5] END criterion=entropy, max_depth=3, max_features=log2, n_estimators=130;, score=0.670 total time=   0.4s\n",
      "Random Forest best params: {'criterion': 'gini', 'max_depth': 3, 'max_features': 'auto', 'n_estimators': 10}. Exited the get_best_params_for_random_forest method of the Model_Finder class\n",
      "AUC for RF:0.8908192870498931\n"
     ]
    },
    {
     "name": "stderr",
     "output_type": "stream",
     "text": [
      "/home/nidhiyashwanth/.local/lib/python3.10/site-packages/sklearn/ensemble/_forest.py:424: FutureWarning: `max_features='auto'` has been deprecated in 1.1 and will be removed in 1.3. To keep the past behaviour, explicitly set `max_features='sqrt'` or remove this parameter as it is also the default value for RandomForestClassifiers and ExtraTreesClassifiers.\n",
      "  warn(\n",
      "/home/nidhiyashwanth/.local/lib/python3.10/site-packages/sklearn/ensemble/_forest.py:424: FutureWarning: `max_features='auto'` has been deprecated in 1.1 and will be removed in 1.3. To keep the past behaviour, explicitly set `max_features='sqrt'` or remove this parameter as it is also the default value for RandomForestClassifiers and ExtraTreesClassifiers.\n",
      "  warn(\n"
     ]
    }
   ],
   "source": [
    "best_model_name , best_model  = get_best_model(x_train,y_train,x_test,y_test)"
   ]
  },
  {
   "cell_type": "code",
   "execution_count": 67,
   "metadata": {
    "colab": {
     "base_uri": "https://localhost:8080/",
     "height": 35
    },
    "id": "eGOJsMhoGrxk",
    "outputId": "938c145f-5e76-4008-caae-f938ffba9c32"
   },
   "outputs": [
    {
     "data": {
      "text/plain": [
       "'KNN'"
      ]
     },
     "execution_count": 67,
     "metadata": {},
     "output_type": "execute_result"
    }
   ],
   "source": [
    "best_model_name"
   ]
  },
  {
   "cell_type": "code",
   "execution_count": 68,
   "metadata": {
    "colab": {
     "base_uri": "https://localhost:8080/"
    },
    "id": "-4Z5AV9aIh3X",
    "outputId": "3c8284b6-2d8c-4079-dffe-bdadeca056a7"
   },
   "outputs": [
    {
     "data": {
      "text/html": [
       "<style>#sk-container-id-1 {color: black;background-color: white;}#sk-container-id-1 pre{padding: 0;}#sk-container-id-1 div.sk-toggleable {background-color: white;}#sk-container-id-1 label.sk-toggleable__label {cursor: pointer;display: block;width: 100%;margin-bottom: 0;padding: 0.3em;box-sizing: border-box;text-align: center;}#sk-container-id-1 label.sk-toggleable__label-arrow:before {content: \"▸\";float: left;margin-right: 0.25em;color: #696969;}#sk-container-id-1 label.sk-toggleable__label-arrow:hover:before {color: black;}#sk-container-id-1 div.sk-estimator:hover label.sk-toggleable__label-arrow:before {color: black;}#sk-container-id-1 div.sk-toggleable__content {max-height: 0;max-width: 0;overflow: hidden;text-align: left;background-color: #f0f8ff;}#sk-container-id-1 div.sk-toggleable__content pre {margin: 0.2em;color: black;border-radius: 0.25em;background-color: #f0f8ff;}#sk-container-id-1 input.sk-toggleable__control:checked~div.sk-toggleable__content {max-height: 200px;max-width: 100%;overflow: auto;}#sk-container-id-1 input.sk-toggleable__control:checked~label.sk-toggleable__label-arrow:before {content: \"▾\";}#sk-container-id-1 div.sk-estimator input.sk-toggleable__control:checked~label.sk-toggleable__label {background-color: #d4ebff;}#sk-container-id-1 div.sk-label input.sk-toggleable__control:checked~label.sk-toggleable__label {background-color: #d4ebff;}#sk-container-id-1 input.sk-hidden--visually {border: 0;clip: rect(1px 1px 1px 1px);clip: rect(1px, 1px, 1px, 1px);height: 1px;margin: -1px;overflow: hidden;padding: 0;position: absolute;width: 1px;}#sk-container-id-1 div.sk-estimator {font-family: monospace;background-color: #f0f8ff;border: 1px dotted black;border-radius: 0.25em;box-sizing: border-box;margin-bottom: 0.5em;}#sk-container-id-1 div.sk-estimator:hover {background-color: #d4ebff;}#sk-container-id-1 div.sk-parallel-item::after {content: \"\";width: 100%;border-bottom: 1px solid gray;flex-grow: 1;}#sk-container-id-1 div.sk-label:hover label.sk-toggleable__label {background-color: #d4ebff;}#sk-container-id-1 div.sk-serial::before {content: \"\";position: absolute;border-left: 1px solid gray;box-sizing: border-box;top: 0;bottom: 0;left: 50%;z-index: 0;}#sk-container-id-1 div.sk-serial {display: flex;flex-direction: column;align-items: center;background-color: white;padding-right: 0.2em;padding-left: 0.2em;position: relative;}#sk-container-id-1 div.sk-item {position: relative;z-index: 1;}#sk-container-id-1 div.sk-parallel {display: flex;align-items: stretch;justify-content: center;background-color: white;position: relative;}#sk-container-id-1 div.sk-item::before, #sk-container-id-1 div.sk-parallel-item::before {content: \"\";position: absolute;border-left: 1px solid gray;box-sizing: border-box;top: 0;bottom: 0;left: 50%;z-index: -1;}#sk-container-id-1 div.sk-parallel-item {display: flex;flex-direction: column;z-index: 1;position: relative;background-color: white;}#sk-container-id-1 div.sk-parallel-item:first-child::after {align-self: flex-end;width: 50%;}#sk-container-id-1 div.sk-parallel-item:last-child::after {align-self: flex-start;width: 50%;}#sk-container-id-1 div.sk-parallel-item:only-child::after {width: 0;}#sk-container-id-1 div.sk-dashed-wrapped {border: 1px dashed gray;margin: 0 0.4em 0.5em 0.4em;box-sizing: border-box;padding-bottom: 0.4em;background-color: white;}#sk-container-id-1 div.sk-label label {font-family: monospace;font-weight: bold;display: inline-block;line-height: 1.2em;}#sk-container-id-1 div.sk-label-container {text-align: center;}#sk-container-id-1 div.sk-container {/* jupyter's `normalize.less` sets `[hidden] { display: none; }` but bootstrap.min.css set `[hidden] { display: none !important; }` so we also need the `!important` here to be able to override the default hidden behavior on the sphinx rendered scikit-learn.org. See: https://github.com/scikit-learn/scikit-learn/issues/21755 */display: inline-block !important;position: relative;}#sk-container-id-1 div.sk-text-repr-fallback {display: none;}</style><div id=\"sk-container-id-1\" class=\"sk-top-container\"><div class=\"sk-text-repr-fallback\"><pre>KNeighborsClassifier(algorithm=&#x27;kd_tree&#x27;, leaf_size=17, n_jobs=-1,\n",
       "                     n_neighbors=4, p=1)</pre><b>In a Jupyter environment, please rerun this cell to show the HTML representation or trust the notebook. <br />On GitHub, the HTML representation is unable to render, please try loading this page with nbviewer.org.</b></div><div class=\"sk-container\" hidden><div class=\"sk-item\"><div class=\"sk-estimator sk-toggleable\"><input class=\"sk-toggleable__control sk-hidden--visually\" id=\"sk-estimator-id-1\" type=\"checkbox\" checked><label for=\"sk-estimator-id-1\" class=\"sk-toggleable__label sk-toggleable__label-arrow\">KNeighborsClassifier</label><div class=\"sk-toggleable__content\"><pre>KNeighborsClassifier(algorithm=&#x27;kd_tree&#x27;, leaf_size=17, n_jobs=-1,\n",
       "                     n_neighbors=4, p=1)</pre></div></div></div></div></div>"
      ],
      "text/plain": [
       "KNeighborsClassifier(algorithm='kd_tree', leaf_size=17, n_jobs=-1,\n",
       "                     n_neighbors=4, p=1)"
      ]
     },
     "execution_count": 68,
     "metadata": {},
     "output_type": "execute_result"
    }
   ],
   "source": [
    "best_model"
   ]
  },
  {
   "cell_type": "code",
   "execution_count": 69,
   "metadata": {
    "colab": {
     "base_uri": "https://localhost:8080/"
    },
    "id": "cesO8ltqIkcL",
    "outputId": "f0410640-39ef-4ace-8055-f52c8f748b63"
   },
   "outputs": [
    {
     "data": {
      "text/plain": [
       "0.9210850801479655"
      ]
     },
     "execution_count": 69,
     "metadata": {},
     "output_type": "execute_result"
    }
   ],
   "source": [
    "best_model.score(x_test,y_test)"
   ]
  },
  {
   "cell_type": "code",
   "execution_count": 70,
   "metadata": {
    "colab": {
     "base_uri": "https://localhost:8080/",
     "height": 224
    },
    "id": "q7lrI8HDIxwK",
    "outputId": "ebdd06af-477b-4683-ed92-9dc0fb074d86"
   },
   "outputs": [
    {
     "data": {
      "text/html": [
       "<div>\n",
       "<style scoped>\n",
       "    .dataframe tbody tr th:only-of-type {\n",
       "        vertical-align: middle;\n",
       "    }\n",
       "\n",
       "    .dataframe tbody tr th {\n",
       "        vertical-align: top;\n",
       "    }\n",
       "\n",
       "    .dataframe thead th {\n",
       "        text-align: right;\n",
       "    }\n",
       "</style>\n",
       "<table border=\"1\" class=\"dataframe\">\n",
       "  <thead>\n",
       "    <tr style=\"text-align: right;\">\n",
       "      <th></th>\n",
       "      <th>age</th>\n",
       "      <th>sex</th>\n",
       "      <th>on_thyroxine</th>\n",
       "      <th>query_on_thyroxine</th>\n",
       "      <th>on_antithyroid_medication</th>\n",
       "      <th>sick</th>\n",
       "      <th>pregnant</th>\n",
       "      <th>thyroid_surgery</th>\n",
       "      <th>I131_treatment</th>\n",
       "      <th>query_hypothyroid</th>\n",
       "      <th>...</th>\n",
       "      <th>psych</th>\n",
       "      <th>T3</th>\n",
       "      <th>TT4</th>\n",
       "      <th>T4U</th>\n",
       "      <th>FTI</th>\n",
       "      <th>referral_source_STMW</th>\n",
       "      <th>referral_source_SVHC</th>\n",
       "      <th>referral_source_SVHD</th>\n",
       "      <th>referral_source_SVI</th>\n",
       "      <th>referral_source_other</th>\n",
       "    </tr>\n",
       "  </thead>\n",
       "  <tbody>\n",
       "    <tr>\n",
       "      <th>2147</th>\n",
       "      <td>31.0</td>\n",
       "      <td>1.0</td>\n",
       "      <td>0.0</td>\n",
       "      <td>0.0</td>\n",
       "      <td>0.0</td>\n",
       "      <td>0.0</td>\n",
       "      <td>0.0</td>\n",
       "      <td>0.0</td>\n",
       "      <td>0.0</td>\n",
       "      <td>0.0</td>\n",
       "      <td>...</td>\n",
       "      <td>0.0</td>\n",
       "      <td>6.0</td>\n",
       "      <td>146.0</td>\n",
       "      <td>4.0</td>\n",
       "      <td>137.0</td>\n",
       "      <td>0.0</td>\n",
       "      <td>0.0</td>\n",
       "      <td>0.0</td>\n",
       "      <td>0.0</td>\n",
       "      <td>1.0</td>\n",
       "    </tr>\n",
       "    <tr>\n",
       "      <th>25</th>\n",
       "      <td>66.0</td>\n",
       "      <td>0.0</td>\n",
       "      <td>0.0</td>\n",
       "      <td>0.0</td>\n",
       "      <td>0.0</td>\n",
       "      <td>0.0</td>\n",
       "      <td>0.0</td>\n",
       "      <td>0.0</td>\n",
       "      <td>0.0</td>\n",
       "      <td>0.0</td>\n",
       "      <td>...</td>\n",
       "      <td>0.0</td>\n",
       "      <td>9.0</td>\n",
       "      <td>202.0</td>\n",
       "      <td>4.0</td>\n",
       "      <td>193.0</td>\n",
       "      <td>0.0</td>\n",
       "      <td>0.0</td>\n",
       "      <td>0.0</td>\n",
       "      <td>0.0</td>\n",
       "      <td>1.0</td>\n",
       "    </tr>\n",
       "    <tr>\n",
       "      <th>1576</th>\n",
       "      <td>48.0</td>\n",
       "      <td>0.0</td>\n",
       "      <td>0.0</td>\n",
       "      <td>0.0</td>\n",
       "      <td>0.0</td>\n",
       "      <td>0.0</td>\n",
       "      <td>0.0</td>\n",
       "      <td>0.0</td>\n",
       "      <td>0.0</td>\n",
       "      <td>0.0</td>\n",
       "      <td>...</td>\n",
       "      <td>0.0</td>\n",
       "      <td>5.0</td>\n",
       "      <td>168.0</td>\n",
       "      <td>4.0</td>\n",
       "      <td>164.0</td>\n",
       "      <td>0.0</td>\n",
       "      <td>0.0</td>\n",
       "      <td>0.0</td>\n",
       "      <td>1.0</td>\n",
       "      <td>0.0</td>\n",
       "    </tr>\n",
       "    <tr>\n",
       "      <th>3392</th>\n",
       "      <td>39.0</td>\n",
       "      <td>0.0</td>\n",
       "      <td>0.0</td>\n",
       "      <td>0.0</td>\n",
       "      <td>0.0</td>\n",
       "      <td>0.0</td>\n",
       "      <td>0.0</td>\n",
       "      <td>0.0</td>\n",
       "      <td>0.0</td>\n",
       "      <td>0.0</td>\n",
       "      <td>...</td>\n",
       "      <td>0.0</td>\n",
       "      <td>6.0</td>\n",
       "      <td>136.0</td>\n",
       "      <td>5.0</td>\n",
       "      <td>90.0</td>\n",
       "      <td>1.0</td>\n",
       "      <td>0.0</td>\n",
       "      <td>0.0</td>\n",
       "      <td>0.0</td>\n",
       "      <td>0.0</td>\n",
       "    </tr>\n",
       "    <tr>\n",
       "      <th>3942</th>\n",
       "      <td>22.0</td>\n",
       "      <td>1.0</td>\n",
       "      <td>0.0</td>\n",
       "      <td>0.0</td>\n",
       "      <td>0.0</td>\n",
       "      <td>0.0</td>\n",
       "      <td>0.0</td>\n",
       "      <td>0.0</td>\n",
       "      <td>0.0</td>\n",
       "      <td>1.0</td>\n",
       "      <td>...</td>\n",
       "      <td>0.0</td>\n",
       "      <td>5.0</td>\n",
       "      <td>120.0</td>\n",
       "      <td>4.0</td>\n",
       "      <td>117.0</td>\n",
       "      <td>0.0</td>\n",
       "      <td>0.0</td>\n",
       "      <td>0.0</td>\n",
       "      <td>0.0</td>\n",
       "      <td>1.0</td>\n",
       "    </tr>\n",
       "  </tbody>\n",
       "</table>\n",
       "<p>5 rows × 25 columns</p>\n",
       "</div>"
      ],
      "text/plain": [
       "       age  sex  on_thyroxine  query_on_thyroxine  on_antithyroid_medication  \\\n",
       "2147  31.0  1.0           0.0                 0.0                        0.0   \n",
       "25    66.0  0.0           0.0                 0.0                        0.0   \n",
       "1576  48.0  0.0           0.0                 0.0                        0.0   \n",
       "3392  39.0  0.0           0.0                 0.0                        0.0   \n",
       "3942  22.0  1.0           0.0                 0.0                        0.0   \n",
       "\n",
       "      sick  pregnant  thyroid_surgery  I131_treatment  query_hypothyroid  ...  \\\n",
       "2147   0.0       0.0              0.0             0.0                0.0  ...   \n",
       "25     0.0       0.0              0.0             0.0                0.0  ...   \n",
       "1576   0.0       0.0              0.0             0.0                0.0  ...   \n",
       "3392   0.0       0.0              0.0             0.0                0.0  ...   \n",
       "3942   0.0       0.0              0.0             0.0                1.0  ...   \n",
       "\n",
       "      psych   T3    TT4  T4U    FTI  referral_source_STMW  \\\n",
       "2147    0.0  6.0  146.0  4.0  137.0                   0.0   \n",
       "25      0.0  9.0  202.0  4.0  193.0                   0.0   \n",
       "1576    0.0  5.0  168.0  4.0  164.0                   0.0   \n",
       "3392    0.0  6.0  136.0  5.0   90.0                   1.0   \n",
       "3942    0.0  5.0  120.0  4.0  117.0                   0.0   \n",
       "\n",
       "      referral_source_SVHC  referral_source_SVHD  referral_source_SVI  \\\n",
       "2147                   0.0                   0.0                  0.0   \n",
       "25                     0.0                   0.0                  0.0   \n",
       "1576                   0.0                   0.0                  1.0   \n",
       "3392                   0.0                   0.0                  0.0   \n",
       "3942                   0.0                   0.0                  0.0   \n",
       "\n",
       "      referral_source_other  \n",
       "2147                    1.0  \n",
       "25                      1.0  \n",
       "1576                    0.0  \n",
       "3392                    0.0  \n",
       "3942                    1.0  \n",
       "\n",
       "[5 rows x 25 columns]"
      ]
     },
     "execution_count": 70,
     "metadata": {},
     "output_type": "execute_result"
    }
   ],
   "source": [
    "x_train.head(5)"
   ]
  },
  {
   "cell_type": "code",
   "execution_count": 71,
   "metadata": {
    "colab": {
     "base_uri": "https://localhost:8080/"
    },
    "id": "xk96IZoRJYBt",
    "outputId": "d6cd0a50-c592-43f0-d139-06c4f2ffb24c"
   },
   "outputs": [
    {
     "data": {
      "text/plain": [
       "(1620, 25)"
      ]
     },
     "execution_count": 71,
     "metadata": {},
     "output_type": "execute_result"
    }
   ],
   "source": [
    "x_train.shape"
   ]
  },
  {
   "cell_type": "code",
   "execution_count": 72,
   "metadata": {
    "colab": {
     "base_uri": "https://localhost:8080/"
    },
    "id": "0jzs3H5ZIqrk",
    "outputId": "069e7378-10cf-4be0-bde5-e27a9b975216"
   },
   "outputs": [
    {
     "name": "stderr",
     "output_type": "stream",
     "text": [
      "/home/nidhiyashwanth/.local/lib/python3.10/site-packages/sklearn/base.py:439: UserWarning: X does not have valid feature names, but KNeighborsClassifier was fitted with feature names\n",
      "  warnings.warn(\n"
     ]
    },
    {
     "data": {
      "text/plain": [
       "array([1.])"
      ]
     },
     "execution_count": 72,
     "metadata": {},
     "output_type": "execute_result"
    }
   ],
   "source": [
    "best_model.predict([[49.0,\t0.0, 1.0, 0.0,\t0.0,\t0.0,\t0.0,\t0.0,\t0.0,\t1.0,\t0.0,\t0.0,\t0.0,\t0.0,\t0.0,\t0.0\t,2.0,\t64.0,\t2.0,\t60.0,\t0.0,\t0.0,\t0.0,\t0.0,\t1.0]])"
   ]
  },
  {
   "cell_type": "code",
   "execution_count": 73,
   "metadata": {
    "id": "qnnIrpeFKVFu"
   },
   "outputs": [],
   "source": [
    "enc =  pickle.load(open('enc.pickle','rb'))"
   ]
  },
  {
   "cell_type": "code",
   "execution_count": 74,
   "metadata": {
    "colab": {
     "base_uri": "https://localhost:8080/"
    },
    "id": "p2bfSw1JXXxr",
    "outputId": "07612791-e69b-4f95-d6ee-6a1074a23d87"
   },
   "outputs": [
    {
     "data": {
      "text/plain": [
       "array([1., 0., 0., 0., 2., 1., 1., 1., 0., 1., 1., 0., 1., 0., 2., 1., 0.,\n",
       "       0., 1., 0., 0., 0., 0., 0., 1., 1., 0., 1., 1., 1., 0., 0., 1., 2.,\n",
       "       1., 1., 1., 0., 0., 0., 1., 1., 1., 1., 1., 1., 1., 1., 0., 1., 0.,\n",
       "       1., 1., 1., 1., 1., 1., 0., 0., 1., 0., 1., 0., 0., 1., 1., 0., 0.,\n",
       "       1., 0., 1., 1., 1., 0., 0., 1., 0., 0., 0., 1., 0., 0., 1., 0., 1.,\n",
       "       1., 1., 0., 0., 1., 0., 0., 0., 1., 0., 1., 0., 1., 0., 1., 1., 1.,\n",
       "       0., 1., 1., 1., 0., 0., 1., 0., 0., 0., 0., 1., 1., 1., 1., 1., 0.,\n",
       "       0., 1., 1., 2., 1., 0., 0., 1., 1., 1., 1., 0., 1., 0., 1., 1., 1.,\n",
       "       1., 1., 0., 1., 1., 1., 0., 1., 1., 1., 0., 1., 0., 1., 0., 0., 1.,\n",
       "       1., 1., 1., 0., 1., 0., 1., 1., 0., 0., 0., 0., 1., 1., 1., 1., 1.,\n",
       "       0., 1., 0., 1., 0., 1., 1., 1., 1., 1., 1., 1., 0., 1., 1., 0., 0.,\n",
       "       0., 0., 0., 0., 1., 0., 1., 0., 0., 1., 0., 1., 1., 0., 1., 0., 2.,\n",
       "       2., 1., 1., 2., 1., 1., 1., 1., 0., 1., 1., 0., 1., 1., 1., 1., 0.,\n",
       "       0., 1., 0., 1., 1., 2., 0., 1., 1., 1., 0., 1., 0., 2., 1., 0., 0.,\n",
       "       0., 1., 0., 1., 0., 1., 1., 1., 1., 1., 1., 2., 1., 0., 0., 0., 1.,\n",
       "       0., 0., 1., 1., 0., 1., 0., 0., 1., 1., 0., 0., 1., 1., 0., 2., 1.,\n",
       "       1., 0., 1., 0., 2., 0., 0., 0., 1., 1., 1., 0., 0., 0., 1., 1., 1.,\n",
       "       1., 0., 1., 0., 1., 1., 0., 1., 1., 1., 1., 1., 1., 0., 1., 1., 0.,\n",
       "       1., 1., 1., 1., 1., 1., 0., 1., 1., 2., 1., 0., 0., 0., 0., 1., 0.,\n",
       "       0., 1., 1., 1., 0., 1., 0., 1., 1., 0., 1., 0., 0., 0., 1., 1., 1.,\n",
       "       1., 1., 1., 1., 1., 1., 1., 1., 2., 2., 1., 1., 1., 1., 1., 1., 1.,\n",
       "       1., 1., 0., 0., 1., 1., 1., 1., 0., 1., 0., 1., 1., 0., 1., 0., 2.,\n",
       "       0., 1., 0., 0., 0., 1., 0., 0., 1., 1., 1., 0., 1., 1., 1., 1., 1.,\n",
       "       0., 0., 2., 1., 1., 0., 1., 1., 1., 2., 1., 1., 1., 1., 1., 1., 1.,\n",
       "       1., 1., 0., 1., 1., 1., 0., 0., 1., 0., 0., 1., 0., 1., 0., 0., 1.,\n",
       "       1., 0., 0., 1., 1., 0., 1., 1., 1., 1., 1., 0., 0., 1., 1., 1., 0.,\n",
       "       1., 1., 1., 1., 0., 1., 0., 1., 1., 1., 1., 1., 1., 1., 0., 2., 0.,\n",
       "       0., 1., 0., 0., 1., 0., 1., 0., 1., 1., 0., 1., 0., 1., 0., 0., 1.,\n",
       "       1., 0., 1., 1., 1., 1., 0., 1., 1., 1., 0., 0., 1., 1., 1., 0., 1.,\n",
       "       1., 1., 0., 0., 1., 0., 0., 1., 0., 0., 1., 1., 0., 1., 1., 1., 0.,\n",
       "       0., 1., 1., 1., 1., 1., 0., 0., 1., 1., 0., 1., 1., 1., 0., 1., 0.,\n",
       "       1., 0., 1., 0., 0., 1., 0., 1., 0., 0., 1., 1., 1., 0., 1., 1., 1.,\n",
       "       0., 0., 1., 0., 1., 1., 1., 1., 0., 2., 0., 1., 1., 1., 1., 1., 0.,\n",
       "       1., 1., 0., 0., 1., 1., 1., 1., 1., 0., 1., 0., 1., 0., 1., 0., 1.,\n",
       "       1., 1., 1., 1., 1., 0., 0., 1., 1., 1., 1., 1., 1., 0., 1., 1., 0.,\n",
       "       1., 1., 1., 1., 1., 1., 0., 1., 0., 1., 1., 0., 0., 1., 1., 0., 0.,\n",
       "       0., 1., 1., 0., 0., 2., 0., 0., 0., 1., 0., 0., 1., 1., 0., 0., 1.,\n",
       "       1., 0., 0., 1., 1., 1., 2., 1., 1., 0., 1., 0., 1., 1., 1., 1., 1.,\n",
       "       1., 0., 1., 1., 1., 1., 1., 0., 1., 1., 1., 1., 2., 0., 1., 0., 1.,\n",
       "       0., 2., 1., 0., 1., 1., 1., 1., 1., 1., 1., 0., 0., 0., 1., 1., 0.,\n",
       "       1., 0., 1., 0., 1., 1., 0., 1., 0., 1., 1., 0., 1., 0., 0., 0., 1.,\n",
       "       0., 1., 1., 0., 0., 0., 1., 1., 1., 2., 0., 0., 1., 0., 0., 1., 1.,\n",
       "       1., 0., 0., 1., 1., 0., 1., 1., 1., 1., 0., 0., 0., 0., 1., 0., 1.,\n",
       "       0., 0., 1., 1., 1., 1., 1., 1., 0., 1., 1., 0., 1., 0., 1., 1., 1.,\n",
       "       0., 0., 1., 2., 1., 1., 1., 1., 1., 0., 1., 0., 0., 0., 0., 1., 0.,\n",
       "       1., 1., 0., 0., 0., 0., 1., 1., 0., 1., 1., 1., 1., 1., 0., 1., 1.,\n",
       "       0., 1., 1., 1., 0., 0., 1., 1., 0., 1., 1., 0., 0., 0., 0., 0., 0.,\n",
       "       0., 0., 0., 1., 2., 2., 1., 0., 1., 1., 0., 0.])"
      ]
     },
     "execution_count": 74,
     "metadata": {},
     "output_type": "execute_result"
    }
   ],
   "source": [
    "best_model.predict(x_test)"
   ]
  },
  {
   "cell_type": "code",
   "execution_count": 75,
   "metadata": {
    "colab": {
     "base_uri": "https://localhost:8080/"
    },
    "id": "Na9KmZ_OXhmp",
    "outputId": "76ab7a40-9a80-4df6-958f-c60463f53085"
   },
   "outputs": [
    {
     "data": {
      "text/plain": [
       "array(['secondary_hypothyroid', 'primary_hypothyroid', 'negative',\n",
       "       'compensated_hypothyroid', 'negative', 'primary_hypothyroid',\n",
       "       'secondary_hypothyroid'], dtype=object)"
      ]
     },
     "execution_count": 75,
     "metadata": {},
     "output_type": "execute_result"
    }
   ],
   "source": [
    "enc.inverse_transform([3,2,1,0,1,2,3])"
   ]
  },
  {
   "cell_type": "markdown",
   "metadata": {
    "id": "NJ8bxfrYZmok"
   },
   "source": [
    "#### For one one prediction, we will use XGBoost Model"
   ]
  },
  {
   "cell_type": "code",
   "execution_count": 76,
   "metadata": {
    "colab": {
     "base_uri": "https://localhost:8080/"
    },
    "id": "EZ6c2JK2YCJo",
    "outputId": "5b251f6e-855a-4052-bf89-ed2a202b0387"
   },
   "outputs": [
    {
     "data": {
      "text/html": [
       "<style>#sk-container-id-2 {color: black;background-color: white;}#sk-container-id-2 pre{padding: 0;}#sk-container-id-2 div.sk-toggleable {background-color: white;}#sk-container-id-2 label.sk-toggleable__label {cursor: pointer;display: block;width: 100%;margin-bottom: 0;padding: 0.3em;box-sizing: border-box;text-align: center;}#sk-container-id-2 label.sk-toggleable__label-arrow:before {content: \"▸\";float: left;margin-right: 0.25em;color: #696969;}#sk-container-id-2 label.sk-toggleable__label-arrow:hover:before {color: black;}#sk-container-id-2 div.sk-estimator:hover label.sk-toggleable__label-arrow:before {color: black;}#sk-container-id-2 div.sk-toggleable__content {max-height: 0;max-width: 0;overflow: hidden;text-align: left;background-color: #f0f8ff;}#sk-container-id-2 div.sk-toggleable__content pre {margin: 0.2em;color: black;border-radius: 0.25em;background-color: #f0f8ff;}#sk-container-id-2 input.sk-toggleable__control:checked~div.sk-toggleable__content {max-height: 200px;max-width: 100%;overflow: auto;}#sk-container-id-2 input.sk-toggleable__control:checked~label.sk-toggleable__label-arrow:before {content: \"▾\";}#sk-container-id-2 div.sk-estimator input.sk-toggleable__control:checked~label.sk-toggleable__label {background-color: #d4ebff;}#sk-container-id-2 div.sk-label input.sk-toggleable__control:checked~label.sk-toggleable__label {background-color: #d4ebff;}#sk-container-id-2 input.sk-hidden--visually {border: 0;clip: rect(1px 1px 1px 1px);clip: rect(1px, 1px, 1px, 1px);height: 1px;margin: -1px;overflow: hidden;padding: 0;position: absolute;width: 1px;}#sk-container-id-2 div.sk-estimator {font-family: monospace;background-color: #f0f8ff;border: 1px dotted black;border-radius: 0.25em;box-sizing: border-box;margin-bottom: 0.5em;}#sk-container-id-2 div.sk-estimator:hover {background-color: #d4ebff;}#sk-container-id-2 div.sk-parallel-item::after {content: \"\";width: 100%;border-bottom: 1px solid gray;flex-grow: 1;}#sk-container-id-2 div.sk-label:hover label.sk-toggleable__label {background-color: #d4ebff;}#sk-container-id-2 div.sk-serial::before {content: \"\";position: absolute;border-left: 1px solid gray;box-sizing: border-box;top: 0;bottom: 0;left: 50%;z-index: 0;}#sk-container-id-2 div.sk-serial {display: flex;flex-direction: column;align-items: center;background-color: white;padding-right: 0.2em;padding-left: 0.2em;position: relative;}#sk-container-id-2 div.sk-item {position: relative;z-index: 1;}#sk-container-id-2 div.sk-parallel {display: flex;align-items: stretch;justify-content: center;background-color: white;position: relative;}#sk-container-id-2 div.sk-item::before, #sk-container-id-2 div.sk-parallel-item::before {content: \"\";position: absolute;border-left: 1px solid gray;box-sizing: border-box;top: 0;bottom: 0;left: 50%;z-index: -1;}#sk-container-id-2 div.sk-parallel-item {display: flex;flex-direction: column;z-index: 1;position: relative;background-color: white;}#sk-container-id-2 div.sk-parallel-item:first-child::after {align-self: flex-end;width: 50%;}#sk-container-id-2 div.sk-parallel-item:last-child::after {align-self: flex-start;width: 50%;}#sk-container-id-2 div.sk-parallel-item:only-child::after {width: 0;}#sk-container-id-2 div.sk-dashed-wrapped {border: 1px dashed gray;margin: 0 0.4em 0.5em 0.4em;box-sizing: border-box;padding-bottom: 0.4em;background-color: white;}#sk-container-id-2 div.sk-label label {font-family: monospace;font-weight: bold;display: inline-block;line-height: 1.2em;}#sk-container-id-2 div.sk-label-container {text-align: center;}#sk-container-id-2 div.sk-container {/* jupyter's `normalize.less` sets `[hidden] { display: none; }` but bootstrap.min.css set `[hidden] { display: none !important; }` so we also need the `!important` here to be able to override the default hidden behavior on the sphinx rendered scikit-learn.org. See: https://github.com/scikit-learn/scikit-learn/issues/21755 */display: inline-block !important;position: relative;}#sk-container-id-2 div.sk-text-repr-fallback {display: none;}</style><div id=\"sk-container-id-2\" class=\"sk-top-container\"><div class=\"sk-text-repr-fallback\"><pre>XGBClassifier(base_score=None, booster=None, callbacks=None,\n",
       "              colsample_bylevel=None, colsample_bynode=None,\n",
       "              colsample_bytree=None, early_stopping_rounds=None,\n",
       "              enable_categorical=False, eval_metric=None, feature_types=None,\n",
       "              gamma=None, gpu_id=None, grow_policy=None, importance_type=None,\n",
       "              interaction_constraints=None, learning_rate=1, max_bin=None,\n",
       "              max_cat_threshold=None, max_cat_to_onehot=None,\n",
       "              max_delta_step=None, max_depth=5, max_leaves=None,\n",
       "              min_child_weight=None, missing=nan, monotone_constraints=None,\n",
       "              n_estimators=50, n_jobs=None, num_parallel_tree=None,\n",
       "              objective=&#x27;multi:softprob&#x27;, predictor=None, ...)</pre><b>In a Jupyter environment, please rerun this cell to show the HTML representation or trust the notebook. <br />On GitHub, the HTML representation is unable to render, please try loading this page with nbviewer.org.</b></div><div class=\"sk-container\" hidden><div class=\"sk-item\"><div class=\"sk-estimator sk-toggleable\"><input class=\"sk-toggleable__control sk-hidden--visually\" id=\"sk-estimator-id-2\" type=\"checkbox\" checked><label for=\"sk-estimator-id-2\" class=\"sk-toggleable__label sk-toggleable__label-arrow\">XGBClassifier</label><div class=\"sk-toggleable__content\"><pre>XGBClassifier(base_score=None, booster=None, callbacks=None,\n",
       "              colsample_bylevel=None, colsample_bynode=None,\n",
       "              colsample_bytree=None, early_stopping_rounds=None,\n",
       "              enable_categorical=False, eval_metric=None, feature_types=None,\n",
       "              gamma=None, gpu_id=None, grow_policy=None, importance_type=None,\n",
       "              interaction_constraints=None, learning_rate=1, max_bin=None,\n",
       "              max_cat_threshold=None, max_cat_to_onehot=None,\n",
       "              max_delta_step=None, max_depth=5, max_leaves=None,\n",
       "              min_child_weight=None, missing=nan, monotone_constraints=None,\n",
       "              n_estimators=50, n_jobs=None, num_parallel_tree=None,\n",
       "              objective=&#x27;multi:softprob&#x27;, predictor=None, ...)</pre></div></div></div></div></div>"
      ],
      "text/plain": [
       "XGBClassifier(base_score=None, booster=None, callbacks=None,\n",
       "              colsample_bylevel=None, colsample_bynode=None,\n",
       "              colsample_bytree=None, early_stopping_rounds=None,\n",
       "              enable_categorical=False, eval_metric=None, feature_types=None,\n",
       "              gamma=None, gpu_id=None, grow_policy=None, importance_type=None,\n",
       "              interaction_constraints=None, learning_rate=1, max_bin=None,\n",
       "              max_cat_threshold=None, max_cat_to_onehot=None,\n",
       "              max_delta_step=None, max_depth=5, max_leaves=None,\n",
       "              min_child_weight=None, missing=nan, monotone_constraints=None,\n",
       "              n_estimators=50, n_jobs=None, num_parallel_tree=None,\n",
       "              objective='multi:softprob', predictor=None, ...)"
      ]
     },
     "execution_count": 76,
     "metadata": {},
     "output_type": "execute_result"
    }
   ],
   "source": [
    "xgb_classifier"
   ]
  },
  {
   "cell_type": "code",
   "execution_count": 77,
   "metadata": {
    "colab": {
     "base_uri": "https://localhost:8080/"
    },
    "id": "q57Ka0skYt1N",
    "outputId": "25d7b54a-ea72-4801-9043-3730cbdb35e2"
   },
   "outputs": [
    {
     "data": {
      "text/plain": [
       "array([1, 1, 1, 0, 1, 1, 1, 1, 1, 1, 1, 0, 1, 0, 2, 1, 1, 0, 1, 0, 0, 0,\n",
       "       0, 0, 1, 1, 0, 1, 1, 1, 0, 1, 1, 2, 1, 1, 1, 1, 0, 0, 1, 1, 1, 1,\n",
       "       1, 1, 1, 1, 0, 1, 0, 1, 1, 1, 1, 1, 1, 0, 1, 1, 0, 1, 0, 0, 1, 1,\n",
       "       1, 0, 1, 0, 1, 1, 1, 1, 0, 1, 0, 1, 0, 1, 0, 0, 1, 0, 1, 1, 1, 0,\n",
       "       0, 1, 0, 0, 1, 1, 0, 1, 0, 1, 0, 1, 1, 1, 0, 1, 1, 1, 0, 0, 1, 1,\n",
       "       0, 0, 1, 1, 1, 1, 1, 1, 0, 0, 1, 1, 2, 1, 0, 0, 1, 1, 1, 1, 0, 1,\n",
       "       0, 1, 1, 1, 1, 1, 0, 1, 1, 1, 0, 1, 1, 1, 0, 1, 0, 1, 0, 1, 1, 1,\n",
       "       1, 1, 0, 1, 0, 1, 1, 0, 0, 0, 0, 1, 1, 1, 1, 1, 0, 1, 0, 1, 0, 1,\n",
       "       1, 1, 1, 1, 1, 1, 0, 1, 1, 0, 0, 0, 0, 0, 0, 1, 0, 1, 0, 0, 1, 1,\n",
       "       1, 1, 1, 1, 0, 2, 2, 1, 1, 2, 1, 1, 1, 1, 1, 1, 1, 0, 1, 1, 1, 1,\n",
       "       1, 0, 1, 1, 1, 1, 2, 0, 1, 1, 1, 0, 1, 0, 2, 1, 0, 0, 0, 1, 0, 1,\n",
       "       0, 1, 1, 1, 1, 1, 1, 2, 1, 1, 0, 0, 1, 1, 0, 1, 1, 0, 1, 0, 1, 1,\n",
       "       1, 0, 0, 1, 1, 0, 2, 1, 1, 0, 1, 0, 2, 0, 0, 0, 1, 1, 1, 1, 0, 1,\n",
       "       1, 1, 1, 1, 0, 1, 1, 1, 1, 0, 1, 1, 1, 1, 1, 1, 0, 1, 1, 0, 1, 1,\n",
       "       1, 1, 1, 1, 0, 1, 1, 2, 1, 0, 0, 0, 0, 1, 1, 0, 1, 1, 1, 0, 1, 0,\n",
       "       1, 1, 0, 1, 1, 0, 0, 1, 1, 1, 1, 1, 1, 1, 1, 1, 1, 1, 2, 2, 1, 1,\n",
       "       1, 1, 1, 1, 1, 1, 1, 1, 0, 1, 1, 1, 1, 0, 1, 0, 1, 1, 0, 1, 0, 2,\n",
       "       0, 1, 0, 0, 1, 1, 0, 0, 1, 1, 1, 1, 1, 1, 1, 1, 1, 0, 0, 2, 1, 1,\n",
       "       0, 1, 1, 1, 1, 1, 1, 1, 1, 1, 1, 1, 1, 1, 0, 1, 1, 1, 0, 0, 1, 0,\n",
       "       0, 1, 0, 1, 1, 0, 1, 1, 0, 0, 1, 1, 0, 1, 1, 1, 1, 1, 0, 0, 1, 1,\n",
       "       1, 0, 1, 1, 1, 1, 0, 1, 0, 1, 1, 1, 1, 1, 1, 1, 0, 2, 0, 0, 1, 0,\n",
       "       0, 1, 0, 1, 1, 1, 1, 0, 1, 0, 1, 0, 0, 1, 1, 0, 1, 1, 1, 1, 0, 1,\n",
       "       1, 1, 0, 0, 1, 1, 1, 0, 1, 1, 1, 0, 0, 1, 0, 0, 1, 0, 0, 1, 1, 0,\n",
       "       1, 1, 1, 0, 0, 1, 1, 1, 1, 1, 0, 0, 1, 1, 1, 1, 1, 1, 0, 1, 0, 1,\n",
       "       0, 1, 0, 0, 0, 0, 1, 1, 0, 1, 1, 1, 0, 1, 1, 1, 0, 1, 1, 0, 1, 1,\n",
       "       1, 1, 0, 2, 0, 1, 1, 1, 0, 1, 0, 1, 1, 0, 1, 1, 1, 1, 1, 1, 0, 1,\n",
       "       1, 1, 1, 1, 0, 1, 1, 1, 1, 1, 1, 0, 0, 1, 1, 1, 1, 1, 1, 0, 1, 0,\n",
       "       0, 1, 1, 1, 1, 1, 1, 0, 1, 0, 1, 1, 0, 0, 1, 1, 0, 0, 1, 1, 1, 0,\n",
       "       0, 2, 0, 0, 0, 1, 1, 0, 1, 1, 0, 0, 1, 1, 0, 0, 1, 1, 1, 2, 1, 1,\n",
       "       0, 1, 0, 1, 1, 1, 1, 1, 1, 0, 1, 1, 1, 1, 1, 1, 1, 1, 1, 1, 2, 0,\n",
       "       1, 0, 1, 0, 1, 1, 0, 1, 1, 1, 1, 1, 1, 1, 0, 0, 0, 1, 1, 0, 1, 1,\n",
       "       1, 0, 1, 1, 1, 1, 0, 1, 1, 0, 1, 0, 1, 0, 1, 0, 1, 1, 0, 0, 0, 1,\n",
       "       1, 1, 2, 0, 1, 1, 0, 1, 1, 1, 1, 1, 0, 1, 1, 1, 1, 1, 1, 1, 0, 0,\n",
       "       0, 0, 1, 1, 1, 0, 0, 1, 1, 1, 1, 1, 1, 1, 1, 1, 1, 1, 0, 1, 1, 1,\n",
       "       0, 0, 1, 2, 1, 1, 1, 1, 1, 0, 1, 0, 0, 0, 0, 1, 0, 1, 1, 0, 0, 0,\n",
       "       0, 1, 1, 0, 1, 1, 1, 1, 1, 1, 1, 1, 1, 1, 1, 1, 1, 0, 1, 1, 0, 1,\n",
       "       1, 0, 0, 0, 0, 0, 0, 0, 0, 0, 1, 2, 2, 1, 1, 1, 1, 0, 1])"
      ]
     },
     "execution_count": 77,
     "metadata": {},
     "output_type": "execute_result"
    }
   ],
   "source": [
    "xgb_classifier.predict(x_test)"
   ]
  },
  {
   "cell_type": "code",
   "execution_count": 78,
   "metadata": {
    "colab": {
     "base_uri": "https://localhost:8080/"
    },
    "id": "XTN5FKq-Yz3Y",
    "outputId": "18dcf032-78df-4fc0-9397-e03ae739ff47"
   },
   "outputs": [
    {
     "data": {
      "text/plain": [
       "0.9901356350184957"
      ]
     },
     "execution_count": 78,
     "metadata": {},
     "output_type": "execute_result"
    }
   ],
   "source": [
    "xgb_classifier.score(x_test,y_test)"
   ]
  },
  {
   "cell_type": "code",
   "execution_count": 79,
   "metadata": {
    "id": "J61pna-7Y6tQ"
   },
   "outputs": [],
   "source": [
    "pickle.dump(xgb_classifier,open('xg_Model.pkl','wb'))"
   ]
  },
  {
   "cell_type": "code",
   "execution_count": 80,
   "metadata": {
    "id": "YUslVpC0Zcv0"
   },
   "outputs": [],
   "source": [
    "pickle.dump(new_df,open('df.pkl','wb'))"
   ]
  },
  {
   "cell_type": "code",
   "execution_count": null,
   "metadata": {
    "id": "JYwUCwTGZ5M3"
   },
   "outputs": [],
   "source": []
  },
  {
   "cell_type": "markdown",
   "metadata": {
    "id": "yUFM2fneaT6s"
   },
   "source": [
    "In this notebook, the modle building work has only done for cluster == 1 and rest is understood that for other cluster also we will proceed same."
   ]
  },
  {
   "cell_type": "code",
   "execution_count": 81,
   "metadata": {
    "colab": {
     "base_uri": "https://localhost:8080/",
     "height": 224
    },
    "id": "-asJihl3anMS",
    "outputId": "5875d095-1e6e-4d72-e6c1-d4304169ff22"
   },
   "outputs": [
    {
     "data": {
      "text/html": [
       "<div>\n",
       "<style scoped>\n",
       "    .dataframe tbody tr th:only-of-type {\n",
       "        vertical-align: middle;\n",
       "    }\n",
       "\n",
       "    .dataframe tbody tr th {\n",
       "        vertical-align: top;\n",
       "    }\n",
       "\n",
       "    .dataframe thead th {\n",
       "        text-align: right;\n",
       "    }\n",
       "</style>\n",
       "<table border=\"1\" class=\"dataframe\">\n",
       "  <thead>\n",
       "    <tr style=\"text-align: right;\">\n",
       "      <th></th>\n",
       "      <th>age</th>\n",
       "      <th>sex</th>\n",
       "      <th>on_thyroxine</th>\n",
       "      <th>query_on_thyroxine</th>\n",
       "      <th>on_antithyroid_medication</th>\n",
       "      <th>sick</th>\n",
       "      <th>pregnant</th>\n",
       "      <th>thyroid_surgery</th>\n",
       "      <th>I131_treatment</th>\n",
       "      <th>query_hypothyroid</th>\n",
       "      <th>...</th>\n",
       "      <th>psych</th>\n",
       "      <th>T3</th>\n",
       "      <th>TT4</th>\n",
       "      <th>T4U</th>\n",
       "      <th>FTI</th>\n",
       "      <th>referral_source_STMW</th>\n",
       "      <th>referral_source_SVHC</th>\n",
       "      <th>referral_source_SVHD</th>\n",
       "      <th>referral_source_SVI</th>\n",
       "      <th>referral_source_other</th>\n",
       "    </tr>\n",
       "  </thead>\n",
       "  <tbody>\n",
       "    <tr>\n",
       "      <th>2147</th>\n",
       "      <td>31.0</td>\n",
       "      <td>1.0</td>\n",
       "      <td>0.0</td>\n",
       "      <td>0.0</td>\n",
       "      <td>0.0</td>\n",
       "      <td>0.0</td>\n",
       "      <td>0.0</td>\n",
       "      <td>0.0</td>\n",
       "      <td>0.0</td>\n",
       "      <td>0.0</td>\n",
       "      <td>...</td>\n",
       "      <td>0.0</td>\n",
       "      <td>6.0</td>\n",
       "      <td>146.0</td>\n",
       "      <td>4.0</td>\n",
       "      <td>137.0</td>\n",
       "      <td>0.0</td>\n",
       "      <td>0.0</td>\n",
       "      <td>0.0</td>\n",
       "      <td>0.0</td>\n",
       "      <td>1.0</td>\n",
       "    </tr>\n",
       "    <tr>\n",
       "      <th>25</th>\n",
       "      <td>66.0</td>\n",
       "      <td>0.0</td>\n",
       "      <td>0.0</td>\n",
       "      <td>0.0</td>\n",
       "      <td>0.0</td>\n",
       "      <td>0.0</td>\n",
       "      <td>0.0</td>\n",
       "      <td>0.0</td>\n",
       "      <td>0.0</td>\n",
       "      <td>0.0</td>\n",
       "      <td>...</td>\n",
       "      <td>0.0</td>\n",
       "      <td>9.0</td>\n",
       "      <td>202.0</td>\n",
       "      <td>4.0</td>\n",
       "      <td>193.0</td>\n",
       "      <td>0.0</td>\n",
       "      <td>0.0</td>\n",
       "      <td>0.0</td>\n",
       "      <td>0.0</td>\n",
       "      <td>1.0</td>\n",
       "    </tr>\n",
       "    <tr>\n",
       "      <th>1576</th>\n",
       "      <td>48.0</td>\n",
       "      <td>0.0</td>\n",
       "      <td>0.0</td>\n",
       "      <td>0.0</td>\n",
       "      <td>0.0</td>\n",
       "      <td>0.0</td>\n",
       "      <td>0.0</td>\n",
       "      <td>0.0</td>\n",
       "      <td>0.0</td>\n",
       "      <td>0.0</td>\n",
       "      <td>...</td>\n",
       "      <td>0.0</td>\n",
       "      <td>5.0</td>\n",
       "      <td>168.0</td>\n",
       "      <td>4.0</td>\n",
       "      <td>164.0</td>\n",
       "      <td>0.0</td>\n",
       "      <td>0.0</td>\n",
       "      <td>0.0</td>\n",
       "      <td>1.0</td>\n",
       "      <td>0.0</td>\n",
       "    </tr>\n",
       "    <tr>\n",
       "      <th>3392</th>\n",
       "      <td>39.0</td>\n",
       "      <td>0.0</td>\n",
       "      <td>0.0</td>\n",
       "      <td>0.0</td>\n",
       "      <td>0.0</td>\n",
       "      <td>0.0</td>\n",
       "      <td>0.0</td>\n",
       "      <td>0.0</td>\n",
       "      <td>0.0</td>\n",
       "      <td>0.0</td>\n",
       "      <td>...</td>\n",
       "      <td>0.0</td>\n",
       "      <td>6.0</td>\n",
       "      <td>136.0</td>\n",
       "      <td>5.0</td>\n",
       "      <td>90.0</td>\n",
       "      <td>1.0</td>\n",
       "      <td>0.0</td>\n",
       "      <td>0.0</td>\n",
       "      <td>0.0</td>\n",
       "      <td>0.0</td>\n",
       "    </tr>\n",
       "    <tr>\n",
       "      <th>3942</th>\n",
       "      <td>22.0</td>\n",
       "      <td>1.0</td>\n",
       "      <td>0.0</td>\n",
       "      <td>0.0</td>\n",
       "      <td>0.0</td>\n",
       "      <td>0.0</td>\n",
       "      <td>0.0</td>\n",
       "      <td>0.0</td>\n",
       "      <td>0.0</td>\n",
       "      <td>1.0</td>\n",
       "      <td>...</td>\n",
       "      <td>0.0</td>\n",
       "      <td>5.0</td>\n",
       "      <td>120.0</td>\n",
       "      <td>4.0</td>\n",
       "      <td>117.0</td>\n",
       "      <td>0.0</td>\n",
       "      <td>0.0</td>\n",
       "      <td>0.0</td>\n",
       "      <td>0.0</td>\n",
       "      <td>1.0</td>\n",
       "    </tr>\n",
       "  </tbody>\n",
       "</table>\n",
       "<p>5 rows × 25 columns</p>\n",
       "</div>"
      ],
      "text/plain": [
       "       age  sex  on_thyroxine  query_on_thyroxine  on_antithyroid_medication  \\\n",
       "2147  31.0  1.0           0.0                 0.0                        0.0   \n",
       "25    66.0  0.0           0.0                 0.0                        0.0   \n",
       "1576  48.0  0.0           0.0                 0.0                        0.0   \n",
       "3392  39.0  0.0           0.0                 0.0                        0.0   \n",
       "3942  22.0  1.0           0.0                 0.0                        0.0   \n",
       "\n",
       "      sick  pregnant  thyroid_surgery  I131_treatment  query_hypothyroid  ...  \\\n",
       "2147   0.0       0.0              0.0             0.0                0.0  ...   \n",
       "25     0.0       0.0              0.0             0.0                0.0  ...   \n",
       "1576   0.0       0.0              0.0             0.0                0.0  ...   \n",
       "3392   0.0       0.0              0.0             0.0                0.0  ...   \n",
       "3942   0.0       0.0              0.0             0.0                1.0  ...   \n",
       "\n",
       "      psych   T3    TT4  T4U    FTI  referral_source_STMW  \\\n",
       "2147    0.0  6.0  146.0  4.0  137.0                   0.0   \n",
       "25      0.0  9.0  202.0  4.0  193.0                   0.0   \n",
       "1576    0.0  5.0  168.0  4.0  164.0                   0.0   \n",
       "3392    0.0  6.0  136.0  5.0   90.0                   1.0   \n",
       "3942    0.0  5.0  120.0  4.0  117.0                   0.0   \n",
       "\n",
       "      referral_source_SVHC  referral_source_SVHD  referral_source_SVI  \\\n",
       "2147                   0.0                   0.0                  0.0   \n",
       "25                     0.0                   0.0                  0.0   \n",
       "1576                   0.0                   0.0                  1.0   \n",
       "3392                   0.0                   0.0                  0.0   \n",
       "3942                   0.0                   0.0                  0.0   \n",
       "\n",
       "      referral_source_other  \n",
       "2147                    1.0  \n",
       "25                      1.0  \n",
       "1576                    0.0  \n",
       "3392                    0.0  \n",
       "3942                    1.0  \n",
       "\n",
       "[5 rows x 25 columns]"
      ]
     },
     "execution_count": 81,
     "metadata": {},
     "output_type": "execute_result"
    }
   ],
   "source": [
    "x_train.head()"
   ]
  },
  {
   "cell_type": "markdown",
   "metadata": {
    "id": "s5IW9aslkWas"
   },
   "source": [
    "### Model for one-one input"
   ]
  },
  {
   "cell_type": "code",
   "execution_count": 82,
   "metadata": {
    "colab": {
     "base_uri": "https://localhost:8080/",
     "height": 224
    },
    "id": "Q6tbQltui4kw",
    "outputId": "1d2e0d33-7123-4144-ec13-301626c968d7"
   },
   "outputs": [
    {
     "data": {
      "text/html": [
       "<div>\n",
       "<style scoped>\n",
       "    .dataframe tbody tr th:only-of-type {\n",
       "        vertical-align: middle;\n",
       "    }\n",
       "\n",
       "    .dataframe tbody tr th {\n",
       "        vertical-align: top;\n",
       "    }\n",
       "\n",
       "    .dataframe thead th {\n",
       "        text-align: right;\n",
       "    }\n",
       "</style>\n",
       "<table border=\"1\" class=\"dataframe\">\n",
       "  <thead>\n",
       "    <tr style=\"text-align: right;\">\n",
       "      <th></th>\n",
       "      <th>age</th>\n",
       "      <th>sex</th>\n",
       "      <th>on_thyroxine</th>\n",
       "      <th>query_on_thyroxine</th>\n",
       "      <th>on_antithyroid_medication</th>\n",
       "      <th>sick</th>\n",
       "      <th>pregnant</th>\n",
       "      <th>thyroid_surgery</th>\n",
       "      <th>I131_treatment</th>\n",
       "      <th>query_hypothyroid</th>\n",
       "      <th>...</th>\n",
       "      <th>T3</th>\n",
       "      <th>TT4</th>\n",
       "      <th>T4U</th>\n",
       "      <th>FTI</th>\n",
       "      <th>Class</th>\n",
       "      <th>referral_source_STMW</th>\n",
       "      <th>referral_source_SVHC</th>\n",
       "      <th>referral_source_SVHD</th>\n",
       "      <th>referral_source_SVI</th>\n",
       "      <th>referral_source_other</th>\n",
       "    </tr>\n",
       "  </thead>\n",
       "  <tbody>\n",
       "    <tr>\n",
       "      <th>0</th>\n",
       "      <td>44.0</td>\n",
       "      <td>0.0</td>\n",
       "      <td>0.0</td>\n",
       "      <td>0.0</td>\n",
       "      <td>0.0</td>\n",
       "      <td>0.0</td>\n",
       "      <td>0.0</td>\n",
       "      <td>0.0</td>\n",
       "      <td>0.0</td>\n",
       "      <td>0.0</td>\n",
       "      <td>...</td>\n",
       "      <td>5.0</td>\n",
       "      <td>128.0</td>\n",
       "      <td>4.0</td>\n",
       "      <td>112.0</td>\n",
       "      <td>1.0</td>\n",
       "      <td>0.0</td>\n",
       "      <td>1.0</td>\n",
       "      <td>0.0</td>\n",
       "      <td>0.0</td>\n",
       "      <td>0.0</td>\n",
       "    </tr>\n",
       "    <tr>\n",
       "      <th>1</th>\n",
       "      <td>26.0</td>\n",
       "      <td>0.0</td>\n",
       "      <td>0.0</td>\n",
       "      <td>0.0</td>\n",
       "      <td>0.0</td>\n",
       "      <td>0.0</td>\n",
       "      <td>0.0</td>\n",
       "      <td>0.0</td>\n",
       "      <td>0.0</td>\n",
       "      <td>0.0</td>\n",
       "      <td>...</td>\n",
       "      <td>5.0</td>\n",
       "      <td>105.0</td>\n",
       "      <td>4.0</td>\n",
       "      <td>111.0</td>\n",
       "      <td>1.0</td>\n",
       "      <td>0.0</td>\n",
       "      <td>0.0</td>\n",
       "      <td>0.0</td>\n",
       "      <td>0.0</td>\n",
       "      <td>1.0</td>\n",
       "    </tr>\n",
       "    <tr>\n",
       "      <th>2</th>\n",
       "      <td>49.0</td>\n",
       "      <td>1.0</td>\n",
       "      <td>0.0</td>\n",
       "      <td>0.0</td>\n",
       "      <td>0.0</td>\n",
       "      <td>0.0</td>\n",
       "      <td>0.0</td>\n",
       "      <td>0.0</td>\n",
       "      <td>0.0</td>\n",
       "      <td>0.0</td>\n",
       "      <td>...</td>\n",
       "      <td>5.0</td>\n",
       "      <td>112.0</td>\n",
       "      <td>4.0</td>\n",
       "      <td>123.0</td>\n",
       "      <td>1.0</td>\n",
       "      <td>0.0</td>\n",
       "      <td>0.0</td>\n",
       "      <td>0.0</td>\n",
       "      <td>0.0</td>\n",
       "      <td>1.0</td>\n",
       "    </tr>\n",
       "    <tr>\n",
       "      <th>3</th>\n",
       "      <td>73.0</td>\n",
       "      <td>0.0</td>\n",
       "      <td>1.0</td>\n",
       "      <td>0.0</td>\n",
       "      <td>0.0</td>\n",
       "      <td>0.0</td>\n",
       "      <td>0.0</td>\n",
       "      <td>0.0</td>\n",
       "      <td>0.0</td>\n",
       "      <td>0.0</td>\n",
       "      <td>...</td>\n",
       "      <td>5.0</td>\n",
       "      <td>178.0</td>\n",
       "      <td>4.0</td>\n",
       "      <td>180.0</td>\n",
       "      <td>1.0</td>\n",
       "      <td>0.0</td>\n",
       "      <td>0.0</td>\n",
       "      <td>0.0</td>\n",
       "      <td>0.0</td>\n",
       "      <td>1.0</td>\n",
       "    </tr>\n",
       "    <tr>\n",
       "      <th>4</th>\n",
       "      <td>73.0</td>\n",
       "      <td>0.0</td>\n",
       "      <td>0.0</td>\n",
       "      <td>0.0</td>\n",
       "      <td>0.0</td>\n",
       "      <td>0.0</td>\n",
       "      <td>0.0</td>\n",
       "      <td>0.0</td>\n",
       "      <td>0.0</td>\n",
       "      <td>0.0</td>\n",
       "      <td>...</td>\n",
       "      <td>4.0</td>\n",
       "      <td>64.0</td>\n",
       "      <td>4.0</td>\n",
       "      <td>73.0</td>\n",
       "      <td>1.0</td>\n",
       "      <td>0.0</td>\n",
       "      <td>0.0</td>\n",
       "      <td>0.0</td>\n",
       "      <td>1.0</td>\n",
       "      <td>0.0</td>\n",
       "    </tr>\n",
       "  </tbody>\n",
       "</table>\n",
       "<p>5 rows × 26 columns</p>\n",
       "</div>"
      ],
      "text/plain": [
       "    age  sex  on_thyroxine  query_on_thyroxine  on_antithyroid_medication  \\\n",
       "0  44.0  0.0           0.0                 0.0                        0.0   \n",
       "1  26.0  0.0           0.0                 0.0                        0.0   \n",
       "2  49.0  1.0           0.0                 0.0                        0.0   \n",
       "3  73.0  0.0           1.0                 0.0                        0.0   \n",
       "4  73.0  0.0           0.0                 0.0                        0.0   \n",
       "\n",
       "   sick  pregnant  thyroid_surgery  I131_treatment  query_hypothyroid  ...  \\\n",
       "0   0.0       0.0              0.0             0.0                0.0  ...   \n",
       "1   0.0       0.0              0.0             0.0                0.0  ...   \n",
       "2   0.0       0.0              0.0             0.0                0.0  ...   \n",
       "3   0.0       0.0              0.0             0.0                0.0  ...   \n",
       "4   0.0       0.0              0.0             0.0                0.0  ...   \n",
       "\n",
       "    T3    TT4  T4U    FTI  Class  referral_source_STMW  referral_source_SVHC  \\\n",
       "0  5.0  128.0  4.0  112.0    1.0                   0.0                   1.0   \n",
       "1  5.0  105.0  4.0  111.0    1.0                   0.0                   0.0   \n",
       "2  5.0  112.0  4.0  123.0    1.0                   0.0                   0.0   \n",
       "3  5.0  178.0  4.0  180.0    1.0                   0.0                   0.0   \n",
       "4  4.0   64.0  4.0   73.0    1.0                   0.0                   0.0   \n",
       "\n",
       "   referral_source_SVHD  referral_source_SVI  referral_source_other  \n",
       "0                   0.0                  0.0                    0.0  \n",
       "1                   0.0                  0.0                    1.0  \n",
       "2                   0.0                  0.0                    1.0  \n",
       "3                   0.0                  0.0                    1.0  \n",
       "4                   0.0                  1.0                    0.0  \n",
       "\n",
       "[5 rows x 26 columns]"
      ]
     },
     "execution_count": 82,
     "metadata": {},
     "output_type": "execute_result"
    }
   ],
   "source": [
    "new_df.head()"
   ]
  },
  {
   "cell_type": "code",
   "execution_count": 83,
   "metadata": {
    "id": "3xB-n2Wfctbz"
   },
   "outputs": [],
   "source": [
    "data = new_df.copy()\n",
    "new_df.drop(\"query_on_thyroxine\", axis = 1, inplace = True)\n",
    "new_df.drop(\"sick\", axis = 1, inplace = True)\n",
    "new_df.drop(\"pregnant\", axis = 1, inplace = True)\n",
    "new_df.drop(\"thyroid_surgery\", axis = 1, inplace = True)\n",
    "new_df.drop(\"I131_treatment\", axis = 1, inplace = True)\n",
    "new_df.drop(\"query_hypothyroid\", axis = 1, inplace = True)\n",
    "new_df.drop(\"query_hyperthyroid\", axis = 1, inplace = True)\n",
    "new_df.drop(\"lithium\", axis = 1, inplace = True)\n",
    "new_df.drop(\"tumor\", axis = 1, inplace = True)\n",
    "new_df.drop(\"referral_source_SVHC\", axis = 1, inplace = True)\n",
    "new_df.drop(\"referral_source_SVHD\", axis = 1, inplace = True)\n",
    "new_df.drop(\"referral_source_SVI\", axis = 1, inplace = True)\n",
    "new_df.drop(\"referral_source_other\", axis = 1, inplace = True)\n",
    "new_df.drop(\"referral_source_STMW\", axis = 1, inplace = True)"
   ]
  },
  {
   "cell_type": "code",
   "execution_count": 84,
   "metadata": {
    "colab": {
     "base_uri": "https://localhost:8080/",
     "height": 204
    },
    "id": "uo-INbApqoV6",
    "outputId": "e20af1f1-8a0d-49ec-c740-16f0cc4d13c0"
   },
   "outputs": [
    {
     "data": {
      "text/html": [
       "<div>\n",
       "<style scoped>\n",
       "    .dataframe tbody tr th:only-of-type {\n",
       "        vertical-align: middle;\n",
       "    }\n",
       "\n",
       "    .dataframe tbody tr th {\n",
       "        vertical-align: top;\n",
       "    }\n",
       "\n",
       "    .dataframe thead th {\n",
       "        text-align: right;\n",
       "    }\n",
       "</style>\n",
       "<table border=\"1\" class=\"dataframe\">\n",
       "  <thead>\n",
       "    <tr style=\"text-align: right;\">\n",
       "      <th></th>\n",
       "      <th>age</th>\n",
       "      <th>sex</th>\n",
       "      <th>on_thyroxine</th>\n",
       "      <th>on_antithyroid_medication</th>\n",
       "      <th>goitre</th>\n",
       "      <th>hypopituitary</th>\n",
       "      <th>psych</th>\n",
       "      <th>T3</th>\n",
       "      <th>TT4</th>\n",
       "      <th>T4U</th>\n",
       "      <th>FTI</th>\n",
       "      <th>Class</th>\n",
       "    </tr>\n",
       "  </thead>\n",
       "  <tbody>\n",
       "    <tr>\n",
       "      <th>0</th>\n",
       "      <td>44.0</td>\n",
       "      <td>0.0</td>\n",
       "      <td>0.0</td>\n",
       "      <td>0.0</td>\n",
       "      <td>0.0</td>\n",
       "      <td>0.0</td>\n",
       "      <td>0.0</td>\n",
       "      <td>5.0</td>\n",
       "      <td>128.0</td>\n",
       "      <td>4.0</td>\n",
       "      <td>112.0</td>\n",
       "      <td>1.0</td>\n",
       "    </tr>\n",
       "    <tr>\n",
       "      <th>1</th>\n",
       "      <td>26.0</td>\n",
       "      <td>0.0</td>\n",
       "      <td>0.0</td>\n",
       "      <td>0.0</td>\n",
       "      <td>0.0</td>\n",
       "      <td>0.0</td>\n",
       "      <td>0.0</td>\n",
       "      <td>5.0</td>\n",
       "      <td>105.0</td>\n",
       "      <td>4.0</td>\n",
       "      <td>111.0</td>\n",
       "      <td>1.0</td>\n",
       "    </tr>\n",
       "    <tr>\n",
       "      <th>2</th>\n",
       "      <td>49.0</td>\n",
       "      <td>1.0</td>\n",
       "      <td>0.0</td>\n",
       "      <td>0.0</td>\n",
       "      <td>0.0</td>\n",
       "      <td>0.0</td>\n",
       "      <td>0.0</td>\n",
       "      <td>5.0</td>\n",
       "      <td>112.0</td>\n",
       "      <td>4.0</td>\n",
       "      <td>123.0</td>\n",
       "      <td>1.0</td>\n",
       "    </tr>\n",
       "    <tr>\n",
       "      <th>3</th>\n",
       "      <td>73.0</td>\n",
       "      <td>0.0</td>\n",
       "      <td>1.0</td>\n",
       "      <td>0.0</td>\n",
       "      <td>0.0</td>\n",
       "      <td>0.0</td>\n",
       "      <td>0.0</td>\n",
       "      <td>5.0</td>\n",
       "      <td>178.0</td>\n",
       "      <td>4.0</td>\n",
       "      <td>180.0</td>\n",
       "      <td>1.0</td>\n",
       "    </tr>\n",
       "    <tr>\n",
       "      <th>4</th>\n",
       "      <td>73.0</td>\n",
       "      <td>0.0</td>\n",
       "      <td>0.0</td>\n",
       "      <td>0.0</td>\n",
       "      <td>0.0</td>\n",
       "      <td>0.0</td>\n",
       "      <td>0.0</td>\n",
       "      <td>4.0</td>\n",
       "      <td>64.0</td>\n",
       "      <td>4.0</td>\n",
       "      <td>73.0</td>\n",
       "      <td>1.0</td>\n",
       "    </tr>\n",
       "  </tbody>\n",
       "</table>\n",
       "</div>"
      ],
      "text/plain": [
       "    age  sex  on_thyroxine  on_antithyroid_medication  goitre  hypopituitary  \\\n",
       "0  44.0  0.0           0.0                        0.0     0.0            0.0   \n",
       "1  26.0  0.0           0.0                        0.0     0.0            0.0   \n",
       "2  49.0  1.0           0.0                        0.0     0.0            0.0   \n",
       "3  73.0  0.0           1.0                        0.0     0.0            0.0   \n",
       "4  73.0  0.0           0.0                        0.0     0.0            0.0   \n",
       "\n",
       "   psych   T3    TT4  T4U    FTI  Class  \n",
       "0    0.0  5.0  128.0  4.0  112.0    1.0  \n",
       "1    0.0  5.0  105.0  4.0  111.0    1.0  \n",
       "2    0.0  5.0  112.0  4.0  123.0    1.0  \n",
       "3    0.0  5.0  178.0  4.0  180.0    1.0  \n",
       "4    0.0  4.0   64.0  4.0   73.0    1.0  "
      ]
     },
     "execution_count": 84,
     "metadata": {},
     "output_type": "execute_result"
    }
   ],
   "source": [
    "new_df.head()"
   ]
  },
  {
   "cell_type": "code",
   "execution_count": 85,
   "metadata": {
    "id": "veiFNA-4r3wf"
   },
   "outputs": [],
   "source": [
    "x = new_df.drop(\"Class\", axis = 1)\n",
    "y = new_df[\"Class\"]"
   ]
  },
  {
   "cell_type": "code",
   "execution_count": 86,
   "metadata": {
    "id": "YtrGJ-nLqq5W"
   },
   "outputs": [],
   "source": [
    "# splitting the data into training and test set for each cluster one by one\n",
    "x_train, x_test, y_train, y_test = train_test_split(x, y, test_size=1 / 3, random_state=100)"
   ]
  },
  {
   "cell_type": "code",
   "execution_count": 87,
   "metadata": {
    "colab": {
     "base_uri": "https://localhost:8080/"
    },
    "id": "kpCByiErs2_U",
    "outputId": "191c656c-c52a-48d2-b36f-74d361135293"
   },
   "outputs": [
    {
     "name": "stdout",
     "output_type": "stream",
     "text": [
      "Entered the get_best_params_for_random_forest method of the Model_Finder class\n",
      "Fitting 5 folds for each of 32 candidates, totalling 160 fits\n",
      "[CV 1/5] END criterion=gini, max_depth=2, max_features=auto, n_estimators=10;, score=0.938 total time=   0.1s\n",
      "[CV 2/5] END criterion=gini, max_depth=2, max_features=auto, n_estimators=10;, score=0.934 total time=   0.0s\n",
      "[CV 3/5] END criterion=gini, max_depth=2, max_features=auto, n_estimators=10;, score=0.934 total time=   0.0s\n",
      "[CV 4/5] END criterion=gini, max_depth=2, max_features=auto, n_estimators=10;, score=0.938 total time=   0.0s\n",
      "[CV 5/5] END criterion=gini, max_depth=2, max_features=auto, n_estimators=10;, score=0.934 total time=   0.0s\n"
     ]
    },
    {
     "name": "stderr",
     "output_type": "stream",
     "text": [
      "/home/nidhiyashwanth/.local/lib/python3.10/site-packages/sklearn/ensemble/_forest.py:424: FutureWarning: `max_features='auto'` has been deprecated in 1.1 and will be removed in 1.3. To keep the past behaviour, explicitly set `max_features='sqrt'` or remove this parameter as it is also the default value for RandomForestClassifiers and ExtraTreesClassifiers.\n",
      "  warn(\n",
      "/home/nidhiyashwanth/.local/lib/python3.10/site-packages/sklearn/ensemble/_forest.py:424: FutureWarning: `max_features='auto'` has been deprecated in 1.1 and will be removed in 1.3. To keep the past behaviour, explicitly set `max_features='sqrt'` or remove this parameter as it is also the default value for RandomForestClassifiers and ExtraTreesClassifiers.\n",
      "  warn(\n",
      "/home/nidhiyashwanth/.local/lib/python3.10/site-packages/sklearn/ensemble/_forest.py:424: FutureWarning: `max_features='auto'` has been deprecated in 1.1 and will be removed in 1.3. To keep the past behaviour, explicitly set `max_features='sqrt'` or remove this parameter as it is also the default value for RandomForestClassifiers and ExtraTreesClassifiers.\n",
      "  warn(\n",
      "/home/nidhiyashwanth/.local/lib/python3.10/site-packages/sklearn/ensemble/_forest.py:424: FutureWarning: `max_features='auto'` has been deprecated in 1.1 and will be removed in 1.3. To keep the past behaviour, explicitly set `max_features='sqrt'` or remove this parameter as it is also the default value for RandomForestClassifiers and ExtraTreesClassifiers.\n",
      "  warn(\n",
      "/home/nidhiyashwanth/.local/lib/python3.10/site-packages/sklearn/ensemble/_forest.py:424: FutureWarning: `max_features='auto'` has been deprecated in 1.1 and will be removed in 1.3. To keep the past behaviour, explicitly set `max_features='sqrt'` or remove this parameter as it is also the default value for RandomForestClassifiers and ExtraTreesClassifiers.\n",
      "  warn(\n",
      "/home/nidhiyashwanth/.local/lib/python3.10/site-packages/sklearn/ensemble/_forest.py:424: FutureWarning: `max_features='auto'` has been deprecated in 1.1 and will be removed in 1.3. To keep the past behaviour, explicitly set `max_features='sqrt'` or remove this parameter as it is also the default value for RandomForestClassifiers and ExtraTreesClassifiers.\n",
      "  warn(\n"
     ]
    },
    {
     "name": "stdout",
     "output_type": "stream",
     "text": [
      "[CV 1/5] END criterion=gini, max_depth=2, max_features=auto, n_estimators=50;, score=0.936 total time=   0.2s\n",
      "[CV 2/5] END criterion=gini, max_depth=2, max_features=auto, n_estimators=50;, score=0.934 total time=   0.1s\n"
     ]
    },
    {
     "name": "stderr",
     "output_type": "stream",
     "text": [
      "/home/nidhiyashwanth/.local/lib/python3.10/site-packages/sklearn/ensemble/_forest.py:424: FutureWarning: `max_features='auto'` has been deprecated in 1.1 and will be removed in 1.3. To keep the past behaviour, explicitly set `max_features='sqrt'` or remove this parameter as it is also the default value for RandomForestClassifiers and ExtraTreesClassifiers.\n",
      "  warn(\n",
      "/home/nidhiyashwanth/.local/lib/python3.10/site-packages/sklearn/ensemble/_forest.py:424: FutureWarning: `max_features='auto'` has been deprecated in 1.1 and will be removed in 1.3. To keep the past behaviour, explicitly set `max_features='sqrt'` or remove this parameter as it is also the default value for RandomForestClassifiers and ExtraTreesClassifiers.\n",
      "  warn(\n"
     ]
    },
    {
     "name": "stdout",
     "output_type": "stream",
     "text": [
      "[CV 3/5] END criterion=gini, max_depth=2, max_features=auto, n_estimators=50;, score=0.944 total time=   0.2s\n",
      "[CV 4/5] END criterion=gini, max_depth=2, max_features=auto, n_estimators=50;, score=0.938 total time=   0.1s\n"
     ]
    },
    {
     "name": "stderr",
     "output_type": "stream",
     "text": [
      "/home/nidhiyashwanth/.local/lib/python3.10/site-packages/sklearn/ensemble/_forest.py:424: FutureWarning: `max_features='auto'` has been deprecated in 1.1 and will be removed in 1.3. To keep the past behaviour, explicitly set `max_features='sqrt'` or remove this parameter as it is also the default value for RandomForestClassifiers and ExtraTreesClassifiers.\n",
      "  warn(\n",
      "/home/nidhiyashwanth/.local/lib/python3.10/site-packages/sklearn/ensemble/_forest.py:424: FutureWarning: `max_features='auto'` has been deprecated in 1.1 and will be removed in 1.3. To keep the past behaviour, explicitly set `max_features='sqrt'` or remove this parameter as it is also the default value for RandomForestClassifiers and ExtraTreesClassifiers.\n",
      "  warn(\n"
     ]
    },
    {
     "name": "stdout",
     "output_type": "stream",
     "text": [
      "[CV 5/5] END criterion=gini, max_depth=2, max_features=auto, n_estimators=50;, score=0.936 total time=   0.1s\n"
     ]
    },
    {
     "name": "stderr",
     "output_type": "stream",
     "text": [
      "/home/nidhiyashwanth/.local/lib/python3.10/site-packages/sklearn/ensemble/_forest.py:424: FutureWarning: `max_features='auto'` has been deprecated in 1.1 and will be removed in 1.3. To keep the past behaviour, explicitly set `max_features='sqrt'` or remove this parameter as it is also the default value for RandomForestClassifiers and ExtraTreesClassifiers.\n",
      "  warn(\n"
     ]
    },
    {
     "name": "stdout",
     "output_type": "stream",
     "text": [
      "[CV 1/5] END criterion=gini, max_depth=2, max_features=auto, n_estimators=100;, score=0.936 total time=   0.3s\n"
     ]
    },
    {
     "name": "stderr",
     "output_type": "stream",
     "text": [
      "/home/nidhiyashwanth/.local/lib/python3.10/site-packages/sklearn/ensemble/_forest.py:424: FutureWarning: `max_features='auto'` has been deprecated in 1.1 and will be removed in 1.3. To keep the past behaviour, explicitly set `max_features='sqrt'` or remove this parameter as it is also the default value for RandomForestClassifiers and ExtraTreesClassifiers.\n",
      "  warn(\n"
     ]
    },
    {
     "name": "stdout",
     "output_type": "stream",
     "text": [
      "[CV 2/5] END criterion=gini, max_depth=2, max_features=auto, n_estimators=100;, score=0.932 total time=   0.3s\n"
     ]
    },
    {
     "name": "stderr",
     "output_type": "stream",
     "text": [
      "/home/nidhiyashwanth/.local/lib/python3.10/site-packages/sklearn/ensemble/_forest.py:424: FutureWarning: `max_features='auto'` has been deprecated in 1.1 and will be removed in 1.3. To keep the past behaviour, explicitly set `max_features='sqrt'` or remove this parameter as it is also the default value for RandomForestClassifiers and ExtraTreesClassifiers.\n",
      "  warn(\n"
     ]
    },
    {
     "name": "stdout",
     "output_type": "stream",
     "text": [
      "[CV 3/5] END criterion=gini, max_depth=2, max_features=auto, n_estimators=100;, score=0.944 total time=   0.3s\n"
     ]
    },
    {
     "name": "stderr",
     "output_type": "stream",
     "text": [
      "/home/nidhiyashwanth/.local/lib/python3.10/site-packages/sklearn/ensemble/_forest.py:424: FutureWarning: `max_features='auto'` has been deprecated in 1.1 and will be removed in 1.3. To keep the past behaviour, explicitly set `max_features='sqrt'` or remove this parameter as it is also the default value for RandomForestClassifiers and ExtraTreesClassifiers.\n",
      "  warn(\n"
     ]
    },
    {
     "name": "stdout",
     "output_type": "stream",
     "text": [
      "[CV 4/5] END criterion=gini, max_depth=2, max_features=auto, n_estimators=100;, score=0.938 total time=   0.3s\n"
     ]
    },
    {
     "name": "stderr",
     "output_type": "stream",
     "text": [
      "/home/nidhiyashwanth/.local/lib/python3.10/site-packages/sklearn/ensemble/_forest.py:424: FutureWarning: `max_features='auto'` has been deprecated in 1.1 and will be removed in 1.3. To keep the past behaviour, explicitly set `max_features='sqrt'` or remove this parameter as it is also the default value for RandomForestClassifiers and ExtraTreesClassifiers.\n",
      "  warn(\n"
     ]
    },
    {
     "name": "stdout",
     "output_type": "stream",
     "text": [
      "[CV 5/5] END criterion=gini, max_depth=2, max_features=auto, n_estimators=100;, score=0.936 total time=   0.3s\n"
     ]
    },
    {
     "name": "stderr",
     "output_type": "stream",
     "text": [
      "/home/nidhiyashwanth/.local/lib/python3.10/site-packages/sklearn/ensemble/_forest.py:424: FutureWarning: `max_features='auto'` has been deprecated in 1.1 and will be removed in 1.3. To keep the past behaviour, explicitly set `max_features='sqrt'` or remove this parameter as it is also the default value for RandomForestClassifiers and ExtraTreesClassifiers.\n",
      "  warn(\n"
     ]
    },
    {
     "name": "stdout",
     "output_type": "stream",
     "text": [
      "[CV 1/5] END criterion=gini, max_depth=2, max_features=auto, n_estimators=130;, score=0.934 total time=   0.4s\n"
     ]
    },
    {
     "name": "stderr",
     "output_type": "stream",
     "text": [
      "/home/nidhiyashwanth/.local/lib/python3.10/site-packages/sklearn/ensemble/_forest.py:424: FutureWarning: `max_features='auto'` has been deprecated in 1.1 and will be removed in 1.3. To keep the past behaviour, explicitly set `max_features='sqrt'` or remove this parameter as it is also the default value for RandomForestClassifiers and ExtraTreesClassifiers.\n",
      "  warn(\n"
     ]
    },
    {
     "name": "stdout",
     "output_type": "stream",
     "text": [
      "[CV 2/5] END criterion=gini, max_depth=2, max_features=auto, n_estimators=130;, score=0.934 total time=   0.4s\n"
     ]
    },
    {
     "name": "stderr",
     "output_type": "stream",
     "text": [
      "/home/nidhiyashwanth/.local/lib/python3.10/site-packages/sklearn/ensemble/_forest.py:424: FutureWarning: `max_features='auto'` has been deprecated in 1.1 and will be removed in 1.3. To keep the past behaviour, explicitly set `max_features='sqrt'` or remove this parameter as it is also the default value for RandomForestClassifiers and ExtraTreesClassifiers.\n",
      "  warn(\n"
     ]
    },
    {
     "name": "stdout",
     "output_type": "stream",
     "text": [
      "[CV 3/5] END criterion=gini, max_depth=2, max_features=auto, n_estimators=130;, score=0.944 total time=   0.6s\n"
     ]
    },
    {
     "name": "stderr",
     "output_type": "stream",
     "text": [
      "/home/nidhiyashwanth/.local/lib/python3.10/site-packages/sklearn/ensemble/_forest.py:424: FutureWarning: `max_features='auto'` has been deprecated in 1.1 and will be removed in 1.3. To keep the past behaviour, explicitly set `max_features='sqrt'` or remove this parameter as it is also the default value for RandomForestClassifiers and ExtraTreesClassifiers.\n",
      "  warn(\n"
     ]
    },
    {
     "name": "stdout",
     "output_type": "stream",
     "text": [
      "[CV 4/5] END criterion=gini, max_depth=2, max_features=auto, n_estimators=130;, score=0.938 total time=   0.6s\n"
     ]
    },
    {
     "name": "stderr",
     "output_type": "stream",
     "text": [
      "/home/nidhiyashwanth/.local/lib/python3.10/site-packages/sklearn/ensemble/_forest.py:424: FutureWarning: `max_features='auto'` has been deprecated in 1.1 and will be removed in 1.3. To keep the past behaviour, explicitly set `max_features='sqrt'` or remove this parameter as it is also the default value for RandomForestClassifiers and ExtraTreesClassifiers.\n",
      "  warn(\n"
     ]
    },
    {
     "name": "stdout",
     "output_type": "stream",
     "text": [
      "[CV 5/5] END criterion=gini, max_depth=2, max_features=auto, n_estimators=130;, score=0.936 total time=   0.5s\n",
      "[CV 1/5] END criterion=gini, max_depth=2, max_features=log2, n_estimators=10;, score=0.936 total time=   0.0s\n",
      "[CV 2/5] END criterion=gini, max_depth=2, max_features=log2, n_estimators=10;, score=0.932 total time=   0.0s\n",
      "[CV 3/5] END criterion=gini, max_depth=2, max_features=log2, n_estimators=10;, score=0.944 total time=   0.0s\n",
      "[CV 4/5] END criterion=gini, max_depth=2, max_features=log2, n_estimators=10;, score=0.940 total time=   0.0s\n",
      "[CV 5/5] END criterion=gini, max_depth=2, max_features=log2, n_estimators=10;, score=0.938 total time=   0.0s\n",
      "[CV 1/5] END criterion=gini, max_depth=2, max_features=log2, n_estimators=50;, score=0.938 total time=   0.2s\n",
      "[CV 2/5] END criterion=gini, max_depth=2, max_features=log2, n_estimators=50;, score=0.934 total time=   0.2s\n",
      "[CV 3/5] END criterion=gini, max_depth=2, max_features=log2, n_estimators=50;, score=0.944 total time=   0.2s\n",
      "[CV 4/5] END criterion=gini, max_depth=2, max_features=log2, n_estimators=50;, score=0.938 total time=   0.2s\n",
      "[CV 5/5] END criterion=gini, max_depth=2, max_features=log2, n_estimators=50;, score=0.936 total time=   0.1s\n",
      "[CV 1/5] END criterion=gini, max_depth=2, max_features=log2, n_estimators=100;, score=0.936 total time=   0.3s\n",
      "[CV 2/5] END criterion=gini, max_depth=2, max_features=log2, n_estimators=100;, score=0.932 total time=   0.3s\n",
      "[CV 3/5] END criterion=gini, max_depth=2, max_features=log2, n_estimators=100;, score=0.942 total time=   0.3s\n",
      "[CV 4/5] END criterion=gini, max_depth=2, max_features=log2, n_estimators=100;, score=0.938 total time=   0.3s\n",
      "[CV 5/5] END criterion=gini, max_depth=2, max_features=log2, n_estimators=100;, score=0.936 total time=   0.3s\n",
      "[CV 1/5] END criterion=gini, max_depth=2, max_features=log2, n_estimators=130;, score=0.936 total time=   0.4s\n",
      "[CV 2/5] END criterion=gini, max_depth=2, max_features=log2, n_estimators=130;, score=0.934 total time=   0.3s\n",
      "[CV 3/5] END criterion=gini, max_depth=2, max_features=log2, n_estimators=130;, score=0.944 total time=   0.4s\n",
      "[CV 4/5] END criterion=gini, max_depth=2, max_features=log2, n_estimators=130;, score=0.936 total time=   0.4s\n",
      "[CV 5/5] END criterion=gini, max_depth=2, max_features=log2, n_estimators=130;, score=0.936 total time=   0.4s\n",
      "[CV 1/5] END criterion=gini, max_depth=3, max_features=auto, n_estimators=10;, score=0.936 total time=   0.0s\n",
      "[CV 2/5] END criterion=gini, max_depth=3, max_features=auto, n_estimators=10;, score=0.932 total time=   0.0s\n",
      "[CV 3/5] END criterion=gini, max_depth=3, max_features=auto, n_estimators=10;, score=0.946 total time=   0.0s\n",
      "[CV 4/5] END criterion=gini, max_depth=3, max_features=auto, n_estimators=10;, score=0.940 total time=   0.0s\n",
      "[CV 5/5] END criterion=gini, max_depth=3, max_features=auto, n_estimators=10;, score=0.938 total time=   0.0s\n"
     ]
    },
    {
     "name": "stderr",
     "output_type": "stream",
     "text": [
      "/home/nidhiyashwanth/.local/lib/python3.10/site-packages/sklearn/ensemble/_forest.py:424: FutureWarning: `max_features='auto'` has been deprecated in 1.1 and will be removed in 1.3. To keep the past behaviour, explicitly set `max_features='sqrt'` or remove this parameter as it is also the default value for RandomForestClassifiers and ExtraTreesClassifiers.\n",
      "  warn(\n",
      "/home/nidhiyashwanth/.local/lib/python3.10/site-packages/sklearn/ensemble/_forest.py:424: FutureWarning: `max_features='auto'` has been deprecated in 1.1 and will be removed in 1.3. To keep the past behaviour, explicitly set `max_features='sqrt'` or remove this parameter as it is also the default value for RandomForestClassifiers and ExtraTreesClassifiers.\n",
      "  warn(\n",
      "/home/nidhiyashwanth/.local/lib/python3.10/site-packages/sklearn/ensemble/_forest.py:424: FutureWarning: `max_features='auto'` has been deprecated in 1.1 and will be removed in 1.3. To keep the past behaviour, explicitly set `max_features='sqrt'` or remove this parameter as it is also the default value for RandomForestClassifiers and ExtraTreesClassifiers.\n",
      "  warn(\n",
      "/home/nidhiyashwanth/.local/lib/python3.10/site-packages/sklearn/ensemble/_forest.py:424: FutureWarning: `max_features='auto'` has been deprecated in 1.1 and will be removed in 1.3. To keep the past behaviour, explicitly set `max_features='sqrt'` or remove this parameter as it is also the default value for RandomForestClassifiers and ExtraTreesClassifiers.\n",
      "  warn(\n",
      "/home/nidhiyashwanth/.local/lib/python3.10/site-packages/sklearn/ensemble/_forest.py:424: FutureWarning: `max_features='auto'` has been deprecated in 1.1 and will be removed in 1.3. To keep the past behaviour, explicitly set `max_features='sqrt'` or remove this parameter as it is also the default value for RandomForestClassifiers and ExtraTreesClassifiers.\n",
      "  warn(\n",
      "/home/nidhiyashwanth/.local/lib/python3.10/site-packages/sklearn/ensemble/_forest.py:424: FutureWarning: `max_features='auto'` has been deprecated in 1.1 and will be removed in 1.3. To keep the past behaviour, explicitly set `max_features='sqrt'` or remove this parameter as it is also the default value for RandomForestClassifiers and ExtraTreesClassifiers.\n",
      "  warn(\n"
     ]
    },
    {
     "name": "stdout",
     "output_type": "stream",
     "text": [
      "[CV 1/5] END criterion=gini, max_depth=3, max_features=auto, n_estimators=50;, score=0.940 total time=   0.2s\n",
      "[CV 2/5] END criterion=gini, max_depth=3, max_features=auto, n_estimators=50;, score=0.936 total time=   0.1s\n"
     ]
    },
    {
     "name": "stderr",
     "output_type": "stream",
     "text": [
      "/home/nidhiyashwanth/.local/lib/python3.10/site-packages/sklearn/ensemble/_forest.py:424: FutureWarning: `max_features='auto'` has been deprecated in 1.1 and will be removed in 1.3. To keep the past behaviour, explicitly set `max_features='sqrt'` or remove this parameter as it is also the default value for RandomForestClassifiers and ExtraTreesClassifiers.\n",
      "  warn(\n",
      "/home/nidhiyashwanth/.local/lib/python3.10/site-packages/sklearn/ensemble/_forest.py:424: FutureWarning: `max_features='auto'` has been deprecated in 1.1 and will be removed in 1.3. To keep the past behaviour, explicitly set `max_features='sqrt'` or remove this parameter as it is also the default value for RandomForestClassifiers and ExtraTreesClassifiers.\n",
      "  warn(\n"
     ]
    },
    {
     "name": "stdout",
     "output_type": "stream",
     "text": [
      "[CV 3/5] END criterion=gini, max_depth=3, max_features=auto, n_estimators=50;, score=0.944 total time=   0.2s\n",
      "[CV 4/5] END criterion=gini, max_depth=3, max_features=auto, n_estimators=50;, score=0.938 total time=   0.1s\n"
     ]
    },
    {
     "name": "stderr",
     "output_type": "stream",
     "text": [
      "/home/nidhiyashwanth/.local/lib/python3.10/site-packages/sklearn/ensemble/_forest.py:424: FutureWarning: `max_features='auto'` has been deprecated in 1.1 and will be removed in 1.3. To keep the past behaviour, explicitly set `max_features='sqrt'` or remove this parameter as it is also the default value for RandomForestClassifiers and ExtraTreesClassifiers.\n",
      "  warn(\n",
      "/home/nidhiyashwanth/.local/lib/python3.10/site-packages/sklearn/ensemble/_forest.py:424: FutureWarning: `max_features='auto'` has been deprecated in 1.1 and will be removed in 1.3. To keep the past behaviour, explicitly set `max_features='sqrt'` or remove this parameter as it is also the default value for RandomForestClassifiers and ExtraTreesClassifiers.\n",
      "  warn(\n"
     ]
    },
    {
     "name": "stdout",
     "output_type": "stream",
     "text": [
      "[CV 5/5] END criterion=gini, max_depth=3, max_features=auto, n_estimators=50;, score=0.938 total time=   0.2s\n"
     ]
    },
    {
     "name": "stderr",
     "output_type": "stream",
     "text": [
      "/home/nidhiyashwanth/.local/lib/python3.10/site-packages/sklearn/ensemble/_forest.py:424: FutureWarning: `max_features='auto'` has been deprecated in 1.1 and will be removed in 1.3. To keep the past behaviour, explicitly set `max_features='sqrt'` or remove this parameter as it is also the default value for RandomForestClassifiers and ExtraTreesClassifiers.\n",
      "  warn(\n"
     ]
    },
    {
     "name": "stdout",
     "output_type": "stream",
     "text": [
      "[CV 1/5] END criterion=gini, max_depth=3, max_features=auto, n_estimators=100;, score=0.936 total time=   0.3s\n"
     ]
    },
    {
     "name": "stderr",
     "output_type": "stream",
     "text": [
      "/home/nidhiyashwanth/.local/lib/python3.10/site-packages/sklearn/ensemble/_forest.py:424: FutureWarning: `max_features='auto'` has been deprecated in 1.1 and will be removed in 1.3. To keep the past behaviour, explicitly set `max_features='sqrt'` or remove this parameter as it is also the default value for RandomForestClassifiers and ExtraTreesClassifiers.\n",
      "  warn(\n"
     ]
    },
    {
     "name": "stdout",
     "output_type": "stream",
     "text": [
      "[CV 2/5] END criterion=gini, max_depth=3, max_features=auto, n_estimators=100;, score=0.932 total time=   0.4s\n"
     ]
    },
    {
     "name": "stderr",
     "output_type": "stream",
     "text": [
      "/home/nidhiyashwanth/.local/lib/python3.10/site-packages/sklearn/ensemble/_forest.py:424: FutureWarning: `max_features='auto'` has been deprecated in 1.1 and will be removed in 1.3. To keep the past behaviour, explicitly set `max_features='sqrt'` or remove this parameter as it is also the default value for RandomForestClassifiers and ExtraTreesClassifiers.\n",
      "  warn(\n"
     ]
    },
    {
     "name": "stdout",
     "output_type": "stream",
     "text": [
      "[CV 3/5] END criterion=gini, max_depth=3, max_features=auto, n_estimators=100;, score=0.944 total time=   0.3s\n"
     ]
    },
    {
     "name": "stderr",
     "output_type": "stream",
     "text": [
      "/home/nidhiyashwanth/.local/lib/python3.10/site-packages/sklearn/ensemble/_forest.py:424: FutureWarning: `max_features='auto'` has been deprecated in 1.1 and will be removed in 1.3. To keep the past behaviour, explicitly set `max_features='sqrt'` or remove this parameter as it is also the default value for RandomForestClassifiers and ExtraTreesClassifiers.\n",
      "  warn(\n"
     ]
    },
    {
     "name": "stdout",
     "output_type": "stream",
     "text": [
      "[CV 4/5] END criterion=gini, max_depth=3, max_features=auto, n_estimators=100;, score=0.940 total time=   0.3s\n"
     ]
    },
    {
     "name": "stderr",
     "output_type": "stream",
     "text": [
      "/home/nidhiyashwanth/.local/lib/python3.10/site-packages/sklearn/ensemble/_forest.py:424: FutureWarning: `max_features='auto'` has been deprecated in 1.1 and will be removed in 1.3. To keep the past behaviour, explicitly set `max_features='sqrt'` or remove this parameter as it is also the default value for RandomForestClassifiers and ExtraTreesClassifiers.\n",
      "  warn(\n"
     ]
    },
    {
     "name": "stdout",
     "output_type": "stream",
     "text": [
      "[CV 5/5] END criterion=gini, max_depth=3, max_features=auto, n_estimators=100;, score=0.936 total time=   0.3s\n"
     ]
    },
    {
     "name": "stderr",
     "output_type": "stream",
     "text": [
      "/home/nidhiyashwanth/.local/lib/python3.10/site-packages/sklearn/ensemble/_forest.py:424: FutureWarning: `max_features='auto'` has been deprecated in 1.1 and will be removed in 1.3. To keep the past behaviour, explicitly set `max_features='sqrt'` or remove this parameter as it is also the default value for RandomForestClassifiers and ExtraTreesClassifiers.\n",
      "  warn(\n"
     ]
    },
    {
     "name": "stdout",
     "output_type": "stream",
     "text": [
      "[CV 1/5] END criterion=gini, max_depth=3, max_features=auto, n_estimators=130;, score=0.938 total time=   0.4s\n"
     ]
    },
    {
     "name": "stderr",
     "output_type": "stream",
     "text": [
      "/home/nidhiyashwanth/.local/lib/python3.10/site-packages/sklearn/ensemble/_forest.py:424: FutureWarning: `max_features='auto'` has been deprecated in 1.1 and will be removed in 1.3. To keep the past behaviour, explicitly set `max_features='sqrt'` or remove this parameter as it is also the default value for RandomForestClassifiers and ExtraTreesClassifiers.\n",
      "  warn(\n"
     ]
    },
    {
     "name": "stdout",
     "output_type": "stream",
     "text": [
      "[CV 2/5] END criterion=gini, max_depth=3, max_features=auto, n_estimators=130;, score=0.932 total time=   0.4s\n"
     ]
    },
    {
     "name": "stderr",
     "output_type": "stream",
     "text": [
      "/home/nidhiyashwanth/.local/lib/python3.10/site-packages/sklearn/ensemble/_forest.py:424: FutureWarning: `max_features='auto'` has been deprecated in 1.1 and will be removed in 1.3. To keep the past behaviour, explicitly set `max_features='sqrt'` or remove this parameter as it is also the default value for RandomForestClassifiers and ExtraTreesClassifiers.\n",
      "  warn(\n"
     ]
    },
    {
     "name": "stdout",
     "output_type": "stream",
     "text": [
      "[CV 3/5] END criterion=gini, max_depth=3, max_features=auto, n_estimators=130;, score=0.944 total time=   0.4s\n"
     ]
    },
    {
     "name": "stderr",
     "output_type": "stream",
     "text": [
      "/home/nidhiyashwanth/.local/lib/python3.10/site-packages/sklearn/ensemble/_forest.py:424: FutureWarning: `max_features='auto'` has been deprecated in 1.1 and will be removed in 1.3. To keep the past behaviour, explicitly set `max_features='sqrt'` or remove this parameter as it is also the default value for RandomForestClassifiers and ExtraTreesClassifiers.\n",
      "  warn(\n"
     ]
    },
    {
     "name": "stdout",
     "output_type": "stream",
     "text": [
      "[CV 4/5] END criterion=gini, max_depth=3, max_features=auto, n_estimators=130;, score=0.940 total time=   0.4s\n"
     ]
    },
    {
     "name": "stderr",
     "output_type": "stream",
     "text": [
      "/home/nidhiyashwanth/.local/lib/python3.10/site-packages/sklearn/ensemble/_forest.py:424: FutureWarning: `max_features='auto'` has been deprecated in 1.1 and will be removed in 1.3. To keep the past behaviour, explicitly set `max_features='sqrt'` or remove this parameter as it is also the default value for RandomForestClassifiers and ExtraTreesClassifiers.\n",
      "  warn(\n"
     ]
    },
    {
     "name": "stdout",
     "output_type": "stream",
     "text": [
      "[CV 5/5] END criterion=gini, max_depth=3, max_features=auto, n_estimators=130;, score=0.938 total time=   0.4s\n",
      "[CV 1/5] END criterion=gini, max_depth=3, max_features=log2, n_estimators=10;, score=0.936 total time=   0.0s\n",
      "[CV 2/5] END criterion=gini, max_depth=3, max_features=log2, n_estimators=10;, score=0.934 total time=   0.0s\n",
      "[CV 3/5] END criterion=gini, max_depth=3, max_features=log2, n_estimators=10;, score=0.946 total time=   0.0s\n",
      "[CV 4/5] END criterion=gini, max_depth=3, max_features=log2, n_estimators=10;, score=0.938 total time=   0.0s\n",
      "[CV 5/5] END criterion=gini, max_depth=3, max_features=log2, n_estimators=10;, score=0.936 total time=   0.0s\n",
      "[CV 1/5] END criterion=gini, max_depth=3, max_features=log2, n_estimators=50;, score=0.938 total time=   0.1s\n",
      "[CV 2/5] END criterion=gini, max_depth=3, max_features=log2, n_estimators=50;, score=0.934 total time=   0.1s\n",
      "[CV 3/5] END criterion=gini, max_depth=3, max_features=log2, n_estimators=50;, score=0.944 total time=   0.1s\n",
      "[CV 4/5] END criterion=gini, max_depth=3, max_features=log2, n_estimators=50;, score=0.938 total time=   0.1s\n",
      "[CV 5/5] END criterion=gini, max_depth=3, max_features=log2, n_estimators=50;, score=0.936 total time=   0.1s\n",
      "[CV 1/5] END criterion=gini, max_depth=3, max_features=log2, n_estimators=100;, score=0.938 total time=   0.3s\n",
      "[CV 2/5] END criterion=gini, max_depth=3, max_features=log2, n_estimators=100;, score=0.932 total time=   0.3s\n",
      "[CV 3/5] END criterion=gini, max_depth=3, max_features=log2, n_estimators=100;, score=0.944 total time=   0.3s\n",
      "[CV 4/5] END criterion=gini, max_depth=3, max_features=log2, n_estimators=100;, score=0.938 total time=   0.3s\n",
      "[CV 5/5] END criterion=gini, max_depth=3, max_features=log2, n_estimators=100;, score=0.936 total time=   0.3s\n",
      "[CV 1/5] END criterion=gini, max_depth=3, max_features=log2, n_estimators=130;, score=0.936 total time=   0.4s\n",
      "[CV 2/5] END criterion=gini, max_depth=3, max_features=log2, n_estimators=130;, score=0.932 total time=   0.4s\n",
      "[CV 3/5] END criterion=gini, max_depth=3, max_features=log2, n_estimators=130;, score=0.944 total time=   0.3s\n",
      "[CV 4/5] END criterion=gini, max_depth=3, max_features=log2, n_estimators=130;, score=0.940 total time=   0.3s\n",
      "[CV 5/5] END criterion=gini, max_depth=3, max_features=log2, n_estimators=130;, score=0.936 total time=   0.3s\n",
      "[CV 1/5] END criterion=entropy, max_depth=2, max_features=auto, n_estimators=10;, score=0.938 total time=   0.0s\n",
      "[CV 2/5] END criterion=entropy, max_depth=2, max_features=auto, n_estimators=10;, score=0.932 total time=   0.0s\n",
      "[CV 3/5] END criterion=entropy, max_depth=2, max_features=auto, n_estimators=10;, score=0.944 total time=   0.0s\n",
      "[CV 4/5] END criterion=entropy, max_depth=2, max_features=auto, n_estimators=10;, score=0.934 total time=   0.0s\n",
      "[CV 5/5] END criterion=entropy, max_depth=2, max_features=auto, n_estimators=10;, score=0.934 total time=   0.0s\n"
     ]
    },
    {
     "name": "stderr",
     "output_type": "stream",
     "text": [
      "/home/nidhiyashwanth/.local/lib/python3.10/site-packages/sklearn/ensemble/_forest.py:424: FutureWarning: `max_features='auto'` has been deprecated in 1.1 and will be removed in 1.3. To keep the past behaviour, explicitly set `max_features='sqrt'` or remove this parameter as it is also the default value for RandomForestClassifiers and ExtraTreesClassifiers.\n",
      "  warn(\n",
      "/home/nidhiyashwanth/.local/lib/python3.10/site-packages/sklearn/ensemble/_forest.py:424: FutureWarning: `max_features='auto'` has been deprecated in 1.1 and will be removed in 1.3. To keep the past behaviour, explicitly set `max_features='sqrt'` or remove this parameter as it is also the default value for RandomForestClassifiers and ExtraTreesClassifiers.\n",
      "  warn(\n",
      "/home/nidhiyashwanth/.local/lib/python3.10/site-packages/sklearn/ensemble/_forest.py:424: FutureWarning: `max_features='auto'` has been deprecated in 1.1 and will be removed in 1.3. To keep the past behaviour, explicitly set `max_features='sqrt'` or remove this parameter as it is also the default value for RandomForestClassifiers and ExtraTreesClassifiers.\n",
      "  warn(\n",
      "/home/nidhiyashwanth/.local/lib/python3.10/site-packages/sklearn/ensemble/_forest.py:424: FutureWarning: `max_features='auto'` has been deprecated in 1.1 and will be removed in 1.3. To keep the past behaviour, explicitly set `max_features='sqrt'` or remove this parameter as it is also the default value for RandomForestClassifiers and ExtraTreesClassifiers.\n",
      "  warn(\n",
      "/home/nidhiyashwanth/.local/lib/python3.10/site-packages/sklearn/ensemble/_forest.py:424: FutureWarning: `max_features='auto'` has been deprecated in 1.1 and will be removed in 1.3. To keep the past behaviour, explicitly set `max_features='sqrt'` or remove this parameter as it is also the default value for RandomForestClassifiers and ExtraTreesClassifiers.\n",
      "  warn(\n",
      "/home/nidhiyashwanth/.local/lib/python3.10/site-packages/sklearn/ensemble/_forest.py:424: FutureWarning: `max_features='auto'` has been deprecated in 1.1 and will be removed in 1.3. To keep the past behaviour, explicitly set `max_features='sqrt'` or remove this parameter as it is also the default value for RandomForestClassifiers and ExtraTreesClassifiers.\n",
      "  warn(\n"
     ]
    },
    {
     "name": "stdout",
     "output_type": "stream",
     "text": [
      "[CV 1/5] END criterion=entropy, max_depth=2, max_features=auto, n_estimators=50;, score=0.936 total time=   0.2s\n",
      "[CV 2/5] END criterion=entropy, max_depth=2, max_features=auto, n_estimators=50;, score=0.932 total time=   0.1s\n"
     ]
    },
    {
     "name": "stderr",
     "output_type": "stream",
     "text": [
      "/home/nidhiyashwanth/.local/lib/python3.10/site-packages/sklearn/ensemble/_forest.py:424: FutureWarning: `max_features='auto'` has been deprecated in 1.1 and will be removed in 1.3. To keep the past behaviour, explicitly set `max_features='sqrt'` or remove this parameter as it is also the default value for RandomForestClassifiers and ExtraTreesClassifiers.\n",
      "  warn(\n",
      "/home/nidhiyashwanth/.local/lib/python3.10/site-packages/sklearn/ensemble/_forest.py:424: FutureWarning: `max_features='auto'` has been deprecated in 1.1 and will be removed in 1.3. To keep the past behaviour, explicitly set `max_features='sqrt'` or remove this parameter as it is also the default value for RandomForestClassifiers and ExtraTreesClassifiers.\n",
      "  warn(\n"
     ]
    },
    {
     "name": "stdout",
     "output_type": "stream",
     "text": [
      "[CV 3/5] END criterion=entropy, max_depth=2, max_features=auto, n_estimators=50;, score=0.932 total time=   0.1s\n",
      "[CV 4/5] END criterion=entropy, max_depth=2, max_features=auto, n_estimators=50;, score=0.934 total time=   0.1s\n"
     ]
    },
    {
     "name": "stderr",
     "output_type": "stream",
     "text": [
      "/home/nidhiyashwanth/.local/lib/python3.10/site-packages/sklearn/ensemble/_forest.py:424: FutureWarning: `max_features='auto'` has been deprecated in 1.1 and will be removed in 1.3. To keep the past behaviour, explicitly set `max_features='sqrt'` or remove this parameter as it is also the default value for RandomForestClassifiers and ExtraTreesClassifiers.\n",
      "  warn(\n",
      "/home/nidhiyashwanth/.local/lib/python3.10/site-packages/sklearn/ensemble/_forest.py:424: FutureWarning: `max_features='auto'` has been deprecated in 1.1 and will be removed in 1.3. To keep the past behaviour, explicitly set `max_features='sqrt'` or remove this parameter as it is also the default value for RandomForestClassifiers and ExtraTreesClassifiers.\n",
      "  warn(\n"
     ]
    },
    {
     "name": "stdout",
     "output_type": "stream",
     "text": [
      "[CV 5/5] END criterion=entropy, max_depth=2, max_features=auto, n_estimators=50;, score=0.936 total time=   0.1s\n"
     ]
    },
    {
     "name": "stderr",
     "output_type": "stream",
     "text": [
      "/home/nidhiyashwanth/.local/lib/python3.10/site-packages/sklearn/ensemble/_forest.py:424: FutureWarning: `max_features='auto'` has been deprecated in 1.1 and will be removed in 1.3. To keep the past behaviour, explicitly set `max_features='sqrt'` or remove this parameter as it is also the default value for RandomForestClassifiers and ExtraTreesClassifiers.\n",
      "  warn(\n"
     ]
    },
    {
     "name": "stdout",
     "output_type": "stream",
     "text": [
      "[CV 1/5] END criterion=entropy, max_depth=2, max_features=auto, n_estimators=100;, score=0.936 total time=   0.3s\n"
     ]
    },
    {
     "name": "stderr",
     "output_type": "stream",
     "text": [
      "/home/nidhiyashwanth/.local/lib/python3.10/site-packages/sklearn/ensemble/_forest.py:424: FutureWarning: `max_features='auto'` has been deprecated in 1.1 and will be removed in 1.3. To keep the past behaviour, explicitly set `max_features='sqrt'` or remove this parameter as it is also the default value for RandomForestClassifiers and ExtraTreesClassifiers.\n",
      "  warn(\n"
     ]
    },
    {
     "name": "stdout",
     "output_type": "stream",
     "text": [
      "[CV 2/5] END criterion=entropy, max_depth=2, max_features=auto, n_estimators=100;, score=0.932 total time=   0.3s\n"
     ]
    },
    {
     "name": "stderr",
     "output_type": "stream",
     "text": [
      "/home/nidhiyashwanth/.local/lib/python3.10/site-packages/sklearn/ensemble/_forest.py:424: FutureWarning: `max_features='auto'` has been deprecated in 1.1 and will be removed in 1.3. To keep the past behaviour, explicitly set `max_features='sqrt'` or remove this parameter as it is also the default value for RandomForestClassifiers and ExtraTreesClassifiers.\n",
      "  warn(\n"
     ]
    },
    {
     "name": "stdout",
     "output_type": "stream",
     "text": [
      "[CV 3/5] END criterion=entropy, max_depth=2, max_features=auto, n_estimators=100;, score=0.944 total time=   0.3s\n"
     ]
    },
    {
     "name": "stderr",
     "output_type": "stream",
     "text": [
      "/home/nidhiyashwanth/.local/lib/python3.10/site-packages/sklearn/ensemble/_forest.py:424: FutureWarning: `max_features='auto'` has been deprecated in 1.1 and will be removed in 1.3. To keep the past behaviour, explicitly set `max_features='sqrt'` or remove this parameter as it is also the default value for RandomForestClassifiers and ExtraTreesClassifiers.\n",
      "  warn(\n"
     ]
    },
    {
     "name": "stdout",
     "output_type": "stream",
     "text": [
      "[CV 4/5] END criterion=entropy, max_depth=2, max_features=auto, n_estimators=100;, score=0.938 total time=   0.3s\n"
     ]
    },
    {
     "name": "stderr",
     "output_type": "stream",
     "text": [
      "/home/nidhiyashwanth/.local/lib/python3.10/site-packages/sklearn/ensemble/_forest.py:424: FutureWarning: `max_features='auto'` has been deprecated in 1.1 and will be removed in 1.3. To keep the past behaviour, explicitly set `max_features='sqrt'` or remove this parameter as it is also the default value for RandomForestClassifiers and ExtraTreesClassifiers.\n",
      "  warn(\n"
     ]
    },
    {
     "name": "stdout",
     "output_type": "stream",
     "text": [
      "[CV 5/5] END criterion=entropy, max_depth=2, max_features=auto, n_estimators=100;, score=0.936 total time=   0.3s\n"
     ]
    },
    {
     "name": "stderr",
     "output_type": "stream",
     "text": [
      "/home/nidhiyashwanth/.local/lib/python3.10/site-packages/sklearn/ensemble/_forest.py:424: FutureWarning: `max_features='auto'` has been deprecated in 1.1 and will be removed in 1.3. To keep the past behaviour, explicitly set `max_features='sqrt'` or remove this parameter as it is also the default value for RandomForestClassifiers and ExtraTreesClassifiers.\n",
      "  warn(\n"
     ]
    },
    {
     "name": "stdout",
     "output_type": "stream",
     "text": [
      "[CV 1/5] END criterion=entropy, max_depth=2, max_features=auto, n_estimators=130;, score=0.936 total time=   0.4s\n"
     ]
    },
    {
     "name": "stderr",
     "output_type": "stream",
     "text": [
      "/home/nidhiyashwanth/.local/lib/python3.10/site-packages/sklearn/ensemble/_forest.py:424: FutureWarning: `max_features='auto'` has been deprecated in 1.1 and will be removed in 1.3. To keep the past behaviour, explicitly set `max_features='sqrt'` or remove this parameter as it is also the default value for RandomForestClassifiers and ExtraTreesClassifiers.\n",
      "  warn(\n"
     ]
    },
    {
     "name": "stdout",
     "output_type": "stream",
     "text": [
      "[CV 2/5] END criterion=entropy, max_depth=2, max_features=auto, n_estimators=130;, score=0.934 total time=   0.4s\n"
     ]
    },
    {
     "name": "stderr",
     "output_type": "stream",
     "text": [
      "/home/nidhiyashwanth/.local/lib/python3.10/site-packages/sklearn/ensemble/_forest.py:424: FutureWarning: `max_features='auto'` has been deprecated in 1.1 and will be removed in 1.3. To keep the past behaviour, explicitly set `max_features='sqrt'` or remove this parameter as it is also the default value for RandomForestClassifiers and ExtraTreesClassifiers.\n",
      "  warn(\n"
     ]
    },
    {
     "name": "stdout",
     "output_type": "stream",
     "text": [
      "[CV 3/5] END criterion=entropy, max_depth=2, max_features=auto, n_estimators=130;, score=0.944 total time=   0.4s\n"
     ]
    },
    {
     "name": "stderr",
     "output_type": "stream",
     "text": [
      "/home/nidhiyashwanth/.local/lib/python3.10/site-packages/sklearn/ensemble/_forest.py:424: FutureWarning: `max_features='auto'` has been deprecated in 1.1 and will be removed in 1.3. To keep the past behaviour, explicitly set `max_features='sqrt'` or remove this parameter as it is also the default value for RandomForestClassifiers and ExtraTreesClassifiers.\n",
      "  warn(\n"
     ]
    },
    {
     "name": "stdout",
     "output_type": "stream",
     "text": [
      "[CV 4/5] END criterion=entropy, max_depth=2, max_features=auto, n_estimators=130;, score=0.928 total time=   0.4s\n"
     ]
    },
    {
     "name": "stderr",
     "output_type": "stream",
     "text": [
      "/home/nidhiyashwanth/.local/lib/python3.10/site-packages/sklearn/ensemble/_forest.py:424: FutureWarning: `max_features='auto'` has been deprecated in 1.1 and will be removed in 1.3. To keep the past behaviour, explicitly set `max_features='sqrt'` or remove this parameter as it is also the default value for RandomForestClassifiers and ExtraTreesClassifiers.\n",
      "  warn(\n"
     ]
    },
    {
     "name": "stdout",
     "output_type": "stream",
     "text": [
      "[CV 5/5] END criterion=entropy, max_depth=2, max_features=auto, n_estimators=130;, score=0.936 total time=   0.4s\n",
      "[CV 1/5] END criterion=entropy, max_depth=2, max_features=log2, n_estimators=10;, score=0.936 total time=   0.0s\n",
      "[CV 2/5] END criterion=entropy, max_depth=2, max_features=log2, n_estimators=10;, score=0.936 total time=   0.0s\n",
      "[CV 3/5] END criterion=entropy, max_depth=2, max_features=log2, n_estimators=10;, score=0.924 total time=   0.0s\n",
      "[CV 4/5] END criterion=entropy, max_depth=2, max_features=log2, n_estimators=10;, score=0.924 total time=   0.0s\n",
      "[CV 5/5] END criterion=entropy, max_depth=2, max_features=log2, n_estimators=10;, score=0.934 total time=   0.0s\n",
      "[CV 1/5] END criterion=entropy, max_depth=2, max_features=log2, n_estimators=50;, score=0.936 total time=   0.1s\n",
      "[CV 2/5] END criterion=entropy, max_depth=2, max_features=log2, n_estimators=50;, score=0.934 total time=   0.2s\n",
      "[CV 3/5] END criterion=entropy, max_depth=2, max_features=log2, n_estimators=50;, score=0.942 total time=   0.2s\n",
      "[CV 4/5] END criterion=entropy, max_depth=2, max_features=log2, n_estimators=50;, score=0.940 total time=   0.2s\n",
      "[CV 5/5] END criterion=entropy, max_depth=2, max_features=log2, n_estimators=50;, score=0.930 total time=   0.2s\n",
      "[CV 1/5] END criterion=entropy, max_depth=2, max_features=log2, n_estimators=100;, score=0.936 total time=   0.3s\n",
      "[CV 2/5] END criterion=entropy, max_depth=2, max_features=log2, n_estimators=100;, score=0.934 total time=   0.3s\n",
      "[CV 3/5] END criterion=entropy, max_depth=2, max_features=log2, n_estimators=100;, score=0.942 total time=   0.3s\n",
      "[CV 4/5] END criterion=entropy, max_depth=2, max_features=log2, n_estimators=100;, score=0.934 total time=   0.3s\n",
      "[CV 5/5] END criterion=entropy, max_depth=2, max_features=log2, n_estimators=100;, score=0.936 total time=   0.3s\n",
      "[CV 1/5] END criterion=entropy, max_depth=2, max_features=log2, n_estimators=130;, score=0.936 total time=   0.3s\n",
      "[CV 2/5] END criterion=entropy, max_depth=2, max_features=log2, n_estimators=130;, score=0.934 total time=   0.3s\n",
      "[CV 3/5] END criterion=entropy, max_depth=2, max_features=log2, n_estimators=130;, score=0.944 total time=   0.3s\n",
      "[CV 4/5] END criterion=entropy, max_depth=2, max_features=log2, n_estimators=130;, score=0.930 total time=   0.4s\n",
      "[CV 5/5] END criterion=entropy, max_depth=2, max_features=log2, n_estimators=130;, score=0.936 total time=   0.4s\n",
      "[CV 1/5] END criterion=entropy, max_depth=3, max_features=auto, n_estimators=10;, score=0.938 total time=   0.0s\n",
      "[CV 2/5] END criterion=entropy, max_depth=3, max_features=auto, n_estimators=10;, score=0.932 total time=   0.0s\n",
      "[CV 3/5] END criterion=entropy, max_depth=3, max_features=auto, n_estimators=10;, score=0.944 total time=   0.0s\n",
      "[CV 4/5] END criterion=entropy, max_depth=3, max_features=auto, n_estimators=10;, score=0.938 total time=   0.0s\n",
      "[CV 5/5] END criterion=entropy, max_depth=3, max_features=auto, n_estimators=10;, score=0.936 total time=   0.0s\n"
     ]
    },
    {
     "name": "stderr",
     "output_type": "stream",
     "text": [
      "/home/nidhiyashwanth/.local/lib/python3.10/site-packages/sklearn/ensemble/_forest.py:424: FutureWarning: `max_features='auto'` has been deprecated in 1.1 and will be removed in 1.3. To keep the past behaviour, explicitly set `max_features='sqrt'` or remove this parameter as it is also the default value for RandomForestClassifiers and ExtraTreesClassifiers.\n",
      "  warn(\n",
      "/home/nidhiyashwanth/.local/lib/python3.10/site-packages/sklearn/ensemble/_forest.py:424: FutureWarning: `max_features='auto'` has been deprecated in 1.1 and will be removed in 1.3. To keep the past behaviour, explicitly set `max_features='sqrt'` or remove this parameter as it is also the default value for RandomForestClassifiers and ExtraTreesClassifiers.\n",
      "  warn(\n",
      "/home/nidhiyashwanth/.local/lib/python3.10/site-packages/sklearn/ensemble/_forest.py:424: FutureWarning: `max_features='auto'` has been deprecated in 1.1 and will be removed in 1.3. To keep the past behaviour, explicitly set `max_features='sqrt'` or remove this parameter as it is also the default value for RandomForestClassifiers and ExtraTreesClassifiers.\n",
      "  warn(\n",
      "/home/nidhiyashwanth/.local/lib/python3.10/site-packages/sklearn/ensemble/_forest.py:424: FutureWarning: `max_features='auto'` has been deprecated in 1.1 and will be removed in 1.3. To keep the past behaviour, explicitly set `max_features='sqrt'` or remove this parameter as it is also the default value for RandomForestClassifiers and ExtraTreesClassifiers.\n",
      "  warn(\n",
      "/home/nidhiyashwanth/.local/lib/python3.10/site-packages/sklearn/ensemble/_forest.py:424: FutureWarning: `max_features='auto'` has been deprecated in 1.1 and will be removed in 1.3. To keep the past behaviour, explicitly set `max_features='sqrt'` or remove this parameter as it is also the default value for RandomForestClassifiers and ExtraTreesClassifiers.\n",
      "  warn(\n",
      "/home/nidhiyashwanth/.local/lib/python3.10/site-packages/sklearn/ensemble/_forest.py:424: FutureWarning: `max_features='auto'` has been deprecated in 1.1 and will be removed in 1.3. To keep the past behaviour, explicitly set `max_features='sqrt'` or remove this parameter as it is also the default value for RandomForestClassifiers and ExtraTreesClassifiers.\n",
      "  warn(\n"
     ]
    },
    {
     "name": "stdout",
     "output_type": "stream",
     "text": [
      "[CV 1/5] END criterion=entropy, max_depth=3, max_features=auto, n_estimators=50;, score=0.938 total time=   0.2s\n",
      "[CV 2/5] END criterion=entropy, max_depth=3, max_features=auto, n_estimators=50;, score=0.934 total time=   0.1s\n"
     ]
    },
    {
     "name": "stderr",
     "output_type": "stream",
     "text": [
      "/home/nidhiyashwanth/.local/lib/python3.10/site-packages/sklearn/ensemble/_forest.py:424: FutureWarning: `max_features='auto'` has been deprecated in 1.1 and will be removed in 1.3. To keep the past behaviour, explicitly set `max_features='sqrt'` or remove this parameter as it is also the default value for RandomForestClassifiers and ExtraTreesClassifiers.\n",
      "  warn(\n",
      "/home/nidhiyashwanth/.local/lib/python3.10/site-packages/sklearn/ensemble/_forest.py:424: FutureWarning: `max_features='auto'` has been deprecated in 1.1 and will be removed in 1.3. To keep the past behaviour, explicitly set `max_features='sqrt'` or remove this parameter as it is also the default value for RandomForestClassifiers and ExtraTreesClassifiers.\n",
      "  warn(\n"
     ]
    },
    {
     "name": "stdout",
     "output_type": "stream",
     "text": [
      "[CV 3/5] END criterion=entropy, max_depth=3, max_features=auto, n_estimators=50;, score=0.944 total time=   0.1s\n",
      "[CV 4/5] END criterion=entropy, max_depth=3, max_features=auto, n_estimators=50;, score=0.940 total time=   0.1s\n"
     ]
    },
    {
     "name": "stderr",
     "output_type": "stream",
     "text": [
      "/home/nidhiyashwanth/.local/lib/python3.10/site-packages/sklearn/ensemble/_forest.py:424: FutureWarning: `max_features='auto'` has been deprecated in 1.1 and will be removed in 1.3. To keep the past behaviour, explicitly set `max_features='sqrt'` or remove this parameter as it is also the default value for RandomForestClassifiers and ExtraTreesClassifiers.\n",
      "  warn(\n",
      "/home/nidhiyashwanth/.local/lib/python3.10/site-packages/sklearn/ensemble/_forest.py:424: FutureWarning: `max_features='auto'` has been deprecated in 1.1 and will be removed in 1.3. To keep the past behaviour, explicitly set `max_features='sqrt'` or remove this parameter as it is also the default value for RandomForestClassifiers and ExtraTreesClassifiers.\n",
      "  warn(\n"
     ]
    },
    {
     "name": "stdout",
     "output_type": "stream",
     "text": [
      "[CV 5/5] END criterion=entropy, max_depth=3, max_features=auto, n_estimators=50;, score=0.936 total time=   0.2s\n"
     ]
    },
    {
     "name": "stderr",
     "output_type": "stream",
     "text": [
      "/home/nidhiyashwanth/.local/lib/python3.10/site-packages/sklearn/ensemble/_forest.py:424: FutureWarning: `max_features='auto'` has been deprecated in 1.1 and will be removed in 1.3. To keep the past behaviour, explicitly set `max_features='sqrt'` or remove this parameter as it is also the default value for RandomForestClassifiers and ExtraTreesClassifiers.\n",
      "  warn(\n"
     ]
    },
    {
     "name": "stdout",
     "output_type": "stream",
     "text": [
      "[CV 1/5] END criterion=entropy, max_depth=3, max_features=auto, n_estimators=100;, score=0.940 total time=   0.3s\n"
     ]
    },
    {
     "name": "stderr",
     "output_type": "stream",
     "text": [
      "/home/nidhiyashwanth/.local/lib/python3.10/site-packages/sklearn/ensemble/_forest.py:424: FutureWarning: `max_features='auto'` has been deprecated in 1.1 and will be removed in 1.3. To keep the past behaviour, explicitly set `max_features='sqrt'` or remove this parameter as it is also the default value for RandomForestClassifiers and ExtraTreesClassifiers.\n",
      "  warn(\n"
     ]
    },
    {
     "name": "stdout",
     "output_type": "stream",
     "text": [
      "[CV 2/5] END criterion=entropy, max_depth=3, max_features=auto, n_estimators=100;, score=0.934 total time=   0.3s\n"
     ]
    },
    {
     "name": "stderr",
     "output_type": "stream",
     "text": [
      "/home/nidhiyashwanth/.local/lib/python3.10/site-packages/sklearn/ensemble/_forest.py:424: FutureWarning: `max_features='auto'` has been deprecated in 1.1 and will be removed in 1.3. To keep the past behaviour, explicitly set `max_features='sqrt'` or remove this parameter as it is also the default value for RandomForestClassifiers and ExtraTreesClassifiers.\n",
      "  warn(\n"
     ]
    },
    {
     "name": "stdout",
     "output_type": "stream",
     "text": [
      "[CV 3/5] END criterion=entropy, max_depth=3, max_features=auto, n_estimators=100;, score=0.944 total time=   0.3s\n"
     ]
    },
    {
     "name": "stderr",
     "output_type": "stream",
     "text": [
      "/home/nidhiyashwanth/.local/lib/python3.10/site-packages/sklearn/ensemble/_forest.py:424: FutureWarning: `max_features='auto'` has been deprecated in 1.1 and will be removed in 1.3. To keep the past behaviour, explicitly set `max_features='sqrt'` or remove this parameter as it is also the default value for RandomForestClassifiers and ExtraTreesClassifiers.\n",
      "  warn(\n"
     ]
    },
    {
     "name": "stdout",
     "output_type": "stream",
     "text": [
      "[CV 4/5] END criterion=entropy, max_depth=3, max_features=auto, n_estimators=100;, score=0.940 total time=   0.3s\n"
     ]
    },
    {
     "name": "stderr",
     "output_type": "stream",
     "text": [
      "/home/nidhiyashwanth/.local/lib/python3.10/site-packages/sklearn/ensemble/_forest.py:424: FutureWarning: `max_features='auto'` has been deprecated in 1.1 and will be removed in 1.3. To keep the past behaviour, explicitly set `max_features='sqrt'` or remove this parameter as it is also the default value for RandomForestClassifiers and ExtraTreesClassifiers.\n",
      "  warn(\n"
     ]
    },
    {
     "name": "stdout",
     "output_type": "stream",
     "text": [
      "[CV 5/5] END criterion=entropy, max_depth=3, max_features=auto, n_estimators=100;, score=0.940 total time=   0.3s\n"
     ]
    },
    {
     "name": "stderr",
     "output_type": "stream",
     "text": [
      "/home/nidhiyashwanth/.local/lib/python3.10/site-packages/sklearn/ensemble/_forest.py:424: FutureWarning: `max_features='auto'` has been deprecated in 1.1 and will be removed in 1.3. To keep the past behaviour, explicitly set `max_features='sqrt'` or remove this parameter as it is also the default value for RandomForestClassifiers and ExtraTreesClassifiers.\n",
      "  warn(\n"
     ]
    },
    {
     "name": "stdout",
     "output_type": "stream",
     "text": [
      "[CV 1/5] END criterion=entropy, max_depth=3, max_features=auto, n_estimators=130;, score=0.936 total time=   0.4s\n"
     ]
    },
    {
     "name": "stderr",
     "output_type": "stream",
     "text": [
      "/home/nidhiyashwanth/.local/lib/python3.10/site-packages/sklearn/ensemble/_forest.py:424: FutureWarning: `max_features='auto'` has been deprecated in 1.1 and will be removed in 1.3. To keep the past behaviour, explicitly set `max_features='sqrt'` or remove this parameter as it is also the default value for RandomForestClassifiers and ExtraTreesClassifiers.\n",
      "  warn(\n"
     ]
    },
    {
     "name": "stdout",
     "output_type": "stream",
     "text": [
      "[CV 2/5] END criterion=entropy, max_depth=3, max_features=auto, n_estimators=130;, score=0.932 total time=   0.4s\n"
     ]
    },
    {
     "name": "stderr",
     "output_type": "stream",
     "text": [
      "/home/nidhiyashwanth/.local/lib/python3.10/site-packages/sklearn/ensemble/_forest.py:424: FutureWarning: `max_features='auto'` has been deprecated in 1.1 and will be removed in 1.3. To keep the past behaviour, explicitly set `max_features='sqrt'` or remove this parameter as it is also the default value for RandomForestClassifiers and ExtraTreesClassifiers.\n",
      "  warn(\n"
     ]
    },
    {
     "name": "stdout",
     "output_type": "stream",
     "text": [
      "[CV 3/5] END criterion=entropy, max_depth=3, max_features=auto, n_estimators=130;, score=0.944 total time=   0.4s\n"
     ]
    },
    {
     "name": "stderr",
     "output_type": "stream",
     "text": [
      "/home/nidhiyashwanth/.local/lib/python3.10/site-packages/sklearn/ensemble/_forest.py:424: FutureWarning: `max_features='auto'` has been deprecated in 1.1 and will be removed in 1.3. To keep the past behaviour, explicitly set `max_features='sqrt'` or remove this parameter as it is also the default value for RandomForestClassifiers and ExtraTreesClassifiers.\n",
      "  warn(\n"
     ]
    },
    {
     "name": "stdout",
     "output_type": "stream",
     "text": [
      "[CV 4/5] END criterion=entropy, max_depth=3, max_features=auto, n_estimators=130;, score=0.940 total time=   0.4s\n"
     ]
    },
    {
     "name": "stderr",
     "output_type": "stream",
     "text": [
      "/home/nidhiyashwanth/.local/lib/python3.10/site-packages/sklearn/ensemble/_forest.py:424: FutureWarning: `max_features='auto'` has been deprecated in 1.1 and will be removed in 1.3. To keep the past behaviour, explicitly set `max_features='sqrt'` or remove this parameter as it is also the default value for RandomForestClassifiers and ExtraTreesClassifiers.\n",
      "  warn(\n"
     ]
    },
    {
     "name": "stdout",
     "output_type": "stream",
     "text": [
      "[CV 5/5] END criterion=entropy, max_depth=3, max_features=auto, n_estimators=130;, score=0.936 total time=   0.4s\n",
      "[CV 1/5] END criterion=entropy, max_depth=3, max_features=log2, n_estimators=10;, score=0.936 total time=   0.0s\n",
      "[CV 2/5] END criterion=entropy, max_depth=3, max_features=log2, n_estimators=10;, score=0.932 total time=   0.0s\n",
      "[CV 3/5] END criterion=entropy, max_depth=3, max_features=log2, n_estimators=10;, score=0.942 total time=   0.0s\n",
      "[CV 4/5] END criterion=entropy, max_depth=3, max_features=log2, n_estimators=10;, score=0.940 total time=   0.0s\n",
      "[CV 5/5] END criterion=entropy, max_depth=3, max_features=log2, n_estimators=10;, score=0.934 total time=   0.0s\n",
      "[CV 1/5] END criterion=entropy, max_depth=3, max_features=log2, n_estimators=50;, score=0.938 total time=   0.2s\n",
      "[CV 2/5] END criterion=entropy, max_depth=3, max_features=log2, n_estimators=50;, score=0.932 total time=   0.2s\n",
      "[CV 3/5] END criterion=entropy, max_depth=3, max_features=log2, n_estimators=50;, score=0.944 total time=   0.1s\n",
      "[CV 4/5] END criterion=entropy, max_depth=3, max_features=log2, n_estimators=50;, score=0.940 total time=   0.1s\n",
      "[CV 5/5] END criterion=entropy, max_depth=3, max_features=log2, n_estimators=50;, score=0.936 total time=   0.1s\n",
      "[CV 1/5] END criterion=entropy, max_depth=3, max_features=log2, n_estimators=100;, score=0.938 total time=   0.3s\n",
      "[CV 2/5] END criterion=entropy, max_depth=3, max_features=log2, n_estimators=100;, score=0.934 total time=   0.3s\n",
      "[CV 3/5] END criterion=entropy, max_depth=3, max_features=log2, n_estimators=100;, score=0.944 total time=   0.3s\n",
      "[CV 4/5] END criterion=entropy, max_depth=3, max_features=log2, n_estimators=100;, score=0.940 total time=   0.3s\n",
      "[CV 5/5] END criterion=entropy, max_depth=3, max_features=log2, n_estimators=100;, score=0.938 total time=   0.3s\n",
      "[CV 1/5] END criterion=entropy, max_depth=3, max_features=log2, n_estimators=130;, score=0.936 total time=   0.4s\n",
      "[CV 2/5] END criterion=entropy, max_depth=3, max_features=log2, n_estimators=130;, score=0.932 total time=   0.4s\n",
      "[CV 3/5] END criterion=entropy, max_depth=3, max_features=log2, n_estimators=130;, score=0.944 total time=   0.4s\n",
      "[CV 4/5] END criterion=entropy, max_depth=3, max_features=log2, n_estimators=130;, score=0.938 total time=   0.4s\n",
      "[CV 5/5] END criterion=entropy, max_depth=3, max_features=log2, n_estimators=130;, score=0.936 total time=   0.4s\n"
     ]
    },
    {
     "name": "stderr",
     "output_type": "stream",
     "text": [
      "/home/nidhiyashwanth/.local/lib/python3.10/site-packages/sklearn/ensemble/_forest.py:424: FutureWarning: `max_features='auto'` has been deprecated in 1.1 and will be removed in 1.3. To keep the past behaviour, explicitly set `max_features='sqrt'` or remove this parameter as it is also the default value for RandomForestClassifiers and ExtraTreesClassifiers.\n",
      "  warn(\n",
      "/home/nidhiyashwanth/.local/lib/python3.10/site-packages/sklearn/ensemble/_forest.py:424: FutureWarning: `max_features='auto'` has been deprecated in 1.1 and will be removed in 1.3. To keep the past behaviour, explicitly set `max_features='sqrt'` or remove this parameter as it is also the default value for RandomForestClassifiers and ExtraTreesClassifiers.\n",
      "  warn(\n"
     ]
    },
    {
     "name": "stdout",
     "output_type": "stream",
     "text": [
      "Random Forest best params: {'criterion': 'entropy', 'max_depth': 3, 'max_features': 'auto', 'n_estimators': 100}. Exited the get_best_params_for_random_forest method of the Model_Finder class\n"
     ]
    }
   ],
   "source": [
    "# Random forest classifier\n",
    "\n",
    "rf_clf = get_best_params_for_random_forest(x_train,y_train)"
   ]
  },
  {
   "cell_type": "code",
   "execution_count": 88,
   "metadata": {
    "colab": {
     "base_uri": "https://localhost:8080/"
    },
    "id": "QqUV0WjStmLr",
    "outputId": "55748d6b-f900-4be6-f780-2f361d089021"
   },
   "outputs": [
    {
     "data": {
      "text/plain": [
       "array([1., 1., 1., ..., 1., 1., 1.])"
      ]
     },
     "execution_count": 88,
     "metadata": {},
     "output_type": "execute_result"
    }
   ],
   "source": [
    "# Prediction using random forest \n",
    "prediction_random_forest=rf_clf.predict(x_test)\n",
    "prediction_random_forest"
   ]
  },
  {
   "cell_type": "code",
   "execution_count": 89,
   "metadata": {
    "colab": {
     "base_uri": "https://localhost:8080/",
     "height": 204
    },
    "id": "4v3ro8bk4HNG",
    "outputId": "7452f73b-3cbb-4eaf-9253-7aebcd15f989"
   },
   "outputs": [
    {
     "data": {
      "text/html": [
       "<div>\n",
       "<style scoped>\n",
       "    .dataframe tbody tr th:only-of-type {\n",
       "        vertical-align: middle;\n",
       "    }\n",
       "\n",
       "    .dataframe tbody tr th {\n",
       "        vertical-align: top;\n",
       "    }\n",
       "\n",
       "    .dataframe thead th {\n",
       "        text-align: right;\n",
       "    }\n",
       "</style>\n",
       "<table border=\"1\" class=\"dataframe\">\n",
       "  <thead>\n",
       "    <tr style=\"text-align: right;\">\n",
       "      <th></th>\n",
       "      <th>age</th>\n",
       "      <th>sex</th>\n",
       "      <th>on_thyroxine</th>\n",
       "      <th>on_antithyroid_medication</th>\n",
       "      <th>goitre</th>\n",
       "      <th>hypopituitary</th>\n",
       "      <th>psych</th>\n",
       "      <th>T3</th>\n",
       "      <th>TT4</th>\n",
       "      <th>T4U</th>\n",
       "      <th>FTI</th>\n",
       "    </tr>\n",
       "  </thead>\n",
       "  <tbody>\n",
       "    <tr>\n",
       "      <th>455</th>\n",
       "      <td>55.0</td>\n",
       "      <td>1.0</td>\n",
       "      <td>0.0</td>\n",
       "      <td>0.0</td>\n",
       "      <td>0.0</td>\n",
       "      <td>0.0</td>\n",
       "      <td>0.0</td>\n",
       "      <td>5.0</td>\n",
       "      <td>91.0</td>\n",
       "      <td>4.0</td>\n",
       "      <td>113.0</td>\n",
       "    </tr>\n",
       "    <tr>\n",
       "      <th>208</th>\n",
       "      <td>41.0</td>\n",
       "      <td>1.0</td>\n",
       "      <td>0.0</td>\n",
       "      <td>0.0</td>\n",
       "      <td>0.0</td>\n",
       "      <td>0.0</td>\n",
       "      <td>0.0</td>\n",
       "      <td>5.0</td>\n",
       "      <td>81.0</td>\n",
       "      <td>4.0</td>\n",
       "      <td>93.0</td>\n",
       "    </tr>\n",
       "    <tr>\n",
       "      <th>2384</th>\n",
       "      <td>21.0</td>\n",
       "      <td>0.0</td>\n",
       "      <td>0.0</td>\n",
       "      <td>0.0</td>\n",
       "      <td>0.0</td>\n",
       "      <td>0.0</td>\n",
       "      <td>0.0</td>\n",
       "      <td>5.0</td>\n",
       "      <td>145.0</td>\n",
       "      <td>4.0</td>\n",
       "      <td>107.0</td>\n",
       "    </tr>\n",
       "    <tr>\n",
       "      <th>3118</th>\n",
       "      <td>81.0</td>\n",
       "      <td>0.0</td>\n",
       "      <td>0.0</td>\n",
       "      <td>0.0</td>\n",
       "      <td>0.0</td>\n",
       "      <td>0.0</td>\n",
       "      <td>0.0</td>\n",
       "      <td>5.0</td>\n",
       "      <td>117.0</td>\n",
       "      <td>4.0</td>\n",
       "      <td>122.0</td>\n",
       "    </tr>\n",
       "    <tr>\n",
       "      <th>3530</th>\n",
       "      <td>69.0</td>\n",
       "      <td>1.0</td>\n",
       "      <td>0.0</td>\n",
       "      <td>0.0</td>\n",
       "      <td>0.0</td>\n",
       "      <td>0.0</td>\n",
       "      <td>0.0</td>\n",
       "      <td>5.0</td>\n",
       "      <td>136.0</td>\n",
       "      <td>4.0</td>\n",
       "      <td>133.0</td>\n",
       "    </tr>\n",
       "  </tbody>\n",
       "</table>\n",
       "</div>"
      ],
      "text/plain": [
       "       age  sex  on_thyroxine  on_antithyroid_medication  goitre  \\\n",
       "455   55.0  1.0           0.0                        0.0     0.0   \n",
       "208   41.0  1.0           0.0                        0.0     0.0   \n",
       "2384  21.0  0.0           0.0                        0.0     0.0   \n",
       "3118  81.0  0.0           0.0                        0.0     0.0   \n",
       "3530  69.0  1.0           0.0                        0.0     0.0   \n",
       "\n",
       "      hypopituitary  psych   T3    TT4  T4U    FTI  \n",
       "455             0.0    0.0  5.0   91.0  4.0  113.0  \n",
       "208             0.0    0.0  5.0   81.0  4.0   93.0  \n",
       "2384            0.0    0.0  5.0  145.0  4.0  107.0  \n",
       "3118            0.0    0.0  5.0  117.0  4.0  122.0  \n",
       "3530            0.0    0.0  5.0  136.0  4.0  133.0  "
      ]
     },
     "execution_count": 89,
     "metadata": {},
     "output_type": "execute_result"
    }
   ],
   "source": [
    "x_train.head()"
   ]
  },
  {
   "cell_type": "code",
   "execution_count": 90,
   "metadata": {
    "colab": {
     "base_uri": "https://localhost:8080/"
    },
    "id": "Db-4rvOgyucS",
    "outputId": "fbee876c-d44b-453c-e936-fa2b37a095de"
   },
   "outputs": [
    {
     "name": "stderr",
     "output_type": "stream",
     "text": [
      "/home/nidhiyashwanth/.local/lib/python3.10/site-packages/sklearn/base.py:439: UserWarning: X does not have valid feature names, but RandomForestClassifier was fitted with feature names\n",
      "  warnings.warn(\n"
     ]
    },
    {
     "data": {
      "text/plain": [
       "array([1.])"
      ]
     },
     "execution_count": 90,
     "metadata": {},
     "output_type": "execute_result"
    }
   ],
   "source": [
    "rf_clf.predict([[53,1.0,0.0,0.0,0.0,0.0,0.0,3.0, 89.0,2.0,111.0]])"
   ]
  },
  {
   "cell_type": "code",
   "execution_count": 91,
   "metadata": {
    "colab": {
     "base_uri": "https://localhost:8080/"
    },
    "id": "rNJZ9lFu4dkK",
    "outputId": "c6af282b-37ab-4805-ec87-0b64e24e7ccf"
   },
   "outputs": [
    {
     "data": {
      "text/plain": [
       "3059    1.0\n",
       "2411    1.0\n",
       "3350    1.0\n",
       "2300    1.0\n",
       "3602    1.0\n",
       "       ... \n",
       "3430    1.0\n",
       "503     1.0\n",
       "2204    1.0\n",
       "2100    1.0\n",
       "898     1.0\n",
       "Name: Class, Length: 1258, dtype: float64"
      ]
     },
     "execution_count": 91,
     "metadata": {},
     "output_type": "execute_result"
    }
   ],
   "source": [
    "y_test"
   ]
  },
  {
   "cell_type": "code",
   "execution_count": 92,
   "metadata": {
    "id": "K4SQV-AR4q8z"
   },
   "outputs": [],
   "source": [
    "#model saving\n",
    "import pickle\n",
    "\n",
    "pickle.dump(rf_clf,open(\"Hypothyroid_model.pkl\",\"wb\"))"
   ]
  },
  {
   "cell_type": "code",
   "execution_count": null,
   "metadata": {
    "id": "oGADTqdB5X3b"
   },
   "outputs": [],
   "source": []
  }
 ],
 "metadata": {
  "colab": {
   "collapsed_sections": [],
   "name": "Preprocessing_thyroidDetection.ipynb",
   "provenance": []
  },
  "kernelspec": {
   "display_name": "Python 3 (ipykernel)",
   "language": "python",
   "name": "python3"
  },
  "language_info": {
   "codemirror_mode": {
    "name": "ipython",
    "version": 3
   },
   "file_extension": ".py",
   "mimetype": "text/x-python",
   "name": "python",
   "nbconvert_exporter": "python",
   "pygments_lexer": "ipython3",
   "version": "3.10.6"
  }
 },
 "nbformat": 4,
 "nbformat_minor": 1
}
